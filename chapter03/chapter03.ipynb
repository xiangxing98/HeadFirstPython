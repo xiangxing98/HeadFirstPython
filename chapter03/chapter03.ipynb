{
 "cells": [
  {
   "cell_type": "markdown",
   "metadata": {},
   "source": [
    "# Ch.3"
   ]
  },
  {
   "cell_type": "code",
   "execution_count": 1,
   "metadata": {
    "collapsed": true
   },
   "outputs": [],
   "source": [
    "the_file = open('sketch.txt')\n",
    "the_file.close()"
   ]
  },
  {
   "cell_type": "code",
   "execution_count": 2,
   "metadata": {
    "collapsed": false
   },
   "outputs": [
    {
     "data": {
      "text/plain": [
       "'C:\\\\Users\\\\SDS\\\\Documents\\\\Python Scripts\\\\HeadFirst(python3)'"
      ]
     },
     "execution_count": 2,
     "metadata": {},
     "output_type": "execute_result"
    }
   ],
   "source": [
    "import os\n",
    "os.getcwd()"
   ]
  },
  {
   "cell_type": "code",
   "execution_count": 3,
   "metadata": {
    "collapsed": true
   },
   "outputs": [],
   "source": [
    "data = open('sketch.txt')"
   ]
  },
  {
   "cell_type": "code",
   "execution_count": 4,
   "metadata": {
    "collapsed": false
   },
   "outputs": [
    {
     "name": "stdout",
     "output_type": "stream",
     "text": [
      "Man: Is this the right room for an argument?\n"
     ]
    }
   ],
   "source": [
    "print(data.readline(), end='')"
   ]
  },
  {
   "cell_type": "code",
   "execution_count": 5,
   "metadata": {
    "collapsed": false
   },
   "outputs": [
    {
     "name": "stdout",
     "output_type": "stream",
     "text": [
      "Other Man: I've told you once.\n"
     ]
    }
   ],
   "source": [
    "print(data.readline(), end='')"
   ]
  },
  {
   "cell_type": "code",
   "execution_count": 7,
   "metadata": {
    "collapsed": false
   },
   "outputs": [
    {
     "data": {
      "text/plain": [
       "76"
      ]
     },
     "execution_count": 7,
     "metadata": {},
     "output_type": "execute_result"
    }
   ],
   "source": [
    "data.tell()"
   ]
  },
  {
   "cell_type": "code",
   "execution_count": 8,
   "metadata": {
    "collapsed": false
   },
   "outputs": [
    {
     "name": "stdout",
     "output_type": "stream",
     "text": [
      "Man: No you haven't!\n"
     ]
    }
   ],
   "source": [
    "print(data.readline(), end='')"
   ]
  },
  {
   "cell_type": "code",
   "execution_count": 9,
   "metadata": {
    "collapsed": false
   },
   "outputs": [
    {
     "data": {
      "text/plain": [
       "97"
      ]
     },
     "execution_count": 9,
     "metadata": {},
     "output_type": "execute_result"
    }
   ],
   "source": [
    "data.tell()"
   ]
  },
  {
   "cell_type": "code",
   "execution_count": 10,
   "metadata": {
    "collapsed": false
   },
   "outputs": [
    {
     "data": {
      "text/plain": [
       "0"
      ]
     },
     "execution_count": 10,
     "metadata": {},
     "output_type": "execute_result"
    }
   ],
   "source": [
    "data.seek(0) # seek() 메서드를 사용해서 파일의 제일 앞으로 돌아감. 파일 객체는 현재 위치를 알려주는 tell() 메서드도 제공."
   ]
  },
  {
   "cell_type": "code",
   "execution_count": 12,
   "metadata": {
    "collapsed": false
   },
   "outputs": [
    {
     "data": {
      "text/plain": [
       "0"
      ]
     },
     "execution_count": 12,
     "metadata": {},
     "output_type": "execute_result"
    }
   ],
   "source": [
    "data.tell()"
   ]
  },
  {
   "cell_type": "code",
   "execution_count": 13,
   "metadata": {
    "collapsed": false
   },
   "outputs": [
    {
     "name": "stdout",
     "output_type": "stream",
     "text": [
      "Man: Is this the right room for an argument?\n",
      "Other Man: I've told you once.\n",
      "Man: No you haven't!\n",
      "Other Man: Yes I have.\n",
      "Man: When?\n",
      "Other Man: Just now.\n",
      "Man: No you didn't!\n",
      "Other Man: Yes I did!\n",
      "Man: You didn't!\n",
      "Other Man: I'm telling you, I did!\n",
      "Man: You did not!\n",
      "Other Man: Oh I'm sorry, is this a five minute argument, or the full half hour?\n",
      "Man: Ah! (taking out his wallet and paying) Just the five minutes.\n",
      "Other Man: Just the five minutes. Thank you.\n",
      "Other Man: Anyway, I did.\n",
      "Man: You most certainly did not!\n",
      "Other Man: Now let's get one thing quite clear: I most definitely told you!\n",
      "Man: Oh no you didn't!\n",
      "Other Man: Oh yes I did!\n",
      "Man: Oh no you didn't!\n",
      "Other Man: Oh yes I did!\n",
      "Man: Oh look, this isn't an argument!\n",
      "(pause)\n",
      "Other Man: Yes it is!\n",
      "Man: No it isn't!\n",
      "(pause)\n",
      "Man: It's just contradiction!\n",
      "Other Man: No it isn't!\n",
      "Man: It IS!\n",
      "Other Man: It is NOT!\n",
      "Man: You just contradicted me!\n",
      "Other Man: No I didn't!\n",
      "Man: You DID!\n",
      "Other Man: No no no!\n",
      "Man: You did just then!\n",
      "Other Man: Nonsense!\n",
      "Man: (exasperated) Oh, this is futile!!\n",
      "(pause)\n",
      "Other Man: No it isn't!\n",
      "Man: Yes it is!\n"
     ]
    }
   ],
   "source": [
    "for each_line in data:\n",
    "    print(each_line, end='')"
   ]
  },
  {
   "cell_type": "code",
   "execution_count": 16,
   "metadata": {
    "collapsed": true
   },
   "outputs": [],
   "source": [
    "data.close()"
   ]
  },
  {
   "cell_type": "code",
   "execution_count": 33,
   "metadata": {
    "collapsed": false
   },
   "outputs": [
    {
     "name": "stdout",
     "output_type": "stream",
     "text": [
      "Man said:  Is this the right room for an argument?\n",
      "Other Man said:  I've told you once.\n",
      "Man said:  No you haven't!\n",
      "Other Man said:  Yes I have.\n",
      "Man said:  When?\n",
      "Other Man said:  Just now.\n",
      "Man said:  No you didn't!\n",
      "Other Man said:  Yes I did!\n",
      "Man said:  You didn't!\n",
      "Other Man said:  I'm telling you, I did!\n",
      "Man said:  You did not!\n",
      "Other Man said:  Oh I'm sorry, is this a five minute argument, or the full half hour?\n",
      "Man said:  Ah! (taking out his wallet and paying) Just the five minutes.\n",
      "Other Man said:  Just the five minutes. Thank you.\n",
      "Other Man said:  Anyway, I did.\n",
      "Man said:  You most certainly did not!\n"
     ]
    },
    {
     "ename": "ValueError",
     "evalue": "too many values to unpack (expected 2)",
     "output_type": "error",
     "traceback": [
      "\u001b[1;31m---------------------------------------------------------------------------\u001b[0m",
      "\u001b[1;31mValueError\u001b[0m                                Traceback (most recent call last)",
      "\u001b[1;32m<ipython-input-33-b59af3e89137>\u001b[0m in \u001b[0;36m<module>\u001b[1;34m()\u001b[0m\n\u001b[0;32m      1\u001b[0m \u001b[0mdata\u001b[0m \u001b[1;33m=\u001b[0m \u001b[0mopen\u001b[0m\u001b[1;33m(\u001b[0m\u001b[1;34m'sketch.txt'\u001b[0m\u001b[1;33m)\u001b[0m\u001b[1;33m\u001b[0m\u001b[0m\n\u001b[0;32m      2\u001b[0m \u001b[1;32mfor\u001b[0m \u001b[0meach_line\u001b[0m \u001b[1;32min\u001b[0m \u001b[0mdata\u001b[0m\u001b[1;33m:\u001b[0m\u001b[1;33m\u001b[0m\u001b[0m\n\u001b[1;32m----> 3\u001b[1;33m     \u001b[1;33m(\u001b[0m\u001b[0mrole\u001b[0m\u001b[1;33m,\u001b[0m \u001b[0mline_spoken\u001b[0m\u001b[1;33m)\u001b[0m \u001b[1;33m=\u001b[0m \u001b[0meach_line\u001b[0m\u001b[1;33m.\u001b[0m\u001b[0msplit\u001b[0m\u001b[1;33m(\u001b[0m\u001b[1;34m\":\"\u001b[0m\u001b[1;33m)\u001b[0m\u001b[1;33m\u001b[0m\u001b[0m\n\u001b[0m\u001b[0;32m      4\u001b[0m     \u001b[0mprint\u001b[0m\u001b[1;33m(\u001b[0m\u001b[0mrole\u001b[0m\u001b[1;33m,\u001b[0m \u001b[0mend\u001b[0m\u001b[1;33m=\u001b[0m\u001b[1;34m''\u001b[0m\u001b[1;33m)\u001b[0m\u001b[1;33m\u001b[0m\u001b[0m\n\u001b[0;32m      5\u001b[0m     \u001b[0mprint\u001b[0m\u001b[1;33m(\u001b[0m\u001b[1;34m' said: '\u001b[0m\u001b[1;33m,\u001b[0m \u001b[0mend\u001b[0m\u001b[1;33m=\u001b[0m\u001b[1;34m''\u001b[0m\u001b[1;33m)\u001b[0m\u001b[1;33m\u001b[0m\u001b[0m\n",
      "\u001b[1;31mValueError\u001b[0m: too many values to unpack (expected 2)"
     ]
    }
   ],
   "source": [
    "data = open('sketch.txt')\n",
    "for each_line in data:\n",
    "    (role, line_spoken) = each_line.split(\":\")\n",
    "    print(role, end='')\n",
    "    print(' said: ', end='')\n",
    "    print(line_spoken, end='')\n",
    "data.close()"
   ]
  },
  {
   "cell_type": "code",
   "execution_count": 18,
   "metadata": {
    "collapsed": false
   },
   "outputs": [
    {
     "name": "stdout",
     "output_type": "stream",
     "text": [
      "Help on built-in function split:\n",
      "\n",
      "split(...) method of builtins.str instance\n",
      "    S.split(sep=None, maxsplit=-1) -> list of strings\n",
      "    \n",
      "    Return a list of the words in S, using sep as the\n",
      "    delimiter string.  If maxsplit is given, at most maxsplit\n",
      "    splits are done. If sep is not specified or is None, any\n",
      "    whitespace string is a separator and empty strings are\n",
      "    removed from the result.\n",
      "\n"
     ]
    }
   ],
   "source": [
    "help(each_line.split)  # 특정 메서드나 함수에 대한 문서를 확인할때 help() 사용"
   ]
  },
  {
   "cell_type": "code",
   "execution_count": 20,
   "metadata": {
    "collapsed": false
   },
   "outputs": [
    {
     "name": "stdout",
     "output_type": "stream",
     "text": [
      "Help on method_descriptor:\n",
      "\n",
      "split(...)\n",
      "    S.split(sep=None, maxsplit=-1) -> list of strings\n",
      "    \n",
      "    Return a list of the words in S, using sep as the\n",
      "    delimiter string.  If maxsplit is given, at most maxsplit\n",
      "    splits are done. If sep is not specified or is None, any\n",
      "    whitespace string is a separator and empty strings are\n",
      "    removed from the result.\n",
      "\n"
     ]
    }
   ],
   "source": [
    "help(str.split)"
   ]
  },
  {
   "cell_type": "code",
   "execution_count": 32,
   "metadata": {
    "collapsed": false
   },
   "outputs": [
    {
     "name": "stdout",
     "output_type": "stream",
     "text": [
      "Man said:  Is this the right room for an argument?\n",
      "Other Man said:  I've told you once.\n",
      "Man said:  No you haven't!\n",
      "Other Man said:  Yes I have.\n",
      "Man said:  When?\n",
      "Other Man said:  Just now.\n",
      "Man said:  No you didn't!\n",
      "Other Man said:  Yes I did!\n",
      "Man said:  You didn't!\n",
      "Other Man said:  I'm telling you, I did!\n",
      "Man said:  You did not!\n",
      "Other Man said:  Oh I'm sorry, is this a five minute argument, or the full half hour?\n",
      "Man said:  Ah! (taking out his wallet and paying) Just the five minutes.\n",
      "Other Man said:  Just the five minutes. Thank you.\n",
      "Other Man said:  Anyway, I did.\n",
      "Man said:  You most certainly did not!\n",
      "Other Man said:  Now let's get one thing quite clear: I most definitely told you!\n",
      "Man said:  Oh no you didn't!\n",
      "Other Man said:  Oh yes I did!\n",
      "Man said:  Oh no you didn't!\n",
      "Other Man said:  Oh yes I did!\n",
      "Man said:  Oh look, this isn't an argument!\n"
     ]
    },
    {
     "ename": "ValueError",
     "evalue": "not enough values to unpack (expected 2, got 1)",
     "output_type": "error",
     "traceback": [
      "\u001b[1;31m---------------------------------------------------------------------------\u001b[0m",
      "\u001b[1;31mValueError\u001b[0m                                Traceback (most recent call last)",
      "\u001b[1;32m<ipython-input-32-8d91fd9ea456>\u001b[0m in \u001b[0;36m<module>\u001b[1;34m()\u001b[0m\n\u001b[0;32m      1\u001b[0m \u001b[0mdata\u001b[0m \u001b[1;33m=\u001b[0m \u001b[0mopen\u001b[0m\u001b[1;33m(\u001b[0m\u001b[1;34m'sketch.txt'\u001b[0m\u001b[1;33m)\u001b[0m\u001b[1;33m\u001b[0m\u001b[0m\n\u001b[0;32m      2\u001b[0m \u001b[1;32mfor\u001b[0m \u001b[0meach_line\u001b[0m \u001b[1;32min\u001b[0m \u001b[0mdata\u001b[0m\u001b[1;33m:\u001b[0m\u001b[1;33m\u001b[0m\u001b[0m\n\u001b[1;32m----> 3\u001b[1;33m     \u001b[1;33m(\u001b[0m\u001b[0mrole\u001b[0m\u001b[1;33m,\u001b[0m \u001b[0mline_spoken\u001b[0m\u001b[1;33m)\u001b[0m \u001b[1;33m=\u001b[0m \u001b[0meach_line\u001b[0m\u001b[1;33m.\u001b[0m\u001b[0msplit\u001b[0m\u001b[1;33m(\u001b[0m\u001b[1;34m\":\"\u001b[0m\u001b[1;33m,\u001b[0m \u001b[1;36m1\u001b[0m\u001b[1;33m)\u001b[0m\u001b[1;33m\u001b[0m\u001b[0m\n\u001b[0m\u001b[0;32m      4\u001b[0m     \u001b[0mprint\u001b[0m\u001b[1;33m(\u001b[0m\u001b[0mrole\u001b[0m\u001b[1;33m,\u001b[0m \u001b[0mend\u001b[0m\u001b[1;33m=\u001b[0m\u001b[1;34m''\u001b[0m\u001b[1;33m)\u001b[0m\u001b[1;33m\u001b[0m\u001b[0m\n\u001b[0;32m      5\u001b[0m     \u001b[0mprint\u001b[0m\u001b[1;33m(\u001b[0m\u001b[1;34m' said: '\u001b[0m\u001b[1;33m,\u001b[0m \u001b[0mend\u001b[0m\u001b[1;33m=\u001b[0m\u001b[1;34m''\u001b[0m\u001b[1;33m)\u001b[0m\u001b[1;33m\u001b[0m\u001b[0m\n",
      "\u001b[1;31mValueError\u001b[0m: not enough values to unpack (expected 2, got 1)"
     ]
    }
   ],
   "source": [
    "data = open('sketch.txt')\n",
    "for each_line in data:\n",
    "    (role, line_spoken) = each_line.split(\":\", 1)\n",
    "    print(role, end='')\n",
    "    print(' said: ', end='')\n",
    "    print(line_spoken, end='')\n",
    "data.close()"
   ]
  },
  {
   "cell_type": "code",
   "execution_count": 29,
   "metadata": {
    "collapsed": true
   },
   "outputs": [],
   "source": [
    "test_line = \"no colone\"\n",
    "test_line2 = \"yes col:one\""
   ]
  },
  {
   "cell_type": "code",
   "execution_count": 30,
   "metadata": {
    "collapsed": false
   },
   "outputs": [
    {
     "data": {
      "text/plain": [
       "-1"
      ]
     },
     "execution_count": 30,
     "metadata": {},
     "output_type": "execute_result"
    }
   ],
   "source": [
    "test_line.find(\":\")  # 없으면 -1 리턴"
   ]
  },
  {
   "cell_type": "code",
   "execution_count": 31,
   "metadata": {
    "collapsed": false
   },
   "outputs": [
    {
     "data": {
      "text/plain": [
       "7"
      ]
     },
     "execution_count": 31,
     "metadata": {},
     "output_type": "execute_result"
    }
   ],
   "source": [
    "test_line2.find(\":\")  # 해당 문자의 인덱스를 리턴"
   ]
  },
  {
   "cell_type": "code",
   "execution_count": 36,
   "metadata": {
    "collapsed": false
   },
   "outputs": [
    {
     "name": "stdout",
     "output_type": "stream",
     "text": [
      "Man said:  Is this the right room for an argument?\n",
      "Other Man said:  I've told you once.\n",
      "Man said:  No you haven't!\n",
      "Other Man said:  Yes I have.\n",
      "Man said:  When?\n",
      "Other Man said:  Just now.\n",
      "Man said:  No you didn't!\n",
      "Other Man said:  Yes I did!\n",
      "Man said:  You didn't!\n",
      "Other Man said:  I'm telling you, I did!\n",
      "Man said:  You did not!\n",
      "Other Man said:  Oh I'm sorry, is this a five minute argument, or the full half hour?\n",
      "Man said:  Ah! (taking out his wallet and paying) Just the five minutes.\n",
      "Other Man said:  Just the five minutes. Thank you.\n",
      "Other Man said:  Anyway, I did.\n",
      "Man said:  You most certainly did not!\n",
      "Other Man said:  Now let's get one thing quite clear: I most definitely told you!\n",
      "Man said:  Oh no you didn't!\n",
      "Other Man said:  Oh yes I did!\n",
      "Man said:  Oh no you didn't!\n",
      "Other Man said:  Oh yes I did!\n",
      "Man said:  Oh look, this isn't an argument!\n",
      "(pause)\n",
      "Other Man said:  Yes it is!\n",
      "Man said:  No it isn't!\n",
      "(pause)\n",
      "Man said:  It's just contradiction!\n",
      "Other Man said:  No it isn't!\n",
      "Man said:  It IS!\n",
      "Other Man said:  It is NOT!\n",
      "Man said:  You just contradicted me!\n",
      "Other Man said:  No I didn't!\n",
      "Man said:  You DID!\n",
      "Other Man said:  No no no!\n",
      "Man said:  You did just then!\n",
      "Other Man said:  Nonsense!\n",
      "Man said:  (exasperated) Oh, this is futile!!\n",
      "(pause)\n",
      "Other Man said:  No it isn't!\n",
      "Man said:  Yes it is!\n"
     ]
    }
   ],
   "source": [
    "data = open('sketch.txt')\n",
    "for each_line in data:\n",
    "    if each_line.find(\":\") > 0:  # if not each_line.find(':') == -1:\n",
    "        (role, line_spoken) = each_line.split(\":\", 1)\n",
    "        print(role, end='')\n",
    "        print(' said: ', end='')\n",
    "        print(line_spoken, end='')\n",
    "    else:\n",
    "        print(each_line, end='')\n",
    "data.close()"
   ]
  },
  {
   "cell_type": "code",
   "execution_count": 38,
   "metadata": {
    "collapsed": false
   },
   "outputs": [
    {
     "name": "stdout",
     "output_type": "stream",
     "text": [
      "Man said:  Is this the right room for an argument?\n",
      "Other Man said:  I've told you once.\n",
      "Man said:  No you haven't!\n",
      "Other Man said:  Yes I have.\n",
      "Man said:  When?\n",
      "Other Man said:  Just now.\n",
      "Man said:  No you didn't!\n",
      "Other Man said:  Yes I did!\n",
      "Man said:  You didn't!\n",
      "Other Man said:  I'm telling you, I did!\n",
      "Man said:  You did not!\n",
      "Other Man said:  Oh I'm sorry, is this a five minute argument, or the full half hour?\n",
      "Man said:  Ah! (taking out his wallet and paying) Just the five minutes.\n",
      "Other Man said:  Just the five minutes. Thank you.\n",
      "Other Man said:  Anyway, I did.\n",
      "Man said:  You most certainly did not!\n",
      "Other Man said:  Now let's get one thing quite clear: I most definitely told you!\n",
      "Man said:  Oh no you didn't!\n",
      "Other Man said:  Oh yes I did!\n",
      "Man said:  Oh no you didn't!\n",
      "Other Man said:  Oh yes I did!\n",
      "Man said:  Oh look, this isn't an argument!\n",
      "Other Man said:  Yes it is!\n",
      "Man said:  No it isn't!\n",
      "Man said:  It's just contradiction!\n",
      "Other Man said:  No it isn't!\n",
      "Man said:  It IS!\n",
      "Other Man said:  It is NOT!\n",
      "Man said:  You just contradicted me!\n",
      "Other Man said:  No I didn't!\n",
      "Man said:  You DID!\n",
      "Other Man said:  No no no!\n",
      "Man said:  You did just then!\n",
      "Other Man said:  Nonsense!\n",
      "Man said:  (exasperated) Oh, this is futile!!\n",
      "Other Man said:  No it isn't!\n",
      "Man said:  Yes it is!\n"
     ]
    }
   ],
   "source": [
    "data = open('sketch.txt')\n",
    "for each_line in data:\n",
    "    try:\n",
    "        (role, line_spoken) = each_line.split(\":\", 1)\n",
    "        print(role, end='')\n",
    "        print(' said: ', end='')\n",
    "        print(line_spoken, end='')\n",
    "    except:\n",
    "        pass\n",
    "    \n",
    "data.close()"
   ]
  },
  {
   "cell_type": "code",
   "execution_count": 39,
   "metadata": {
    "collapsed": false
   },
   "outputs": [
    {
     "name": "stdout",
     "output_type": "stream",
     "text": [
      "The data file is mising!\n"
     ]
    }
   ],
   "source": [
    "import os\n",
    "if os.path.exists('sketch2.txt'):\n",
    "    data = open('sketch2.txt')\n",
    "    for each_line in data:\n",
    "        (role, line_spoken) = each_line.split(\":\", 1)\n",
    "        print(role, end='')\n",
    "        print(' said: ', end='')\n",
    "        print(line_spoken, end='')\n",
    "    data.close()\n",
    "else:\n",
    "    print('The data file is mising!')"
   ]
  },
  {
   "cell_type": "code",
   "execution_count": 40,
   "metadata": {
    "collapsed": false
   },
   "outputs": [
    {
     "name": "stdout",
     "output_type": "stream",
     "text": [
      "The data file is mising!\n"
     ]
    }
   ],
   "source": [
    "try:\n",
    "    data = open('sketch2.txt')\n",
    "    for each_line in data:\n",
    "        (role, line_spoken) = each_line.split(\":\", 1)\n",
    "        print(role, end='')\n",
    "        print(' said: ', end='')\n",
    "        print(line_spoken, end='')\n",
    "    data.close()\n",
    "except:\n",
    "    print('The data file is mising!')"
   ]
  },
  {
   "cell_type": "code",
   "execution_count": 51,
   "metadata": {
    "collapsed": false
   },
   "outputs": [
    {
     "name": "stdout",
     "output_type": "stream",
     "text": [
      "Man said:  Is this the right room for an argument?\n",
      "Other Man said:  I've told you once.\n",
      "Man said:  No you haven't!\n",
      "Other Man said:  Yes I have.\n",
      "Man said:  When?\n",
      "Other Man said:  Just now.\n",
      "Man said:  No you didn't!\n",
      "Other Man said:  Yes I did!\n",
      "Man said:  You didn't!\n",
      "Other Man said:  I'm telling you, I did!\n",
      "Man said:  You did not!\n",
      "Other Man said:  Oh I'm sorry, is this a five minute argument, or the full half hour?\n",
      "Man said:  Ah! (taking out his wallet and paying) Just the five minutes.\n",
      "Other Man said:  Just the five minutes. Thank you.\n",
      "Other Man said:  Anyway, I did.\n",
      "Man said:  You most certainly did not!\n",
      "Other Man said:  Now let's get one thing quite clear: I most definitely told you!\n",
      "Man said:  Oh no you didn't!\n",
      "Other Man said:  Oh yes I did!\n",
      "Man said:  Oh no you didn't!\n",
      "Other Man said:  Oh yes I did!\n",
      "Man said:  Oh look, this isn't an argument!\n",
      "Other Man said:  Yes it is!\n",
      "Man said:  No it isn't!\n",
      "Man said:  It's just contradiction!\n",
      "Other Man said:  No it isn't!\n",
      "Man said:  It IS!\n",
      "Other Man said:  It is NOT!\n",
      "Man said:  You just contradicted me!\n",
      "Other Man said:  No I didn't!\n",
      "Man said:  You DID!\n",
      "Other Man said:  No no no!\n",
      "Man said:  You did just then!\n",
      "Other Man said:  Nonsense!\n",
      "Man said:  (exasperated) Oh, this is futile!!\n",
      "Other Man said:  No it isn't!\n",
      "Man said:  Yes it is!\n"
     ]
    }
   ],
   "source": [
    "try:\n",
    "    data = open('sketch.txt')\n",
    "    for each_line in data:\n",
    "        try:\n",
    "            (role, line_spoken) = each_line.split(\":\", 1)\n",
    "            print(role, end='')\n",
    "            print(' said: ', end='')\n",
    "            print(line_spoken, end='')\n",
    "        except ValueError:\n",
    "            pass\n",
    "    data.close()\n",
    "except IOError:\n",
    "    print('The data file is mising!')"
   ]
  },
  {
   "cell_type": "code",
   "execution_count": null,
   "metadata": {
    "collapsed": true
   },
   "outputs": [],
   "source": []
  }
 ],
 "metadata": {
  "kernelspec": {
   "display_name": "Python 3",
   "language": "python",
   "name": "python3"
  },
  "language_info": {
   "codemirror_mode": {
    "name": "ipython",
    "version": 3
   },
   "file_extension": ".py",
   "mimetype": "text/x-python",
   "name": "python",
   "nbconvert_exporter": "python",
   "pygments_lexer": "ipython3",
   "version": "3.5.0"
  }
 },
 "nbformat": 4,
 "nbformat_minor": 0
}
