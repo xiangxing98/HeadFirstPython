{
 "cells": [
  {
   "cell_type": "markdown",
   "metadata": {
    "toc": true
   },
   "source": [
    "<h1>Table of Contents<span class=\"tocSkip\"></span></h1>\n",
    "<div class=\"toc\"><ul class=\"toc-item\"><li><span><a href=\"#第三章-文件和异常：处理错误\" data-toc-modified-id=\"第三章-文件和异常：处理错误-1\"><span class=\"toc-item-num\">1&nbsp;&nbsp;</span>第三章 文件和异常：处理错误</a></span><ul class=\"toc-item\"><li><span><a href=\"#知识要点\" data-toc-modified-id=\"知识要点-1.1\"><span class=\"toc-item-num\">1.1&nbsp;&nbsp;</span>知识要点</a></span><ul class=\"toc-item\"><li><span><a href=\"#处理每一行\" data-toc-modified-id=\"处理每一行-1.1.1\"><span class=\"toc-item-num\">1.1.1&nbsp;&nbsp;</span>处理每一行</a></span></li><li><span><a href=\"#进一步查看数据-split\" data-toc-modified-id=\"进一步查看数据-split-1.1.2\"><span class=\"toc-item-num\">1.1.2&nbsp;&nbsp;</span>进一步查看数据-split</a></span><ul class=\"toc-item\"><li><span><a href=\"#ValueError:-too-many-values-to-unpack\" data-toc-modified-id=\"ValueError:-too-many-values-to-unpack-1.1.2.1\"><span class=\"toc-item-num\">1.1.2.1&nbsp;&nbsp;</span>ValueError: too many values to unpack</a></span></li></ul></li><li><span><a href=\"#请求帮助\" data-toc-modified-id=\"请求帮助-1.1.3\"><span class=\"toc-item-num\">1.1.3&nbsp;&nbsp;</span>请求帮助</a></span></li><li><span><a href=\"#split-maxsplit-参数\" data-toc-modified-id=\"split-maxsplit-参数-1.1.4\"><span class=\"toc-item-num\">1.1.4&nbsp;&nbsp;</span>split maxsplit 参数</a></span><ul class=\"toc-item\"><li><span><a href=\"#ValueError:-not-enough-values-to-unpack-(expected-2,-got-1)\" data-toc-modified-id=\"ValueError:-not-enough-values-to-unpack-(expected-2,-got-1)-1.1.4.1\"><span class=\"toc-item-num\">1.1.4.1&nbsp;&nbsp;</span>ValueError: not enough values to unpack (expected 2, got 1)</a></span></li></ul></li><li><span><a href=\"#增加额外逻辑-find()方法\" data-toc-modified-id=\"增加额外逻辑-find()方法-1.1.5\"><span class=\"toc-item-num\">1.1.5&nbsp;&nbsp;</span>增加额外逻辑-find()方法</a></span><ul class=\"toc-item\"><li><span><a href=\"#增加每行查找冒号的逻辑判断\" data-toc-modified-id=\"增加每行查找冒号的逻辑判断-1.1.5.1\"><span class=\"toc-item-num\">1.1.5.1&nbsp;&nbsp;</span>增加每行查找冒号的逻辑判断</a></span></li><li><span><a href=\"#增加每行查找冒号的逻辑判断\" data-toc-modified-id=\"增加每行查找冒号的逻辑判断-1.1.5.2\"><span class=\"toc-item-num\">1.1.5.2&nbsp;&nbsp;</span>增加每行查找冒号的逻辑判断</a></span></li><li><span><a href=\"#处理异常\" data-toc-modified-id=\"处理异常-1.1.5.3\"><span class=\"toc-item-num\">1.1.5.3&nbsp;&nbsp;</span>处理异常</a></span></li><li><span><a href=\"#增加更多的错误检查代码\" data-toc-modified-id=\"增加更多的错误检查代码-1.1.5.4\"><span class=\"toc-item-num\">1.1.5.4&nbsp;&nbsp;</span>增加更多的错误检查代码</a></span></li><li><span><a href=\"#增加一层异常处理\" data-toc-modified-id=\"增加一层异常处理-1.1.5.5\"><span class=\"toc-item-num\">1.1.5.5&nbsp;&nbsp;</span>增加一层异常处理</a></span></li><li><span><a href=\"#采用指定错误类型来使用except\" data-toc-modified-id=\"采用指定错误类型来使用except-1.1.5.6\"><span class=\"toc-item-num\">1.1.5.6&nbsp;&nbsp;</span>采用指定错误类型来使用except</a></span></li><li><span><a href=\"#采用指定错误类型来使用except--指定特定异常\" data-toc-modified-id=\"采用指定错误类型来使用except--指定特定异常-1.1.5.7\"><span class=\"toc-item-num\">1.1.5.7&nbsp;&nbsp;</span>采用指定错误类型来使用except--指定特定异常</a></span></li></ul></li></ul></li><li><span><a href=\"#知识点回顾\" data-toc-modified-id=\"知识点回顾-1.2\"><span class=\"toc-item-num\">1.2&nbsp;&nbsp;</span>知识点回顾</a></span></li></ul></li></ul></div>"
   ]
  },
  {
   "cell_type": "markdown",
   "metadata": {},
   "source": [
    "# 第三章 文件和异常：处理错误\n",
    "\n",
    "Head First Python Chapter 03-Learning Notes\n",
    "\n",
    "## 知识要点\n",
    "\n",
    "1. 使用open()内置函数打开磁盘文件并创建一个迭代器来每次从文件中读取一行数据；\n",
    "2. readline()方法从一个打开的文件中读取一行数据；\n",
    "3. seek()方法可以将文件重新定位到开头；\n",
    "4. close()方法关闭上一次打开的文件；\n",
    "5. split()方法将一个字符串分为许多份组成的列表；\n",
    "6. Python中不可改变的常量list叫做tuple。一旦列表数据复制给一个tuple之后，tuple中的数据将不能再被改变。Tuple是不能变的(immutable);\n",
    "7. 当数据与期望的格式有出入时，会产生ValueError；\n",
    "8. 当数据没法被正确访问时（例如数据文件可能已经移动过或者重命名过），会产生IOError；\n",
    "9. help()内置函数提供在IDLE shell中访问Python文档；\n",
    "10. find()方法可以在一个字符串中查找特定子串；\n",
    "11. not关键字用来否定一个条件；\n",
    "12. try/except语句提供了异常处理机制，可以保护那些可能导致运行时错误的代码段；\n",
    "13. pass语句是Python中的空语句，它什么都不做。\n"
   ]
  },
  {
   "cell_type": "code",
   "execution_count": 20,
   "metadata": {},
   "outputs": [
    {
     "name": "stdout",
     "output_type": "stream",
     "text": [
      "Man: Is this the right room for an argument?\n",
      "Other Man: I've told you once.\n",
      "----\n",
      "----\n",
      "Man: Is this the right room for an argument?\n",
      "Other Man: I've told you once.\n"
     ]
    }
   ],
   "source": [
    "# -*- encoding: utf-8 -*-\n",
    "# !/usr/bin/env python\n",
    "\n",
    "import os\n",
    "the_file = open('sketch.txt')\n",
    "the_file.close()\n",
    "\n",
    "os.getcwd()\n",
    "# 'F:\\\\Github\\\\Python\\\\HeadFirstPython\\\\HeadFirstPython\\\\chapter03'\n",
    "\n",
    "# 切换到包含数据的文件夹\n",
    "# os.chdir(\"F:\\\\Github\\\\Python\\\\HeadFirstPython\\\\HeadFirstPython\\\\chapter03\")\n",
    "\n",
    "# 打开数据文件\n",
    "data = open('sketch.txt')\n",
    "\n",
    "# 读取第一行\n",
    "print(data.readline(), end='')\n",
    "# Man: Is this the right room for an argument?\n",
    "\n",
    "# 读取第二行\n",
    "print(data.readline(), end='')\n",
    "# Other Man: I've told you once.\n",
    "\n",
    "# 退回文件的起始位置\n",
    "data.seek(0)\n",
    "\n",
    "print(\"----\")\n",
    "data.tell()\n",
    "print(\"----\")\n",
    "\n",
    "print(data.readline(), end='')\n",
    "# Man: No you haven't!\n",
    "\n",
    "data.tell()\n",
    "print(data.readline(), end='')\n",
    "\n",
    "\n",
    "for each_line in data:\n",
    "    print(each_line, end='')"
   ]
  },
  {
   "cell_type": "markdown",
   "metadata": {},
   "source": [
    "### 处理每一行"
   ]
  },
  {
   "cell_type": "code",
   "execution_count": 39,
   "metadata": {},
   "outputs": [
    {
     "name": "stdout",
     "output_type": "stream",
     "text": [
      "Man: Is this the right room for an argument?\n",
      "Other Man: I've told you once.\n",
      "Man: No you haven't!\n",
      "Other Man: Yes I have.\n",
      "Man: When?\n",
      "Other Man: Just now.\n",
      "Man: No you didn't!\n",
      "Other Man: Yes I did!\n",
      "Man: You didn't!\n",
      "Other Man: I'm telling you, I did!\n",
      "Man: You did not!\n",
      "Other Man: Oh I'm sorry, is this a five minute argument, or the full half hour?\n",
      "Man: Ah! (taking out his wallet and paying) Just the five minutes.\n",
      "Other Man: Just the five minutes. Thank you.\n",
      "Other Man: Anyway, I did.\n",
      "Man: You most certainly did not!\n",
      "Other Man: Now let's get one thing quite clear: I most definitely told you!\n",
      "Man: Oh no you didn't!\n",
      "Other Man: Oh yes I did!\n",
      "Man: Oh no you didn't!\n",
      "Other Man: Oh yes I did!\n",
      "Man: Oh look, this isn't an argument!\n",
      "(pause)\n",
      "Other Man: Yes it is!\n",
      "Man: No it isn't!\n",
      "(pause)\n",
      "Man: It's just contradiction!\n",
      "Other Man: No it isn't!\n",
      "Man: It IS!\n",
      "Other Man: It is NOT!\n",
      "Man: You just contradicted me!\n",
      "Other Man: No I didn't!\n",
      "Man: You DID!\n",
      "Other Man: No no no!\n",
      "Man: You did just then!\n",
      "Other Man: Nonsense!\n",
      "Man: (exasperated) Oh, this is futile!!\n",
      "(pause)\n",
      "Other Man: No it isn't!\n",
      "Man: Yes it is!\n"
     ]
    }
   ],
   "source": [
    "# -*- encoding: utf-8 -*-\n",
    "# !/usr/bin/env python\n",
    "\n",
    "# 打开数据文件\n",
    "data = open('sketch.txt')\n",
    "\n",
    "# For 语句处理文件的每一行\n",
    "for each_line in data:\n",
    "    print(each_line, end='')\n",
    "    \n",
    "# 处理完毕，关闭文件\n",
    "data.close()"
   ]
  },
  {
   "cell_type": "markdown",
   "metadata": {},
   "source": [
    "### 进一步查看数据-split\n",
    "\n",
    "#### ValueError: too many values to unpack"
   ]
  },
  {
   "cell_type": "code",
   "execution_count": 35,
   "metadata": {},
   "outputs": [
    {
     "name": "stdout",
     "output_type": "stream",
     "text": [
      "Man said:  Is this the right room for an argument?\n",
      "Other Man said:  I've told you once.\n",
      "Man said:  No you haven't!\n",
      "Other Man said:  Yes I have.\n",
      "Man said:  When?\n",
      "Other Man said:  Just now.\n",
      "Man said:  No you didn't!\n",
      "Other Man said:  Yes I did!\n",
      "Man said:  You didn't!\n",
      "Other Man said:  I'm telling you, I did!\n",
      "Man said:  You did not!\n",
      "Other Man said:  Oh I'm sorry, is this a five minute argument, or the full half hour?\n",
      "Man said:  Ah! (taking out his wallet and paying) Just the five minutes.\n",
      "Other Man said:  Just the five minutes. Thank you.\n",
      "Other Man said:  Anyway, I did.\n",
      "Man said:  You most certainly did not!\n"
     ]
    },
    {
     "ename": "ValueError",
     "evalue": "too many values to unpack (expected 2)",
     "output_type": "error",
     "traceback": [
      "\u001b[1;31m---------------------------------------------------------------------------\u001b[0m",
      "\u001b[1;31mValueError\u001b[0m                                Traceback (most recent call last)",
      "\u001b[1;32m<ipython-input-35-f28eecc80164>\u001b[0m in \u001b[0;36m<module>\u001b[1;34m\u001b[0m\n\u001b[0;32m      2\u001b[0m \u001b[1;32mfor\u001b[0m \u001b[0meach_line\u001b[0m \u001b[1;32min\u001b[0m \u001b[0mdata\u001b[0m\u001b[1;33m:\u001b[0m\u001b[1;33m\u001b[0m\u001b[1;33m\u001b[0m\u001b[0m\n\u001b[0;32m      3\u001b[0m     \u001b[1;31m# print(each_line, end='')\u001b[0m\u001b[1;33m\u001b[0m\u001b[1;33m\u001b[0m\u001b[1;33m\u001b[0m\u001b[0m\n\u001b[1;32m----> 4\u001b[1;33m     \u001b[1;33m(\u001b[0m\u001b[0mrole\u001b[0m\u001b[1;33m,\u001b[0m \u001b[0mline_spoken\u001b[0m\u001b[1;33m)\u001b[0m \u001b[1;33m=\u001b[0m \u001b[0meach_line\u001b[0m\u001b[1;33m.\u001b[0m\u001b[0msplit\u001b[0m\u001b[1;33m(\u001b[0m\u001b[1;34m\":\"\u001b[0m\u001b[1;33m)\u001b[0m\u001b[1;33m\u001b[0m\u001b[1;33m\u001b[0m\u001b[0m\n\u001b[0m\u001b[0;32m      5\u001b[0m     \u001b[0mprint\u001b[0m\u001b[1;33m(\u001b[0m\u001b[0mrole\u001b[0m\u001b[1;33m,\u001b[0m \u001b[0mend\u001b[0m\u001b[1;33m=\u001b[0m\u001b[1;34m''\u001b[0m\u001b[1;33m)\u001b[0m\u001b[1;33m\u001b[0m\u001b[1;33m\u001b[0m\u001b[0m\n\u001b[0;32m      6\u001b[0m     \u001b[0mprint\u001b[0m\u001b[1;33m(\u001b[0m\u001b[1;34m' said: '\u001b[0m\u001b[1;33m,\u001b[0m \u001b[0mend\u001b[0m\u001b[1;33m=\u001b[0m\u001b[1;34m''\u001b[0m\u001b[1;33m)\u001b[0m\u001b[1;33m\u001b[0m\u001b[1;33m\u001b[0m\u001b[0m\n",
      "\u001b[1;31mValueError\u001b[0m: too many values to unpack (expected 2)"
     ]
    }
   ],
   "source": [
    "# -*- encoding: utf-8 -*-\n",
    "# !/usr/bin/env python\n",
    "\n",
    "data = open('sketch.txt')\n",
    "for each_line in data:\n",
    "    # print(each_line, end='')\n",
    "    (role, line_spoken) = each_line.split(\":\")\n",
    "    print(role, end='')\n",
    "    print(' said: ', end='')\n",
    "    print(line_spoken, end='')\n",
    "data.close()\n",
    "\n",
    "# Man said:  Is this the right room for an argument?\n",
    "# Other Man said:  I've told you once.\n",
    "# Man said:  No you haven't!\n",
    "# Other Man said:  Yes I have.\n",
    "# Man said:  When?\n",
    "# Other Man said:  Just now.\n",
    "# Man said:  No you didn't!\n",
    "# Other Man said:  Yes I did!\n",
    "# Man said:  You didn't!\n",
    "# Other Man said:  I'm telling you, I did!\n",
    "# Man said:  You did not!\n",
    "# Other Man said:  Oh I'm sorry, is this a five minute argument, or the full half hour?\n",
    "# Man said:  Ah! (taking out his wallet and paying) Just the five minutes.\n",
    "# Other Man said:  Just the five minutes. Thank you.\n",
    "# Other Man said:  Anyway, I did.\n",
    "# Man said:  You most certainly did not!\n",
    "# ---------------------------------------------------------------------------\n",
    "# ValueError                                Traceback (most recent call last)\n",
    "# <ipython-input-33-1f86ff71caac> in <module>\n",
    "#       1 data = open('sketch.txt')\n",
    "#       2 for each_line in data:\n",
    "# ----> 3     (role, line_spoken) = each_line.split(\":\")\n",
    "#       4     print(role, end='')\n",
    "#       5     print(' said: ', end='')\n",
    "\n",
    "# ValueError: too many values to unpack (expected 2)\n",
    "\n",
    "# Other Man: Now let's get one thing quite clear: I most definitely told you!"
   ]
  },
  {
   "cell_type": "markdown",
   "metadata": {},
   "source": [
    "### 请求帮助"
   ]
  },
  {
   "cell_type": "code",
   "execution_count": 37,
   "metadata": {},
   "outputs": [
    {
     "name": "stdout",
     "output_type": "stream",
     "text": [
      "Help on built-in function split:\n",
      "\n",
      "split(sep=None, maxsplit=-1) method of builtins.str instance\n",
      "    Return a list of the words in the string, using sep as the delimiter string.\n",
      "    \n",
      "    sep\n",
      "      The delimiter according which to split the string.\n",
      "      None (the default value) means split according to any whitespace,\n",
      "      and discard empty strings from the result.\n",
      "    maxsplit\n",
      "      Maximum number of splits to do.\n",
      "      -1 (the default value) means no limit.\n",
      "\n"
     ]
    }
   ],
   "source": [
    "# -*- encoding: utf-8 -*-\n",
    "# !/usr/bin/env python\n",
    "\n",
    "help(each_line.split)\n",
    "\n",
    "# Help on built-in function split:\n",
    "\n",
    "# split(sep=None, maxsplit=-1) method of builtins.str instance\n",
    "#     Return a list of the words in the string, using sep as the delimiter string.\n",
    "    \n",
    "#     sep\n",
    "#       The delimiter according which to split the string.\n",
    "#       None (the default value) means split according to any whitespace,\n",
    "#       and discard empty strings from the result.\n",
    "#     maxsplit\n",
    "#       Maximum number of splits to do.\n",
    "#       -1 (the default value) means no limit.\n"
   ]
  },
  {
   "cell_type": "code",
   "execution_count": 38,
   "metadata": {},
   "outputs": [
    {
     "name": "stdout",
     "output_type": "stream",
     "text": [
      "Help on method_descriptor:\n",
      "\n",
      "split(self, /, sep=None, maxsplit=-1)\n",
      "    Return a list of the words in the string, using sep as the delimiter string.\n",
      "    \n",
      "    sep\n",
      "      The delimiter according which to split the string.\n",
      "      None (the default value) means split according to any whitespace,\n",
      "      and discard empty strings from the result.\n",
      "    maxsplit\n",
      "      Maximum number of splits to do.\n",
      "      -1 (the default value) means no limit.\n",
      "\n"
     ]
    }
   ],
   "source": [
    "# -*- encoding: utf-8 -*-\n",
    "# !/usr/bin/env python\n",
    "\n",
    "help(str.split)\n",
    "\n",
    "# Help on method_descriptor:\n",
    "\n",
    "# split(self, /, sep=None, maxsplit=-1)\n",
    "#     Return a list of the words in the string, using sep as the delimiter string.\n",
    "    \n",
    "#     sep\n",
    "#       The delimiter according which to split the string.\n",
    "#       None (the default value) means split according to any whitespace,\n",
    "#       and discard empty strings from the result.\n",
    "#     maxsplit\n",
    "#       Maximum number of splits to do.\n",
    "#       -1 (the default value) means no limit."
   ]
  },
  {
   "cell_type": "markdown",
   "metadata": {},
   "source": [
    "### split maxsplit 参数\n",
    "\n",
    "#### ValueError: not enough values to unpack (expected 2, got 1)\n"
   ]
  },
  {
   "cell_type": "code",
   "execution_count": 43,
   "metadata": {},
   "outputs": [
    {
     "name": "stdout",
     "output_type": "stream",
     "text": [
      "Man said:  Is this the right room for an argument?\n",
      "Other Man said:  I've told you once.\n",
      "Man said:  No you haven't!\n",
      "Other Man said:  Yes I have.\n",
      "Man said:  When?\n",
      "Other Man said:  Just now.\n",
      "Man said:  No you didn't!\n",
      "Other Man said:  Yes I did!\n",
      "Man said:  You didn't!\n",
      "Other Man said:  I'm telling you, I did!\n",
      "Man said:  You did not!\n",
      "Other Man said:  Oh I'm sorry, is this a five minute argument, or the full half hour?\n",
      "Man said:  Ah! (taking out his wallet and paying) Just the five minutes.\n",
      "Other Man said:  Just the five minutes. Thank you.\n",
      "Other Man said:  Anyway, I did.\n",
      "Man said:  You most certainly did not!\n",
      "Other Man said:  Now let's get one thing quite clear: I most definitely told you!\n",
      "Man said:  Oh no you didn't!\n",
      "Other Man said:  Oh yes I did!\n",
      "Man said:  Oh no you didn't!\n",
      "Other Man said:  Oh yes I did!\n",
      "Man said:  Oh look, this isn't an argument!\n"
     ]
    },
    {
     "ename": "ValueError",
     "evalue": "not enough values to unpack (expected 2, got 1)",
     "output_type": "error",
     "traceback": [
      "\u001b[1;31m---------------------------------------------------------------------------\u001b[0m",
      "\u001b[1;31mValueError\u001b[0m                                Traceback (most recent call last)",
      "\u001b[1;32m<ipython-input-43-0390f8df2aff>\u001b[0m in \u001b[0;36m<module>\u001b[1;34m\u001b[0m\n\u001b[0;32m      2\u001b[0m \u001b[1;32mfor\u001b[0m \u001b[0meach_line\u001b[0m \u001b[1;32min\u001b[0m \u001b[0mdata\u001b[0m\u001b[1;33m:\u001b[0m\u001b[1;33m\u001b[0m\u001b[1;33m\u001b[0m\u001b[0m\n\u001b[0;32m      3\u001b[0m     \u001b[1;31m# print(each_line, end='')\u001b[0m\u001b[1;33m\u001b[0m\u001b[1;33m\u001b[0m\u001b[1;33m\u001b[0m\u001b[0m\n\u001b[1;32m----> 4\u001b[1;33m     \u001b[1;33m(\u001b[0m\u001b[0mrole\u001b[0m\u001b[1;33m,\u001b[0m \u001b[0mline_spoken\u001b[0m\u001b[1;33m)\u001b[0m \u001b[1;33m=\u001b[0m \u001b[0meach_line\u001b[0m\u001b[1;33m.\u001b[0m\u001b[0msplit\u001b[0m\u001b[1;33m(\u001b[0m\u001b[1;34m\":\"\u001b[0m\u001b[1;33m,\u001b[0m \u001b[1;36m1\u001b[0m\u001b[1;33m)\u001b[0m\u001b[1;33m\u001b[0m\u001b[1;33m\u001b[0m\u001b[0m\n\u001b[0m\u001b[0;32m      5\u001b[0m     \u001b[0mprint\u001b[0m\u001b[1;33m(\u001b[0m\u001b[0mrole\u001b[0m\u001b[1;33m,\u001b[0m \u001b[0mend\u001b[0m\u001b[1;33m=\u001b[0m\u001b[1;34m''\u001b[0m\u001b[1;33m)\u001b[0m\u001b[1;33m\u001b[0m\u001b[1;33m\u001b[0m\u001b[0m\n\u001b[0;32m      6\u001b[0m     \u001b[0mprint\u001b[0m\u001b[1;33m(\u001b[0m\u001b[1;34m' said: '\u001b[0m\u001b[1;33m,\u001b[0m \u001b[0mend\u001b[0m\u001b[1;33m=\u001b[0m\u001b[1;34m''\u001b[0m\u001b[1;33m)\u001b[0m\u001b[1;33m\u001b[0m\u001b[1;33m\u001b[0m\u001b[0m\n",
      "\u001b[1;31mValueError\u001b[0m: not enough values to unpack (expected 2, got 1)"
     ]
    }
   ],
   "source": [
    "# -*- encoding: utf-8 -*-\n",
    "# !/usr/bin/env python\n",
    "\n",
    "data = open('sketch.txt')\n",
    "for each_line in data:\n",
    "    # print(each_line, end='')\n",
    "    (role, line_spoken) = each_line.split(\":\", 1)\n",
    "    print(role, end='')\n",
    "    print(' said: ', end='')\n",
    "    print(line_spoken, end='')\n",
    "data.close()\n",
    "\n",
    "# Man said:  Is this the right room for an argument?\n",
    "# Other Man said:  I've told you once.\n",
    "# Man said:  No you haven't!\n",
    "# Other Man said:  Yes I have.\n",
    "# Man said:  When?\n",
    "# Other Man said:  Just now.\n",
    "# Man said:  No you didn't!\n",
    "# Other Man said:  Yes I did!\n",
    "# Man said:  You didn't!\n",
    "# Other Man said:  I'm telling you, I did!\n",
    "# Man said:  You did not!\n",
    "# Other Man said:  Oh I'm sorry, is this a five minute argument, or the full half hour?\n",
    "# Man said:  Ah! (taking out his wallet and paying) Just the five minutes.\n",
    "# Other Man said:  Just the five minutes. Thank you.\n",
    "# Other Man said:  Anyway, I did.\n",
    "# Man said:  You most certainly did not!\n",
    "# Other Man said:  Now let's get one thing quite clear: I most definitely told you!\n",
    "# Man said:  Oh no you didn't!\n",
    "# Other Man said:  Oh yes I did!\n",
    "# Man said:  Oh no you didn't!\n",
    "# Other Man said:  Oh yes I did!\n",
    "# Man said:  Oh look, this isn't an argument!\n",
    "# ---------------------------------------------------------------------------\n",
    "# ValueError                                Traceback (most recent call last)\n",
    "# <ipython-input-40-e0974da41528> in <module>\n",
    "#       1 data = open('sketch.txt')\n",
    "#       2 for each_line in data:\n",
    "# ----> 3     (role, line_spoken) = each_line.split(\":\", 1)\n",
    "#       4     print(role, end='')\n",
    "#       5     print(' said: ', end='')\n",
    "\n",
    "# ValueError: not enough values to unpack (expected 2, got 1)\n",
    "\n",
    "# 数据不是标准格式，没有冒号\n",
    "# (pause), no ："
   ]
  },
  {
   "cell_type": "markdown",
   "metadata": {},
   "source": [
    "### 增加额外逻辑-find()方法"
   ]
  },
  {
   "cell_type": "code",
   "execution_count": 12,
   "metadata": {},
   "outputs": [
    {
     "name": "stdout",
     "output_type": "stream",
     "text": [
      "-1\n",
      "7\n"
     ]
    }
   ],
   "source": [
    "# -*- encoding: utf-8 -*-\n",
    "# !/usr/bin/env python\n",
    "\n",
    "# find\n",
    "test_line = \"no colone\"\n",
    "test_line2 = \"yes col:one\"\n",
    "\n",
    "# 没有找到，返回-1\n",
    "print(test_line.find(\":\"))\n",
    "# -1\n",
    "\n",
    "# 找到，返回位置，第一个位置是0\n",
    "print(test_line2.find(\":\"))\n",
    "# 7"
   ]
  },
  {
   "cell_type": "markdown",
   "metadata": {},
   "source": [
    "#### 增加每行查找冒号的逻辑判断"
   ]
  },
  {
   "cell_type": "code",
   "execution_count": 13,
   "metadata": {},
   "outputs": [
    {
     "name": "stdout",
     "output_type": "stream",
     "text": [
      "Man said:  Is this the right room for an argument?\n",
      "Other Man said:  I've told you once.\n",
      "Man said:  No you haven't!\n",
      "Other Man said:  Yes I have.\n",
      "Man said:  When?\n",
      "Other Man said:  Just now.\n",
      "Man said:  No you didn't!\n",
      "Other Man said:  Yes I did!\n",
      "Man said:  You didn't!\n",
      "Other Man said:  I'm telling you, I did!\n",
      "Man said:  You did not!\n",
      "Other Man said:  Oh I'm sorry, is this a five minute argument, or the full half hour?\n",
      "Man said:  Ah! (taking out his wallet and paying) Just the five minutes.\n",
      "Other Man said:  Just the five minutes. Thank you.\n",
      "Other Man said:  Anyway, I did.\n",
      "Man said:  You most certainly did not!\n",
      "Other Man said:  Now let's get one thing quite clear: I most definitely told you!\n",
      "Man said:  Oh no you didn't!\n",
      "Other Man said:  Oh yes I did!\n",
      "Man said:  Oh no you didn't!\n",
      "Other Man said:  Oh yes I did!\n",
      "Man said:  Oh look, this isn't an argument!\n",
      "(pause)\n",
      "Other Man said:  Yes it is!\n",
      "Man said:  No it isn't!\n",
      "(pause)\n",
      "Man said:  It's just contradiction!\n",
      "Other Man said:  No it isn't!\n",
      "Man said:  It IS!\n",
      "Other Man said:  It is NOT!\n",
      "Man said:  You just contradicted me!\n",
      "Other Man said:  No I didn't!\n",
      "Man said:  You DID!\n",
      "Other Man said:  No no no!\n",
      "Man said:  You did just then!\n",
      "Other Man said:  Nonsense!\n",
      "Man said:  (exasperated) Oh, this is futile!!\n",
      "(pause)\n",
      "Other Man said:  No it isn't!\n",
      "Man said:  Yes it is!\n"
     ]
    }
   ],
   "source": [
    "# -*- encoding: utf-8 -*-\n",
    "# !/usr/bin/env python\n",
    "\n",
    "data = open('sketch.txt')\n",
    "for each_line in data:\n",
    "    if each_line.find(\":\") > 0:  # if not each_line.find(':') == -1:\n",
    "        (role, line_spoken) = each_line.split(\":\", 1)\n",
    "        print(role, end='')\n",
    "        print(' said: ', end='')\n",
    "        print(line_spoken, end='')\n",
    "    else:\n",
    "        print(each_line, end='')\n",
    "data.close()\n",
    "\n",
    "# Man said:  Is this the right room for an argument?\n",
    "# Other Man said:  I've told you once.\n",
    "# Man said:  No you haven't!\n",
    "# Other Man said:  Yes I have.\n",
    "# Man said:  When?\n",
    "# Other Man said:  Just now.\n",
    "# Man said:  No you didn't!\n",
    "# Other Man said:  Yes I did!\n",
    "# Man said:  You didn't!\n",
    "# Other Man said:  I'm telling you, I did!\n",
    "# Man said:  You did not!\n",
    "# Other Man said:  Oh I'm sorry, is this a five minute argument, or the full half hour?\n",
    "# Man said:  Ah! (taking out his wallet and paying) Just the five minutes.\n",
    "# Other Man said:  Just the five minutes. Thank you.\n",
    "# Other Man said:  Anyway, I did.\n",
    "# Man said:  You most certainly did not!\n",
    "# Other Man said:  Now let's get one thing quite clear: I most definitely told you!\n",
    "# Man said:  Oh no you didn't!\n",
    "# Other Man said:  Oh yes I did!\n",
    "# Man said:  Oh no you didn't!\n",
    "# Other Man said:  Oh yes I did!\n",
    "# Man said:  Oh look, this isn't an argument!\n",
    "# (pause)\n",
    "# Other Man said:  Yes it is!\n",
    "# Man said:  No it isn't!\n",
    "# (pause)\n",
    "# Man said:  It's just contradiction!\n",
    "# Other Man said:  No it isn't!\n",
    "# Man said:  It IS!\n",
    "# Other Man said:  It is NOT!\n",
    "# Man said:  You just contradicted me!\n",
    "# Other Man said:  No I didn't!\n",
    "# Man said:  You DID!\n",
    "# Other Man said:  No no no!\n",
    "# Man said:  You did just then!\n",
    "# Other Man said:  Nonsense!\n",
    "# Man said:  (exasperated) Oh, this is futile!!\n",
    "# (pause)\n",
    "# Other Man said:  No it isn't!\n",
    "# Man said:  Yes it is!"
   ]
  },
  {
   "cell_type": "markdown",
   "metadata": {},
   "source": [
    "#### 增加每行查找冒号的逻辑判断"
   ]
  },
  {
   "cell_type": "code",
   "execution_count": 14,
   "metadata": {},
   "outputs": [
    {
     "name": "stdout",
     "output_type": "stream",
     "text": [
      "Man said:  Is this the right room for an argument?\n",
      "Other Man said:  I've told you once.\n",
      "Man said:  No you haven't!\n",
      "Other Man said:  Yes I have.\n",
      "Man said:  When?\n",
      "Other Man said:  Just now.\n",
      "Man said:  No you didn't!\n",
      "Other Man said:  Yes I did!\n",
      "Man said:  You didn't!\n",
      "Other Man said:  I'm telling you, I did!\n",
      "Man said:  You did not!\n",
      "Other Man said:  Oh I'm sorry, is this a five minute argument, or the full half hour?\n",
      "Man said:  Ah! (taking out his wallet and paying) Just the five minutes.\n",
      "Other Man said:  Just the five minutes. Thank you.\n",
      "Other Man said:  Anyway, I did.\n",
      "Man said:  You most certainly did not!\n",
      "Other Man said:  Now let's get one thing quite clear: I most definitely told you!\n",
      "Man said:  Oh no you didn't!\n",
      "Other Man said:  Oh yes I did!\n",
      "Man said:  Oh no you didn't!\n",
      "Other Man said:  Oh yes I did!\n",
      "Man said:  Oh look, this isn't an argument!\n",
      "Other Man said:  Yes it is!\n",
      "Man said:  No it isn't!\n",
      "Man said:  It's just contradiction!\n",
      "Other Man said:  No it isn't!\n",
      "Man said:  It IS!\n",
      "Other Man said:  It is NOT!\n",
      "Man said:  You just contradicted me!\n",
      "Other Man said:  No I didn't!\n",
      "Man said:  You DID!\n",
      "Other Man said:  No no no!\n",
      "Man said:  You did just then!\n",
      "Other Man said:  Nonsense!\n",
      "Man said:  (exasperated) Oh, this is futile!!\n",
      "Other Man said:  No it isn't!\n",
      "Man said:  Yes it is!\n"
     ]
    }
   ],
   "source": [
    "# -*- encoding: utf-8 -*-\n",
    "# !/usr/bin/env python\n",
    "\n",
    "data = open('sketch.txt')\n",
    "for each_line in data:\n",
    "    try:\n",
    "        (role, line_spoken) = each_line.split(\":\", 1)\n",
    "        print(role, end='')\n",
    "        print(' said: ', end='')\n",
    "        print(line_spoken, end='')\n",
    "    except:\n",
    "        pass\n",
    "    \n",
    "data.close()"
   ]
  },
  {
   "cell_type": "markdown",
   "metadata": {},
   "source": [
    "#### 处理异常\n",
    "\n",
    "先尝试运行代码，然后处理可能发生的错误\n",
    "\n",
    "放过错误"
   ]
  },
  {
   "cell_type": "code",
   "execution_count": 15,
   "metadata": {},
   "outputs": [
    {
     "name": "stdout",
     "output_type": "stream",
     "text": [
      "Man said:  Is this the right room for an argument?\n",
      "Other Man said:  I've told you once.\n",
      "Man said:  No you haven't!\n",
      "Other Man said:  Yes I have.\n",
      "Man said:  When?\n",
      "Other Man said:  Just now.\n",
      "Man said:  No you didn't!\n",
      "Other Man said:  Yes I did!\n",
      "Man said:  You didn't!\n",
      "Other Man said:  I'm telling you, I did!\n",
      "Man said:  You did not!\n",
      "Other Man said:  Oh I'm sorry, is this a five minute argument, or the full half hour?\n",
      "Man said:  Ah! (taking out his wallet and paying) Just the five minutes.\n",
      "Other Man said:  Just the five minutes. Thank you.\n",
      "Other Man said:  Anyway, I did.\n",
      "Man said:  You most certainly did not!\n",
      "Other Man said:  Now let's get one thing quite clear: I most definitely told you!\n",
      "Man said:  Oh no you didn't!\n",
      "Other Man said:  Oh yes I did!\n",
      "Man said:  Oh no you didn't!\n",
      "Other Man said:  Oh yes I did!\n",
      "Man said:  Oh look, this isn't an argument!\n",
      "Other Man said:  Yes it is!\n",
      "Man said:  No it isn't!\n",
      "Man said:  It's just contradiction!\n",
      "Other Man said:  No it isn't!\n",
      "Man said:  It IS!\n",
      "Other Man said:  It is NOT!\n",
      "Man said:  You just contradicted me!\n",
      "Other Man said:  No I didn't!\n",
      "Man said:  You DID!\n",
      "Other Man said:  No no no!\n",
      "Man said:  You did just then!\n",
      "Other Man said:  Nonsense!\n",
      "Man said:  (exasperated) Oh, this is futile!!\n",
      "Other Man said:  No it isn't!\n",
      "Man said:  Yes it is!\n"
     ]
    }
   ],
   "source": [
    "# -*- encoding: utf-8 -*-\n",
    "# !/usr/bin/env python\n",
    "\n",
    "# pass error\n",
    "data = open('sketch.txt')\n",
    "\n",
    "for each_line in data:\n",
    "    try:\n",
    "        (role, line_spoken) = each_line.split(\":\", 1)\n",
    "        print(role, end='')\n",
    "        print(' said: ', end='')\n",
    "        print(line_spoken, end='')\n",
    "    except:\n",
    "        pass\n",
    "    \n",
    "data.close()\n"
   ]
  },
  {
   "cell_type": "markdown",
   "metadata": {},
   "source": [
    "#### 增加更多的错误检查代码"
   ]
  },
  {
   "cell_type": "code",
   "execution_count": 3,
   "metadata": {},
   "outputs": [
    {
     "name": "stdout",
     "output_type": "stream",
     "text": [
      "The data file is mising!\n"
     ]
    }
   ],
   "source": [
    "# -*- encoding: utf-8 -*-\n",
    "# !/usr/bin/env python\n",
    "\n",
    "import os\n",
    "\n",
    "#  增加更多的错误检查代码，数据文件是否存在\n",
    "if os.path.exists('sketch2.txt'):\n",
    "    data = open('sketch2.txt')\n",
    "\n",
    "    for each_line in data:\n",
    "        if not each_line.find(':')==-1:\n",
    "            (role, line_spoken) = each_line.split(\":\", 1)\n",
    "            print(role, end='')\n",
    "            print(' said: ', end='')\n",
    "            print(line_spoken, end='')\n",
    "            \n",
    "    data.close()\n",
    "    \n",
    "else:\n",
    "    print('The data file is mising!')\n",
    "\n",
    "# The data file is mising!"
   ]
  },
  {
   "cell_type": "markdown",
   "metadata": {},
   "source": [
    "#### 增加一层异常处理\n",
    "\n",
    "第一层异常处理"
   ]
  },
  {
   "cell_type": "code",
   "execution_count": 19,
   "metadata": {},
   "outputs": [
    {
     "name": "stdout",
     "output_type": "stream",
     "text": [
      "The data file is mising!\n"
     ]
    }
   ],
   "source": [
    "# -*- encoding: utf-8 -*-\n",
    "# !/usr/bin/env python\n",
    "\n",
    "#  第一层异常处理\n",
    "try:\n",
    "    data = open('sketch2.txt')\n",
    "    for each_line in data:\n",
    "        (role, line_spoken) = each_line.split(\":\", 1)\n",
    "        print(role, end='')\n",
    "        print(' said: ', end='')\n",
    "        print(line_spoken, end='')\n",
    "    data.close()\n",
    "except:\n",
    "    print('The data file is mising!')\n",
    "\n",
    "# The data file is mising!"
   ]
  },
  {
   "cell_type": "markdown",
   "metadata": {},
   "source": [
    "增加一层异常处理"
   ]
  },
  {
   "cell_type": "code",
   "execution_count": 11,
   "metadata": {},
   "outputs": [
    {
     "name": "stdout",
     "output_type": "stream",
     "text": [
      "The data file is mising!\n"
     ]
    }
   ],
   "source": [
    "# -*- encoding: utf-8 -*-\n",
    "# !/usr/bin/env python\n",
    "\n",
    "#  第一层异常处理\n",
    "try:\n",
    "    data = open('sketch2.txt')\n",
    "    \n",
    "    #  增加第二层异常处理\n",
    "    try:\n",
    "        for each_line in data:\n",
    "            (role, line_spoken) = each_line.split(\":\", 1)\n",
    "            print(role, end='')\n",
    "            print(' said: ', end='')\n",
    "            print(line_spoken, end='')\n",
    "    except:\n",
    "        pass\n",
    "    \n",
    "    data.close()\n",
    "\n",
    "except:\n",
    "    print('The data file is mising!')\n",
    "\n",
    "# The data file is mising!"
   ]
  },
  {
   "cell_type": "markdown",
   "metadata": {},
   "source": [
    "#### 采用指定错误类型来使用except"
   ]
  },
  {
   "cell_type": "markdown",
   "metadata": {},
   "source": [
    "#### 采用指定错误类型来使用except--指定特定异常"
   ]
  },
  {
   "cell_type": "code",
   "execution_count": 24,
   "metadata": {
    "scrolled": true
   },
   "outputs": [
    {
     "name": "stdout",
     "output_type": "stream",
     "text": [
      "Man said:  Is this the right room for an argument?\n",
      "Other Man said:  I've told you once.\n",
      "Man said:  No you haven't!\n",
      "Other Man said:  Yes I have.\n",
      "Man said:  When?\n",
      "Other Man said:  Just now.\n",
      "Man said:  No you didn't!\n",
      "Other Man said:  Yes I did!\n",
      "Man said:  You didn't!\n",
      "Other Man said:  I'm telling you, I did!\n",
      "Man said:  You did not!\n",
      "Other Man said:  Oh I'm sorry, is this a five minute argument, or the full half hour?\n",
      "Man said:  Ah! (taking out his wallet and paying) Just the five minutes.\n",
      "Other Man said:  Just the five minutes. Thank you.\n",
      "Other Man said:  Anyway, I did.\n",
      "Man said:  You most certainly did not!\n",
      "Other Man said:  Now let's get one thing quite clear: I most definitely told you!\n",
      "Man said:  Oh no you didn't!\n",
      "Other Man said:  Oh yes I did!\n",
      "Man said:  Oh no you didn't!\n",
      "Other Man said:  Oh yes I did!\n",
      "Man said:  Oh look, this isn't an argument!\n",
      "Other Man said:  Yes it is!\n",
      "Man said:  No it isn't!\n",
      "Man said:  It's just contradiction!\n",
      "Other Man said:  No it isn't!\n",
      "Man said:  It IS!\n",
      "Other Man said:  It is NOT!\n",
      "Man said:  You just contradicted me!\n",
      "Other Man said:  No I didn't!\n",
      "Man said:  You DID!\n",
      "Other Man said:  No no no!\n",
      "Man said:  You did just then!\n",
      "Other Man said:  Nonsense!\n",
      "Man said:  (exasperated) Oh, this is futile!!\n",
      "Other Man said:  No it isn't!\n",
      "Man said:  Yes it is!\n"
     ]
    }
   ],
   "source": [
    "try:\n",
    "    data = open('sketch.txt')\n",
    "    for each_line in data:\n",
    "        try:\n",
    "            (role, line_spoken) = each_line.split(\":\", 1)\n",
    "            print(role, end='')\n",
    "            print(' said: ', end='')\n",
    "            print(line_spoken, end='')\n",
    "        except ValueError:\n",
    "            pass\n",
    "    data.close()\n",
    "except IOError:\n",
    "    print('The data file is mising!')"
   ]
  },
  {
   "cell_type": "markdown",
   "metadata": {
    "collapsed": true
   },
   "source": [
    "## 知识点回顾 \n",
    "\n",
    "1. 使用open()内置函数打开磁盘文件并创建一个迭代器来每次从文件中读取一行数据；\n",
    "2. readline()方法从一个打开的文件中读取一行数据；\n",
    "3. seek()方法可以将文件重新定位到开头；\n",
    "4. close()方法关闭上一次打开的文件；\n",
    "5. split()方法将一个字符串分为许多份组成的列表；\n",
    "6. Python中不可改变的常量list叫做tuple。一旦列表数据复制给一个tuple之后，tuple中的数据将不能再被改变。Tuple是不能变的(immutable);\n",
    "7. 当数据与期望的格式有出入时，会产生ValueError；\n",
    "8. 当数据没法被正确访问时（例如数据文件可能已经移动过或者重命名过），会产生IOError；\n",
    "9. help()内置函数提供在IDLE shell中访问Python文档；\n",
    "10. find()方法可以在一个字符串中查找特定子串；\n",
    "11. not关键字用来否定一个条件；\n",
    "12. try/except语句提供了异常处理机制，可以保护那些可能导致运行时错误的代码段；\n",
    "13. pass语句是Python中的空语句，它什么都不做。\n"
   ]
  }
 ],
 "metadata": {
  "kernelspec": {
   "display_name": "Python 3",
   "language": "python",
   "name": "python3"
  },
  "language_info": {
   "codemirror_mode": {
    "name": "ipython",
    "version": 3
   },
   "file_extension": ".py",
   "mimetype": "text/x-python",
   "name": "python",
   "nbconvert_exporter": "python",
   "pygments_lexer": "ipython3",
   "version": "3.7.8"
  },
  "toc": {
   "base_numbering": 1,
   "nav_menu": {},
   "number_sections": true,
   "sideBar": true,
   "skip_h1_title": false,
   "title_cell": "Table of Contents",
   "title_sidebar": "Contents",
   "toc_cell": true,
   "toc_position": {},
   "toc_section_display": true,
   "toc_window_display": false
  }
 },
 "nbformat": 4,
 "nbformat_minor": 1
}
