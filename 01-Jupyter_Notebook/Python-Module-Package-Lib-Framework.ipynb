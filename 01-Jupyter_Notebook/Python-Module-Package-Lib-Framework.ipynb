{
 "cells": [
  {
   "cell_type": "markdown",
   "metadata": {
    "toc": true
   },
   "source": [
    "<h1>Table of Contents<span class=\"tocSkip\"></span></h1>\n",
    "<div class=\"toc\"><ul class=\"toc-item\"><li><span><a href=\"#Python-Module-Package-Lib-Framework\" data-toc-modified-id=\"Python-Module-Package-Lib-Framework-1\"><span class=\"toc-item-num\">1&nbsp;&nbsp;</span>Python-Module-Package-Lib-Framework</a></span><ul class=\"toc-item\"><li><span><a href=\"#python-模块-(module)\" data-toc-modified-id=\"python-模块-(module)-1.1\"><span class=\"toc-item-num\">1.1&nbsp;&nbsp;</span>python 模块 (module)</a></span></li><li><span><a href=\"#python-包-(package)\" data-toc-modified-id=\"python-包-(package)-1.2\"><span class=\"toc-item-num\">1.2&nbsp;&nbsp;</span>python 包 (package)</a></span></li><li><span><a href=\"#python-库-(lib)\" data-toc-modified-id=\"python-库-(lib)-1.3\"><span class=\"toc-item-num\">1.3&nbsp;&nbsp;</span>python 库 (lib)</a></span></li><li><span><a href=\"#python-框架-(framework)\" data-toc-modified-id=\"python-框架-(framework)-1.4\"><span class=\"toc-item-num\">1.4&nbsp;&nbsp;</span>python 框架 (framework)</a></span></li></ul></li></ul></div>"
   ]
  },
  {
   "cell_type": "markdown",
   "metadata": {},
   "source": [
    "# Python-Module-Package-Lib-Framework\n",
    "\n",
    "> Python-模块-包-库-框架\n",
    "\n",
    "https://blog.csdn.net/weixin_45765473/article/details/102974987\n",
    "\n",
    "[Python——包和模块 Bilibili](https://www.bilibili.com/video/BV194411r7a8?p=8)"
   ]
  },
  {
   "cell_type": "markdown",
   "metadata": {},
   "source": [
    "## python 模块 (module)\n",
    "\n",
    "概念：为了使代码更容易维护，提高代码的重用（复用）价值；可以将一组相关功能的代码写入一个单独的 .py 文件中，供别人导入使用。自我包含并且有组织的代码片段为模块。 模块主要由类和函数组成，表现形式为：写的代码保存为文件。\n",
    "\n",
    "> *以 .py 为结尾的文件都被称作模块。sample.py 其中文件名smaple为模块名字。*\n",
    "\n",
    "模块中一般会包含如下代码 if name==\"main\": 这个文件既可以被其他程序调用，也可以独立运行。\n",
    "\n",
    "本质：就是一个 .py 文件\n",
    "\n",
    "## python 包 (package)\n",
    "\n",
    "概念：包是一个有层次的文件目录结构，包里面有模块，还可能有子包，它定义了由n个模块或n个子包组成的python应用程序执行环境。\n",
    "\n",
    "本质：通俗一点，包的本质是一个目录。具体表现来看，包是一个包含`__init__.py` 文件的目录，该目录下一定得有这个`__init__.py`文件， ，除此之外，还有其它模块或子包。 python 的每个模块的包中，都有一个 _init_.py 文件，有了这个文件，我们才能导入这个目录下的 module。\n",
    "\n",
    "![package](https://img-blog.csdn.net/20180923104253346?watermark/2/text/aHR0cHM6Ly9ibG9nLmNzZG4ubmV0L3FxXzMzNjU2NjAy/font/5a6L5L2T/fontsize/400/fill/I0JBQkFCMA==/dissolve/70)\n",
    "\n",
    "## python 库 (lib)\n",
    "\n",
    "概念：库的概念比较抽象，是参考其它编程语言的说法，库是指python中实现一定功能的代码集合，供用户使用的代码组合。\n",
    "\n",
    "本质： 具体表现形式，可以是模块，也可以是包。库的功能没有框架强大。\n",
    "\n",
    "注：库是将代码集合成的一个产品，供程序员调用。\n",
    "\n",
    "面向对象的代码组织形式而成的库也叫类库。\n",
    "\n",
    "面向过程的代码组织形式而成的库也叫函数库，在函数库中的可直接使用的函数叫库函数。\n",
    "\n",
    "开发者在使用库的时候，只需要使用库的一部分类或函数，然后继续实现自己的功能。\n",
    "\n",
    "***一般按照API的惯例来设计库。***\n",
    "\n",
    "应用程序接口（英语：Application Programming Interface，简称：API），又称为应用编程接口，就是软件系统不同组成部分衔接的约定。\n",
    "\n",
    "由於近年來软件的规模日益庞大，常常需要把复杂的系统划分成小的组成部分，编程接口的设计十分重要。\n",
    "\n",
    "程序设计的实践中，编程接口的设计首先要使软件系统的职责得到合理划分。\n",
    "\n",
    "良好的接口设计可以降低系统各部分的相互依赖，提高组成单元的内聚性，降低组成单元间的耦合程度，从而提高系统的维护性和扩展性。\n",
    "\n",
    "## python 框架 (framework)\n",
    "\n",
    "概念：框架（framework）是一个架构层面的，基本概念上的结构，用于去解决或者处理复杂的问题。用于去解决一个开放性问题而设计的具有一定约束性的支撑结构。这个广泛的定义使用的十分流行，尤其在软件概念。框架也能用于机械结构。\n",
    "\n",
    "框架跟库类似是从功能上来说的，框架往往集成了多种库的功能，框架是用来辅助开发某个领域功能的一个包，一般包内还会含有多个子包。\n",
    "\n",
    "框架会方便开发，将某类项目中必须实现的代码直接实现，你只需要去关注你与别项目不同的部分。\n",
    "\n",
    "如爬虫框架scrapy、web开发框架Django和flask、大数据框架pyspark等。\n",
    "\n",
    "框架则为解决一个(一类)问题而开发的产品，框架用户一般只需要使用框架提供的类或函数，即可实现全部功能。\n",
    "\n",
    "可以说，框架是库的升级版。\n",
    "\n",
    "说明：通过一个框架，可以快速实现一个问题解决的骨架；到时候按照框架中的角色去填充、交互，就可以完成一个质量好，维护性高的项目。"
   ]
  },
  {
   "cell_type": "code",
   "execution_count": null,
   "metadata": {},
   "outputs": [],
   "source": []
  }
 ],
 "metadata": {
  "kernelspec": {
   "display_name": "Python 3",
   "language": "python",
   "name": "python3"
  },
  "language_info": {
   "codemirror_mode": {
    "name": "ipython",
    "version": 3
   },
   "file_extension": ".py",
   "mimetype": "text/x-python",
   "name": "python",
   "nbconvert_exporter": "python",
   "pygments_lexer": "ipython3",
   "version": "3.7.8"
  },
  "toc": {
   "base_numbering": 1,
   "nav_menu": {},
   "number_sections": true,
   "sideBar": true,
   "skip_h1_title": false,
   "title_cell": "Table of Contents",
   "title_sidebar": "Contents",
   "toc_cell": true,
   "toc_position": {},
   "toc_section_display": true,
   "toc_window_display": false
  }
 },
 "nbformat": 4,
 "nbformat_minor": 4
}
