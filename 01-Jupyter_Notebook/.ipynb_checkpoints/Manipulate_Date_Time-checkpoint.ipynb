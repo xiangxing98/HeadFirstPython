{
 "cells": [
  {
   "cell_type": "markdown",
   "metadata": {
    "toc": true
   },
   "source": [
    "<h1>Table of Contents<span class=\"tocSkip\"></span></h1>\n",
    "<div class=\"toc\"><ul class=\"toc-item\"><li><span><a href=\"#Manipulate_Date_Time\" data-toc-modified-id=\"Manipulate_Date_Time-1\"><span class=\"toc-item-num\">1&nbsp;&nbsp;</span>Manipulate_Date_Time</a></span><ul class=\"toc-item\"><li><span><a href=\"#Manipulate_Date_Time-with-datetime-library\" data-toc-modified-id=\"Manipulate_Date_Time-with-datetime-library-1.1\"><span class=\"toc-item-num\">1.1&nbsp;&nbsp;</span>Manipulate_Date_Time with datetime library</a></span></li><li><span><a href=\"#Use-date-function-to-control-date-formatting\" data-toc-modified-id=\"Use-date-function-to-control-date-formatting-1.2\"><span class=\"toc-item-num\">1.2&nbsp;&nbsp;</span>Use date function to control date formatting</a></span></li><li><span><a href=\"#Convert-String-to-datetime-object\" data-toc-modified-id=\"Convert-String-to-datetime-object-1.3\"><span class=\"toc-item-num\">1.3&nbsp;&nbsp;</span>Convert String to datetime object</a></span></li><li><span><a href=\"#Error-Handling---Debugging---Error-Types\" data-toc-modified-id=\"Error-Handling---Debugging---Error-Types-1.4\"><span class=\"toc-item-num\">1.4&nbsp;&nbsp;</span>Error Handling - Debugging - Error Types</a></span><ul class=\"toc-item\"><li><span><a href=\"#Syntax-Errors\" data-toc-modified-id=\"Syntax-Errors-1.4.1\"><span class=\"toc-item-num\">1.4.1&nbsp;&nbsp;</span>Syntax Errors</a></span></li><li><span><a href=\"#Runtime-errors\" data-toc-modified-id=\"Runtime-errors-1.4.2\"><span class=\"toc-item-num\">1.4.2&nbsp;&nbsp;</span>Runtime errors</a></span></li><li><span><a href=\"#Catching-runtime-errors\" data-toc-modified-id=\"Catching-runtime-errors-1.4.3\"><span class=\"toc-item-num\">1.4.3&nbsp;&nbsp;</span>Catching runtime errors</a></span></li><li><span><a href=\"#Logic-Errors\" data-toc-modified-id=\"Logic-Errors-1.4.4\"><span class=\"toc-item-num\">1.4.4&nbsp;&nbsp;</span>Logic Errors</a></span></li><li><span><a href=\"#Demo\" data-toc-modified-id=\"Demo-1.4.5\"><span class=\"toc-item-num\">1.4.5&nbsp;&nbsp;</span>Demo</a></span></li><li><span><a href=\"#Adding-Conditions\" data-toc-modified-id=\"Adding-Conditions-1.4.6\"><span class=\"toc-item-num\">1.4.6&nbsp;&nbsp;</span>Adding Conditions</a></span></li><li><span><a href=\"#其它逻辑\" data-toc-modified-id=\"其它逻辑-1.4.7\"><span class=\"toc-item-num\">1.4.7&nbsp;&nbsp;</span>其它逻辑</a></span></li><li><span><a href=\"#其它\" data-toc-modified-id=\"其它-1.4.8\"><span class=\"toc-item-num\">1.4.8&nbsp;&nbsp;</span>其它</a></span></li></ul></li></ul></li></ul></div>"
   ]
  },
  {
   "cell_type": "markdown",
   "metadata": {},
   "source": [
    "# Manipulate_Date_Time"
   ]
  },
  {
   "cell_type": "markdown",
   "metadata": {},
   "source": [
    "## Manipulate_Date_Time with datetime library"
   ]
  },
  {
   "cell_type": "code",
   "execution_count": 5,
   "metadata": {
    "scrolled": true
   },
   "outputs": [
    {
     "name": "stdout",
     "output_type": "stream",
     "text": [
      "Today is: 2020-09-21 22:43:22.150666\n",
      "Yesterday was: 2020-09-20 22:43:22.150666\n"
     ]
    }
   ],
   "source": [
    "# Manipulate_Date_Time\n",
    "\n",
    "# To get current date and time\n",
    "# we need to use the datetime library\n",
    "from datetime import datetime,timedelta\n",
    "\n",
    "current_date = datetime.now()\n",
    "# the now function returns a dtaetime object\n",
    "print('Today is: ' + str(current_date))\n",
    "# Today is: 2020-09-21 22:38:58.613812\n",
    "\n",
    "# timedelta is used to define a period of time\n",
    "today = datetime.now()\n",
    "one_day = timedelta(days=1)\n",
    "yesterday = today - one_day\n",
    "print('Yesterday was: ' + str(yesterday))\n",
    "# Yesterday was: 2020-09-20 22:43:22.150666\n"
   ]
  },
  {
   "cell_type": "markdown",
   "metadata": {},
   "source": [
    "## Use date function to control date formatting"
   ]
  },
  {
   "cell_type": "code",
   "execution_count": 10,
   "metadata": {},
   "outputs": [
    {
     "name": "stdout",
     "output_type": "stream",
     "text": [
      "Day: 22\n",
      "Month: 9\n",
      "Year: 2020\n",
      "Hour: 21\n",
      "Minute: 15\n",
      "Second: 23\n",
      "Microsecond: 929833\n"
     ]
    }
   ],
   "source": [
    "# Manipulate_Date_Time\n",
    "\n",
    "# To get current date and time\n",
    "# we need to use the datetime library\n",
    "from datetime import datetime\n",
    "\n",
    "current_date = datetime.now()\n",
    "print('Day: ' + str(current_date.day))\n",
    "print('Month: ' + str(current_date.month))\n",
    "print('Year: ' + str(current_date.year))\n",
    "print('Hour: ' + str(current_date.hour))\n",
    "print('Minute: ' + str(current_date.minute))\n",
    "print('Second: ' + str(current_date.second))\n",
    "print('Microsecond: ' + str(current_date.microsecond))\n",
    "# Day: 21\n",
    "# Month: 9\n",
    "# Year: 2020"
   ]
  },
  {
   "cell_type": "markdown",
   "metadata": {},
   "source": [
    "## Convert String to datetime object"
   ]
  },
  {
   "cell_type": "code",
   "execution_count": 9,
   "metadata": {},
   "outputs": [
    {
     "name": "stdout",
     "output_type": "stream",
     "text": [
      "WHen is your birthday(dd/mm/yyy)1/2/1232\n",
      "Birthday: 1232-02-01 00:00:00\n"
     ]
    }
   ],
   "source": [
    "# Manipulate_Date_Time\n",
    "\n",
    "# To get current date and time\n",
    "# we need to use the datetime library\n",
    "from datetime import datetime\n",
    "birthday = input('When is your birthday(dd/mm/yyy)')\n",
    "\n",
    "birth_date = datetime.strptime(birthday, '%d/%m/%Y')\n",
    "\n",
    "print('Birthday: ' + str(birth_date))\n",
    "\n",
    "# When is your birthday(dd/mm/yyy)1/2/1232\n",
    "# Birthday: 1232-02-01 00:00:00"
   ]
  },
  {
   "cell_type": "markdown",
   "metadata": {},
   "source": [
    "## Error Handling - Debugging - Error Types\n",
    "\n",
    "### Syntax Errors"
   ]
  },
  {
   "cell_type": "code",
   "execution_count": 13,
   "metadata": {},
   "outputs": [
    {
     "ename": "SyntaxError",
     "evalue": "invalid syntax (<ipython-input-13-8d8e170289af>, line 4)",
     "output_type": "error",
     "traceback": [
      "\u001b[1;36m  File \u001b[1;32m\"<ipython-input-13-8d8e170289af>\"\u001b[1;36m, line \u001b[1;32m4\u001b[0m\n\u001b[1;33m    if x == y\u001b[0m\n\u001b[1;37m             ^\u001b[0m\n\u001b[1;31mSyntaxError\u001b[0m\u001b[1;31m:\u001b[0m invalid syntax\n"
     ]
    }
   ],
   "source": [
    "# This Code won't run at all\n",
    "x = 42\n",
    "y = 206\n",
    "if x == y\n",
    "    print('Success!!')\n",
    "\n",
    "#   File \"<ipython-input-12-6f3b8df97ab7>\", line 4\n",
    "#     if x == y\n",
    "#              ^\n",
    "# SyntaxError: invalid syntax\n"
   ]
  },
  {
   "cell_type": "markdown",
   "metadata": {},
   "source": [
    "### Runtime errors"
   ]
  },
  {
   "cell_type": "code",
   "execution_count": 15,
   "metadata": {
    "scrolled": false
   },
   "outputs": [
    {
     "ename": "ZeroDivisionError",
     "evalue": "division by zero",
     "output_type": "error",
     "traceback": [
      "\u001b[1;31m---------------------------------------------------------------------------\u001b[0m",
      "\u001b[1;31mZeroDivisionError\u001b[0m                         Traceback (most recent call last)",
      "\u001b[1;32m<ipython-input-15-f5ef8c38e788>\u001b[0m in \u001b[0;36m<module>\u001b[1;34m\u001b[0m\n\u001b[0;32m      2\u001b[0m \u001b[0mx\u001b[0m \u001b[1;33m=\u001b[0m \u001b[1;36m42\u001b[0m\u001b[1;33m\u001b[0m\u001b[1;33m\u001b[0m\u001b[0m\n\u001b[0;32m      3\u001b[0m \u001b[0my\u001b[0m \u001b[1;33m=\u001b[0m \u001b[1;36m0\u001b[0m\u001b[1;33m\u001b[0m\u001b[1;33m\u001b[0m\u001b[0m\n\u001b[1;32m----> 4\u001b[1;33m \u001b[0mprint\u001b[0m\u001b[1;33m(\u001b[0m\u001b[0mx\u001b[0m \u001b[1;33m/\u001b[0m \u001b[0my\u001b[0m\u001b[1;33m)\u001b[0m\u001b[1;33m\u001b[0m\u001b[1;33m\u001b[0m\u001b[0m\n\u001b[0m\u001b[0;32m      5\u001b[0m \u001b[1;33m\u001b[0m\u001b[0m\n\u001b[0;32m      6\u001b[0m \u001b[1;31m# ---------------------------------------------------------------------------\u001b[0m\u001b[1;33m\u001b[0m\u001b[1;33m\u001b[0m\u001b[1;33m\u001b[0m\u001b[0m\n",
      "\u001b[1;31mZeroDivisionError\u001b[0m: division by zero"
     ]
    }
   ],
   "source": [
    "# This Code will fail when run\n",
    "x = 42\n",
    "y = 0\n",
    "print(x / y)\n",
    "\n",
    "# ---------------------------------------------------------------------------\n",
    "# ZeroDivisionError                         Traceback (most recent call last)\n",
    "# <ipython-input-14-d4cf88cdfdff> in <module>\n",
    "#       2 x = 42\n",
    "#       3 y = 0\n",
    "# ----> 4 print(x / y)\n",
    "\n",
    "# ZeroDivisionError: division by zero"
   ]
  },
  {
   "cell_type": "markdown",
   "metadata": {},
   "source": [
    "### Catching runtime errors"
   ]
  },
  {
   "cell_type": "code",
   "execution_count": 16,
   "metadata": {},
   "outputs": [
    {
     "name": "stdout",
     "output_type": "stream",
     "text": [
      "Sorry, something went wrong\n",
      "This always runs on sucess or failure\n"
     ]
    }
   ],
   "source": [
    "try:\n",
    "    print(x / y)\n",
    "except ZeroDivisionError as e:\n",
    "    # Optionally, log w somewhere\n",
    "    print('Sorry, something went wrong')\n",
    "except:\n",
    "    print(\"Something really went wrong, i don’t know\")\n",
    "finally:\n",
    "    print('This always runs on sucess or failure')"
   ]
  },
  {
   "cell_type": "markdown",
   "metadata": {},
   "source": [
    "### Logic Errors"
   ]
  },
  {
   "cell_type": "code",
   "execution_count": 19,
   "metadata": {
    "scrolled": true
   },
   "outputs": [
    {
     "name": "stdout",
     "output_type": "stream",
     "text": [
      "206 is greater than 42\n"
     ]
    }
   ],
   "source": [
    "# This Code won't run at all\n",
    "x = 206\n",
    "y = 42\n",
    "if x < y:\n",
    "    print(str(x) + ' is greater than ' + str(y))\n",
    "\n",
    "# if x > y:\n",
    "#     print(str(x) + ' is greater than ' + str(y))\n",
    "    "
   ]
  },
  {
   "cell_type": "markdown",
   "metadata": {},
   "source": [
    "### Demo"
   ]
  },
  {
   "cell_type": "code",
   "execution_count": 21,
   "metadata": {},
   "outputs": [
    {
     "name": "stdout",
     "output_type": "stream",
     "text": [
      "\n",
      "Not allowed to divid by zero\n",
      "This is our clean code\n"
     ]
    }
   ],
   "source": [
    "x = 42\n",
    "y = 0\n",
    "\n",
    "print()\n",
    "try:\n",
    "    print(x / y)\n",
    "except ZeroDivisionError as e:\n",
    "    print('Not allowed to divid by zero')\n",
    "else:\n",
    "    print('Something else went wrong')\n",
    "finally:\n",
    "    print('This is our clean code')\n",
    "    \n",
    "# Not allowed to divid by zero\n",
    "# This is our clean code"
   ]
  },
  {
   "cell_type": "markdown",
   "metadata": {},
   "source": [
    "### Adding Conditions"
   ]
  },
  {
   "cell_type": "code",
   "execution_count": 22,
   "metadata": {},
   "outputs": [
    {
     "name": "stdout",
     "output_type": "stream",
     "text": [
      "how much did you pay?4\n",
      "Tax rate is: 0.07\n"
     ]
    }
   ],
   "source": [
    "price = input('how much did you pay?')\n",
    "\n",
    "price = float(price)\n",
    "\n",
    "if price >= 1.00:\n",
    "    tax = .07\n",
    "    print('Tax rate is: ' + str(tax))\n",
    "else:\n",
    "    tax = 0\n",
    "    print('Tax rate is: ' + str(tax))\n",
    "\n",
    "# how much did you pay?4\n",
    "# Tax rate is: 0.07"
   ]
  },
  {
   "cell_type": "markdown",
   "metadata": {},
   "source": [
    "### 其它逻辑"
   ]
  },
  {
   "cell_type": "code",
   "execution_count": null,
   "metadata": {},
   "outputs": [],
   "source": [
    "price = input('how much did you pay?')\n",
    "\n",
    "price = float(price)\n",
    "\n",
    "if price >= 1.00:\n",
    "    tax = .07\n",
    "else:\n",
    "    tax = 0\n",
    "print('Tax rate is: ' + str(tax))"
   ]
  },
  {
   "cell_type": "markdown",
   "metadata": {},
   "source": [
    "### 其它"
   ]
  },
  {
   "cell_type": "code",
   "execution_count": 28,
   "metadata": {},
   "outputs": [
    {
     "name": "stdout",
     "output_type": "stream",
     "text": [
      "Enter the name of your home countryCanada\n",
      "So your must like hockey!\n"
     ]
    }
   ],
   "source": [
    "country = input(\"Enter the name of your home country\")\n",
    "\n",
    "if country.lower() == 'canada':\n",
    "    print('So your must like hockey!')\n",
    "else:\n",
    "    print('You are not from Canada')\n",
    "\n",
    "# Enter the name of your home countryCanada\n",
    "# So your must like hockey!"
   ]
  },
  {
   "cell_type": "markdown",
   "metadata": {},
   "source": []
  },
  {
   "cell_type": "code",
   "execution_count": null,
   "metadata": {},
   "outputs": [],
   "source": []
  },
  {
   "cell_type": "markdown",
   "metadata": {},
   "source": []
  },
  {
   "cell_type": "code",
   "execution_count": null,
   "metadata": {},
   "outputs": [],
   "source": []
  }
 ],
 "metadata": {
  "kernelspec": {
   "display_name": "Python 3",
   "language": "python",
   "name": "python3"
  },
  "language_info": {
   "codemirror_mode": {
    "name": "ipython",
    "version": 3
   },
   "file_extension": ".py",
   "mimetype": "text/x-python",
   "name": "python",
   "nbconvert_exporter": "python",
   "pygments_lexer": "ipython3",
   "version": "3.7.8"
  },
  "toc": {
   "base_numbering": 1,
   "nav_menu": {},
   "number_sections": true,
   "sideBar": true,
   "skip_h1_title": false,
   "title_cell": "Table of Contents",
   "title_sidebar": "Contents",
   "toc_cell": true,
   "toc_position": {},
   "toc_section_display": true,
   "toc_window_display": false
  }
 },
 "nbformat": 4,
 "nbformat_minor": 4
}
