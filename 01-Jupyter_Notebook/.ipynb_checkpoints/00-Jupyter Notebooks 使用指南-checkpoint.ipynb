{
 "cells": [
  {
   "cell_type": "markdown",
   "metadata": {
    "toc": true
   },
   "source": [
    "<h1>Table of Contents<span class=\"tocSkip\"></span></h1>\n",
    "<div class=\"toc\"><ul class=\"toc-item\"><li><span><a href=\"#00-Jupyter-Notebooks-使用指南\" data-toc-modified-id=\"00-Jupyter-Notebooks-使用指南-1\"><span class=\"toc-item-num\">1&nbsp;&nbsp;</span>00-Jupyter Notebooks 使用指南</a></span><ul class=\"toc-item\"><li><span><a href=\"#键盘快捷键——节省时间且更有生产力！\" data-toc-modified-id=\"键盘快捷键——节省时间且更有生产力！-1.1\"><span class=\"toc-item-num\">1.1&nbsp;&nbsp;</span>键盘快捷键——节省时间且更有生产力！</a></span></li><li><span><a href=\"#下拉菜单中-4-个代码块选项\" data-toc-modified-id=\"下拉菜单中-4-个代码块选项-1.2\"><span class=\"toc-item-num\">1.2&nbsp;&nbsp;</span>下拉菜单中 4 个代码块选项</a></span></li><li><span><a href=\"#A-gallery-of-interesting-Jupyter-Notebooks\" data-toc-modified-id=\"A-gallery-of-interesting-Jupyter-Notebooks-1.3\"><span class=\"toc-item-num\">1.3&nbsp;&nbsp;</span>A gallery of interesting Jupyter Notebooks</a></span></li><li><span><a href=\"#魔术命令\" data-toc-modified-id=\"魔术命令-1.4\"><span class=\"toc-item-num\">1.4&nbsp;&nbsp;</span>魔术命令</a></span><ul class=\"toc-item\"><li><span><a href=\"#test-link\" data-toc-modified-id=\"test-link-1.4.1\"><span class=\"toc-item-num\">1.4.1&nbsp;&nbsp;</span><a href=\"#testlink\">test link</a></a></span></li></ul></li><li><span><a href=\"#蓝色警示框：信息提示\" data-toc-modified-id=\"蓝色警示框：信息提示-1.5\"><span class=\"toc-item-num\">1.5&nbsp;&nbsp;</span>蓝色警示框：信息提示</a></span></li><li><span><a href=\"#黄色警示框：警告\" data-toc-modified-id=\"黄色警示框：警告-1.6\"><span class=\"toc-item-num\">1.6&nbsp;&nbsp;</span>黄色警示框：警告</a></span></li><li><span><a href=\"#绿色警示框：成功\" data-toc-modified-id=\"绿色警示框：成功-1.7\"><span class=\"toc-item-num\">1.7&nbsp;&nbsp;</span>绿色警示框：成功</a></span></li><li><span><a href=\"#红色警示框：高危\" data-toc-modified-id=\"红色警示框：高危-1.8\"><span class=\"toc-item-num\">1.8&nbsp;&nbsp;</span>红色警示框：高危</a></span></li></ul></li></ul></div>"
   ]
  },
  {
   "cell_type": "markdown",
   "metadata": {},
   "source": [
    "# 00-Jupyter Notebooks 使用指南\n",
    "> 2019-08-05 Stone_Hou @ 火星村"
   ]
  },
  {
   "cell_type": "markdown",
   "metadata": {},
   "source": [
    "## 键盘快捷键——节省时间且更有生产力！\n",
    "\n",
    "快捷方式是 Jupyter Notebooks 最大的优势之一。当你想运行任意代码块时，只需要按 Ctrl+Enter 就行了。Jupyter Notebooks 提供了很多键盘快捷键，可以帮助我们节省很多时间。\n",
    "\n",
    "下面是我们手动选择的一些对你的上手会有莫大帮助的快捷方式。我强烈建议你在阅读本文时逐一尝试一下。未来你会离不开它们的！\n",
    "\n",
    "Jupyter Notebooks 提供了两种不同的键盘输入模式——命令模式和编辑模式。你可以分别使用 Esc 和 Enter 在命令模式和编辑模式之间跳跃。现在就试试看吧！\n",
    "\n",
    "**命令模式** 是将键盘和笔记本层面的命令绑定起来，并且由带有蓝色左边距的灰色单元边框表示。\n",
    "\n",
    "进入命令模式之后（此时你没有活跃单元），你可以尝试以下快捷键：\n",
    "\n",
    "- A 会在活跃单元之上插入一个新的单元，insert cell above\n",
    "- B 会在活跃单元之下插入一个新单元。 insert cell below\n",
    "- 连续按两次 D，可以删除一个单元。\n",
    "- 撤销被删除的单元，按 Z。\n",
    "- Y 会将当前活跃的单元变成一个代码单元。change cell to code\n",
    "- 按住 Shift +上或下箭头可选择多个单元。\n",
    "- 在多选模式时，按住 Shift + M 可合并你的选择。\n",
    "- 按 F 会弹出「查找和替换」菜单。\n",
    "- 可以通过在命令前追加!来添加 Bash 命令或脚本的输出。\n",
    "\n",
    "**编辑模式** 让你可以在活动单元中输入文本（或代码），用绿色单元边框表示。\n",
    "处于编辑模式时（在命令模式时按 Enter 会进入编辑模式），你会发现下列快捷键很有用：\n",
    "\n",
    "- Ctrl + Home 到达单元起始位置。\n",
    "- Ctrl + S 保存进度。\n",
    "- Ctrl + Enter 会运行你的整个单元块。\n",
    "- Alt + Enter 不止会运行你的单元块，还会在下面添加一个新单元。\n",
    "- Ctrl + Shift + F 打开命令面板。\n",
    "- Ctrl + / 注释代码\n",
    "\n",
    "要查看键盘快捷键完整列表，可在命令模式按「H」或进入「Help > Keyboard Shortcuts」。你一定要经常看这些快捷键，因为常会添加新的。\n",
    "\n",
    "\n",
    "## 下拉菜单中 4 个代码块选项\n",
    "- Code——不言而喻，就是写代码的地方。\n",
    "- Markdown——这是写文本的地方。你可以在运行一段代码后添加你的结论、添加注释等。\n",
    "- Raw NBConvert——这是一个可将你的笔记本转换成另一种格式（比如 HTML）的命令行工具。\n",
    "- Heading——这是你添加标题的地方，这样你可以将不同的章节分开，让你的笔记本看起来更整齐更清晰。这个现在已经被转换成 Markdown 选项本身了。输入一个「##」之后，后面输入的内容就会被视为一个标题。"
   ]
  },
  {
   "cell_type": "code",
   "execution_count": 1,
   "metadata": {},
   "outputs": [
    {
     "name": "stdout",
     "output_type": "stream",
     "text": [
      "Wall time: 0 ns\n"
     ]
    }
   ],
   "source": [
    "%time a = range(10)"
   ]
  },
  {
   "cell_type": "code",
   "execution_count": 3,
   "metadata": {},
   "outputs": [
    {
     "name": "stdout",
     "output_type": "stream",
     "text": [
      "273 ns ± 4.18 ns per loop (mean ± std. dev. of 7 runs, 1000000 loops each)\n"
     ]
    }
   ],
   "source": [
    "% % timeit a = range(10)\n",
    "min(a)"
   ]
  },
  {
   "cell_type": "code",
   "execution_count": 6,
   "metadata": {},
   "outputs": [
    {
     "name": "stdout",
     "output_type": "stream",
     "text": [
      "Package                            Version  \n",
      "---------------------------------- ---------\n",
      "alabaster                          0.7.11   \n",
      "anaconda-client                    1.7.2    \n",
      "anaconda-navigator                 1.9.6    \n",
      "anaconda-project                   0.8.2    \n",
      "appdirs                            1.4.3    \n",
      "asn1crypto                         0.24.0   \n",
      "astroid                            2.0.4    \n",
      "astropy                            3.0.4    \n",
      "atomicwrites                       1.2.1    \n",
      "attrs                              18.2.0   \n",
      "Automat                            0.7.0    \n",
      "Babel                              2.6.0    \n",
      "backcall                           0.1.0    \n",
      "backports.shutil-get-terminal-size 1.0.0    \n",
      "beautifulsoup4                     4.6.3    \n",
      "bitarray                           0.8.3    \n",
      "bkcharts                           0.2      \n",
      "blaze                              0.11.3   \n",
      "bleach                             2.1.4    \n",
      "bokeh                              0.13.0   \n",
      "boto                               2.49.0   \n",
      "Bottleneck                         1.2.1    \n",
      "certifi                            2019.6.16\n",
      "cffi                               1.11.5   \n",
      "chardet                            3.0.4    \n",
      "click                              6.7      \n",
      "cloudpickle                        0.5.5    \n",
      "clyent                             1.2.2    \n",
      "colorama                           0.3.9    \n",
      "comtypes                           1.1.7    \n",
      "conda                              4.7.10   \n",
      "conda-build                        3.15.1   \n",
      "conda-package-handling             1.3.11   \n",
      "constantly                         15.1.0   \n",
      "contextlib2                        0.5.5    \n",
      "cryptography                       2.7      \n",
      "cycler                             0.10.0   \n",
      "Cython                             0.28.5   \n",
      "cytoolz                            0.9.0.1  \n",
      "dask                               0.19.1   \n",
      "datashape                          0.5.4    \n",
      "decorator                          4.3.0    \n",
      "defusedxml                         0.5.0    \n",
      "distributed                        1.23.1   \n",
      "docutils                           0.14     \n",
      "entrypoints                        0.2.3    \n",
      "et-xmlfile                         1.0.1    \n",
      "fastcache                          1.0.2    \n",
      "filelock                           3.0.8    \n",
      "Flask                              1.0.2    \n",
      "Flask-Cors                         3.0.6    \n",
      "gevent                             1.3.6    \n",
      "glob2                              0.6      \n",
      "greenlet                           0.4.15   \n",
      "h5py                               2.8.0    \n",
      "heapdict                           1.0.0    \n",
      "html5lib                           1.0.1    \n",
      "hyperlink                          18.0.0   \n",
      "idna                               2.7      \n",
      "imageio                            2.4.1    \n",
      "imagesize                          1.1.0    \n",
      "incremental                        17.5.0   \n",
      "ipykernel                          4.10.0   \n",
      "ipython                            6.5.0    \n",
      "ipython-genutils                   0.2.0    \n",
      "ipywidgets                         7.4.1    \n",
      "isort                              4.3.4    \n",
      "itsdangerous                       0.24     \n",
      "jdcal                              1.4      \n",
      "jedi                               0.12.1   \n",
      "Jinja2                             2.10     \n",
      "jsonschema                         2.6.0    \n",
      "jupyter                            1.0.0    \n",
      "jupyter-client                     5.2.3    \n",
      "jupyter-console                    5.2.0    \n",
      "jupyter-contrib-core               0.3.3    \n",
      "jupyter-contrib-nbextensions       0.5.1    \n",
      "jupyter-core                       4.4.0    \n",
      "jupyter-highlight-selected-word    0.2.0    \n",
      "jupyter-latex-envs                 1.4.6    \n",
      "jupyter-nbextensions-configurator  0.4.1    \n",
      "jupyterlab                         0.34.9   \n",
      "jupyterlab-launcher                0.13.1   \n",
      "jupyterthemes                      0.20.0   \n",
      "keyring                            13.2.1   \n",
      "kiwisolver                         1.0.1    \n",
      "lazy-object-proxy                  1.3.1    \n",
      "lesscpy                            0.13.0   \n",
      "libarchive-c                       2.8      \n",
      "llvmlite                           0.24.0   \n",
      "locket                             0.2.0    \n",
      "lxml                               4.2.5    \n",
      "MarkupSafe                         1.0      \n",
      "matplotlib                         2.2.3    \n",
      "mccabe                             0.6.1    \n",
      "menuinst                           1.4.14   \n",
      "mistune                            0.8.3    \n",
      "mkl-fft                            1.0.4    \n",
      "mkl-random                         1.0.1    \n",
      "more-itertools                     4.3.0    \n",
      "mpmath                             1.0.0    \n",
      "msgpack                            0.5.6    \n",
      "multipledispatch                   0.6.0    \n",
      "navigator-updater                  0.2.1    \n",
      "nbconvert                          5.4.0    \n",
      "nbformat                           4.4.0    \n",
      "networkx                           2.1      \n",
      "nltk                               3.3      \n",
      "nose                               1.3.7    \n",
      "notebook                           5.6.0    \n",
      "numba                              0.39.0   \n",
      "numexpr                            2.6.8    \n",
      "numpy                              1.15.1   \n",
      "numpydoc                           0.8.0    \n",
      "odo                                0.5.1    \n",
      "olefile                            0.46     \n",
      "opencv-python                      4.0.0.21 \n",
      "openpyxl                           2.5.6    \n",
      "packaging                          17.1     \n",
      "pandas                             0.23.4   \n",
      "pandocfilters                      1.4.2    \n",
      "parso                              0.3.1    \n",
      "partd                              0.3.8    \n",
      "path.py                            11.1.0   \n",
      "pathlib2                           2.3.2    \n",
      "patsy                              0.5.0    \n",
      "pep8                               1.7.1    \n",
      "pickleshare                        0.7.4    \n",
      "Pillow                             5.2.0    \n",
      "pip                                19.2.1   \n",
      "pkginfo                            1.4.2    \n",
      "pluggy                             0.7.1    \n",
      "ply                                3.11     \n",
      "prometheus-client                  0.3.1    \n",
      "prompt-toolkit                     1.0.15   \n",
      "psutil                             5.4.7    \n",
      "py                                 1.6.0    \n",
      "pyasn1                             0.4.4    \n",
      "pyasn1-modules                     0.2.2    \n",
      "pycodestyle                        2.4.0    \n",
      "pycosat                            0.6.3    \n",
      "pycparser                          2.18     \n",
      "pycrypto                           2.6.1    \n",
      "pycurl                             7.43.0.3 \n",
      "pyflakes                           2.0.0    \n",
      "Pygments                           2.2.0    \n",
      "pylint                             2.1.1    \n",
      "pyodbc                             4.0.24   \n",
      "pyOpenSSL                          18.0.0   \n",
      "pyparsing                          2.2.0    \n",
      "PySocks                            1.6.8    \n",
      "pytest                             3.8.0    \n",
      "pytest-arraydiff                   0.2      \n",
      "pytest-astropy                     0.4.0    \n",
      "pytest-doctestplus                 0.1.3    \n",
      "pytest-openfiles                   0.3.0    \n",
      "pytest-remotedata                  0.3.0    \n",
      "python-dateutil                    2.7.3    \n",
      "pytz                               2018.5   \n",
      "PyWavelets                         1.0.0    \n",
      "pywin32                            223      \n",
      "pywinpty                           0.5.4    \n",
      "PyYAML                             3.13     \n",
      "pyzmq                              17.1.2   \n",
      "QtAwesome                          0.4.4    \n",
      "qtconsole                          4.4.1    \n",
      "QtPy                               1.5.0    \n",
      "requests                           2.19.1   \n",
      "rope                               0.11.0   \n",
      "ruamel-yaml                        0.15.46  \n",
      "scikit-image                       0.14.0   \n",
      "scikit-learn                       0.19.2   \n",
      "scipy                              1.1.0    \n",
      "seaborn                            0.9.0    \n",
      "Send2Trash                         1.5.0    \n",
      "service-identity                   17.0.0   \n",
      "setuptools                         40.2.0   \n",
      "simplegeneric                      0.8.1    \n",
      "singledispatch                     3.4.0.3  \n",
      "six                                1.11.0   \n",
      "snowballstemmer                    1.2.1    \n",
      "sortedcollections                  1.0.1    \n",
      "sortedcontainers                   2.0.5    \n",
      "Sphinx                             1.7.9    \n",
      "sphinxcontrib-websupport           1.1.0    \n",
      "spyder                             3.3.1    \n",
      "spyder-kernels                     0.2.6    \n",
      "SQLAlchemy                         1.2.11   \n",
      "statsmodels                        0.9.0    \n",
      "sympy                              1.1.1    \n",
      "tables                             3.4.4    \n",
      "tblib                              1.3.2    \n",
      "terminado                          0.8.1    \n",
      "testpath                           0.3.1    \n",
      "toolz                              0.9.0    \n",
      "tornado                            5.1      \n",
      "tqdm                               4.26.0   \n",
      "traitlets                          4.3.2    \n",
      "Twisted                            18.7.0   \n",
      "unicodecsv                         0.14.1   \n",
      "urllib3                            1.23     \n",
      "wcwidth                            0.1.7    \n",
      "webencodings                       0.5.1    \n",
      "Werkzeug                           0.14.1   \n",
      "wheel                              0.31.1   \n",
      "widgetsnbextension                 3.4.1    \n",
      "win-inet-pton                      1.0.1    \n",
      "win-unicode-console                0.5      \n",
      "wincertstore                       0.2      \n",
      "wrapt                              1.10.11  \n",
      "xlrd                               1.1.0    \n",
      "XlsxWriter                         1.1.0    \n",
      "xlwings                            0.11.8   \n",
      "xlwt                               1.3.0    \n",
      "zict                               0.1.3    \n",
      "zope.interface                     4.5.0    \n"
     ]
    }
   ],
   "source": [
    "# ! Bash Script Test\n",
    "!pip list"
   ]
  },
  {
   "cell_type": "markdown",
   "metadata": {},
   "source": [
    "## A gallery of interesting Jupyter Notebooks\n",
    "https://github.com/jupyter/jupyter/wiki/A-gallery-of-interesting-Jupyter-Notebooks"
   ]
  },
  {
   "cell_type": "markdown",
   "metadata": {},
   "source": [
    "## 魔术命令\n",
    "\n",
    "你可以通过在代码单元内附加 % 或 %% 符号来列出魔术命令。\n",
    "例如，%lsmagic 将输出所有可用于 Jupyter notebooks 的魔法命令。\n",
    "\n",
    "这些魔术命令的例子包括 \n",
    "%pwd——它输出当前工作目录（例如 /Users/YourName）\n",
    "%ls——它列出当前工作目录中的所有文件和子目录。\n",
    "另一个神奇命令显示从笔记本中的 matplotlib 生成的图表。\n",
    "%%html 将该单元格中的任何内容呈现为 HTML，这对嵌入视频和链接很有用，还有 JavaScript 和 Bash 的单元魔术命令。\n",
    "\n",
    "<a id = \"testlink\">testlink</a>"
   ]
  },
  {
   "cell_type": "code",
   "execution_count": 16,
   "metadata": {},
   "outputs": [
    {
     "name": "stdout",
     "output_type": "stream",
     "text": [
      " 驱动器 F 中的卷是 数据\n",
      " 卷的序列号是 EE95-012B\n",
      "\n",
      " F:\\Github\\Python\\01_Notebook 的目录\n",
      "\n",
      "2019/08/07  07:59    <DIR>          .\n",
      "2019/08/07  07:59    <DIR>          ..\n",
      "2019/08/05  09:08    <DIR>          .ipynb_checkpoints\n",
      "2019/08/07  07:59            26,422 00-Jupyter Notebooks 使用指南.ipynb\n",
      "2018/11/27  23:07             5,855 10款必备效率工具.md\n",
      "2019/08/03  21:57    <DIR>          Crazy_Python_Notes\n",
      "2019/08/04  21:03            40,241 Jupyter_NoteBook.ipynb\n",
      "2019/07/29  22:48            29,712 jupyter_notebook_config.py\n",
      "2019/08/05  09:59             5,891 修改Anaconda中Jupyter Notebook默认工作路径的详细图文教程Win10.txt\n",
      "               5 个文件        108,121 字节\n",
      "               4 个目录 88,126,218,240 可用字节\n"
     ]
    },
    {
     "data": {
      "application/json": {
       "cell": {
        "!": "OSMagics",
        "HTML": "Other",
        "SVG": "Other",
        "bash": "Other",
        "capture": "ExecutionMagics",
        "cmd": "Other",
        "debug": "ExecutionMagics",
        "file": "Other",
        "html": "DisplayMagics",
        "javascript": "DisplayMagics",
        "js": "DisplayMagics",
        "latex": "DisplayMagics",
        "markdown": "DisplayMagics",
        "perl": "Other",
        "prun": "ExecutionMagics",
        "pypy": "Other",
        "python": "Other",
        "python2": "Other",
        "python3": "Other",
        "ruby": "Other",
        "script": "ScriptMagics",
        "sh": "Other",
        "svg": "DisplayMagics",
        "sx": "OSMagics",
        "system": "OSMagics",
        "time": "ExecutionMagics",
        "timeit": "ExecutionMagics",
        "writefile": "OSMagics"
       },
       "line": {
        "alias": "OSMagics",
        "alias_magic": "BasicMagics",
        "autocall": "AutoMagics",
        "automagic": "AutoMagics",
        "autosave": "KernelMagics",
        "bookmark": "OSMagics",
        "cd": "OSMagics",
        "clear": "KernelMagics",
        "cls": "KernelMagics",
        "colors": "BasicMagics",
        "config": "ConfigMagics",
        "connect_info": "KernelMagics",
        "copy": "Other",
        "ddir": "Other",
        "debug": "ExecutionMagics",
        "dhist": "OSMagics",
        "dirs": "OSMagics",
        "doctest_mode": "BasicMagics",
        "echo": "Other",
        "ed": "Other",
        "edit": "KernelMagics",
        "env": "OSMagics",
        "gui": "BasicMagics",
        "hist": "Other",
        "history": "HistoryMagics",
        "killbgscripts": "ScriptMagics",
        "ldir": "Other",
        "less": "KernelMagics",
        "load": "CodeMagics",
        "load_ext": "ExtensionMagics",
        "loadpy": "CodeMagics",
        "logoff": "LoggingMagics",
        "logon": "LoggingMagics",
        "logstart": "LoggingMagics",
        "logstate": "LoggingMagics",
        "logstop": "LoggingMagics",
        "ls": "Other",
        "lsmagic": "BasicMagics",
        "macro": "ExecutionMagics",
        "magic": "BasicMagics",
        "matplotlib": "PylabMagics",
        "mkdir": "Other",
        "more": "KernelMagics",
        "notebook": "BasicMagics",
        "page": "BasicMagics",
        "pastebin": "CodeMagics",
        "pdb": "ExecutionMagics",
        "pdef": "NamespaceMagics",
        "pdoc": "NamespaceMagics",
        "pfile": "NamespaceMagics",
        "pinfo": "NamespaceMagics",
        "pinfo2": "NamespaceMagics",
        "pip": "BasicMagics",
        "popd": "OSMagics",
        "pprint": "BasicMagics",
        "precision": "BasicMagics",
        "profile": "BasicMagics",
        "prun": "ExecutionMagics",
        "psearch": "NamespaceMagics",
        "psource": "NamespaceMagics",
        "pushd": "OSMagics",
        "pwd": "OSMagics",
        "pycat": "OSMagics",
        "pylab": "PylabMagics",
        "qtconsole": "KernelMagics",
        "quickref": "BasicMagics",
        "recall": "HistoryMagics",
        "rehashx": "OSMagics",
        "reload_ext": "ExtensionMagics",
        "ren": "Other",
        "rep": "Other",
        "rerun": "HistoryMagics",
        "reset": "NamespaceMagics",
        "reset_selective": "NamespaceMagics",
        "rmdir": "Other",
        "run": "ExecutionMagics",
        "save": "CodeMagics",
        "sc": "OSMagics",
        "set_env": "OSMagics",
        "store": "StoreMagics",
        "sx": "OSMagics",
        "system": "OSMagics",
        "tb": "ExecutionMagics",
        "time": "ExecutionMagics",
        "timeit": "ExecutionMagics",
        "unalias": "OSMagics",
        "unload_ext": "ExtensionMagics",
        "who": "NamespaceMagics",
        "who_ls": "NamespaceMagics",
        "whos": "NamespaceMagics",
        "xdel": "NamespaceMagics",
        "xmode": "BasicMagics"
       }
      },
      "text/plain": [
       "Available line magics:\n",
       "%alias  %alias_magic  %autocall  %automagic  %autosave  %bookmark  %cd  %clear  %cls  %colors  %config  %connect_info  %copy  %ddir  %debug  %dhist  %dirs  %doctest_mode  %echo  %ed  %edit  %env  %gui  %hist  %history  %killbgscripts  %ldir  %less  %load  %load_ext  %loadpy  %logoff  %logon  %logstart  %logstate  %logstop  %ls  %lsmagic  %macro  %magic  %matplotlib  %mkdir  %more  %notebook  %page  %pastebin  %pdb  %pdef  %pdoc  %pfile  %pinfo  %pinfo2  %popd  %pprint  %precision  %profile  %prun  %psearch  %psource  %pushd  %pwd  %pycat  %pylab  %qtconsole  %quickref  %recall  %rehashx  %reload_ext  %ren  %rep  %rerun  %reset  %reset_selective  %rmdir  %run  %save  %sc  %set_env  %store  %sx  %system  %tb  %time  %timeit  %unalias  %unload_ext  %who  %who_ls  %whos  %xdel  %xmode\n",
       "\n",
       "Available cell magics:\n",
       "%%!  %%HTML  %%SVG  %%bash  %%capture  %%cmd  %%debug  %%file  %%html  %%javascript  %%js  %%latex  %%markdown  %%perl  %%prun  %%pypy  %%python  %%python2  %%python3  %%ruby  %%script  %%sh  %%svg  %%sx  %%system  %%time  %%timeit  %%writefile\n",
       "\n",
       "Automagic is ON, % prefix IS NOT needed for line magics."
      ]
     },
     "execution_count": 16,
     "metadata": {},
     "output_type": "execute_result"
    }
   ],
   "source": [
    "# 魔术命令\n",
    "%ls\n",
    "%lsmagic"
   ]
  },
  {
   "cell_type": "code",
   "execution_count": 1,
   "metadata": {},
   "outputs": [
    {
     "name": "stderr",
     "output_type": "stream",
     "text": [
      "UsageError: %autosave requires an integer, got ''\n"
     ]
    }
   ],
   "source": [
    "# 魔术命令\n",
    "%pwd\n",
    "\n",
    "%autosave"
   ]
  },
  {
   "cell_type": "code",
   "execution_count": 7,
   "metadata": {},
   "outputs": [
    {
     "ename": "ModuleNotFoundError",
     "evalue": "No module named 'caffe'",
     "output_type": "error",
     "traceback": [
      "\u001b[1;31m---------------------------------------------------------------------------\u001b[0m",
      "\u001b[1;31mModuleNotFoundError\u001b[0m                       Traceback (most recent call last)",
      "\u001b[1;32m<ipython-input-7-3c8be744d83f>\u001b[0m in \u001b[0;36m<module>\u001b[1;34m()\u001b[0m\n\u001b[0;32m      1\u001b[0m \u001b[1;31m# %load test.py\u001b[0m\u001b[1;33m\u001b[0m\u001b[1;33m\u001b[0m\u001b[0m\n\u001b[1;32m----> 2\u001b[1;33m \u001b[1;32mimport\u001b[0m \u001b[0mcaffe\u001b[0m\u001b[1;33m\u001b[0m\u001b[0m\n\u001b[0m\u001b[0;32m      3\u001b[0m \u001b[1;33m\u001b[0m\u001b[0m\n\u001b[0;32m      4\u001b[0m \u001b[0mSolverName\u001b[0m \u001b[1;33m=\u001b[0m\u001b[1;34m\"/root/workspace\"\u001b[0m\u001b[1;33m\u001b[0m\u001b[0m\n\u001b[0;32m      5\u001b[0m \u001b[1;33m\u001b[0m\u001b[0m\n",
      "\u001b[1;31mModuleNotFoundError\u001b[0m: No module named 'caffe'"
     ]
    }
   ],
   "source": [
    "# %load test.py\n",
    "import caffe\n",
    "\n",
    "SolverName = \"/root/workspace\"\n",
    "\n",
    "sovler = caffe.AdamSolver(SolverName)"
   ]
  },
  {
   "cell_type": "code",
   "execution_count": 6,
   "metadata": {},
   "outputs": [
    {
     "name": "stdout",
     "output_type": "stream",
     "text": [
      "Python 3.7.0\n"
     ]
    }
   ],
   "source": [
    "!python - -version"
   ]
  },
  {
   "cell_type": "code",
   "execution_count": 23,
   "metadata": {},
   "outputs": [
    {
     "name": "stdout",
     "output_type": "stream",
     "text": [
      "有关某个命令的详细信息，请键入 HELP 命令名\n",
      "ASSOC          显示或修改文件扩展名关联。\n",
      "ATTRIB         显示或更改文件属性。\n",
      "BREAK          设置或清除扩展式 CTRL+C 检查。\n",
      "BCDEDIT        设置启动数据库中的属性以控制启动加载。\n",
      "CACLS          显示或修改文件的访问控制列表(ACL)。\n",
      "CALL           从另一个批处理程序调用这一个。\n",
      "CD             显示当前目录的名称或将其更改。\n",
      "CHCP           显示或设置活动代码页数。\n",
      "CHDIR          显示当前目录的名称或将其更改。\n",
      "CHKDSK         检查磁盘并显示状态报告。\n",
      "CHKNTFS        显示或修改启动时间磁盘检查。\n",
      "CLS            清除屏幕。\n",
      "CMD            打开另一个 Windows 命令解释程序窗口。\n",
      "COLOR          设置默认控制台前景和背景颜色。\n",
      "COMP           比较两个或两套文件的内容。\n",
      "COMPACT        显示或更改 NTFS 分区上文件的压缩。\n",
      "CONVERT        将 FAT 卷转换成 NTFS。你不能转换\n",
      "               当前驱动器。\n",
      "COPY           将至少一个文件复制到另一个位置。\n",
      "DATE           显示或设置日期。\n",
      "DEL            删除至少一个文件。\n",
      "DIR            显示一个目录中的文件和子目录。\n",
      "DISKPART       显示或配置磁盘分区属性。\n",
      "DOSKEY         编辑命令行、撤回 Windows 命令并\n",
      "               创建宏。\n",
      "DRIVERQUERY    显示当前设备驱动程序状态和属性。\n",
      "ECHO           显示消息，或将命令回显打开或关闭。\n",
      "ENDLOCAL       结束批文件中环境更改的本地化。\n",
      "ERASE          删除一个或多个文件。\n",
      "EXIT           退出 CMD.EXE 程序(命令解释程序)。\n",
      "FC             比较两个文件或两个文件集并显示\n",
      "               它们之间的不同。\n",
      "FIND           在一个或多个文件中搜索一个文本字符串。\n",
      "FINDSTR        在多个文件中搜索字符串。\n",
      "FOR            为一组文件中的每个文件运行一个指定的命令。\n",
      "FORMAT         格式化磁盘，以便用于 Windows。\n",
      "FSUTIL         显示或配置文件系统属性。\n",
      "FTYPE          显示或修改在文件扩展名关联中使用的文件\n",
      "               类型。\n",
      "GOTO           将 Windows 命令解释程序定向到批处理程序\n",
      "               中某个带标签的行。\n",
      "GPRESULT       显示计算机或用户的组策略信息。\n",
      "GRAFTABL       使 Windows 在图形模式下显示扩展\n",
      "               字符集。\n",
      "HELP           提供 Windows 命令的帮助信息。\n",
      "ICACLS         显示、修改、备份或还原文件和\n",
      "               目录的 ACL。\n",
      "IF             在批处理程序中执行有条件的处理操作。\n",
      "LABEL          创建、更改或删除磁盘的卷标。\n",
      "MD             创建一个目录。\n",
      "MKDIR          创建一个目录。\n",
      "MKLINK         创建符号链接和硬链接\n",
      "MODE           配置系统设备。\n",
      "MORE           逐屏显示输出。\n",
      "MOVE           将一个或多个文件从一个目录移动到另一个\n",
      "               目录。\n",
      "OPENFILES      显示远程用户为了文件共享而打开的文件。\n",
      "PATH           为可执行文件显示或设置搜索路径。\n",
      "PAUSE          暂停批处理文件的处理并显示消息。\n",
      "POPD           还原通过 PUSHD 保存的当前目录的上一个\n",
      "               值。\n",
      "PRINT          打印一个文本文件。\n",
      "PROMPT         更改 Windows 命令提示。\n",
      "PUSHD          保存当前目录，然后对其进行更改。\n",
      "RD             删除目录。\n",
      "RECOVER        从损坏的或有缺陷的磁盘中恢复可读信息。\n",
      "REM            记录批处理文件或 CONFIG.SYS 中的注释(批注)。\n",
      "REN            重命名文件。\n",
      "RENAME         重命名文件。\n",
      "REPLACE        替换文件。\n",
      "RMDIR          删除目录。\n",
      "ROBOCOPY       复制文件和目录树的高级实用工具\n",
      "SET            显示、设置或删除 Windows 环境变量。\n",
      "SETLOCAL       开始本地化批处理文件中的环境更改。\n",
      "SC             显示或配置服务(后台进程)。\n",
      "SCHTASKS       安排在一台计算机上运行命令和程序。\n",
      "SHIFT          调整批处理文件中可替换参数的位置。\n",
      "SHUTDOWN       允许通过本地或远程方式正确关闭计算机。\n",
      "SORT           对输入排序。\n",
      "START          启动单独的窗口以运行指定的程序或命令。\n",
      "SUBST          将路径与驱动器号关联。\n",
      "SYSTEMINFO     显示计算机的特定属性和配置。\n",
      "TASKLIST       显示包括服务在内的所有当前运行的任务。\n",
      "TASKKILL       中止或停止正在运行的进程或应用程序。\n",
      "TIME           显示或设置系统时间。\n",
      "TITLE          设置 CMD.EXE 会话的窗口标题。\n",
      "TREE           以图形方式显示驱动程序或路径的目录\n",
      "               结构。\n",
      "TYPE           显示文本文件的内容。\n",
      "VER            显示 Windows 的版本。\n",
      "VERIFY         告诉 Windows 是否进行验证，以确保文件\n",
      "               正确写入磁盘。\n",
      "VOL            显示磁盘卷标和序列号。\n",
      "XCOPY          复制文件和目录树。\n",
      "WMIC           在交互式命令 shell 中显示 WMI 信息。\n",
      "\n",
      "有关工具的详细信息，请参阅联机帮助中的命令行参考。\n"
     ]
    }
   ],
   "source": [
    "!help"
   ]
  },
  {
   "cell_type": "code",
   "execution_count": 10,
   "metadata": {},
   "outputs": [
    {
     "name": "stderr",
     "output_type": "stream",
     "text": [
      "Traceback (most recent call last):\n",
      "  File \"test.py\", line 1, in <module>\n",
      "    import caffe\n",
      "ModuleNotFoundError: No module named 'caffe'\n"
     ]
    }
   ],
   "source": [
    "!python test.py"
   ]
  },
  {
   "cell_type": "code",
   "execution_count": 9,
   "metadata": {},
   "outputs": [
    {
     "ename": "ModuleNotFoundError",
     "evalue": "No module named 'caffe'",
     "output_type": "error",
     "traceback": [
      "\u001b[1;31m---------------------------------------------------------------------------\u001b[0m",
      "\u001b[1;31mModuleNotFoundError\u001b[0m                       Traceback (most recent call last)",
      "\u001b[1;32mF:\\Github\\Python\\01_Notebook\\test.py\u001b[0m in \u001b[0;36m<module>\u001b[1;34m()\u001b[0m\n\u001b[1;32m----> 1\u001b[1;33m \u001b[1;32mimport\u001b[0m \u001b[0mcaffe\u001b[0m\u001b[1;33m\u001b[0m\u001b[0m\n\u001b[0m\u001b[0;32m      2\u001b[0m \u001b[1;33m\u001b[0m\u001b[0m\n\u001b[0;32m      3\u001b[0m \u001b[0mSolverName\u001b[0m \u001b[1;33m=\u001b[0m\u001b[1;34m\"/root/workspace\"\u001b[0m\u001b[1;33m\u001b[0m\u001b[0m\n\u001b[0;32m      4\u001b[0m \u001b[1;33m\u001b[0m\u001b[0m\n\u001b[0;32m      5\u001b[0m \u001b[0msovler\u001b[0m \u001b[1;33m=\u001b[0m \u001b[0mcaffe\u001b[0m\u001b[1;33m.\u001b[0m\u001b[0mAdamSolver\u001b[0m\u001b[1;33m(\u001b[0m\u001b[0mSolverName\u001b[0m\u001b[1;33m)\u001b[0m\u001b[1;33m\u001b[0m\u001b[0m\n",
      "\u001b[1;31mModuleNotFoundError\u001b[0m: No module named 'caffe'"
     ]
    }
   ],
   "source": [
    "%run test.py"
   ]
  },
  {
   "cell_type": "code",
   "execution_count": null,
   "metadata": {},
   "outputs": [],
   "source": []
  },
  {
   "cell_type": "code",
   "execution_count": null,
   "metadata": {},
   "outputs": [],
   "source": []
  },
  {
   "cell_type": "markdown",
   "metadata": {},
   "source": [
    "### [test link](#testlink)"
   ]
  },
  {
   "cell_type": "markdown",
   "metadata": {},
   "source": [
    "## 蓝色警示框：信息提示"
   ]
  },
  {
   "cell_type": "markdown",
   "metadata": {},
   "source": [
    "<div class=\"alert alert-block alert-info\"> \n",
    "<b>Tip:</b> Use blue boxes (alert-info) for tips and notes.  \n",
    "If it’s a note, you don’t have to include the word “Note”.\n",
    " </div>"
   ]
  },
  {
   "cell_type": "markdown",
   "metadata": {},
   "source": [
    "## 黄色警示框：警告\n"
   ]
  },
  {
   "cell_type": "markdown",
   "metadata": {},
   "source": [
    "<div class=\"alert alert-block alert-warning\"> \n",
    "<b>Example:</b> Yellow Boxes are generally used to include additional examples or mathematical formulas.\n",
    " </div>"
   ]
  },
  {
   "cell_type": "markdown",
   "metadata": {},
   "source": [
    "## 绿色警示框：成功"
   ]
  },
  {
   "cell_type": "markdown",
   "metadata": {},
   "source": [
    "<div class=\"alert alert-block alert-success\"> \n",
    "Use green box>\n",
    " </div>"
   ]
  },
  {
   "cell_type": "markdown",
   "metadata": {},
   "source": [
    "## 红色警示框：高危"
   ]
  },
  {
   "cell_type": "markdown",
   "metadata": {},
   "source": [
    "<div class=\"alert alert-block alert-danger\">\n",
    "It is good to avoid red boxes but can be used to alert users to not delete some important part of code etc. \n",
    "</div>"
   ]
  },
  {
   "cell_type": "code",
   "execution_count": null,
   "metadata": {},
   "outputs": [],
   "source": []
  }
 ],
 "metadata": {
  "kernelspec": {
   "display_name": "Python 3",
   "language": "python",
   "name": "python3"
  },
  "language_info": {
   "codemirror_mode": {
    "name": "ipython",
    "version": 3
   },
   "file_extension": ".py",
   "mimetype": "text/x-python",
   "name": "python",
   "nbconvert_exporter": "python",
   "pygments_lexer": "ipython3",
   "version": "3.7.8"
  },
  "toc": {
   "base_numbering": 1,
   "nav_menu": {
    "height": "142px",
    "width": "369px"
   },
   "number_sections": true,
   "sideBar": true,
   "skip_h1_title": false,
   "title_cell": "Table of Contents",
   "title_sidebar": "Contents",
   "toc_cell": true,
   "toc_position": {},
   "toc_section_display": true,
   "toc_window_display": false
  }
 },
 "nbformat": 4,
 "nbformat_minor": 2
}
