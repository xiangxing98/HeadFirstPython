{
 "cells": [
  {
   "cell_type": "markdown",
   "metadata": {
    "toc": true
   },
   "source": [
    "<h1>Table of Contents<span class=\"tocSkip\"></span></h1>\n",
    "<div class=\"toc\"><ul class=\"toc-item\"><li><span><a href=\"#Hello-world\" data-toc-modified-id=\"Hello-world-1\"><span class=\"toc-item-num\">1&nbsp;&nbsp;</span>Hello world</a></span><ul class=\"toc-item\"><li><span><a href=\"#test-heading-2\" data-toc-modified-id=\"test-heading-2-1.1\"><span class=\"toc-item-num\">1.1&nbsp;&nbsp;</span>test heading 2</a></span></li></ul></li><li><span><a href=\"#test-number\" data-toc-modified-id=\"test-number-2\"><span class=\"toc-item-num\">2&nbsp;&nbsp;</span>test number</a></span></li><li><span><a href=\"#Crazy-Python-Notes\" data-toc-modified-id=\"Crazy-Python-Notes-3\"><span class=\"toc-item-num\">3&nbsp;&nbsp;</span>Crazy Python Notes</a></span></li><li><span><a href=\"#String\" data-toc-modified-id=\"String-4\"><span class=\"toc-item-num\">4&nbsp;&nbsp;</span>String</a></span><ul class=\"toc-item\"><li><span><a href=\"#String-Join\" data-toc-modified-id=\"String-Join-4.1\"><span class=\"toc-item-num\">4.1&nbsp;&nbsp;</span>String Join</a></span></li><li><span><a href=\"#To-String\" data-toc-modified-id=\"To-String-4.2\"><span class=\"toc-item-num\">4.2&nbsp;&nbsp;</span>To String</a></span></li><li><span><a href=\"#Raw-Str\" data-toc-modified-id=\"Raw-Str-4.3\"><span class=\"toc-item-num\">4.3&nbsp;&nbsp;</span>Raw Str</a></span></li><li><span><a href=\"#Bytes-Test\" data-toc-modified-id=\"Bytes-Test-4.4\"><span class=\"toc-item-num\">4.4&nbsp;&nbsp;</span>Bytes Test</a></span></li><li><span><a href=\"#2.5-Escape-Char\" data-toc-modified-id=\"2.5-Escape-Char-4.5\"><span class=\"toc-item-num\">4.5&nbsp;&nbsp;</span>2.5 Escape Char</a></span></li><li><span><a href=\"#2.6-Format-Test\" data-toc-modified-id=\"2.6-Format-Test-4.6\"><span class=\"toc-item-num\">4.6&nbsp;&nbsp;</span>2.6 Format Test</a></span></li><li><span><a href=\"#2.5-chars_test\" data-toc-modified-id=\"2.5-chars_test-4.7\"><span class=\"toc-item-num\">4.7&nbsp;&nbsp;</span>2.5 chars_test</a></span></li><li><span><a href=\"#python-中os.pardir什么意思\" data-toc-modified-id=\"python-中os.pardir什么意思-4.8\"><span class=\"toc-item-num\">4.8&nbsp;&nbsp;</span>python 中os.pardir什么意思</a></span></li></ul></li></ul></div>"
   ]
  },
  {
   "cell_type": "code",
   "execution_count": 2,
   "metadata": {},
   "outputs": [
    {
     "name": "stdout",
     "output_type": "stream",
     "text": [
      "hello, world hello, stone haha\n"
     ]
    }
   ],
   "source": [
    "print(\"hello, world\",\"hello, stone\", \"haha\")"
   ]
  },
  {
   "cell_type": "markdown",
   "metadata": {},
   "source": [
    "# Hello world"
   ]
  },
  {
   "cell_type": "code",
   "execution_count": 1,
   "metadata": {},
   "outputs": [
    {
     "name": "stdout",
     "output_type": "stream",
     "text": [
      "The Zen of Python, by Tim Peters\n",
      "\n",
      "Beautiful is better than ugly.\n",
      "Explicit is better than implicit.\n",
      "Simple is better than complex.\n",
      "Complex is better than complicated.\n",
      "Flat is better than nested.\n",
      "Sparse is better than dense.\n",
      "Readability counts.\n",
      "Special cases aren't special enough to break the rules.\n",
      "Although practicality beats purity.\n",
      "Errors should never pass silently.\n",
      "Unless explicitly silenced.\n",
      "In the face of ambiguity, refuse the temptation to guess.\n",
      "There should be one-- and preferably only one --obvious way to do it.\n",
      "Although that way may not be obvious at first unless you're Dutch.\n",
      "Now is better than never.\n",
      "Although never is often better than *right* now.\n",
      "If the implementation is hard to explain, it's a bad idea.\n",
      "If the implementation is easy to explain, it may be a good idea.\n",
      "Namespaces are one honking great idea -- let's do more of those!\n"
     ]
    }
   ],
   "source": [
    "# This is an example snippet!\n",
    "# To create your own, add a new snippet block to the\n",
    "# snippets.json file in your jupyter nbextensions directory:\n",
    "# /nbextensions/snippets/snippets.json\n",
    "import this"
   ]
  },
  {
   "cell_type": "code",
   "execution_count": 18,
   "metadata": {
    "scrolled": true
   },
   "outputs": [
    {
     "data": {
      "application/json": {
       "cell": {
        "!": "OSMagics",
        "HTML": "Other",
        "SVG": "Other",
        "bash": "Other",
        "capture": "ExecutionMagics",
        "cmd": "Other",
        "debug": "ExecutionMagics",
        "file": "Other",
        "html": "DisplayMagics",
        "javascript": "DisplayMagics",
        "js": "DisplayMagics",
        "latex": "DisplayMagics",
        "markdown": "DisplayMagics",
        "perl": "Other",
        "prun": "ExecutionMagics",
        "pypy": "Other",
        "python": "Other",
        "python2": "Other",
        "python3": "Other",
        "ruby": "Other",
        "script": "ScriptMagics",
        "sh": "Other",
        "svg": "DisplayMagics",
        "sx": "OSMagics",
        "system": "OSMagics",
        "time": "ExecutionMagics",
        "timeit": "ExecutionMagics",
        "writefile": "OSMagics"
       },
       "line": {
        "alias": "OSMagics",
        "alias_magic": "BasicMagics",
        "autocall": "AutoMagics",
        "automagic": "AutoMagics",
        "autosave": "KernelMagics",
        "bookmark": "OSMagics",
        "cd": "OSMagics",
        "clear": "KernelMagics",
        "cls": "KernelMagics",
        "colors": "BasicMagics",
        "config": "ConfigMagics",
        "connect_info": "KernelMagics",
        "copy": "Other",
        "ddir": "Other",
        "debug": "ExecutionMagics",
        "dhist": "OSMagics",
        "dirs": "OSMagics",
        "doctest_mode": "BasicMagics",
        "echo": "Other",
        "ed": "Other",
        "edit": "KernelMagics",
        "env": "OSMagics",
        "gui": "BasicMagics",
        "hist": "Other",
        "history": "HistoryMagics",
        "killbgscripts": "ScriptMagics",
        "ldir": "Other",
        "less": "KernelMagics",
        "load": "CodeMagics",
        "load_ext": "ExtensionMagics",
        "loadpy": "CodeMagics",
        "logoff": "LoggingMagics",
        "logon": "LoggingMagics",
        "logstart": "LoggingMagics",
        "logstate": "LoggingMagics",
        "logstop": "LoggingMagics",
        "ls": "Other",
        "lsmagic": "BasicMagics",
        "macro": "ExecutionMagics",
        "magic": "BasicMagics",
        "matplotlib": "PylabMagics",
        "mkdir": "Other",
        "more": "KernelMagics",
        "notebook": "BasicMagics",
        "page": "BasicMagics",
        "pastebin": "CodeMagics",
        "pdb": "ExecutionMagics",
        "pdef": "NamespaceMagics",
        "pdoc": "NamespaceMagics",
        "pfile": "NamespaceMagics",
        "pinfo": "NamespaceMagics",
        "pinfo2": "NamespaceMagics",
        "pip": "BasicMagics",
        "popd": "OSMagics",
        "pprint": "BasicMagics",
        "precision": "BasicMagics",
        "profile": "BasicMagics",
        "prun": "ExecutionMagics",
        "psearch": "NamespaceMagics",
        "psource": "NamespaceMagics",
        "pushd": "OSMagics",
        "pwd": "OSMagics",
        "pycat": "OSMagics",
        "pylab": "PylabMagics",
        "qtconsole": "KernelMagics",
        "quickref": "BasicMagics",
        "recall": "HistoryMagics",
        "rehashx": "OSMagics",
        "reload_ext": "ExtensionMagics",
        "ren": "Other",
        "rep": "Other",
        "rerun": "HistoryMagics",
        "reset": "NamespaceMagics",
        "reset_selective": "NamespaceMagics",
        "rmdir": "Other",
        "run": "ExecutionMagics",
        "save": "CodeMagics",
        "sc": "OSMagics",
        "set_env": "OSMagics",
        "store": "StoreMagics",
        "sx": "OSMagics",
        "system": "OSMagics",
        "tb": "ExecutionMagics",
        "time": "ExecutionMagics",
        "timeit": "ExecutionMagics",
        "unalias": "OSMagics",
        "unload_ext": "ExtensionMagics",
        "who": "NamespaceMagics",
        "who_ls": "NamespaceMagics",
        "whos": "NamespaceMagics",
        "xdel": "NamespaceMagics",
        "xmode": "BasicMagics"
       }
      },
      "text/plain": [
       "Available line magics:\n",
       "%alias  %alias_magic  %autocall  %automagic  %autosave  %bookmark  %cd  %clear  %cls  %colors  %config  %connect_info  %copy  %ddir  %debug  %dhist  %dirs  %doctest_mode  %echo  %ed  %edit  %env  %gui  %hist  %history  %killbgscripts  %ldir  %less  %load  %load_ext  %loadpy  %logoff  %logon  %logstart  %logstate  %logstop  %ls  %lsmagic  %macro  %magic  %matplotlib  %mkdir  %more  %notebook  %page  %pastebin  %pdb  %pdef  %pdoc  %pfile  %pinfo  %pinfo2  %popd  %pprint  %precision  %profile  %prun  %psearch  %psource  %pushd  %pwd  %pycat  %pylab  %qtconsole  %quickref  %recall  %rehashx  %reload_ext  %ren  %rep  %rerun  %reset  %reset_selective  %rmdir  %run  %save  %sc  %set_env  %store  %sx  %system  %tb  %time  %timeit  %unalias  %unload_ext  %who  %who_ls  %whos  %xdel  %xmode\n",
       "\n",
       "Available cell magics:\n",
       "%%!  %%HTML  %%SVG  %%bash  %%capture  %%cmd  %%debug  %%file  %%html  %%javascript  %%js  %%latex  %%markdown  %%perl  %%prun  %%pypy  %%python  %%python2  %%python3  %%ruby  %%script  %%sh  %%svg  %%sx  %%system  %%time  %%timeit  %%writefile\n",
       "\n",
       "Automagic is ON, % prefix IS NOT needed for line magics."
      ]
     },
     "execution_count": 18,
     "metadata": {},
     "output_type": "execute_result"
    }
   ],
   "source": [
    "%lsmagic\n",
    "def bp_some_func(x):\n",
    "    r\"\"\"Brief description of the function\"\"\"\n",
    "    return x**2"
   ]
  },
  {
   "cell_type": "markdown",
   "metadata": {},
   "source": [
    "## test heading 2"
   ]
  },
  {
   "cell_type": "code",
   "execution_count": 15,
   "metadata": {},
   "outputs": [
    {
     "name": "stdout",
     "output_type": "stream",
     "text": [
      "world\n"
     ]
    }
   ],
   "source": [
    "print(\"world\")"
   ]
  },
  {
   "cell_type": "markdown",
   "metadata": {},
   "source": [
    "# test number"
   ]
  },
  {
   "cell_type": "code",
   "execution_count": 17,
   "metadata": {},
   "outputs": [],
   "source": [
    "# hello"
   ]
  },
  {
   "cell_type": "code",
   "execution_count": 3,
   "metadata": {},
   "outputs": [
    {
     "name": "stdout",
     "output_type": "stream",
     "text": [
      "Wall time: 0 ns\n"
     ]
    }
   ],
   "source": [
    "%time a = range(10)"
   ]
  },
  {
   "cell_type": "code",
   "execution_count": 4,
   "metadata": {},
   "outputs": [
    {
     "name": "stdout",
     "output_type": "stream",
     "text": [
      "480 ns ± 14.7 ns per loop (mean ± std. dev. of 7 runs, 1000000 loops each)\n"
     ]
    }
   ],
   "source": [
    "%%timeit a = range (10) \n",
    "min(a)"
   ]
  },
  {
   "cell_type": "markdown",
   "metadata": {},
   "source": [
    "# Crazy Python Notes\n",
    "<hr/>\n",
    "疯狂Python讲义"
   ]
  },
  {
   "cell_type": "code",
   "execution_count": 43,
   "metadata": {},
   "outputs": [
    {
     "name": "stdout",
     "output_type": "stream",
     "text": [
      "56\n",
      "9999999999999999999999\n",
      "<class 'int'>\n",
      "None\n"
     ]
    }
   ],
   "source": [
    "# coding: utf-8\n",
    "#########################################################################\n",
    "# 网站: <a href=\"http://www.crazyit.org\">疯狂Java联盟</a>               #\n",
    "# author yeeku.H.lee kongyeeku@163.com                                  #\n",
    "#                                                                       #\n",
    "# version 1.0                                                           #\n",
    "#                                                                       #\n",
    "# Copyright (C), 2001-2018, yeeku.H.Lee                                 #\n",
    "#                                                                       #\n",
    "# This program is protected by copyright laws.                          #\n",
    "#                                                                       #\n",
    "# Program Name: integer_test                                            #\n",
    "#                                                                       #\n",
    "# <br>Date:                                                             #\n",
    "#########################################################################\n",
    "# 定义变量a，赋值为56\n",
    "a = 56\n",
    "print(a)\n",
    "# 56\n",
    "\n",
    "# 为a赋值一个大整数\n",
    "a = 9999999999999999999999\n",
    "print(a)\n",
    "# 9999999999999999999999\n",
    "\n",
    "# type()函数用于返回变量的类型\n",
    "print(type(a))\n",
    "# <class 'int'>\n",
    "\n",
    "a = None\n",
    "print(a)\n",
    "# None"
   ]
  },
  {
   "cell_type": "code",
   "execution_count": 11,
   "metadata": {},
   "outputs": [
    {
     "data": {
      "text/plain": [
       "(16,)"
      ]
     },
     "execution_count": 11,
     "metadata": {},
     "output_type": "execute_result"
    }
   ],
   "source": [
    "1+1,\n",
    "1**3,\n",
    "2**4,"
   ]
  },
  {
   "cell_type": "markdown",
   "metadata": {},
   "source": [
    "<hr />"
   ]
  },
  {
   "cell_type": "code",
   "execution_count": 13,
   "metadata": {},
   "outputs": [
    {
     "name": "stdout",
     "output_type": "stream",
     "text": [
      "<class 'int'>\n"
     ]
    }
   ],
   "source": [
    "a = 56\n",
    "type(a)\n",
    "print(type(a))"
   ]
  },
  {
   "cell_type": "code",
   "execution_count": 15,
   "metadata": {},
   "outputs": [
    {
     "name": "stdout",
     "output_type": "stream",
     "text": [
      "None\n"
     ]
    }
   ],
   "source": [
    "a = None\n",
    "print(a)"
   ]
  },
  {
   "cell_type": "code",
   "execution_count": 18,
   "metadata": {},
   "outputs": [
    {
     "data": {
      "text/plain": [
       "1048576"
      ]
     },
     "execution_count": 18,
     "metadata": {},
     "output_type": "execute_result"
    }
   ],
   "source": [
    "def bp_some_func(x):\n",
    "    r\"\"\"Brief description of the function\"\"\"\n",
    "    return x**2\n",
    "bp_some_func(1024)"
   ]
  },
  {
   "cell_type": "code",
   "execution_count": 24,
   "metadata": {},
   "outputs": [
    {
     "name": "stdout",
     "output_type": "stream",
     "text": [
      "51200.0\n"
     ]
    },
    {
     "data": {
      "text/plain": [
       "float"
      ]
     },
     "execution_count": 24,
     "metadata": {},
     "output_type": "execute_result"
    }
   ],
   "source": [
    "# 科学计数法\n",
    "sci_e = 512E2\n",
    "print(sci_e)\n",
    "type(sci_e)"
   ]
  },
  {
   "cell_type": "code",
   "execution_count": 39,
   "metadata": {},
   "outputs": [
    {
     "name": "stdout",
     "output_type": "stream",
     "text": [
      "hexValue1的值为： 19\n",
      "hexValue2的值为： 175\n",
      "hexValue3的值为： 175\n",
      "bin_val1的值为： 7\n",
      "bin_val2的值为： 5\n",
      "oct_val1的值为： 44\n",
      "oct_val2的值为： 15\n",
      "在数值中使用下画线,one_million 1_000_000的值为： 1000000\n",
      "在数值中使用下画线,price 234_234_234的值为： 234234234\n",
      "在数值中使用下画线,android 1234_1234 的值为： 12341234\n"
     ]
    }
   ],
   "source": [
    "# coding: utf-8\n",
    "#########################################################################\n",
    "# 网站: <a href=\"http://www.crazyit.org\">疯狂Java联盟</a>               #\n",
    "# author yeeku.H.lee kongyeeku@163.com                                  #\n",
    "#                                                                       #\n",
    "# version 1.0                                                           #\n",
    "#                                                                       #\n",
    "# Copyright (C), 2001-2018, yeeku.H.Lee                                 #\n",
    "#                                                                       #\n",
    "# This program is protected by copyright laws.                          #\n",
    "#                                                                       #\n",
    "# Program Name: hex_test                                                #\n",
    "#                                                                       #\n",
    "# <br>Date:                                                             #\n",
    "#########################################################################\n",
    "# 以0x或0X开头的整数数值是十六进制的整数，不区分大小写\n",
    "hex_value1 = 0x13\n",
    "hex_value2 = 0XaF\n",
    "hex_value3 = 0XAF\n",
    "print(\"hexValue1的值为：\", hex_value1)\n",
    "# hexValue1的值为： 19\n",
    "\n",
    "print(\"hexValue2的值为：\", hex_value2)\n",
    "# hexValue2的值为： 175\n",
    "\n",
    "print(\"hexValue3的值为：\", hex_value3)\n",
    "# hexValue3的值为： 175\n",
    "\n",
    "# 以0b或0B开头的整数数值是二进制的整数\n",
    "bin_val1 = 0b111\n",
    "print('bin_val1的值为：', bin_val1)\n",
    "# bin_val1的值为： 7\n",
    "\n",
    "bin_val2 = 0B101\n",
    "print('bin_val2的值为：', bin_val2)\n",
    "# bin_val2的值为： 5\n",
    "\n",
    "# 以0o或0O开头的整数数值是二进制的整数\n",
    "oct_val1 = 0o54\n",
    "print('oct_val1的值为：', oct_val1)\n",
    "# oct_val1的值为： 44\n",
    "\n",
    "oct_val2 = 0O17\n",
    "print('oct_val2的值为：', oct_val2)\n",
    "# oct_val2的值为： 15\n",
    "\n",
    "# 在数值中使用下画线\n",
    "one_million = 1_000_000\n",
    "print('在数值中使用下画线,one_million 1_000_000的值为：', one_million)\n",
    "# 在数值中使用下画线,one_million 1_000_000的值为： 1000000\n",
    "\n",
    "# price实际的值为234234234\n",
    "price = 234_234_234 \n",
    "print('在数值中使用下画线,price 234_234_234的值为：', price)\n",
    "# 在数值中使用下画线,price 234_234_234的值为： 234234234\n",
    "\n",
    "# android实际的值为12341234\n",
    "android = 1234_1234 \n",
    "print('在数值中使用下画线,android 1234_1234 的值为：', android)\n",
    "# 在数值中使用下画线,android 1234_1234 的值为： 12341234"
   ]
  },
  {
   "cell_type": "code",
   "execution_count": 31,
   "metadata": {},
   "outputs": [
    {
     "name": "stdout",
     "output_type": "stream",
     "text": [
      "12341234\n"
     ]
    }
   ],
   "source": [
    "# android实际的值为12341234\n",
    "android = 1234_1234 \n",
    "print(android)"
   ]
  },
  {
   "cell_type": "code",
   "execution_count": 32,
   "metadata": {},
   "outputs": [
    {
     "name": "stdout",
     "output_type": "stream",
     "text": [
      "af1的值为: 5.2345556\n",
      "af2的类型为: <class 'float'>\n",
      "f1的值为: 512.0\n",
      "f2的值为: 5000.0\n",
      "f2的类型为: <class 'float'>\n"
     ]
    }
   ],
   "source": [
    "# coding: utf-8\n",
    "#########################################################################\n",
    "# 网站: <a href=\"http://www.crazyit.org\">疯狂Java联盟</a>               #\n",
    "# author yeeku.H.lee kongyeeku@163.com                                  #\n",
    "#                                                                       #\n",
    "# version 1.0                                                           #\n",
    "#                                                                       #\n",
    "# Copyright (C), 2001-2018, yeeku.H.Lee                                 #\n",
    "#                                                                       #\n",
    "# This program is protected by copyright laws.                          #\n",
    "#                                                                       #\n",
    "# Program Name: float_test.py                                           #\n",
    "#                                                                       #\n",
    "# <br>Date:                                                             #\n",
    "#########################################################################\n",
    "af1 = 5.2345556\n",
    "# 输出af1的值\n",
    "print(\"af1的值为:\", af1)\n",
    "# af1的值为: 5.2345556\n",
    "\n",
    "af2 = 25.2345\n",
    "print(\"af2的类型为:\", type(af2))\n",
    "# af2的类型为: <class 'float'>\n",
    "\n",
    "f1 = 5.12e2\n",
    "print(\"f1的值为:\", f1)\n",
    "# f1的值为: 512.0\n",
    "\n",
    "f2 = 5e3\n",
    "print(\"f2的值为:\", f2)\n",
    "# f2的值为: 5000.0\n",
    "\n",
    "print(\"f2的类型为:\", type(f2)) # 看到类型为float\n",
    "# f2的类型为: <class 'float'>"
   ]
  },
  {
   "cell_type": "code",
   "execution_count": null,
   "metadata": {},
   "outputs": [],
   "source": [
    "# coding: utf-8\n",
    "#########################################################################\n",
    "# 网站: <a href=\"http://www.crazyit.org\">疯狂Java联盟</a>               #\n",
    "# author yeeku.H.lee kongyeeku@163.com                                  #\n",
    "#                                                                       #\n",
    "# version 1.0                                                           #\n",
    "#                                                                       #\n",
    "# Copyright (C), 2001-2018, yeeku.H.Lee                                 #\n",
    "#                                                                       #\n",
    "# This program is protected by copyright laws.                          #\n",
    "#                                                                       #\n",
    "# Program Name: complex_test                                            #\n",
    "#                                                                       #\n",
    "# <br>Date:                                                             #\n",
    "#########################################################################\n",
    "ac1 = 3 + 0.2j\n",
    "print(ac1)\n",
    "print(type(ac1)) # 输出 complex类型\n",
    "# (3+0.2j)\n",
    "\n",
    "ac2 = 4 - 0.1j\n",
    "print(ac2)\n",
    "# <class 'complex'>\n",
    "\n",
    "# 复数运行\n",
    "print(ac1 + ac2) \n",
    "# 输出 (7+0.1j)\n",
    "\n",
    "# 导入cmatch模块\n",
    "import cmath\n",
    "# sqrt()是cmath模块下的函数，用于计算平方根\n",
    "ac3 = cmath.sqrt(-1)\n",
    "print(ac3) \n",
    "# 输出 1j\n"
   ]
  },
  {
   "cell_type": "markdown",
   "metadata": {},
   "source": [
    "# String"
   ]
  },
  {
   "cell_type": "code",
   "execution_count": 3,
   "metadata": {},
   "outputs": [
    {
     "name": "stdout",
     "output_type": "stream",
     "text": [
      "Charlie\n",
      "疯狂软件教育\n",
      "I'm a coder\n",
      "\"Spring is here, let us jam!\", said woodchuck.\n",
      "\"we are scared, Let's hide in the shade\", says the bird\n"
     ]
    }
   ],
   "source": [
    "# coding: utf-8\n",
    "#########################################################################\n",
    "# 网站: <a href=\"http://www.crazyit.org\">疯狂Java联盟</a>               #\n",
    "# author yeeku.H.lee kongyeeku@163.com                                  #\n",
    "#                                                                       #\n",
    "# version 1.0                                                           #\n",
    "#                                                                       #\n",
    "# Copyright (C), 2001-2018, yeeku.H.Lee                                 #\n",
    "#                                                                       #\n",
    "# This program is protected by copyright laws.                          #\n",
    "#                                                                       #\n",
    "# Program Name: string_test                                             #\n",
    "#                                                                       #\n",
    "# <br>Date:                                                             #\n",
    "#########################################################################\n",
    "str1 = 'Charlie'\n",
    "str2 = \"疯狂软件教育\"\n",
    "print(str1)\n",
    "# Charlie\n",
    "\n",
    "print(str2)\n",
    "# 疯狂软件教育\n",
    "\n",
    "#str3 = 'I'm a coder'\n",
    "str3 = \"I'm a coder\"\n",
    "str4 = '\"Spring is here, let us jam!\", said woodchuck.'\n",
    "str5 = '\"we are scared, Let\\'s hide in the shade\", says the bird'\n",
    "print(str3)\n",
    "# I'm a coder\n",
    "\n",
    "print(str4)\n",
    "# \"Spring is here, let us jam!\", said woodchuck.\n",
    "\n",
    "print(str5)\n",
    "# \"we are scared, Let's hide in the shade\", says the bird"
   ]
  },
  {
   "cell_type": "markdown",
   "metadata": {},
   "source": [
    "## String Join"
   ]
  },
  {
   "cell_type": "code",
   "execution_count": 8,
   "metadata": {},
   "outputs": [
    {
     "name": "stdout",
     "output_type": "stream",
     "text": [
      "Hello,Charlie\n",
      "Python is Funny\n",
      "RongRong is lovely!\n"
     ]
    }
   ],
   "source": [
    "# coding: utf-8\n",
    "#########################################################################\n",
    "# 网站: <a href=\"http://www.crazyit.org\">疯狂Java联盟</a>               #\n",
    "# author yeeku.H.lee kongyeeku@163.com                                  #\n",
    "#                                                                       #\n",
    "# version 1.0                                                           #\n",
    "#                                                                       #\n",
    "# Copyright (C), 2001-2018, yeeku.H.Lee                                 #\n",
    "#                                                                       #\n",
    "# This program is protected by copyright laws.                          #\n",
    "#                                                                       #\n",
    "# Program Name: String Join                                             #\n",
    "#                                                                       #\n",
    "# <br>Date:                                                             #\n",
    "#########################################################################\n",
    "s1 = \"Hello,\"  'Charlie'\n",
    "print(s1)\n",
    "# Hello,Charlie\n",
    "\n",
    "s2 = \"Python \"\n",
    "s3 = \"is Funny\"\n",
    "# 使用+拼接字符串\n",
    "s4 = s2 + s3\n",
    "print(s4) \n",
    "# Python is Funny\n",
    "\n",
    "Name =  \"RongRong\"\n",
    "Description = \" is lovely!\"\n",
    "all_in_one = Name + Description\n",
    "print(all_in_one)\n",
    "# RongRong is lovely!"
   ]
  },
  {
   "cell_type": "markdown",
   "metadata": {},
   "source": [
    "## To String"
   ]
  },
  {
   "cell_type": "code",
   "execution_count": 1,
   "metadata": {},
   "outputs": [
    {
     "name": "stdout",
     "output_type": "stream",
     "text": [
      "这本书的价格是：99.8\n",
      "这本书的价格是：99.8\n",
      "I will play my fife\n",
      "'I will play my fife'\n"
     ]
    }
   ],
   "source": [
    "# coding: utf-8\n",
    "#########################################################################\n",
    "# 网站: <a href=\"http://www.crazyit.org\">疯狂Java联盟</a>               #\n",
    "# author yeeku.H.lee kongyeeku@163.com                                  #\n",
    "#                                                                       #\n",
    "# version 1.0                                                           #\n",
    "#                                                                       #\n",
    "# Copyright (C), 2001-2018, yeeku.H.Lee                                 #\n",
    "#                                                                       #\n",
    "# This program is protected by copyright laws.                          #\n",
    "#                                                                       #\n",
    "# Program Name: To String                                               #\n",
    "#                                                                       #\n",
    "# <br>Date:                                                             #\n",
    "#########################################################################\n",
    "s1 = \"这本书的价格是：\"\n",
    "p = 99.8\n",
    "# 字符串直接拼接数值，程序报错\n",
    "# print(s1 + p)\n",
    "# TypeError: can only concatenate str (not \"float\") to str\n",
    "\n",
    "# 使用str()将数值转换成字符串\n",
    "print(s1 + str(p))\n",
    "# 这本书的价格是：99.8\n",
    "\n",
    "# 使用repr()将数值转换成字符串\n",
    "print(s1 + repr(p))\n",
    "# 这本书的价格是：99.8\n",
    "\n",
    "st = \"I will play my fife\"\n",
    "print(st)\n",
    "# I will play my fife\n",
    "\n",
    "print(repr(st)) \n",
    "# 'I will play my fife'"
   ]
  },
  {
   "cell_type": "markdown",
   "metadata": {},
   "source": [
    "## Raw Str"
   ]
  },
  {
   "cell_type": "code",
   "execution_count": null,
   "metadata": {},
   "outputs": [],
   "source": [
    "# coding: utf-8\n",
    "#########################################################################\n",
    "# 网站: <a href=\"http://www.crazyit.org\">疯狂Java联盟</a>               #\n",
    "# author yeeku.H.lee kongyeeku@163.com                                  #\n",
    "#                                                                       #\n",
    "# version 1.0                                                           #\n",
    "#                                                                       #\n",
    "# Copyright (C), 2001-2018, yeeku.H.Lee                                 #\n",
    "#                                                                       #\n",
    "# This program is protected by copyright laws.                          #\n",
    "#                                                                       #\n",
    "# Program Name: Raw Str                                                 #\n",
    "#                                                                       #\n",
    "# <br>Date:                                                             #\n",
    "#########################################################################\n",
    "\n",
    "s1 = r'G:\\publish\\codes\\02\\2.4'\n",
    "print(s1)\n",
    "# G:\\publish\\codes\\02\\2.4\n",
    "\n",
    "# 原始字符串包含的引号，同样需要转义\n",
    "s2 = r'\"Let\\'s go\", said Charlie'\n",
    "print(s2)\n",
    "# \"Let\\'s go\", said Charlie\n",
    "\n",
    "s3 = r'Good Morning' '\\\\'\n",
    "print(s3)\n",
    "# Good Morning\\"
   ]
  },
  {
   "cell_type": "markdown",
   "metadata": {},
   "source": [
    "## Bytes Test"
   ]
  },
  {
   "cell_type": "code",
   "execution_count": 22,
   "metadata": {},
   "outputs": [
    {
     "name": "stdout",
     "output_type": "stream",
     "text": [
      "b1 bytes:  b''\n",
      "b2 bytes:  b''\n",
      "b'hello'\n",
      "104\n",
      "b'll'\n",
      "b'\\xe6\\x88\\x91\\xe7\\x88\\xb1Python\\xe7\\xbc\\x96\\xe7\\xa8\\x8b'\n",
      "b'\\xe5\\xad\\xa6\\xe4\\xb9\\xa0Python\\xe5\\xbe\\x88\\xe6\\x9c\\x89\\xe8\\xb6\\xa3'\n",
      "学习Python很有趣\n"
     ]
    }
   ],
   "source": [
    "# coding: utf-8\n",
    "#########################################################################\n",
    "# 网站: <a href=\"http://www.crazyit.org\">疯狂Java联盟</a>               #\n",
    "# author yeeku.H.lee kongyeeku@163.com                                  #\n",
    "#                                                                       #\n",
    "# version 1.0                                                           #\n",
    "#                                                                       #\n",
    "# Copyright (C), 2001-2018, yeeku.H.Lee                                 #\n",
    "#                                                                       #\n",
    "# This program is protected by copyright laws.                          #\n",
    "#                                                                       #\n",
    "# Program Name: Bytes Test                                              #\n",
    "#                                                                       #\n",
    "# <br>Date:                                                             #\n",
    "#########################################################################\n",
    "# 创建一个空的bytes\n",
    "b1 = bytes()\n",
    "print(\"b1 bytes: \", b1)\n",
    "# b1 bytes:  b''\n",
    "\n",
    "# 创建一个空的bytes值\n",
    "b2 = b''\n",
    "print(\"b2 bytes: \", b2)\n",
    "# b2 bytes:  b''\n",
    "\n",
    "# 通过b前缀指定hello是bytes类型的值\n",
    "b3 = b'hello'\n",
    "print(b3)\n",
    "# b'hello'\n",
    "\n",
    "print(b3[0])\n",
    "# 104\n",
    "\n",
    "print(b3[2:4])\n",
    "# b'll'\n",
    "\n",
    "# 调用bytes方法将字符串转成bytes对象\n",
    "b4 = bytes('我爱Python编程',encoding='utf-8')\n",
    "print(b4)\n",
    "# b'\\xe6\\x88\\x91\\xe7\\x88\\xb1Python\\xe7\\xbc\\x96\\xe7\\xa8\\x8b'\n",
    "\n",
    "# 利用字符串的encode()方法编码成bytes，默认使用utf-8字符集\n",
    "b5 = \"学习Python很有趣\".encode('utf-8')\n",
    "print(b5)\n",
    "# b'\\xe5\\xad\\xa6\\xe4\\xb9\\xa0Python\\xe5\\xbe\\x88\\xe6\\x9c\\x89\\xe8\\xb6\\xa3'\n",
    "\n",
    "# 将bytes对象解码成字符串，默认使用utf-8进行解码。\n",
    "st = b5.decode('utf-8')\n",
    "print(st) \n",
    "# 学习Python很有趣"
   ]
  },
  {
   "cell_type": "markdown",
   "metadata": {},
   "source": [
    "## 2.5 Escape Char"
   ]
  },
  {
   "cell_type": "code",
   "execution_count": 24,
   "metadata": {},
   "outputs": [
    {
     "name": "stdout",
     "output_type": "stream",
     "text": [
      "Hello\n",
      "Charlie\n",
      "Good\n",
      "Morning\n",
      "商品名\t\t单价\t\t数量\t\t总价\n",
      "疯狂Java讲义\t108\t\t2\t\t316\n"
     ]
    }
   ],
   "source": [
    "# coding: utf-8\n",
    "#########################################################################\n",
    "# 网站: <a href=\"http://www.crazyit.org\">疯狂Java联盟</a>               #\n",
    "# author yeeku.H.lee kongyeeku@163.com                                  #\n",
    "#                                                                       #\n",
    "# version 1.0                                                           #\n",
    "#                                                                       #\n",
    "# Copyright (C), 2001-2018, yeeku.H.Lee                                 #\n",
    "#                                                                       #\n",
    "# This program is protected by copyright laws.                          #\n",
    "#                                                                       #\n",
    "# Program Name:  2.5 Escape Char                                        #\n",
    "#                                                                       #\n",
    "# <br>Date:                                                             #\n",
    "#########################################################################\n",
    "s = 'Hello\\nCharlie\\nGood\\nMorning'\n",
    "print(s)\n",
    "# Hello\n",
    "# Charlie\n",
    "# Good\n",
    "# Morning\n",
    "\n",
    "s2 = '商品名\\t\\t单价\\t\\t数量\\t\\t总价'\n",
    "s3 = '疯狂Java讲义\\t108\\t\\t2\\t\\t316'\n",
    "print(s2)\n",
    "# 商品名\t\t单价\t\t数量\t\t总价\n",
    "print(s3)\n",
    "# 疯狂Java讲义\t108\t\t2\t\t316"
   ]
  },
  {
   "cell_type": "markdown",
   "metadata": {},
   "source": [
    "## 2.6 Format Test"
   ]
  },
  {
   "cell_type": "code",
   "execution_count": 29,
   "metadata": {},
   "outputs": [
    {
     "name": "stdout",
     "output_type": "stream",
     "text": [
      "the book's price is 6c\n",
      "Charli is a 8 years old boy\n",
      "num is:    -28\n",
      "num is:    -28\n",
      "num is:    -34\n",
      "num is:    -1c\n",
      "num is:    -1C\n",
      "num is:    -28\n",
      "num2 is: 000030\n",
      "num2 is: +00030\n",
      "num2 is: 30    \n",
      "my_value is:    3.001\n",
      "my_value is: 0003.001\n",
      "my_value is: +003.001\n",
      "the name is: Cha\n",
      "the name is:         Ch\n"
     ]
    }
   ],
   "source": [
    "# coding: utf-8\n",
    "#########################################################################\n",
    "# 网站: <a href=\"http://www.crazyit.org\">疯狂Java联盟</a>               #\n",
    "# author yeeku.H.lee kongyeeku@163.com                                  #\n",
    "#                                                                       #\n",
    "# version 1.0                                                           #\n",
    "#                                                                       #\n",
    "# Copyright (C), 2001-2018, yeeku.H.Lee                                 #\n",
    "#                                                                       #\n",
    "# This program is protected by copyright laws.                          #\n",
    "#                                                                       #\n",
    "# Program Name:  Format Test                                            #\n",
    "#                                                                       #\n",
    "# <br>Date:                                                             #\n",
    "#########################################################################\n",
    "price = 108\n",
    "print(\"the book's price is %x\" % price)\n",
    "# the book's price is 6c\n",
    "\n",
    "user = \"Charli\"\n",
    "age = 8\n",
    "# 格式化字符串有两个占位符，第三部分提供2个变量\n",
    "print(\"%s is a %s years old boy\" % (user , age))\n",
    "# Charli is a 8 years old boy\n",
    "\n",
    "num = -28\n",
    "print(\"num is: %6i\" % num)\n",
    "print(\"num is: %6d\" % num)\n",
    "print(\"num is: %6o\" % num)\n",
    "print(\"num is: %6x\" % num)\n",
    "print(\"num is: %6X\" % num)\n",
    "print(\"num is: %6s\" % num)\n",
    "# num is:    -28\n",
    "# num is:    -28\n",
    "# num is:    -34\n",
    "# num is:    -1c\n",
    "# num is:    -1C\n",
    "# num is:    -28\n",
    "\n",
    "num2 = 30\n",
    "# 最小宽度为0，左边补0\n",
    "print(\"num2 is: %06d\" % num2)\n",
    "# num2 is: 000030\n",
    "\n",
    "# 最小宽度为6，左边补0，总带上符号\n",
    "print(\"num2 is: %+06d\" % num2)\n",
    "# num2 is: +00030\n",
    "      \n",
    "# 最小宽度为6，右对齐\n",
    "print(\"num2 is: %-6d\" % num2)\n",
    "# num2 is: 30 \n",
    "      \n",
    "my_value = 3.001415926535\n",
    "# 最小宽度为8，小数点后保留3位\n",
    "print(\"my_value is: %8.3f\" % my_value)\n",
    "# my_value is:    3.001\n",
    "\n",
    "# 最小宽度为8，小数点后保留3位，左边补0\n",
    "print(\"my_value is: %08.3f\" % my_value)\n",
    "# my_value is: 0003.001\n",
    "\n",
    "# 最小宽度为8，小数点后保留3位，左边补0，始终带符号\n",
    "print(\"my_value is: %+08.3f\" % my_value)\n",
    "# my_value is: +003.001 \n",
    "      \n",
    "the_name = \"Charlie\"\n",
    "# 只保留3个字符\n",
    "print(\"the name is: %.3s\" % the_name) # 输出Cha\n",
    "# the name is: Cha\n",
    "\n",
    "# 只保留2个字符，最小宽度10\n",
    "print(\"the name is: %10.2s\" % the_name)\n",
    "# the name is:         Ch"
   ]
  },
  {
   "cell_type": "markdown",
   "metadata": {},
   "source": [
    "## 2.5 chars_test"
   ]
  },
  {
   "cell_type": "code",
   "execution_count": 1,
   "metadata": {},
   "outputs": [
    {
     "name": "stdout",
     "output_type": "stream",
     "text": [
      "a\n",
      "g\n",
      "zy\n",
      "zyit.org is very\n",
      "y g\n",
      "it.org is very good\n",
      "y good\n",
      "crazy\n",
      "crazyit.org is ver\n",
      "True\n",
      "False\n",
      "24\n",
      "4\n",
      "z\n",
      " \n"
     ]
    }
   ],
   "source": [
    "# coding: utf-8\n",
    "#########################################################################\n",
    "# 网站: <a href=\"http://www.crazyit.org\">疯狂Java联盟</a>               #\n",
    "# author yeeku.H.lee kongyeeku@163.com                                  #\n",
    "#                                                                       #\n",
    "# version 1.0                                                           #\n",
    "#                                                                       #\n",
    "# Copyright (C), 2001-2018, yeeku.H.Lee                                 #\n",
    "#                                                                       #\n",
    "# This program is protected by copyright laws.                          #\n",
    "#                                                                       #\n",
    "# Program Name: chars_test                                              #\n",
    "#                                                                       #\n",
    "# <br>Date:                                                             #\n",
    "#########################################################################\n",
    "s = 'crazyit.org is very good'\n",
    "# 获取s中索引2处的字符\n",
    "print(s[2]) # 输出a\n",
    "# 获取s中从右边开始，索引4处的字符\n",
    "print(s[-4]) # 输出g\n",
    "# 获取s中从索引3处到索引5处（不包含）的子串\n",
    "print(s[3: 5]) # 输出zy\n",
    "# 获取s中从索引3处到倒数第5个字符的子串\n",
    "print(s[3: -5]) # 输出zyit.org is very\n",
    "# 获取s中从倒数第6个字符到倒数第3个字符的子串\n",
    "print(s[-6: -3]) # 输出y g\n",
    "# 获取s中从索引5处到结束的子串\n",
    "print(s[5: ]) # 输出it.org is very good\n",
    "# 获取s中从倒数第6个字符到结束的子串\n",
    "print(s[-6: ]) # 输出y good\n",
    "# 获取s中从开始到索引5处的子串\n",
    "print(s[: 5]) # 输出crazy\n",
    "# 获取s中从开始到倒数第6个字符的子串\n",
    "print(s[: -6]) #输出crazyit.org is ver\n",
    "# 判断s是否包含'very'子串\n",
    "print('very' in s) # True\n",
    "print('fkit' in s) # False\n",
    "# 输出s的长度\n",
    "print(len(s)) # 24\n",
    "# 输出'test'的长度\n",
    "print(len('test')) # 4\n",
    "# 输出s字符串中最大的字符\n",
    "print(max(s)) # z\n",
    "# 输出s字符串中最大的字符\n",
    "print(min(s)) # 空格\n"
   ]
  },
  {
   "cell_type": "code",
   "execution_count": 2,
   "metadata": {},
   "outputs": [],
   "source": []
  },
  {
   "cell_type": "markdown",
   "metadata": {},
   "source": [
    "## python 中os.pardir什么意思 \n",
    "\n",
    "1、说明\n",
    "\n",
    "os.pardir是指的os模块中的pardir这个对象，在window中这个代表着上级目录。\n",
    "\n",
    "2、示例\n",
    "\n",
    "```\n",
    "import os\n",
    "os.chdir('d:\\\\iso') # 把当前目录切换到d:\\iso\n",
    "print(os.getcwd()) # 输出当前目录\n",
    "os.chdir(os.pardir) # 切换到上级目录\n",
    "print(os.getcwd()) # 输出当前目录\n",
    "```\n",
    "3、执行结果\n",
    "```\n",
    "d:\\iso\n",
    "d:\\\n",
    "```\n",
    "\n",
    "4、备注说明\n",
    "\n",
    "Python os模块包含普遍的操作系统功能。如果希望程序能够与平台无关的话，这个模块是尤为重要的。\n",
    "\n",
    "os.chdir函数用来切换当前目录。\n",
    "\n",
    "os.getcwd函数用来显示当前目录。\n"
   ]
  },
  {
   "cell_type": "code",
   "execution_count": 8,
   "metadata": {},
   "outputs": [
    {
     "name": "stdout",
     "output_type": "stream",
     "text": [
      "f:\\Github\\Python\\01_Notebook\n"
     ]
    }
   ],
   "source": [
    "import os\n",
    "print(os.getcwd())"
   ]
  },
  {
   "cell_type": "code",
   "execution_count": null,
   "metadata": {},
   "outputs": [],
   "source": []
  }
 ],
 "metadata": {
  "file_extension": ".py",
  "kernelspec": {
   "display_name": "Python 3",
   "language": "python",
   "name": "python3"
  },
  "language_info": {
   "codemirror_mode": {
    "name": "ipython",
    "version": 3
   },
   "file_extension": ".py",
   "mimetype": "text/x-python",
   "name": "python",
   "nbconvert_exporter": "python",
   "pygments_lexer": "ipython3",
   "version": "3.7.8"
  },
  "mimetype": "text/x-python",
  "name": "python",
  "npconvert_exporter": "python",
  "pygments_lexer": "ipython3",
  "toc": {
   "base_numbering": 1,
   "nav_menu": {},
   "number_sections": true,
   "sideBar": true,
   "skip_h1_title": false,
   "title_cell": "Table of Contents",
   "title_sidebar": "Contents",
   "toc_cell": true,
   "toc_position": {},
   "toc_section_display": true,
   "toc_window_display": false
  },
  "version": 3
 },
 "nbformat": 4,
 "nbformat_minor": 2
}
