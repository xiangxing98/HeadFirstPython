{
 "cells": [
  {
   "cell_type": "markdown",
   "metadata": {
    "toc": true
   },
   "source": [
    "<h1>Table of Contents<span class=\"tocSkip\"></span></h1>\n",
    "<div class=\"toc\"><ul class=\"toc-item\"></ul></div>"
   ]
  },
  {
   "cell_type": "markdown",
   "metadata": {},
   "source": [
    "> 来源：菜鸟分析   链接：\n",
    "> https://zhuanlan.zhihu.com/p/34112508"
   ]
  },
  {
   "cell_type": "markdown",
   "metadata": {},
   "source": [
    "一天偶然发现知乎上有篇关于对python编程中的`if __name__ == 'main'`的理解陈述，看完之后，自己觉得不够简单明了，于是在其文章底部写了一句话，突然收获各位乎友满满的赞同：\n",
    "\n",
    "**一句话，秒懂**\n",
    "\n",
    "- **__name__ 是当前模块名，当模块被直接运行时模块名为 `__main__` 。**\n",
    "\n",
    "- **这句话的意思就是，当模块被直接运行时，以下代码块将被运行。**\n",
    "\n",
    "- **当模块是被导入时，代码块不被运行。**\n",
    "\n",
    "相信初学者在学习Python的过程中，不可避免的总会遇到`if __name__ == 'main'`语句，虽然一直知道它的作用，但是可能一直比较模糊，今天菜鸟分析就与大家一起举例说说我的理解。\n",
    "\n",
    "举个例子，我们在下面在test.py中写入如下代码："
   ]
  },
  {
   "cell_type": "code",
   "execution_count": 3,
   "metadata": {},
   "outputs": [
    {
     "name": "stdout",
     "output_type": "stream",
     "text": [
      "恋习Python\n",
      "恋习Python\n",
      "跟着菜鸟分析，练习Python越练越恋\n"
     ]
    }
   ],
   "source": [
    "# test.py\n",
    "print('恋习Python')\n",
    "\n",
    "def main():\n",
    "    print('恋习Python')\n",
    "if __name__ == '__main__':\n",
    "    main()\n",
    "    print('跟着菜鸟分析，练习Python越练越恋')\n",
    "\n",
    "# 恋习Python\n",
    "# 恋习Python\n",
    "# 跟着菜鸟分析，练习Python越练越恋"
   ]
  },
  {
   "cell_type": "markdown",
   "metadata": {},
   "source": [
    "运行代码，则输出结果为：\n",
    "\n",
    "```\n",
    "# 恋习Python\n",
    "# 恋习Python\n",
    "# 跟着菜鸟分析，练习Python越练越恋\n",
    "```\n",
    "\n",
    "然后，在同一文件夹新建名称为import_test.py的脚本，只输入代码："
   ]
  },
  {
   "cell_type": "code",
   "execution_count": null,
   "metadata": {},
   "outputs": [],
   "source": [
    "import test"
   ]
  },
  {
   "cell_type": "markdown",
   "metadata": {},
   "source": [
    "运行代码，则输出结果为：\n",
    "\n",
    "```\n",
    "# 恋习Python\n",
    "```\n",
    "\n",
    "与之前test.py代码运行结果比较，只有输出恋习Python，也就是`if __name__==\"__main__\"`: 之前的语句被执行，之后的没有被执行。\n",
    "\n",
    "这是为什么呢？别急，菜鸟分析继续给你举例子说明，绝对让你满意为止，最后有一种豁然开朗的感觉。\n",
    "\n",
    "现在，我们在test.py脚本的`if __name__==\"__main__\"`:之前加入`print __name__`，即将`__name__`打印出来，则最后运行结果如下：\n",
    "\n",
    "![img](result.jpg)\n",
    "\n",
    "可以看出，此时变量`__name__`的值为`\"__main__\"`。"
   ]
  },
  {
   "cell_type": "code",
   "execution_count": null,
   "metadata": {},
   "outputs": [],
   "source": []
  },
  {
   "cell_type": "markdown",
   "metadata": {},
   "source": [
    "再执行`import_test.py`，模块内容和执行结果如下：\n",
    "\n",
    "![img](https://mmbiz.qpic.cn/mmbiz_jpg/MQ4FoG1HmnIounJsWSXZfDLJt1kG3t5VicgVJ6YuCtvjdcRmtDw885DgymV39GchndjsnsAYuicxLgys4Hm4nZdA/640?wx_fmt=jpeg&tp=webp&wxfrom=5&wx_lazy=1&wx_co=1)\n",
    "\n",
    "此时，`import_test.py``中的__name__`变量值为`test`，不满足`__name__==\"__main__\"`的条件，因此，无法执行其后的代码。\n",
    "\n",
    "哈哈，是不是一下明白啦，觉得不错，给菜鸟分析点个赞哦！\n",
    "\n",
    "再仔细想想，其运行原理也就是：\n",
    "\n",
    "由于每个Python模块（Python文件）都包含内置的变量`__name__`，当运行模块被执行的时候，`__name__`等于文件名（包含了后缀.py）。如果import到其他模块中，则`__name__`等于模块名称（不包含后缀.py）。而`“__main__”`等于当前执行文件的名称（包含了后缀.py）。所以当模块被直接执行时，`__name__ == '__main__'`结果为真；而当模块被import到其他模块中时，`__name__ == '__main__'`结果为假，就是不调用对应的方法。\n",
    "\n",
    "简而言之就是：`__name__` 是当前模块名，当模块被直接运行时模块名为 `__main__` 。当模块被直接运行时，代码将被运行，当模块是被导入时，代码不被运行。\n",
    "\n",
    "一句话，秒懂！"
   ]
  }
 ],
 "metadata": {
  "kernelspec": {
   "display_name": "Python 3",
   "language": "python",
   "name": "python3"
  },
  "language_info": {
   "codemirror_mode": {
    "name": "ipython",
    "version": 3
   },
   "file_extension": ".py",
   "mimetype": "text/x-python",
   "name": "python",
   "nbconvert_exporter": "python",
   "pygments_lexer": "ipython3",
   "version": "3.7.8"
  },
  "toc": {
   "base_numbering": 1,
   "nav_menu": {},
   "number_sections": true,
   "sideBar": true,
   "skip_h1_title": false,
   "title_cell": "Table of Contents",
   "title_sidebar": "Contents",
   "toc_cell": true,
   "toc_position": {},
   "toc_section_display": true,
   "toc_window_display": false
  }
 },
 "nbformat": 4,
 "nbformat_minor": 4
}
