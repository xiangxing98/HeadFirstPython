{
 "cells": [
  {
   "cell_type": "markdown",
   "metadata": {
    "toc": true
   },
   "source": [
    "<h1>Table of Contents<span class=\"tocSkip\"></span></h1>\n",
    "<div class=\"toc\"><ul class=\"toc-item\"><li><span><a href=\"#这个-__name__-拿来做什么的？\" data-toc-modified-id=\"这个-__name__-拿来做什么的？-1\"><span class=\"toc-item-num\">1&nbsp;&nbsp;</span>这个 <code>__name__</code> 拿来做什么的？</a></span></li><li><span><a href=\"#这个-__name__-变量可能取什么值？\" data-toc-modified-id=\"这个-__name__-变量可能取什么值？-2\"><span class=\"toc-item-num\">2&nbsp;&nbsp;</span>这个 <code>__name__</code> 变量可能取什么值？</a></span><ul class=\"toc-item\"><li><span><a href=\"#举个例子\" data-toc-modified-id=\"举个例子-2.1\"><span class=\"toc-item-num\">2.1&nbsp;&nbsp;</span>举个例子</a></span></li><li><span><a href=\"#情况-1---直接运行代码\" data-toc-modified-id=\"情况-1---直接运行代码-2.2\"><span class=\"toc-item-num\">2.2&nbsp;&nbsp;</span>情况 1 - 直接运行代码</a></span></li><li><span><a href=\"#情况-2---从其他脚本里导入\" data-toc-modified-id=\"情况-2---从其他脚本里导入-2.3\"><span class=\"toc-item-num\">2.3&nbsp;&nbsp;</span>情况 2 - 从其他脚本里导入</a></span></li><li><span><a href=\"#详细讲解\" data-toc-modified-id=\"详细讲解-2.4\"><span class=\"toc-item-num\">2.4&nbsp;&nbsp;</span>详细讲解</a></span></li></ul></li></ul></div>"
   ]
  },
  {
   "cell_type": "markdown",
   "metadata": {},
   "source": [
    "> 来源：菜鸟分析   链接：\n",
    "> https://zhuanlan.zhihu.com/p/34112508"
   ]
  },
  {
   "cell_type": "markdown",
   "metadata": {},
   "source": [
    "大家应该已经在很多 Python 脚本里见到过 `__name__` 变量了吧？它经常是以类似这样的方式出现在我们的程序里："
   ]
  },
  {
   "cell_type": "code",
   "execution_count": 5,
   "metadata": {
    "scrolled": true
   },
   "outputs": [
    {
     "name": "stdout",
     "output_type": "stream",
     "text": [
      "变量__name__的值是： __main__\n",
      "Current Module Name is: __main__\n",
      "恋习Python\n",
      "恋习Python\n"
     ]
    }
   ],
   "source": [
    "if __name__ == '__main__':\n",
    "    main()"
   ]
  },
  {
   "cell_type": "markdown",
   "metadata": {},
   "source": [
    "今天，我就带大家详细扒一扒这个内置变量的用法，示范一下在你写的 Python 模组里要怎么用到它。\n",
    "\n",
    "## 这个 `__name__` 拿来做什么的？\n",
    "\n",
    "作为 Python 的内置变量，`__name__`变量（前后各有两个下划线）还是挺特殊的。\n",
    "\n",
    "它是每个 Python 模块必备的属性，但它的值取决于你是如何执行这段代码的。\n",
    "\n",
    "在许多情况下，你的代码不可能全部都放在同一个文件里，或者你在这个文件里写的函数，在其他地方也可以用到。\n",
    "\n",
    "为了更高效地重用这些代码，你需要在 Python 程序中导入来自其他文件的代码。\n",
    "\n",
    "所以，在`__name__` 变量的帮助下，你可以判断出这时代码是被直接运行，还是被导入到其他程序中去了。"
   ]
  },
  {
   "cell_type": "markdown",
   "metadata": {},
   "source": [
    "## 这个 `__name__` 变量可能取什么值？\n",
    "\n",
    "**当你直接执行一段脚本的时候，这段脚本的 `__name__`变量等于 `'__main__'`，**\n",
    "\n",
    "**当这段脚本被导入其他程序的时候，`__name__` 变量等于脚本本身的名字。**\n",
    "\n",
    "一天偶然发现知乎上有篇关于对python编程中的`if __name__ == 'main'`的理解陈述，看完之后，自己觉得不够简单明了，于是在其文章底部写了一句话，突然收获各位乎友满满的赞同：\n",
    "\n",
    "**一句话，秒懂**\n",
    "\n",
    "- **__name__ 是当前模块名，当模块被直接运行时模块名为 `__main__` 。**\n",
    "\n",
    "- **这句话的意思就是，当模块被直接运行时，以下代码块将被运行。**\n",
    "\n",
    "- **当模块是被导入时，代码块不被运行。**\n",
    "\n",
    "### 举个例子\n",
    "\n",
    "相信初学者在学习Python的过程中，不可避免的总会遇到`if __name__ == 'main'`语句，虽然一直知道它的作用，但是可能一直比较模糊，今天菜鸟分析就与大家一起举例说说我的理解。\n",
    "\n",
    "举个例子，我们在下面在test.py中写入如下代码："
   ]
  },
  {
   "cell_type": "code",
   "execution_count": 20,
   "metadata": {
    "tags": []
   },
   "outputs": [
    {
     "name": "stdout",
     "output_type": "stream",
     "text": [
      "__name__ == '__main__', Next Start Function Main.\n",
      "\n",
      "Variable __name__ Current Vaue is: __main__\n",
      "Current Module Name is: __main__\n",
      "Execute Function myFunction over.\n",
      "\n",
      "Execute Function Main over.\n",
      "\n"
     ]
    }
   ],
   "source": [
    "# -*- encoding: utf-8 -*-\n",
    "# !/usr/bin/env python\n",
    "'''\n",
    "@File    :   test.py\n",
    "@Time    :   2020/09/08 21:42:19\n",
    "@Author  :   Stone_Hou\n",
    "@Version :   1.0\n",
    "@Contact :   xiangxing985529@163.com\n",
    "@License :   (C)Copyright 2010-2020, Stone_Hou\n",
    "@Desc    :   None\n",
    "@Refer   :   https://github.com/xiangxing98\n",
    "'''\n",
    "\n",
    "# import io\n",
    "# import sys\n",
    "# 改变标准输出的默认编码\n",
    "# sys.stdout=io.TextIOWrapper(sys.stdout.buffer,encoding='utf8')\n",
    "\n",
    "def myFunction():\n",
    "    print('Variable __name__ Current Vaue is: '+ __name__)\n",
    "    print(\"Current Module Name is:\", __name__)\n",
    "    print('Execute Function myFunction over.\\n')\n",
    "\n",
    "def main():\n",
    "    myFunction()\n",
    "    print('Execute Function Main over.\\n')\n",
    "\n",
    "if __name__ == '__main__':\n",
    "    print('__name__ == \\'__main__\\', Next Start Function Main.\\n')\n",
    "    main()\n",
    "\n",
    "# Running Code:\n",
    "# cd F:\\\\Github\\\\Python\\\\HeadFirstPython\\\\HeadFirstPython\\\\test_module\\\\test.py\n",
    "# python test.py\n"
   ]
  },
  {
   "cell_type": "markdown",
   "metadata": {},
   "source": [
    "###  情况 1 - 直接运行代码\n",
    "\n",
    "直接运行代码的流程\n",
    "\n",
    "![img](ExecuteModule.jpg)\n",
    "\n",
    "则输出结果为：\n",
    "\n",
    "```\n",
    "# __name__ == '__main__', Next Start Function Main.\n",
    "\n",
    "# Variable __name__ Current Value is: __main__\n",
    "# Current Module Name is: __main__\n",
    "# Execute Function myFunction over.\n",
    "\n",
    "# Execute Function Main over.\n",
    "```\n",
    "在所有其他代码执行之前，`__name__`变量就被设置为 `__main__` 了。在此之后，通过执行 `def` 语句，函数 `main() `和 `myFunction()` 的本体被载入。\n",
    "\n",
    "\n",
    "接着，因为这个 `if` 语句后面的表达式为真 `true`，函数 `main()` 就被调用了。而 `main()` 函数又调用了`myFunction()`，打印出变量的值`__main__`。\n"
   ]
  },
  {
   "cell_type": "markdown",
   "metadata": {},
   "source": [
    "### 情况 2 - 从其他脚本里导入\n",
    "\n",
    "然后，在同一文件夹新建名称为`import_test.py`的脚本，只输入代码：\n",
    "\n",
    "如果你需要在其他脚本里重用这个 `myFunction()` 函数，比如在 `import_test.py` 里，我们可以将 `test.py` 作为一个模组导入。\n",
    "\n",
    "假设 `import_test.py` 的内容如下："
   ]
  },
  {
   "cell_type": "code",
   "execution_count": 17,
   "metadata": {},
   "outputs": [
    {
     "name": "stdout",
     "output_type": "stream",
     "text": [
      "Variable __name__ Current Value is: test\n",
      "Current Module Name is: test\n",
      "Execute Function myFunction over.\n",
      "\n"
     ]
    }
   ],
   "source": [
    "# import as module\n",
    "import test as ts\n",
    "ts.myFunction()"
   ]
  },
  {
   "cell_type": "markdown",
   "metadata": {},
   "source": [
    "运行代码，则输出结果为：\n",
    "\n",
    "```\n",
    "# Variable __name__ Current Value is: test\n",
    "# Current Module Name is: test\n",
    "# Execute Function myFunction over.\n",
    "```\n",
    "\n",
    "与之前test.py代码运行结果比较，只有输出恋习Python，也就是`if __name__==\"__main__\"`: 之前的语句被执行，之后的没有被执行。\n",
    "\n",
    "![img](Execute_Function_Module2.png)\n",
    "\n",
    "这是为什么呢？别急，菜鸟分析继续给你举例子说明，绝对让你满意为止，最后有一种豁然开朗的感觉。\n",
    "\n",
    "现在，我们在test.py脚本的`if __name__==\"__main__\"`:之前加入`print __name__`，即将`__name__`打印出来，则最后运行结果如下：\n",
    "\n",
    "![img](result.jpg)\n",
    "\n",
    "```\n",
    "# 恋习Python\n",
    "# __main__\n",
    "# 恋习Python\n",
    "# 跟着菜鸟分析，练习Python越练越恋!\n",
    "\n",
    "```\n",
    "\n",
    "可以看出，此时变量`__name__`的值为`\"__main__\"`。"
   ]
  },
  {
   "cell_type": "markdown",
   "metadata": {},
   "source": [
    "再执行`import_test.py`，模块内容和执行结果如下："
   ]
  },
  {
   "cell_type": "markdown",
   "metadata": {},
   "source": [
    "\n",
    "![img](result_2.jpg)"
   ]
  },
  {
   "cell_type": "markdown",
   "metadata": {},
   "source": [
    "在 importingScript.py 里，`__name__` 变量就被设置为 `__main__`。当导入 `import_test` 的时候，Python 就在本地和环境变量 PATH 指向的路径中寻找对应名称的 .py 文件，找到之后，将会运行导入的文件中的代码。\n",
    "\n",
    "但这一次，在导入的时候，它自身的 `__name__` 变量就被设置为了`import_test`，接下来还是一样，函数 `main()` 和 `myFunction()` 的本体被载入。然而，这一次 `if` 语句后面的表达式结果为假 `false`，所以 `main()` 函数没有被调用。\n",
    "\n",
    "导入完毕之后，回到 `import_test.py` 中。现在 `test` 模块中的函数定义已经被导入到当前的作用域中，于是我们通过 ts.myFunction() 的方式调用模块中的函数，这个函数返回的是模块内的变量的值 'test'。\n",
    "\n",
    "如果你试着在 `import_test` 中打印 `__name__` 变量的值，那当你直接执行 `import_test.py` 的时候，它也会输出 `__main__`。原因在于，这个变量是在 `import_test` 的作用域中的。"
   ]
  },
  {
   "cell_type": "markdown",
   "metadata": {},
   "source": [
    "### 详细讲解\n",
    "此时，`import_test.py` 中的`__name__`变量值为`test`，不满足`__name__==\"__main__\"`的条件，因此，无法执行其后的代码。\n",
    "\n",
    "哈哈，是不是一下明白啦，觉得不错，给菜鸟分析点个赞哦！\n",
    "\n",
    "再仔细想想，其运行原理也就是：\n",
    "\n",
    "由于每个Python模块（Python文件）都包含内置的变量`__name__`，当运行模块被执行的时候，`__name__`等于文件名（包含了后缀.py）。\n",
    "\n",
    "如果import到其他模块中，则`__name__`等于模块名称（不包含后缀.py）。\n",
    "\n",
    "而`“__main__”`等于当前执行文件的名称（包含了后缀.py）。\n",
    "\n",
    "所以当模块被直接执行时，`__name__ == '__main__'`结果为真；\n",
    "\n",
    "而当模块被import到其他模块中时，`__name__ == '__main__'`结果为假，就是不调用对应的方法。\n",
    "\n",
    "简而言之就是：`__name__` 是当前模块名，当模块被直接运行时模块名为 `__main__` 。\n",
    "\n",
    "当模块被直接运行时，代码将被运行，当模块是被导入时，代码不被运行。\n",
    "\n",
    "一句话，秒懂！"
   ]
  },
  {
   "cell_type": "code",
   "execution_count": null,
   "metadata": {},
   "outputs": [],
   "source": []
  }
 ],
 "metadata": {
  "kernelspec": {
   "display_name": "Python 3",
   "language": "python",
   "name": "python3"
  },
  "language_info": {
   "codemirror_mode": {
    "name": "ipython",
    "version": 3
   },
   "file_extension": ".py",
   "mimetype": "text/x-python",
   "name": "python",
   "nbconvert_exporter": "python",
   "pygments_lexer": "ipython3",
   "version": "3.7.8"
  },
  "toc": {
   "base_numbering": 1,
   "nav_menu": {},
   "number_sections": true,
   "sideBar": true,
   "skip_h1_title": false,
   "title_cell": "Table of Contents",
   "title_sidebar": "Contents",
   "toc_cell": true,
   "toc_position": {
    "height": "calc(100% - 180px)",
    "left": "10px",
    "top": "150px",
    "width": "290.729px"
   },
   "toc_section_display": true,
   "toc_window_display": true
  }
 },
 "nbformat": 4,
 "nbformat_minor": 4
}
