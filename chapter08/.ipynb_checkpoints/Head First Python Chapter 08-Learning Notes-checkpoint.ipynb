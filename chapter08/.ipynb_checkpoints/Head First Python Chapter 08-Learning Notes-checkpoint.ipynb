{
 "cells": [
  {
   "cell_type": "markdown",
   "metadata": {
    "toc": true
   },
   "source": [
    "<h1>Table of Contents<span class=\"tocSkip\"></span></h1>\n",
    "<div class=\"toc\"><ul class=\"toc-item\"><li><span><a href=\"#第八章-移动应用开发：小型设备-Mobile-application-development:-Small-devices\" data-toc-modified-id=\"第八章-移动应用开发：小型设备-Mobile-application-development:-Small-devices-1\"><span class=\"toc-item-num\">1&nbsp;&nbsp;</span>第八章 移动应用开发：小型设备 Mobile application development: Small devices</a></span><ul class=\"toc-item\"><li><span><a href=\"#在Andriod上测试Python\" data-toc-modified-id=\"在Andriod上测试Python-1.1\"><span class=\"toc-item-num\">1.1&nbsp;&nbsp;</span>在Andriod上测试Python</a></span></li><li><span><a href=\"#JSON\" data-toc-modified-id=\"JSON-1.2\"><span class=\"toc-item-num\">1.2&nbsp;&nbsp;</span>JSON</a></span></li><li><span><a href=\"#测试代码\" data-toc-modified-id=\"测试代码-1.3\"><span class=\"toc-item-num\">1.3&nbsp;&nbsp;</span>测试代码</a></span></li></ul></li><li><span><a href=\"#关键知识点\" data-toc-modified-id=\"关键知识点-2\"><span class=\"toc-item-num\">2&nbsp;&nbsp;</span>关键知识点</a></span></li></ul></div>"
   ]
  },
  {
   "cell_type": "markdown",
   "metadata": {},
   "source": [
    "## 第八章 移动应用开发：小型设备 Mobile application development: Small devices\n"
   ]
  },
  {
   "cell_type": "markdown",
   "metadata": {},
   "source": [
    "------\n",
    "###  在Andriod上测试Python"
   ]
  },
  {
   "cell_type": "code",
   "execution_count": null,
   "metadata": {},
   "outputs": [],
   "source": [
    "import android\n",
    "app = android.Android()\n",
    "msg = \"Hello from Head First Python on Android\"\n",
    "app.makeToast(msg)\n"
   ]
  },
  {
   "cell_type": "markdown",
   "metadata": {},
   "source": [
    "### JSON"
   ]
  },
  {
   "cell_type": "code",
   "execution_count": null,
   "metadata": {},
   "outputs": [],
   "source": [
    "# import numpy as np"
   ]
  },
  {
   "cell_type": "code",
   "execution_count": null,
   "metadata": {},
   "outputs": [],
   "source": []
  },
  {
   "cell_type": "code",
   "execution_count": null,
   "metadata": {},
   "outputs": [],
   "source": []
  },
  {
   "cell_type": "code",
   "execution_count": null,
   "metadata": {},
   "outputs": [],
   "source": []
  },
  {
   "cell_type": "markdown",
   "metadata": {},
   "source": [
    "------\n",
    "### 测试代码"
   ]
  },
  {
   "cell_type": "markdown",
   "metadata": {},
   "source": [
    "## 关键知识点"
   ]
  },
  {
   "cell_type": "markdown",
   "metadata": {},
   "source": [
    "1. json库模块可以将Python内置类型转为JSON数据交换格式；\n",
    "2. 使用json.dumps()可以创建Python类型的字符串版本；\n",
    "3. 使用json.loads()从JSON字符串中创建Python类型；\n",
    "4. 使用JSON发布数据需要制定Content-Type为application/json;\n",
    "5. Python 2中的urllib和urllib2可以用与发送编码后的数据给Web服务器（使用urlencode和urlopen函数）；\n",
    "6. sys模块提供了sys.stdin, sys.stdout和sys.stderr输入流。\n"
   ]
  }
 ],
 "metadata": {
  "kernelspec": {
   "display_name": "Python 3",
   "language": "python",
   "name": "python3"
  },
  "language_info": {
   "codemirror_mode": {
    "name": "ipython",
    "version": 3
   },
   "file_extension": ".py",
   "mimetype": "text/x-python",
   "name": "python",
   "nbconvert_exporter": "python",
   "pygments_lexer": "ipython3",
   "version": "3.7.8"
  },
  "toc": {
   "base_numbering": 1,
   "nav_menu": {},
   "number_sections": true,
   "sideBar": true,
   "skip_h1_title": false,
   "title_cell": "Table of Contents",
   "title_sidebar": "Contents",
   "toc_cell": true,
   "toc_position": {
    "height": "calc(100% - 180px)",
    "left": "10px",
    "top": "150px",
    "width": "258.722px"
   },
   "toc_section_display": true,
   "toc_window_display": true
  }
 },
 "nbformat": 4,
 "nbformat_minor": 1
}
