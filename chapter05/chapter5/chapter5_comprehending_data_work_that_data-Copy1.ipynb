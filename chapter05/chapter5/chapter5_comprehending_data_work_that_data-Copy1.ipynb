{
 "cells": [
  {
   "cell_type": "markdown",
   "metadata": {},
   "source": [
    "# Chapter 5. Comprehending data: Work that data!"
   ]
  },
  {
   "cell_type": "markdown",
   "metadata": {},
   "source": [
    "## Your Python Toolbox\n",
    "\n",
    "### Python Lingo\n",
    "- In-place sorting\n",
    "- copied sorting\n",
    "- method chaining\n",
    "- function chaining\n",
    "\n",
    "### More Python Lingo\n",
    "- list comprehension\n",
    "- a slice\n",
    "- a set"
   ]
  },
  {
   "cell_type": "markdown",
   "metadata": {},
   "source": [
    "### Coach Kelly needs your elp"
   ]
  },
  {
   "cell_type": "markdown",
   "metadata": {},
   "source": [
    "#### Do This!  - Download the four data files from the support site"
   ]
  },
  {
   "cell_type": "markdown",
   "metadata": {
    "collapsed": true
   },
   "source": [
    "## Exercises\n",
    "\n",
    "- read data from each file into its own list\n",
    "- display lists on screen\n",
    "\n",
    "> *try splitting data on the commas, and don't forget to strip unwanted whitespace*"
   ]
  },
  {
   "cell_type": "code",
   "execution_count": 14,
   "metadata": {
    "collapsed": false
   },
   "outputs": [
    {
     "name": "stdout",
     "output_type": "stream",
     "text": [
      "['2-34', '3:21', '2.34', '2.45', '3.01', '2:01', '2:01', '3:10', '2-22']\n",
      "['2.59', '2.11', '2:11', '2:23', '3-10', '2-23', '3:10', '3.21', '3-21']\n",
      "['2:22', '3.01', '3:01', '3.02', '3:02', '3.02', '3:22', '2.49', '2:38']\n",
      "['2:58', '2.58', '2:39', '2-25', '2-55', '2:54', '2.18', '2:55', '2:55']\n"
     ]
    }
   ],
   "source": [
    "import pickle\n",
    "\n",
    "try:\n",
    "    with open('./hfpy_ch5_data/james.txt') as james_file:\n",
    "        james_data = james_file.readline()\n",
    "         \n",
    "    james = james_data.strip().split(',')\n",
    "    \n",
    "    with open('./hfpy_ch5_data/julie.txt') as julie_file:\n",
    "        julie_data = julie_file.readline()\n",
    "    \n",
    "    julie = julie_data.strip().split(',')\n",
    "    \n",
    "    with open('./hfpy_ch5_data/mikey.txt') as mikey_file:\n",
    "        mikey_data = mikey_file.readline()\n",
    "    \n",
    "    mikey = mikey_data.strip().split(',')\n",
    "    \n",
    "    with open('./hfpy_ch5_data/sarah.txt') as sarah_file:\n",
    "        sarah_data = sarah_file.readline()\n",
    "    sarah = sarah_data.strip().split(',')\n",
    "    \n",
    "    \n",
    "        \n",
    "except IOError as err:\n",
    "    print(\"IOError: \" + str(err))\n",
    "    \n",
    "except pickle.PickleError as perr:\n",
    "    print(\"Pickling error: \" + str(perr))\n",
    "\n",
    "    \n",
    "print(james)\n",
    "print(julie)\n",
    "print(mikey)\n",
    "print(sarah)\n",
    "\n",
    "    \n",
    "        \n",
    "\n",
    "\n"
   ]
  },
  {
   "cell_type": "markdown",
   "metadata": {
    "collapsed": true
   },
   "source": [
    "**An idle sorting session**"
   ]
  },
  {
   "cell_type": "code",
   "execution_count": 15,
   "metadata": {
    "collapsed": false
   },
   "outputs": [
    {
     "data": {
      "text/plain": [
       "[6, 3, 1, 2, 4, 5]"
      ]
     },
     "execution_count": 15,
     "metadata": {},
     "output_type": "execute_result"
    }
   ],
   "source": [
    "data = [6,3,1,2,4,5]\n",
    "data\n"
   ]
  },
  {
   "cell_type": "code",
   "execution_count": 16,
   "metadata": {
    "collapsed": false
   },
   "outputs": [
    {
     "data": {
      "text/plain": [
       "[1, 2, 3, 4, 5, 6]"
      ]
     },
     "execution_count": 16,
     "metadata": {},
     "output_type": "execute_result"
    }
   ],
   "source": [
    "data.sort()\n",
    "data"
   ]
  },
  {
   "cell_type": "code",
   "execution_count": 20,
   "metadata": {
    "collapsed": false
   },
   "outputs": [
    {
     "data": {
      "text/plain": [
       "[1, 2, 3, 4, 5, 6]"
      ]
     },
     "execution_count": 20,
     "metadata": {},
     "output_type": "execute_result"
    }
   ],
   "source": [
    "data = [6,3,1,2,4,5]\n",
    "data\n"
   ]
  },
  {
   "cell_type": "code",
   "execution_count": null,
   "metadata": {
    "collapsed": true
   },
   "outputs": [],
   "source": []
  }
 ],
 "metadata": {
  "kernelspec": {
   "display_name": "Python 3",
   "language": "python",
   "name": "python3"
  },
  "language_info": {
   "codemirror_mode": {
    "name": "ipython",
    "version": 3
   },
   "file_extension": ".py",
   "mimetype": "text/x-python",
   "name": "python",
   "nbconvert_exporter": "python",
   "pygments_lexer": "ipython3",
   "version": "3.5.1"
  }
 },
 "nbformat": 4,
 "nbformat_minor": 0
}
