{
 "cells": [
  {
   "cell_type": "markdown",
   "metadata": {},
   "source": [
    "# Chapter 5. Comprehending data: Work that data!"
   ]
  },
  {
   "cell_type": "markdown",
   "metadata": {},
   "source": [
    "## Your Python Toolbox\n",
    "\n",
    "### Python Lingo\n",
    "- In-place sorting\n",
    "- copied sorting\n",
    "- method chaining\n",
    "- function chaining\n",
    "\n",
    "### More Python Lingo\n",
    "- list comprehension\n",
    "- a slice\n",
    "- a set"
   ]
  },
  {
   "cell_type": "markdown",
   "metadata": {},
   "source": [
    "### Coach Kelly needs your elp"
   ]
  },
  {
   "cell_type": "markdown",
   "metadata": {},
   "source": [
    "#### Do This!  - Download the four data files from the support site"
   ]
  },
  {
   "cell_type": "markdown",
   "metadata": {
    "collapsed": true
   },
   "source": [
    "## Exercises\n",
    "\n",
    "- read data from each file into its own list\n",
    "- display lists on screen\n",
    "\n",
    "> *try splitting data on the commas, and don't forget to strip unwanted whitespace*"
   ]
  },
  {
   "cell_type": "code",
   "execution_count": 25,
   "metadata": {
    "collapsed": false
   },
   "outputs": [
    {
     "name": "stdout",
     "output_type": "stream",
     "text": [
      "['2-34', '3:21', '2.34', '2.45', '3.01', '2:01', '2:01', '3:10', '2-22']\n"
     ]
    }
   ],
   "source": [
    "import pickle\n",
    "\n",
    "try:\n",
    "    with open('james.txt') as james_file:\n",
    "        james_data = james_file.readline()\n",
    "         \n",
    "    james = james_data.strip().split(',')\n",
    "    \n",
    "    with open('julie.txt') as julie_file:\n",
    "        julie_data = julie_file.readline()\n",
    "    \n",
    "    julie = julie_data.strip().split(',')\n",
    "    \n",
    "    with open('mikey.txt') as mikey_file:\n",
    "        mikey_data = mikey_files.readline()\n",
    "    \n",
    "    mikey = mikey_data.strip().split(',')\n",
    "    \n",
    "    with open('sara.txt') as sara_file:\n",
    "        sara_data = sara_file.readline()\n",
    "    sara = saraData.strip().split(',')\n",
    "    \n",
    "    \n",
    "        \n",
    "except IOError as err:\n",
    "    print(\"IOError: \" + str(err))\n",
    "    \n",
    "#except pickle.PickleError as perr:\n",
    "#    print(\"Pickling error: \" + str(perr))\n",
    "\n",
    "    \n",
    "print(james)\n",
    "\n",
    "    \n",
    "        \n",
    "\n",
    "\n"
   ]
  },
  {
   "cell_type": "code",
   "execution_count": null,
   "metadata": {
    "collapsed": true
   },
   "outputs": [],
   "source": []
  }
 ],
 "metadata": {
  "kernelspec": {
   "display_name": "Python 3",
   "language": "python",
   "name": "python3"
  },
  "language_info": {
   "codemirror_mode": {
    "name": "ipython",
    "version": 3
   },
   "file_extension": ".py",
   "mimetype": "text/x-python",
   "name": "python",
   "nbconvert_exporter": "python",
   "pygments_lexer": "ipython3",
   "version": "3.5.1"
  }
 },
 "nbformat": 4,
 "nbformat_minor": 0
}
