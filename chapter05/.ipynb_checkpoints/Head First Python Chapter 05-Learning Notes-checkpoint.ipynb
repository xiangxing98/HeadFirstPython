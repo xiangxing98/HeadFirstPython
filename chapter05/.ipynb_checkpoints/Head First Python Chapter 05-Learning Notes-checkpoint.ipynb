{
 "cells": [
  {
   "cell_type": "markdown",
   "metadata": {
    "toc": true
   },
   "source": [
    "<h1>Table of Contents<span class=\"tocSkip\"></span></h1>\n",
    "<div class=\"toc\"><ul class=\"toc-item\"><li><span><a href=\"#Head-First-Python-Chapter-04-Learning-Notes-数据处理\" data-toc-modified-id=\"Head-First-Python-Chapter-04-Learning-Notes-数据处理-1\"><span class=\"toc-item-num\">1&nbsp;&nbsp;</span>Head First Python Chapter 04-Learning Notes 数据处理</a></span><ul class=\"toc-item\"><li><span><a href=\"#数据处理-打开文件-处理数据-输出结果\" data-toc-modified-id=\"数据处理-打开文件-处理数据-输出结果-1.1\"><span class=\"toc-item-num\">1.1&nbsp;&nbsp;</span>数据处理-打开文件-处理数据-输出结果</a></span><ul class=\"toc-item\"><li><span><a href=\"#数据排序-注意sort()和sorted()的区别\" data-toc-modified-id=\"数据排序-注意sort()和sorted()的区别-1.1.1\"><span class=\"toc-item-num\">1.1.1&nbsp;&nbsp;</span>数据排序 注意sort()和sorted()的区别</a></span></li><li><span><a href=\"#净化处理函数\" data-toc-modified-id=\"净化处理函数-1.1.2\"><span class=\"toc-item-num\">1.1.2&nbsp;&nbsp;</span>净化处理函数</a></span></li></ul></li><li><span><a href=\"#智能列表-列表推导-List-Comprehension\" data-toc-modified-id=\"智能列表-列表推导-List-Comprehension-1.2\"><span class=\"toc-item-num\">1.2&nbsp;&nbsp;</span>智能列表-列表推导-List Comprehension</a></span><ul class=\"toc-item\"><li><span><a href=\"#磨刀石-解决方案\" data-toc-modified-id=\"磨刀石-解决方案-1.2.1\"><span class=\"toc-item-num\">1.2.1&nbsp;&nbsp;</span>磨刀石-解决方案</a></span></li><li><span><a href=\"#列表推导式-应用\" data-toc-modified-id=\"列表推导式-应用-1.2.2\"><span class=\"toc-item-num\">1.2.2&nbsp;&nbsp;</span>列表推导式-应用</a></span></li><li><span><a href=\"#删除列表重复项\" data-toc-modified-id=\"删除列表重复项-1.2.3\"><span class=\"toc-item-num\">1.2.3&nbsp;&nbsp;</span>删除列表重复项</a></span></li><li><span><a href=\"#测试代码\" data-toc-modified-id=\"测试代码-1.2.4\"><span class=\"toc-item-num\">1.2.4&nbsp;&nbsp;</span>测试代码</a></span></li><li><span><a href=\"#使用集合删除重复项\" data-toc-modified-id=\"使用集合删除重复项-1.2.5\"><span class=\"toc-item-num\">1.2.5&nbsp;&nbsp;</span>使用集合删除重复项</a></span></li><li><span><a href=\"#代码审查-重复代码函数化\" data-toc-modified-id=\"代码审查-重复代码函数化-1.2.6\"><span class=\"toc-item-num\">1.2.6&nbsp;&nbsp;</span>代码审查-重复代码函数化</a></span></li></ul></li></ul></li></ul></div>"
   ]
  },
  {
   "cell_type": "markdown",
   "metadata": {},
   "source": [
    "# Head First Python Chapter 04-Learning Notes 数据处理"
   ]
  },
  {
   "cell_type": "markdown",
   "metadata": {},
   "source": [
    "## 数据处理-打开文件-处理数据-输出结果"
   ]
  },
  {
   "cell_type": "code",
   "execution_count": 3,
   "metadata": {},
   "outputs": [
    {
     "name": "stdout",
     "output_type": "stream",
     "text": [
      "\n",
      "james\n",
      "----------\n",
      "['2-34', '3:21', '2.34', '2.45', '3.01', '2:01', '2:01', '3:10', '2-22']\n",
      "['2-22', '2-34', '2.34', '2.45', '2:01', '2:01', '3.01', '3:10', '3:21']\n",
      "\n",
      "julie\n",
      "----------\n",
      "['2.59', '2.11', '2:11', '2:23', '3-10', '2-23', '3:10', '3.21', '3-21']\n",
      "['2-23', '2.11', '2.59', '2:11', '2:23', '3-10', '3-21', '3.21', '3:10']\n",
      "\n",
      "mikey\n",
      "----------\n",
      "['2:22', '3.01', '3:01', '3.02', '3:02', '3.02', '3:22', '2.49', '2:38']\n",
      "['2.49', '2:22', '2:38', '3.01', '3.02', '3.02', '3:01', '3:02', '3:22']\n",
      "\n",
      "sarah\n",
      "----------\n",
      "['2:58', '2.58', '2:39', '2-25', '2-55', '2:54', '2.18', '2:55', '2:55']\n",
      "['2-25', '2-55', '2.18', '2.58', '2:39', '2:54', '2:55', '2:55', '2:58']\n",
      "\n",
      "clean_james\n",
      "----------\n",
      "['2.34', '3.21', '2.34', '2.45', '3.01', '2.01', '2.01', '3.10', '2.22']\n",
      "['2.01', '2.01', '2.22', '2.34', '2.34', '2.45', '3.01', '3.10', '3.21']\n",
      "\n",
      "clean_julie\n",
      "----------\n",
      "['2.59', '2.11', '2.11', '2.23', '3.10', '2.23', '3.10', '3.21', '3.21']\n",
      "['2.11', '2.11', '2.23', '2.23', '2.59', '3.10', '3.10', '3.21', '3.21']\n",
      "\n",
      "clean_mikey\n",
      "----------\n",
      "['2.22', '3.01', '3.01', '3.02', '3.02', '3.02', '3.22', '2.49', '2.38']\n",
      "['2.22', '2.38', '2.49', '3.01', '3.01', '3.02', '3.02', '3.02', '3.22']\n",
      "\n",
      "clean_sarah\n",
      "----------\n",
      "['2.58', '2.58', '2.39', '2.25', '2.55', '2.54', '2.18', '2.55', '2.55']\n",
      "['2.18', '2.25', '2.39', '2.54', '2.55', '2.55', '2.55', '2.58', '2.58']\n"
     ]
    }
   ],
   "source": [
    "with open('james.txt') as jaf:\n",
    "    data = jaf.readline()\n",
    "james = data.strip().split(',')\n",
    "\n",
    "with open('julie.txt') as juf:\n",
    "    data = juf.readline()\n",
    "julie = data.strip().split(',')\n",
    "\n",
    "with open('mikey.txt') as mif:\n",
    "    data = mif.readline()\n",
    "mikey = data.strip().split(',')\n",
    "\n",
    "with open('sarah.txt') as saf:\n",
    "    data = saf.readline()\n",
    "sarah = data.strip().split(',')\n",
    "\n",
    "print(\"\\njames\\n----------\")\n",
    "print(james)\n",
    "print(sorted(james))\n",
    "# ['2-34', '3:21', '2.34', '2.45', '3.01', '2:01', '2:01', '3:10', '2-22']\n",
    "# ['2-22', '2-34', '2.34', '2.45', '2:01', '2:01', '3.01', '3:10', '3:21']\n",
    "\n",
    "print(\"\\njulie\\n----------\")\n",
    "print(julie)\n",
    "print(sorted(julie))\n",
    "# ['2.59', '2.11', '2:11', '2:23', '3-10', '2-23', '3:10', '3.21', '3-21']\n",
    "# ['2-23', '2.11', '2.59', '2:11', '2:23', '3-10', '3-21', '3.21', '3:10']\n",
    "\n",
    "print(\"\\nmikey\\n----------\")\n",
    "print(mikey)\n",
    "print(sorted(mikey))\n",
    "# ['2:22', '3.01', '3:01', '3.02', '3:02', '3.02', '3:22', '2.49', '2:38']\n",
    "# ['2.49', '2:22', '2:38', '3.01', '3.02', '3.02', '3:01', '3:02', '3:22']\n",
    "\n",
    "print(\"\\nsarah\\n----------\")\n",
    "print(sarah)\n",
    "print(sorted(sarah))\n",
    "# ['2:58', '2.58', '2:39', '2-25', '2-55', '2:54', '2.18', '2:55', '2:55']\n",
    "# ['2-25', '2-55', '2.18', '2.58', '2:39', '2:54', '2:55', '2:55', '2:58']\n",
    "\n",
    "# 创建四个新列表\n",
    "clean_james = []\n",
    "clean_julie = []\n",
    "clean_mikey = []\n",
    "clean_sarah = []\n",
    "\n",
    "# 净化处理函数\n",
    "def sanitize(time_string):\n",
    "    if '-' in time_string:\n",
    "        splitter = '-'\n",
    "    elif ':' in time_string:\n",
    "        splitter = ':'\n",
    "    else:\n",
    "        return(time_string)\n",
    "    \n",
    "    (mins, secs) = time_string.split(splitter)\n",
    "    return(mins + '.' + secs)\n",
    "\n",
    "for time in james:\n",
    "    clean_james.append(sanitize(time))\n",
    "for time in julie:\n",
    "    clean_julie.append(sanitize(time))\n",
    "for time in mikey:\n",
    "    clean_mikey.append(sanitize(time))\n",
    "for time in sarah:\n",
    "    clean_sarah.append(sanitize(time))\n",
    "\n",
    "print(\"\\nclean_james\\n----------\")\n",
    "print(clean_james)\n",
    "print(sorted(clean_james))\n",
    "# james\n",
    "# ----------\n",
    "# ['2-34', '3:21', '2.34', '2.45', '3.01', '2:01', '2:01', '3:10', '2-22']\n",
    "# ['2-22', '2-34', '2.34', '2.45', '2:01', '2:01', '3.01', '3:10', '3:21']\n",
    "# clean_james\n",
    "# ----------\n",
    "# ['2.34', '3.21', '2.34', '2.45', '3.01', '2.01', '2.01', '3.10', '2.22']\n",
    "# ['2.01', '2.01', '2.22', '2.34', '2.34', '2.45', '3.01', '3.10', '3.21']\n",
    "\n",
    "print(\"\\nclean_julie\\n----------\")\n",
    "print(clean_julie)\n",
    "print(sorted(clean_julie))\n",
    "# julie\n",
    "# ----------\n",
    "# ['2.59', '2.11', '2:11', '2:23', '3-10', '2-23', '3:10', '3.21', '3-21']\n",
    "# ['2-23', '2.11', '2.59', '2:11', '2:23', '3-10', '3-21', '3.21', '3:10']\n",
    "# clean_julie\n",
    "# ----------\n",
    "# ['2.59', '2.11', '2.11', '2.23', '3.10', '2.23', '3.10', '3.21', '3.21']\n",
    "# ['2.11', '2.11', '2.23', '2.23', '2.59', '3.10', '3.10', '3.21', '3.21']\n",
    "\n",
    "print(\"\\nclean_mikey\\n----------\")\n",
    "print(clean_mikey)\n",
    "print(sorted(clean_mikey))\n",
    "# mikey\n",
    "# ----------\n",
    "# ['2:22', '3.01', '3:01', '3.02', '3:02', '3.02', '3:22', '2.49', '2:38']\n",
    "# ['2.49', '2:22', '2:38', '3.01', '3.02', '3.02', '3:01', '3:02', '3:22']\n",
    "# clean_mikey\n",
    "# ----------\n",
    "# ['2.22', '3.01', '3.01', '3.02', '3.02', '3.02', '3.22', '2.49', '2.38']\n",
    "# ['2.22', '2.38', '2.49', '3.01', '3.01', '3.02', '3.02', '3.02', '3.22']\n",
    "\n",
    "print(\"\\nclean_sarah\\n----------\")\n",
    "print(clean_sarah)\n",
    "print(sorted(clean_sarah))\n",
    "# sarah\n",
    "# ----------\n",
    "# ['2:58', '2.58', '2:39', '2-25', '2-55', '2:54', '2.18', '2:55', '2:55']\n",
    "# ['2-25', '2-55', '2.18', '2.58', '2:39', '2:54', '2:55', '2:55', '2:58']\n",
    "# clean_sarah\n",
    "# ----------\n",
    "# ['2.58', '2.58', '2.39', '2.25', '2.55', '2.54', '2.18', '2.55', '2.55']\n",
    "# ['2.18', '2.25', '2.39', '2.54', '2.55', '2.55', '2.55', '2.58', '2.58']"
   ]
  },
  {
   "cell_type": "markdown",
   "metadata": {},
   "source": [
    "### 数据排序 注意sort()和sorted()的区别\n",
    "\n",
    "sorted() 是函数，其返回的是一个新的列表\n",
    "\n",
    "x=sorted(cars)\n",
    "\n",
    "print(x) cars列表里的内容没有改变\n",
    "\n",
    "cars.sort()   原列表直接进行方法调用，所以原列表进行了排序，不可逆"
   ]
  },
  {
   "cell_type": "code",
   "execution_count": 4,
   "metadata": {
    "scrolled": false
   },
   "outputs": [
    {
     "name": "stdout",
     "output_type": "stream",
     "text": [
      "[6, 3, 1, 2, 4, 5]\n",
      "[1, 2, 3, 4, 5, 6]\n",
      "[6, 3, 1, 2, 4, 5]\n",
      "[1, 2, 3, 4, 5, 6]\n",
      "['bmw', 'audi', 'toyato', 'subaru']\n",
      "['audi', 'bmw', 'subaru', 'toyato']\n",
      "['toyato', 'subaru', 'bmw', 'audi']\n",
      "['audi', 'bmw', 'subaru', 'toyato']\n",
      "['bmw', 'audi', 'toyato', 'subaru']\n",
      "['toyato', 'subaru', 'bmw', 'audi']\n",
      "['bmw', 'audi', 'toyato', 'subaru']\n"
     ]
    }
   ],
   "source": [
    "# sort原地排序\n",
    "data = [6, 3, 1, 2, 4, 5]\n",
    "print(data)\n",
    "# [6, 3, 1, 2, 4, 5]\n",
    "\n",
    "data.sort()\n",
    "print(data)\n",
    "# [1, 2, 3, 4, 5, 6]\n",
    "\n",
    "# sorted()复制排序\n",
    "data2 = [6, 3, 1, 2, 4, 5]\n",
    "print(data2)\n",
    "# [6, 3, 1, 2, 4, 5]\n",
    "\n",
    "# AttributeError: 'list' object has no attribute 'sorted'\n",
    "# data3 = data2.sorted()\n",
    "\n",
    "data3 = sorted(data2)\n",
    "print(data3)\n",
    "# [1, 2, 3, 4, 5, 6]\n",
    "\n",
    "#3.3.1 使用sort()对队列进行永久性排序\n",
    "cars=['bmw','audi','toyato','subaru']\n",
    "print(cars)\n",
    "cars.sort()\n",
    "print(cars)\n",
    "##sort()方法永久性对列表按字母顺序进行排列，再也无法恢复\n",
    "#按字母顺序相反的进行排序\n",
    "cars.sort(reverse=True)\n",
    "print(cars)\n",
    "##向sort()方法内传递参数reverse=True\n",
    "#使用函数sorted()对列表进行临时排列\n",
    "cars=['bmw','audi','toyato','subaru']\n",
    "print(sorted(cars))\n",
    "print(cars)\n",
    "##所以sorted()函数不改变列表原来的排列顺序\n",
    "##注意啊，老哥 sorted()是函数啊  所以列表的元素要传入函数里呀\n",
    "print(sorted(cars,reverse=True))\n",
    "print(cars)\n",
    "##相反顺序排列向sorted()函数里传入列表和reverse=True\n",
    "##                       sorted() 是函数，其返回的是一个新的列表\n",
    "\n",
    "# x=sorted(cars)\n",
    "# print(x) cars列表里的内容没有改变\n",
    "# cars.sort()   原列表直接进行方法调用，所以原列表进行了排序，不可逆\n",
    "# 注意这里的易错点啦，sort()是方法，sorted()是函数，方法是调用，函数进行数据传递"
   ]
  },
  {
   "cell_type": "code",
   "execution_count": 2,
   "metadata": {
    "collapsed": true
   },
   "outputs": [],
   "source": [
    "mikey = []\n",
    "julie = []\n",
    "sarah = []\n",
    "james = []\n",
    "\n",
    "players = {'mikey':[],\n",
    "          'julie':[],\n",
    "          'sarah':[],\n",
    "          'james':[]}\n",
    "\n",
    "for each_player in players.keys():\n",
    "    with open('ch5data/' + each_player + '.txt') as player_data:\n",
    "        players[each_player] = player_data.readline().strip().split(',')\n",
    "\n",
    "mikey = players['mikey']\n",
    "julie = players['julie']\n",
    "sarah = players['sarah']\n",
    "james = players['james']"
   ]
  },
  {
   "cell_type": "code",
   "execution_count": 6,
   "metadata": {},
   "outputs": [
    {
     "data": {
      "text/plain": [
       "['2:22', '3.01', '3:01', '3.02', '3:02', '3.02', '3:22', '2.49', '2:38']"
      ]
     },
     "execution_count": 6,
     "metadata": {},
     "output_type": "execute_result"
    }
   ],
   "source": [
    "mikey"
   ]
  },
  {
   "cell_type": "code",
   "execution_count": 63,
   "metadata": {},
   "outputs": [
    {
     "data": {
      "text/plain": [
       "['2.59', '2.11', '2:11', '2:23', '3-10', '2-23', '3:10', '3.21', '3-21']"
      ]
     },
     "execution_count": 63,
     "metadata": {},
     "output_type": "execute_result"
    }
   ],
   "source": [
    "julie"
   ]
  },
  {
   "cell_type": "code",
   "execution_count": 64,
   "metadata": {},
   "outputs": [
    {
     "data": {
      "text/plain": [
       "['2:58', '2.58', '2:39', '2-25', '2-55', '2:54', '2.18', '2:55', '2:55']"
      ]
     },
     "execution_count": 64,
     "metadata": {},
     "output_type": "execute_result"
    }
   ],
   "source": [
    "sarah"
   ]
  },
  {
   "cell_type": "code",
   "execution_count": 65,
   "metadata": {},
   "outputs": [
    {
     "data": {
      "text/plain": [
       "['2-34', '3:21', '2.34', '2.45', '3.01', '2:01', '2:01', '3:10', '2-22']"
      ]
     },
     "execution_count": 65,
     "metadata": {},
     "output_type": "execute_result"
    }
   ],
   "source": [
    "james"
   ]
  },
  {
   "cell_type": "code",
   "execution_count": 66,
   "metadata": {},
   "outputs": [
    {
     "data": {
      "text/plain": [
       "['2.49', '2:22', '2:38', '3.01', '3.02', '3.02', '3:01', '3:02', '3:22']"
      ]
     },
     "execution_count": 66,
     "metadata": {},
     "output_type": "execute_result"
    }
   ],
   "source": [
    "sorted(mikey)  # 排序没有正确按照预想的"
   ]
  },
  {
   "cell_type": "code",
   "execution_count": 67,
   "metadata": {},
   "outputs": [
    {
     "data": {
      "text/plain": [
       "['2:22', '3.01', '3:01', '3.02', '3:02', '3.02', '3:22', '2.49', '2:38']"
      ]
     },
     "execution_count": 67,
     "metadata": {},
     "output_type": "execute_result"
    }
   ],
   "source": [
    "mikey"
   ]
  },
  {
   "cell_type": "code",
   "execution_count": 68,
   "metadata": {},
   "outputs": [
    {
     "data": {
      "text/plain": [
       "['2-23', '2.11', '2.59', '2:11', '2:23', '3-10', '3-21', '3.21', '3:10']"
      ]
     },
     "execution_count": 68,
     "metadata": {},
     "output_type": "execute_result"
    }
   ],
   "source": [
    "sorted(julie)"
   ]
  },
  {
   "cell_type": "code",
   "execution_count": 70,
   "metadata": {},
   "outputs": [
    {
     "data": {
      "text/plain": [
       "['2-25', '2-55', '2.18', '2.58', '2:39', '2:54', '2:55', '2:55', '2:58']"
      ]
     },
     "execution_count": 70,
     "metadata": {},
     "output_type": "execute_result"
    }
   ],
   "source": [
    "sorted(sarah)"
   ]
  },
  {
   "cell_type": "code",
   "execution_count": 71,
   "metadata": {},
   "outputs": [
    {
     "data": {
      "text/plain": [
       "['2-22', '2-34', '2.34', '2.45', '2:01', '2:01', '3.01', '3:10', '3:21']"
      ]
     },
     "execution_count": 71,
     "metadata": {},
     "output_type": "execute_result"
    }
   ],
   "source": [
    "sorted(james)"
   ]
  },
  {
   "cell_type": "markdown",
   "metadata": {},
   "source": [
    "### 净化处理函数"
   ]
  },
  {
   "cell_type": "code",
   "execution_count": 7,
   "metadata": {
    "collapsed": true
   },
   "outputs": [],
   "source": [
    "# 净化处理函数\n",
    "def sanitize(time_string):\n",
    "    if '-' in time_string:\n",
    "        splitter = '-'\n",
    "    elif ':' in time_string:\n",
    "        splitter = ':'\n",
    "    else:\n",
    "        return(time_string)\n",
    "    \n",
    "    (mins, secs) = time_string.split(splitter)\n",
    "    return(mins + '.' + secs)\n",
    "\n",
    "clean_james=[]\n",
    "clean_julie=[]\n",
    "clean_mikey=[]\n",
    "clean_sarah=[]\n",
    "\n",
    "for time in james:\n",
    "    clean_james.append(sanitize(time))\n",
    "for time in julie:\n",
    "    clean_julie.append(sanitize(time))\n",
    "for time in mikey:\n",
    "    clean_mikey.append(sanitize(time))\n",
    "for time in sarah:\n",
    "    clean_sarah.append(sanitize(time))\n"
   ]
  },
  {
   "cell_type": "code",
   "execution_count": 15,
   "metadata": {},
   "outputs": [
    {
     "data": {
      "text/plain": [
       "['2.01', '2.01', '2.22', '2.34', '2.34', '2.45', '3.01', '3.10', '3.21']"
      ]
     },
     "execution_count": 15,
     "metadata": {},
     "output_type": "execute_result"
    }
   ],
   "source": [
    "sorted(clean_james)"
   ]
  },
  {
   "cell_type": "code",
   "execution_count": 17,
   "metadata": {},
   "outputs": [
    {
     "data": {
      "text/plain": [
       "['2.11', '2.11', '2.23', '2.23', '2.59', '3.10', '3.10', '3.21', '3.21']"
      ]
     },
     "execution_count": 17,
     "metadata": {},
     "output_type": "execute_result"
    }
   ],
   "source": [
    "sorted(clean_julie)"
   ]
  },
  {
   "cell_type": "code",
   "execution_count": 18,
   "metadata": {},
   "outputs": [
    {
     "data": {
      "text/plain": [
       "['2.22', '2.38', '2.49', '3.01', '3.01', '3.02', '3.02', '3.02', '3.22']"
      ]
     },
     "execution_count": 18,
     "metadata": {},
     "output_type": "execute_result"
    }
   ],
   "source": [
    "sorted(clean_mikey)"
   ]
  },
  {
   "cell_type": "code",
   "execution_count": 21,
   "metadata": {},
   "outputs": [
    {
     "data": {
      "text/plain": [
       "['2.58', '2.58', '2.55', '2.55', '2.55', '2.54', '2.39', '2.25', '2.18']"
      ]
     },
     "execution_count": 21,
     "metadata": {},
     "output_type": "execute_result"
    }
   ],
   "source": [
    "sorted(clean_sarah, reverse=True)  # 내림 차순 정렬, 디폴트는 오름차순"
   ]
  },
  {
   "cell_type": "markdown",
   "metadata": {},
   "source": [
    "## 智能列表-列表推导-List Comprehension"
   ]
  },
  {
   "cell_type": "code",
   "execution_count": 11,
   "metadata": {},
   "outputs": [],
   "source": [
    "clean_mikey = [sanitize(time) for time in mikey]"
   ]
  },
  {
   "cell_type": "code",
   "execution_count": 12,
   "metadata": {},
   "outputs": [
    {
     "data": {
      "text/plain": [
       "['2.22', '2.38', '2.49', '3.01', '3.01', '3.02', '3.02', '3.02', '3.22']"
      ]
     },
     "execution_count": 12,
     "metadata": {},
     "output_type": "execute_result"
    }
   ],
   "source": [
    "sorted(clean_mikey)"
   ]
  },
  {
   "cell_type": "code",
   "execution_count": 16,
   "metadata": {},
   "outputs": [
    {
     "name": "stdout",
     "output_type": "stream",
     "text": [
      "[60, 120, 180]\n",
      "[3600, 7200, 10800]\n"
     ]
    }
   ],
   "source": [
    "hours = [1,2,3]\n",
    "mins = [1,2,3]\n",
    "\n",
    "# 分钟转换为秒钟\n",
    "secs_mins = [m*60 for m in mins]\n",
    "print(secs_mins)\n",
    "# [60, 120, 180]\n",
    "\n",
    "# 小时转换为秒钟\n",
    "secs_hours = [m*60*60 for m in hours]\n",
    "print(secs_hours)\n",
    "# [3600, 7200, 10800]"
   ]
  },
  {
   "cell_type": "code",
   "execution_count": 18,
   "metadata": {},
   "outputs": [
    {
     "data": {
      "text/plain": [
       "[3.281, 32.81, 9.843]"
      ]
     },
     "execution_count": 18,
     "metadata": {},
     "output_type": "execute_result"
    }
   ],
   "source": [
    "# 米转换为英尺\n",
    "meters = [1,10,3]\n",
    "feet = [m*3.281 for m in meters]\n",
    "feet\n",
    "# [3.281, 32.81, 9.843]"
   ]
  },
  {
   "cell_type": "code",
   "execution_count": 19,
   "metadata": {},
   "outputs": [
    {
     "data": {
      "text/plain": [
       "['I', \"DONT'T\", 'LIKE', 'SPAM']"
      ]
     },
     "execution_count": 19,
     "metadata": {},
     "output_type": "execute_result"
    }
   ],
   "source": [
    "# 小写全部转换为大写\n",
    "lower = ['I',\"dont't\",'like','spam']\n",
    "upper = [s.upper() for s in lower]\n",
    "upper\n",
    "# ['I', \"DONT'T\", 'LIKE', 'SPAM']"
   ]
  },
  {
   "cell_type": "code",
   "execution_count": 23,
   "metadata": {},
   "outputs": [
    {
     "data": {
      "text/plain": [
       "['2.22', '2.22', '2.22']"
      ]
     },
     "execution_count": 23,
     "metadata": {},
     "output_type": "execute_result"
    }
   ],
   "source": [
    "# 不整齐的时间格式转换为冒号整齐的时间格式\n",
    "dirty = ['2-22','2:22','2.22']\n",
    "clean = [sanitize(time) for time in dirty]\n",
    "clean\n",
    "# ['2.22', '2.22', '2.22']"
   ]
  },
  {
   "cell_type": "code",
   "execution_count": 26,
   "metadata": {},
   "outputs": [
    {
     "name": "stdout",
     "output_type": "stream",
     "text": [
      "[2.22, 2.22, 2.22]\n"
     ]
    },
    {
     "data": {
      "text/plain": [
       "list"
      ]
     },
     "execution_count": 26,
     "metadata": {},
     "output_type": "execute_result"
    }
   ],
   "source": [
    "# 替换原来的列表为浮点数据\n",
    "clean = ['2.22', '2.22', '2.22']\n",
    "clean = [float(s) for s in clean]\n",
    "print(clean)\n",
    "# [2.22, 2.22, 2.22]\n",
    "\n",
    "type(clean)\n",
    "# list"
   ]
  },
  {
   "cell_type": "code",
   "execution_count": 27,
   "metadata": {},
   "outputs": [
    {
     "data": {
      "text/plain": [
       "[2.22, 3.33, 4.44]"
      ]
     },
     "execution_count": 27,
     "metadata": {},
     "output_type": "execute_result"
    }
   ],
   "source": [
    "# 函数链作为列表推导式float(sanitize(time))\n",
    "dirty_time_ls = ['2-22','3:33','4.44']\n",
    "clean = [float(sanitize(time)) for time in dirty_time_ls]\n",
    "clean\n",
    "# [2.22, 3.33, 4.44]"
   ]
  },
  {
   "cell_type": "markdown",
   "metadata": {},
   "source": [
    "### 磨刀石-解决方案"
   ]
  },
  {
   "cell_type": "code",
   "execution_count": 29,
   "metadata": {},
   "outputs": [
    {
     "data": {
      "text/plain": [
       "['2.18', '2.25', '2.39', '2.54', '2.55', '2.55', '2.55', '2.58', '2.58']"
      ]
     },
     "execution_count": 29,
     "metadata": {},
     "output_type": "execute_result"
    }
   ],
   "source": [
    "sorted([sanitize(time) for time in james])\n",
    "# ['2.01', '2.01', '2.22', '2.34', '2.34', '2.45', '3.01', '3.10', '3.21']\n",
    "\n",
    "sorted([sanitize(time) for time in julie])\n",
    "# ['2.11', '2.11', '2.23', '2.23', '2.59', '3.10', '3.10', '3.21', '3.21']\n",
    "\n",
    "sorted([sanitize(time) for time in mikey])\n",
    "# ['2.22', '2.38', '2.49', '3.01', '3.01', '3.02', '3.02', '3.02', '3.22']\n",
    "\n",
    "sorted([sanitize(time) for time in sarah])\n",
    "# ['2.18', '2.25', '2.39', '2.54', '2.55', '2.55', '2.55', '2.58', '2.58']"
   ]
  },
  {
   "cell_type": "markdown",
   "metadata": {},
   "source": [
    "### 列表推导式-应用"
   ]
  },
  {
   "cell_type": "code",
   "execution_count": 30,
   "metadata": {},
   "outputs": [
    {
     "name": "stdout",
     "output_type": "stream",
     "text": [
      "['2.01', '2.01', '2.22', '2.34', '2.34', '2.45', '3.01', '3.10', '3.21']\n",
      "['2.11', '2.11', '2.23', '2.23', '2.59', '3.10', '3.10', '3.21', '3.21']\n",
      "['2.22', '2.38', '2.49', '3.01', '3.01', '3.02', '3.02', '3.02', '3.22']\n",
      "['2.18', '2.25', '2.39', '2.54', '2.55', '2.55', '2.55', '2.58', '2.58']\n"
     ]
    }
   ],
   "source": [
    "# 净化处理函数\n",
    "def sanitize(time_string):\n",
    "    if '-' in time_string:\n",
    "        splitter = '-'\n",
    "    elif ':' in time_string:\n",
    "        splitter = ':'\n",
    "    else:\n",
    "        return(time_string)\n",
    "    \n",
    "    (mins, secs) = time_string.split(splitter)\n",
    "    return(mins + '.' + secs)\n",
    "\n",
    "# 打开文件，处理文件到列表\n",
    "with open('james.txt') as jaf:\n",
    "    data = jaf.readline()\n",
    "james = data.strip().split(',')\n",
    "\n",
    "with open('julie.txt') as juf:\n",
    "    data = juf.readline()\n",
    "julie = data.strip().split(',')\n",
    "\n",
    "with open('mikey.txt') as mif:\n",
    "    data = mif.readline()\n",
    "mikey = data.strip().split(',')\n",
    "\n",
    "with open('sarah.txt') as saf:\n",
    "    data = saf.readline()\n",
    "sarah = data.strip().split(',')\n",
    "\n",
    "# 列表推导式\n",
    "print(sorted([sanitize(time) for time in james]))\n",
    "# ['2.01', '2.01', '2.22', '2.34', '2.34', '2.45', '3.01', '3.10', '3.21']\n",
    "\n",
    "print(sorted([sanitize(time) for time in julie]))\n",
    "# ['2.11', '2.11', '2.23', '2.23', '2.59', '3.10', '3.10', '3.21', '3.21']\n",
    "\n",
    "print(sorted([sanitize(time) for time in mikey]))\n",
    "# ['2.22', '2.38', '2.49', '3.01', '3.01', '3.02', '3.02', '3.02', '3.22']\n",
    "\n",
    "print(sorted([sanitize(time) for time in sarah]))\n",
    "# ['2.18', '2.25', '2.39', '2.54', '2.55', '2.55', '2.55', '2.58', '2.58']\n"
   ]
  },
  {
   "cell_type": "markdown",
   "metadata": {},
   "source": [
    "### 删除列表重复项"
   ]
  },
  {
   "cell_type": "code",
   "execution_count": 32,
   "metadata": {},
   "outputs": [
    {
     "data": {
      "text/plain": [
       "['2-34', '3:21', '2.34']"
      ]
     },
     "execution_count": 32,
     "metadata": {},
     "output_type": "execute_result"
    }
   ],
   "source": [
    "# 访问列表第1项\n",
    "james[0]\n",
    "# '2-34'\n",
    "\n",
    "# 访问列表第2项\n",
    "james[1]\n",
    "# '3:21'\n",
    "\n",
    "# 访问列表第0到第3项，但是不包括第三项\n",
    "james[0:3]\n",
    "# ['2-34', '3:21', '2.34']\n"
   ]
  },
  {
   "cell_type": "code",
   "execution_count": 34,
   "metadata": {},
   "outputs": [
    {
     "name": "stdout",
     "output_type": "stream",
     "text": [
      "['2.01', '2.01', '2.22', '2.34', '2.34', '2.45', '3.01', '3.10', '3.21']\n"
     ]
    },
    {
     "data": {
      "text/plain": [
       "9"
      ]
     },
     "execution_count": 34,
     "metadata": {},
     "output_type": "execute_result"
    }
   ],
   "source": [
    "# 排序\n",
    "james = sorted([sanitize(t) for t in james])\n",
    "print(james)\n",
    "# ['2.01', '2.01', '2.22', '2.34', '2.34', '2.45', '3.01', '3.10', '3.21']\n",
    "len(james)\n",
    "# 9"
   ]
  },
  {
   "cell_type": "code",
   "execution_count": 39,
   "metadata": {},
   "outputs": [
    {
     "name": "stdout",
     "output_type": "stream",
     "text": [
      "['2.01']\n",
      "['2.01', '2.22']\n",
      "['2.01', '2.22', '2.34']\n",
      "['2.01', '2.22', '2.34', '2.45']\n",
      "['2.01', '2.22', '2.34', '2.45', '3.01']\n",
      "['2.01', '2.22', '2.34', '2.45', '3.01', '3.10']\n",
      "['2.01', '2.22', '2.34', '2.45', '3.01', '3.10', '3.21']\n",
      "James Top 3:\n",
      "  ['2.01', '2.22', '2.34']\n"
     ]
    }
   ],
   "source": [
    "# 创建空列表，用来存放唯一的数据项\n",
    "unique_james = []\n",
    "\n",
    "james = ['2.01', '2.01', '2.22', '2.34', '2.34', '2.45', '3.01', '3.10', '3.21']\n",
    "# 在现有的数据列表上迭代处理\n",
    "for t in james:\n",
    "    if t not in unique_james:\n",
    "        unique_james.append(t)\n",
    "        print(unique_james)\n",
    "# ['2.01']\n",
    "# ['2.01', '2.22']\n",
    "# ['2.01', '2.22', '2.34']\n",
    "# ['2.01', '2.22', '2.34', '2.45']\n",
    "# ['2.01', '2.22', '2.34', '2.45', '3.01']\n",
    "# ['2.01', '2.22', '2.34', '2.45', '3.01', '3.10']\n",
    "# ['2.01', '2.22', '2.34', '2.45', '3.01', '3.10', '3.21']\n",
    "\n",
    "# 打印前三项\n",
    "print(\"James Top 3:\\n \",unique_james[0:3])"
   ]
  },
  {
   "cell_type": "markdown",
   "metadata": {},
   "source": [
    "### 测试代码"
   ]
  },
  {
   "cell_type": "code",
   "execution_count": 44,
   "metadata": {},
   "outputs": [
    {
     "name": "stdout",
     "output_type": "stream",
     "text": [
      "unique_james: \n",
      "\n",
      "['2.01']\n",
      "['2.01', '2.22']\n",
      "['2.01', '2.22', '2.34']\n",
      "['2.01', '2.22', '2.34', '2.45']\n",
      "['2.01', '2.22', '2.34', '2.45', '3.01']\n",
      "['2.01', '2.22', '2.34', '2.45', '3.01', '3.10']\n",
      "['2.01', '2.22', '2.34', '2.45', '3.01', '3.10', '3.21']\n",
      "\n",
      " unique_james Top 3: \n",
      " ['2.01', '2.22', '2.34']\n",
      "unique_julie: \n",
      "\n",
      "['2.11']\n",
      "['2.11', '2.23']\n",
      "['2.11', '2.23', '2.59']\n",
      "['2.11', '2.23', '2.59', '3.10']\n",
      "['2.11', '2.23', '2.59', '3.10', '3.21']\n",
      "\n",
      " unique_julie Top 3: \n",
      " ['2.11', '2.23', '2.59']\n",
      "unique_mikey: \n",
      "\n",
      "['2.22']\n",
      "['2.22', '2.38']\n",
      "['2.22', '2.38', '2.49']\n",
      "['2.22', '2.38', '2.49', '3.01']\n",
      "['2.22', '2.38', '2.49', '3.01', '3.02']\n",
      "['2.22', '2.38', '2.49', '3.01', '3.02', '3.22']\n",
      "\n",
      " unique_mikey Top 3: \n",
      " ['2.22', '2.38', '2.49']\n",
      "unique_sarah: \n",
      "\n",
      "['2.18']\n",
      "['2.18', '2.25']\n",
      "['2.18', '2.25', '2.39']\n",
      "['2.18', '2.25', '2.39', '2.54']\n",
      "['2.18', '2.25', '2.39', '2.54', '2.55']\n",
      "['2.18', '2.25', '2.39', '2.54', '2.55', '2.58']\n",
      "\n",
      " unique_sarah Top 3: \n",
      " ['2.18', '2.25', '2.39']\n"
     ]
    }
   ],
   "source": [
    "# 净化处理函数\n",
    "def sanitize(time_string):\n",
    "    if '-' in time_string:\n",
    "        splitter = '-'\n",
    "    elif ':' in time_string:\n",
    "        splitter = ':'\n",
    "    else:\n",
    "        return(time_string)\n",
    "    \n",
    "    (mins, secs) = time_string.split(splitter)\n",
    "    return(mins + '.' + secs)\n",
    "\n",
    "# 打开文件，处理文件到列表\n",
    "with open('james.txt') as jaf:\n",
    "    data = jaf.readline()\n",
    "james = data.strip().split(',')\n",
    "\n",
    "with open('julie.txt') as juf:\n",
    "    data = juf.readline()\n",
    "julie = data.strip().split(',')\n",
    "\n",
    "with open('mikey.txt') as mif:\n",
    "    data = mif.readline()\n",
    "mikey = data.strip().split(',')\n",
    "\n",
    "with open('sarah.txt') as saf:\n",
    "    data = saf.readline()\n",
    "sarah = data.strip().split(',')\n",
    "\n",
    "# 列表推导式，并排序\n",
    "james = sorted([sanitize(time) for time in james])\n",
    "# ['2.01', '2.01', '2.22', '2.34', '2.34', '2.45', '3.01', '3.10', '3.21']\n",
    "\n",
    "julie = sorted([sanitize(time) for time in julie])\n",
    "# ['2.11', '2.11', '2.23', '2.23', '2.59', '3.10', '3.10', '3.21', '3.21']\n",
    "\n",
    "mikey = sorted([sanitize(time) for time in mikey])\n",
    "# ['2.22', '2.38', '2.49', '3.01', '3.01', '3.02', '3.02', '3.02', '3.22']\n",
    "\n",
    "sarah = sorted([sanitize(time) for time in sarah])\n",
    "# ['2.18', '2.25', '2.39', '2.54', '2.55', '2.55', '2.55', '2.58', '2.58']\n",
    "\n",
    "# 删除重复项\n",
    "# 创建空列表，用来存放唯一的数据项\n",
    "unique_james = []\n",
    "unique_julie = []\n",
    "unique_mikey = []\n",
    "unique_sarah = []\n",
    "\n",
    "# 在现有的数据列表上迭代处理\n",
    "print(\"\\n unique_james: \\n\")\n",
    "for t in james:\n",
    "    if t not in unique_james:\n",
    "        unique_james.append(t)\n",
    "        print(unique_james)\n",
    "print(\"\\n unique_james Top 3: \\n\", unique_james[0:3])\n",
    "        \n",
    "print(\"\\n unique_julie: \\n\")\n",
    "for t in julie:\n",
    "    if t not in unique_julie:\n",
    "        unique_julie.append(t)\n",
    "        print(unique_julie)\n",
    "print(\"\\n unique_julie Top 3: \\n\", unique_julie[0:3])\n",
    "\n",
    "print(\"\\n unique_mikey: \\n\")\n",
    "for t in mikey:\n",
    "    if t not in unique_mikey:\n",
    "        unique_mikey.append(t)\n",
    "        print(unique_mikey)\n",
    "print(\"\\n unique_mikey Top 3: \\n\", unique_mikey[0:3])\n",
    "\n",
    "print(\"\\n unique_sarah: \\n\") \n",
    "for t in sarah:\n",
    "    if t not in unique_sarah:\n",
    "        unique_sarah.append(t)\n",
    "        print(unique_sarah)\n",
    "print(\"\\n unique_sarah Top 3: \\n\", unique_sarah[0:3])"
   ]
  },
  {
   "cell_type": "markdown",
   "metadata": {},
   "source": [
    "### 使用集合删除重复项\n",
    "\n",
    "> 集合是无序的，不允许重复项，如果有重复项，会被忽略"
   ]
  },
  {
   "cell_type": "code",
   "execution_count": 1,
   "metadata": {},
   "outputs": [
    {
     "data": {
      "text/plain": [
       "dict"
      ]
     },
     "execution_count": 1,
     "metadata": {},
     "output_type": "execute_result"
    }
   ],
   "source": [
    "distances = {}\n",
    "type(distances)\n",
    "# dict"
   ]
  },
  {
   "cell_type": "code",
   "execution_count": 2,
   "metadata": {},
   "outputs": [
    {
     "data": {
      "text/plain": [
       "set"
      ]
     },
     "execution_count": 2,
     "metadata": {},
     "output_type": "execute_result"
    }
   ],
   "source": [
    "# 使用内置的集合函数，创建一个新的集合\n",
    "distances = set()\n",
    "type(distances)\n",
    "# set"
   ]
  },
  {
   "cell_type": "code",
   "execution_count": 6,
   "metadata": {},
   "outputs": [
    {
     "name": "stdout",
     "output_type": "stream",
     "text": [
      "<class 'list'>\n",
      "{'2.34', '3.21', '2.45', '3.01', '3.10', '2.22', '2.01'}\n"
     ]
    }
   ],
   "source": [
    "james = ['2.01', '2.01', '2.22', '2.34', '2.34', '2.45', '3.01', '3.10', '3.21']\n",
    "print(type(james))\n",
    "# <class 'list'>\n",
    "\n",
    "distances = set(james)\n",
    "print(distances)\n",
    "# {'3.10', '2.22', '3.21', '3.01', '2.45', '2.34', '2.01'}"
   ]
  },
  {
   "cell_type": "code",
   "execution_count": 7,
   "metadata": {},
   "outputs": [
    {
     "data": {
      "text/plain": [
       "['2.01', '2.22', '2.34', '2.45', '3.01', '3.10', '3.21']"
      ]
     },
     "execution_count": 7,
     "metadata": {},
     "output_type": "execute_result"
    }
   ],
   "source": [
    "sorted(set(james))\n",
    "# ['2.01', '2.22', '2.34', '2.45', '3.01', '3.10', '3.21']"
   ]
  },
  {
   "cell_type": "code",
   "execution_count": 21,
   "metadata": {},
   "outputs": [
    {
     "data": {
      "text/plain": [
       "['2.18', '2.25', '2.39']"
      ]
     },
     "execution_count": 21,
     "metadata": {},
     "output_type": "execute_result"
    }
   ],
   "source": [
    "# 净化处理函数\n",
    "def sanitize(time_string):\n",
    "    if '-' in time_string:\n",
    "        splitter = '-'\n",
    "    elif ':' in time_string:\n",
    "        splitter = ':'\n",
    "    else:\n",
    "        return(time_string)\n",
    "    \n",
    "    (mins, secs) = time_string.split(splitter)\n",
    "    return(mins + '.' + secs)\n",
    "\n",
    "# unique_james Top 3: \n",
    "sorted(set([sanitize(time) for time in james]))[0:3]\n",
    "# ['2.01', '2.22', '2.34']\n",
    "\n",
    "# unique_julie Top 3: \n",
    "sorted(set([sanitize(time) for time in julie]))[0:3]\n",
    "# ['2.11', '2.23', '2.59']\n",
    "\n",
    "# unique_mikey Top 3: \n",
    "sorted(set([sanitize(time) for time in mikey]))[0:3]\n",
    "# ['2.22', '2.38', '2.49']\n",
    "\n",
    "# unique_sarah Top 3: \n",
    "sorted(set([sanitize(time) for time in sarah]))[0:3]\n",
    "# ['2.18', '2.25', '2.39']"
   ]
  },
  {
   "cell_type": "markdown",
   "metadata": {},
   "source": [
    "### 代码审查-重复代码函数化"
   ]
  },
  {
   "cell_type": "code",
   "execution_count": 26,
   "metadata": {},
   "outputs": [
    {
     "name": "stdout",
     "output_type": "stream",
     "text": [
      "['2-34', '3:21', '2.34', '2.45', '3.01', '2:01', '2:01', '3:10', '2-22']\n",
      "['2.59', '2.11', '2:11', '2:23', '3-10', '2-23', '3:10', '3.21', '3-21']\n",
      "['2:22', '3.01', '3:01', '3.02', '3:02', '3.02', '3:22', '2.49', '2:38']\n",
      "['2:58', '2.58', '2:39', '2-25', '2-55', '2:54', '2.18', '2:55', '2:55']\n",
      "['2.01', '2.22', '2.34']\n",
      "['2.11', '2.23', '2.59']\n",
      "['2.22', '2.38', '2.49']\n",
      "['2.18', '2.25', '2.39']\n"
     ]
    }
   ],
   "source": [
    "# Page 170\n",
    "# 净化处理函数\n",
    "def sanitize(time_string):\n",
    "    if '-' in time_string:\n",
    "        splitter = '-'\n",
    "    elif ':' in time_string:\n",
    "        splitter = ':'\n",
    "    else:\n",
    "        return(time_string)\n",
    "    \n",
    "    (mins, secs) = time_string.split(splitter)\n",
    "    return(mins + '.' + secs)\n",
    "\n",
    "# 打开文件，处理文件到列表\n",
    "with open('james.txt') as jaf:\n",
    "    data = jaf.readline()\n",
    "james = data.strip().split(',')\n",
    "\n",
    "with open('julie.txt') as juf:\n",
    "    data = juf.readline()\n",
    "julie = data.strip().split(',')\n",
    "\n",
    "with open('mikey.txt') as mif:\n",
    "    data = mif.readline()\n",
    "mikey = data.strip().split(',')\n",
    "\n",
    "with open('sarah.txt') as saf:\n",
    "    data = saf.readline()\n",
    "sarah = data.strip().split(',')\n",
    "\n",
    "print(james)\n",
    "# ['2-34', '3:21', '2.34', '2.45', '3.01', '2:01', '2:01', '3:10', '2-22']\n",
    "print(julie)\n",
    "# ['2.59', '2.11', '2:11', '2:23', '3-10', '2-23', '3:10', '3.21', '3-21']\n",
    "print(mikey)\n",
    "# ['2:22', '3.01', '3:01', '3.02', '3:02', '3.02', '3:22', '2.49', '2:38']\n",
    "print(sarah)\n",
    "# ['2:58', '2.58', '2:39', '2-25', '2-55', '2:54', '2.18', '2:55', '2:55']\n",
    "\n",
    "\n",
    "# 以上文件打开，数据处理重复代码合并到一个函数\n",
    "def get_coach_data(filename):\n",
    "    try:\n",
    "        with open(filename) as f:\n",
    "            data = f.readline()\n",
    "        return(data.strip().split(','))\n",
    "    except IOError as ioerr:\n",
    "        print('File error: ' + str(ioerr))\n",
    "        return(None)\n",
    "\n",
    "james2 = get_coach_data('james.txt')\n",
    "# print(james2)\n",
    "# ['2-34', '3:21', '2.34', '2.45', '3.01', '2:01', '2:01', '3:10', '2-22']\n",
    "\n",
    "julie2 = get_coach_data('julie.txt')\n",
    "# print(julie2)\n",
    "# ['2:58', '2.58', '2:39', '2-25', '2-55', '2:54', '2.18', '2:55', '2:55']\n",
    "\n",
    "mikey2 = get_coach_data('mikey.txt')\n",
    "# print(mikey2)\n",
    "# ['2:22', '3.01', '3:01', '3.02', '3:02', '3.02', '3:22', '2.49', '2:38']\n",
    "\n",
    "sarah2 = get_coach_data('sarah.txt')\n",
    "# print(sarah2)\n",
    "# ['2:58', '2.58', '2:39', '2-25', '2-55', '2:54', '2.18', '2:55', '2:55']\n",
    "\n",
    "# unique_james Top 3: \n",
    "print(sorted(set([sanitize(time) for time in james]))[0:3])\n",
    "# ['2.01', '2.22', '2.34']\n",
    "\n",
    "# unique_julie Top 3: \n",
    "print(sorted(set([sanitize(time) for time in julie]))[0:3])\n",
    "# ['2.11', '2.23', '2.59']\n",
    "\n",
    "# unique_mikey Top 3: \n",
    "print(sorted(set([sanitize(time) for time in mikey]))[0:3])\n",
    "# ['2.22', '2.38', '2.49']\n",
    "\n",
    "# unique_sarah Top 3: \n",
    "print(sorted(set([sanitize(time) for time in sarah]))[0:3])\n",
    "# ['2.18', '2.25', '2.39']"
   ]
  },
  {
   "cell_type": "code",
   "execution_count": null,
   "metadata": {},
   "outputs": [],
   "source": []
  }
 ],
 "metadata": {
  "kernelspec": {
   "display_name": "Python 3",
   "language": "python",
   "name": "python3"
  },
  "language_info": {
   "codemirror_mode": {
    "name": "ipython",
    "version": 3
   },
   "file_extension": ".py",
   "mimetype": "text/x-python",
   "name": "python",
   "nbconvert_exporter": "python",
   "pygments_lexer": "ipython3",
   "version": "3.7.8"
  },
  "toc": {
   "base_numbering": 1,
   "nav_menu": {},
   "number_sections": true,
   "sideBar": true,
   "skip_h1_title": false,
   "title_cell": "Table of Contents",
   "title_sidebar": "Contents",
   "toc_cell": true,
   "toc_position": {
    "height": "calc(100% - 180px)",
    "left": "10px",
    "top": "150px",
    "width": "288px"
   },
   "toc_section_display": true,
   "toc_window_display": true
  }
 },
 "nbformat": 4,
 "nbformat_minor": 1
}
