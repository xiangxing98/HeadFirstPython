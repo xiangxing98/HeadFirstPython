{
 "cells": [
  {
   "cell_type": "markdown",
   "metadata": {},
   "source": [
    "## Chapter 6. Custom data Objects: Bundling code with data"
   ]
  },
  {
   "cell_type": "markdown",
   "metadata": {
    "collapsed": true
   },
   "source": [
    "### Code Magnets Exercise"
   ]
  },
  {
   "cell_type": "code",
   "execution_count": 5,
   "metadata": {
    "collapsed": true
   },
   "outputs": [],
   "source": [
    "def sanitize(time_string):\n",
    "    if \"-\" in time_string:\n",
    "        splitter = \"-\"\n",
    "    elif \":\" in time_string:\n",
    "        splitter = \":\"\n",
    "    else:\n",
    "        return time_string\n",
    "    \n",
    "    (mins, secs) = time_string.split(splitter)\n",
    "    return (mins + \".\" + secs)\n"
   ]
  },
  {
   "cell_type": "code",
   "execution_count": 6,
   "metadata": {
    "collapsed": true
   },
   "outputs": [],
   "source": [
    "def get_coach_data(filename):\n",
    "    try:\n",
    "        with open(filename) as f:\n",
    "            data = f.readline()\n",
    "        return(data.strip().split(','))\n",
    "    except IOError as ioerr:\n",
    "        print(\"File error: \" + str(ioerr))\n",
    "        return(None)"
   ]
  },
  {
   "cell_type": "code",
   "execution_count": 7,
   "metadata": {
    "collapsed": false
   },
   "outputs": [
    {
     "name": "stdout",
     "output_type": "stream",
     "text": [
      "Sarah Sweeney's fastest times are: ['2.18', '2.21', '2.22']\n"
     ]
    }
   ],
   "source": [
    "sarah = get_coach_data(\"hfpy_ch6_data/sarah2.txt\")\n",
    "(sarah_name, sarah_dob) = sarah.pop(0), sarah.pop(0)\n",
    "print(sarah_name + \"'s fastest times are: \" + str(sorted(set([sanitize(t) for t in sarah]))[0:3]))"
   ]
  },
  {
   "cell_type": "markdown",
   "metadata": {},
   "source": [
    "### Use a dictionary to associate data"
   ]
  },
  {
   "cell_type": "markdown",
   "metadata": {},
   "source": [
    "### An idle session - dictionary in action"
   ]
  },
  {
   "cell_type": "code",
   "execution_count": 10,
   "metadata": {
    "collapsed": false
   },
   "outputs": [
    {
     "name": "stdout",
     "output_type": "stream",
     "text": [
      "<class 'dict'>\n",
      "<class 'dict'>\n"
     ]
    }
   ],
   "source": [
    "cleese = {}\n",
    "palin = dict()\n",
    "\n",
    "print(type(cleese))\n",
    "\n",
    "print(type(palin))\n",
    "\n",
    "\n"
   ]
  },
  {
   "cell_type": "code",
   "execution_count": 11,
   "metadata": {
    "collapsed": true
   },
   "outputs": [],
   "source": [
    "cleese[\"Name\"] = \"John Cleese\"\n",
    "cleese[\"Occupations\"] = [\"actor\", \"comedian\", \"writer\",\"film producer\"]\n",
    "\n",
    "palin = {\"Name\" : \"Micahel Palin\", \"Occupations\": [\"comedian\", \"actor\", \"writer\", \"tv\"]}\n",
    "\n"
   ]
  },
  {
   "cell_type": "code",
   "execution_count": 14,
   "metadata": {
    "collapsed": false
   },
   "outputs": [
    {
     "name": "stdout",
     "output_type": "stream",
     "text": [
      "Micahel Palin\n",
      "film producer\n"
     ]
    }
   ],
   "source": [
    "print(palin[\"Name\"])\n",
    "\n",
    "print(cleese[\"Occupations\"][-1])"
   ]
  },
  {
   "cell_type": "code",
   "execution_count": 15,
   "metadata": {
    "collapsed": true
   },
   "outputs": [],
   "source": [
    "palin[\"Birthplace\"] = \"Broomhill, Sheffield, England\"\n",
    "cleese[\"Birthplace\"] = \"Weston-super-Mare, North Somerset, England\"\n"
   ]
  },
  {
   "cell_type": "code",
   "execution_count": 16,
   "metadata": {
    "collapsed": false
   },
   "outputs": [
    {
     "name": "stdout",
     "output_type": "stream",
     "text": [
      "{'Birthplace': 'Broomhill, Sheffield, England', 'Occupations': ['comedian', 'actor', 'writer', 'tv'], 'Name': 'Micahel Palin'}\n"
     ]
    }
   ],
   "source": [
    "print(palin)"
   ]
  },
  {
   "cell_type": "code",
   "execution_count": 17,
   "metadata": {
    "collapsed": false
   },
   "outputs": [
    {
     "name": "stdout",
     "output_type": "stream",
     "text": [
      "{'Birthplace': 'Weston-super-Mare, North Somerset, England', 'Occupations': ['actor', 'comedian', 'writer', 'film producer'], 'Name': 'John Cleese'}\n"
     ]
    }
   ],
   "source": [
    "print(cleese)"
   ]
  },
  {
   "cell_type": "markdown",
   "metadata": {},
   "source": [
    "### Exercise - Dictionary - change code to use dictionary"
   ]
  },
  {
   "cell_type": "code",
   "execution_count": 23,
   "metadata": {
    "collapsed": false
   },
   "outputs": [
    {
     "name": "stdout",
     "output_type": "stream",
     "text": [
      "Sarah Sweeney's fastest times are: ['2.18', '2.21', '2.22']\n"
     ]
    }
   ],
   "source": [
    "sarah = get_coach_data(\"hfpy_ch6_data/sarah2.txt\")\n",
    "sarah_data = {}\n",
    "sarah_data[\"Name\"] = sarah.pop(0)\n",
    "sarah_data[\"DOB\"] = sarah.pop(0)\n",
    "sarah_data[\"Times\"] = sarah\n",
    "\n",
    "print(sarah_data[\"Name\"] + \"'s fastest times are: \" + \n",
    "      str(sorted(set([sanitize(t) for t in sarah_data[\"Times\"]]))[0:3]))\n",
    "\n",
    "\n",
    "#(sarah_name, sarah_dob) = sarah.pop(0), sarah.pop(0)\n",
    "#print(sarah_name + \"'s fastest times are: \" + str(sorted(set([sanitize(t) for t in sarah]))[0:3]))"
   ]
  },
  {
   "cell_type": "markdown",
   "metadata": {},
   "source": [
    "Head First Code Review - Dictionary use"
   ]
  },
  {
   "cell_type": "code",
   "execution_count": 38,
   "metadata": {
    "collapsed": false
   },
   "outputs": [],
   "source": [
    "def get_coach_data(filename):\n",
    "    try:\n",
    "        with open(filename) as f:\n",
    "            data = f.readline()\n",
    "        temp = data.strip().split(',')\n",
    "        return ({\"Name\" : temp.pop(0),\n",
    "                \"DOB\": temp.pop(0),\n",
    "                \"Times\" : str(sorted(set([sanitize(t) for t in temp])) [0:3])})\n",
    "       \n",
    "        \n",
    "    except IOError as ioerr:\n",
    "        print(\"File error: \" + str(ioerr))\n",
    "        return(None)"
   ]
  },
  {
   "cell_type": "code",
   "execution_count": 47,
   "metadata": {
    "collapsed": false
   },
   "outputs": [
    {
     "name": "stdout",
     "output_type": "stream",
     "text": [
      "Sarah Sweeney's fastest times are: ['2.18', '2.21', '2.22']\n",
      "James Lee's fastest times are: ['2.01', '2.16', '2.22']\n",
      "Julie Jones's fastest times are: ['2.11', '2.23', '2.59']\n",
      "Mikey McManus's fastest times are: ['2.22', '2.31', '2.38']\n"
     ]
    }
   ],
   "source": [
    "sarah = get_coach_data(\"hfpy_ch6_data/sarah2.txt\")\n",
    "james = get_coach_data(\"hfpy_ch6_data/james2.txt\")\n",
    "julie = get_coach_data(\"hfpy_ch6_data/julie2.txt\")\n",
    "mikey = get_coach_data(\"hfpy_ch6_data/mikey2.txt\")\n",
    "\n",
    "\n",
    "print(sarah[\"Name\"] + \"'s fastest times are: \" + sarah[\"Times\"])\n",
    "print(james[\"Name\"] + \"'s fastest times are: \" + james[\"Times\"])\n",
    "print(julie[\"Name\"] + \"'s fastest times are: \" + julie[\"Times\"])\n",
    "print(mikey[\"Name\"] + \"'s fastest times are: \" + mikey[\"Times\"])\n",
    "\n",
    "\n",
    "\n",
    "\n",
    "\n",
    "\n",
    "\n",
    "\n"
   ]
  },
  {
   "cell_type": "markdown",
   "metadata": {},
   "source": [
    "### Testing out Athlete"
   ]
  },
  {
   "cell_type": "code",
   "execution_count": 50,
   "metadata": {
    "collapsed": true
   },
   "outputs": [],
   "source": [
    "class Athlete:\n",
    "    def __init__(self, a_name, a_dob=None, a_times=[]):\n",
    "        self.name = a_name\n",
    "        self.dob = a_dob\n",
    "        self.times = a_times"
   ]
  },
  {
   "cell_type": "code",
   "execution_count": 53,
   "metadata": {
    "collapsed": false
   },
   "outputs": [
    {
     "name": "stdout",
     "output_type": "stream",
     "text": [
      "<class '__main__.Athlete'>\n",
      "<class '__main__.Athlete'>\n"
     ]
    }
   ],
   "source": [
    "sarah = Athlete(\"Sarah Sweeny\", \"2002-6-17\", [\"2:58\", \"2.58\", \"1.56\"])\n",
    "james = Athlete(\"James Jones\")\n",
    "print(type(sarah))\n",
    "print(type(james))"
   ]
  },
  {
   "cell_type": "code",
   "execution_count": 56,
   "metadata": {
    "collapsed": false
   },
   "outputs": [
    {
     "name": "stdout",
     "output_type": "stream",
     "text": [
      "<__main__.Athlete object at 0x10443acf8>\n",
      "<__main__.Athlete object at 0x10443ac50>\n"
     ]
    }
   ],
   "source": [
    "print(sarah)\n",
    "print(james)\n"
   ]
  },
  {
   "cell_type": "code",
   "execution_count": 57,
   "metadata": {
    "collapsed": false
   },
   "outputs": [
    {
     "data": {
      "text/plain": [
       "'Sarah Sweeny'"
      ]
     },
     "execution_count": 57,
     "metadata": {},
     "output_type": "execute_result"
    }
   ],
   "source": [
    "sarah.name"
   ]
  },
  {
   "cell_type": "code",
   "execution_count": 58,
   "metadata": {
    "collapsed": false
   },
   "outputs": [
    {
     "data": {
      "text/plain": [
       "'James Jones'"
      ]
     },
     "execution_count": 58,
     "metadata": {},
     "output_type": "execute_result"
    }
   ],
   "source": [
    "james.name"
   ]
  },
  {
   "cell_type": "code",
   "execution_count": 59,
   "metadata": {
    "collapsed": false
   },
   "outputs": [
    {
     "data": {
      "text/plain": [
       "'2002-6-17'"
      ]
     },
     "execution_count": 59,
     "metadata": {},
     "output_type": "execute_result"
    }
   ],
   "source": [
    "sarah.dob"
   ]
  },
  {
   "cell_type": "code",
   "execution_count": 61,
   "metadata": {
    "collapsed": true
   },
   "outputs": [],
   "source": [
    "james.dob"
   ]
  },
  {
   "cell_type": "code",
   "execution_count": null,
   "metadata": {
    "collapsed": true
   },
   "outputs": [],
   "source": []
  }
 ],
 "metadata": {
  "kernelspec": {
   "display_name": "Python 3",
   "language": "python",
   "name": "python3"
  },
  "language_info": {
   "codemirror_mode": {
    "name": "ipython",
    "version": 3
   },
   "file_extension": ".py",
   "mimetype": "text/x-python",
   "name": "python",
   "nbconvert_exporter": "python",
   "pygments_lexer": "ipython3",
   "version": "3.5.1"
  }
 },
 "nbformat": 4,
 "nbformat_minor": 0
}
