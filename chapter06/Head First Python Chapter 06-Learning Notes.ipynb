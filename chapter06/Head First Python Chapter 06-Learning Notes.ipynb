{
 "cells": [
  {
   "cell_type": "markdown",
   "metadata": {
    "toc": true
   },
   "source": [
    "<h1>Table of Contents<span class=\"tocSkip\"></span></h1>\n",
    "<div class=\"toc\"><ul class=\"toc-item\"><li><span><a href=\"#Chapter-6.-Custom-data-Objects:-Bundling-code-with-data\" data-toc-modified-id=\"Chapter-6.-Custom-data-Objects:-Bundling-code-with-data-1\"><span class=\"toc-item-num\">1&nbsp;&nbsp;</span>Chapter 6. Custom data Objects: Bundling code with data</a></span><ul class=\"toc-item\"><li><span><a href=\"#代码磁铁练习-Code-Magnets-Exercise\" data-toc-modified-id=\"代码磁铁练习-Code-Magnets-Exercise-1.1\"><span class=\"toc-item-num\">1.1&nbsp;&nbsp;</span>代码磁铁练习 Code Magnets Exercise</a></span><ul class=\"toc-item\"><li><span><a href=\"#重复利用函数\" data-toc-modified-id=\"重复利用函数-1.1.1\"><span class=\"toc-item-num\">1.1.1&nbsp;&nbsp;</span>重复利用函数</a></span></li><li><span><a href=\"#pop()方法从指定列表位置删除并返回一个数据项\" data-toc-modified-id=\"pop()方法从指定列表位置删除并返回一个数据项-1.1.2\"><span class=\"toc-item-num\">1.1.2&nbsp;&nbsp;</span>pop()方法从指定列表位置删除并返回一个数据项</a></span></li></ul></li><li><span><a href=\"#使用字典关联数据Use-a-dictionary-to-associate-data\" data-toc-modified-id=\"使用字典关联数据Use-a-dictionary-to-associate-data-1.2\"><span class=\"toc-item-num\">1.2&nbsp;&nbsp;</span>使用字典关联数据Use a dictionary to associate data</a></span><ul class=\"toc-item\"><li><span><a href=\"#创建字典-映射-散列-关联数组\" data-toc-modified-id=\"创建字典-映射-散列-关联数组-1.2.1\"><span class=\"toc-item-num\">1.2.1&nbsp;&nbsp;</span>创建字典-映射-散列-关联数组</a></span><ul class=\"toc-item\"><li><span><a href=\"#Python字典的具体使用\" data-toc-modified-id=\"Python字典的具体使用-1.2.1.1\"><span class=\"toc-item-num\">1.2.1.1&nbsp;&nbsp;</span>Python字典的具体使用</a></span></li><li><span><a href=\"#字典赋值\" data-toc-modified-id=\"字典赋值-1.2.1.2\"><span class=\"toc-item-num\">1.2.1.2&nbsp;&nbsp;</span>字典赋值</a></span></li><li><span><a href=\"#字典访问数据\" data-toc-modified-id=\"字典访问数据-1.2.1.3\"><span class=\"toc-item-num\">1.2.1.3&nbsp;&nbsp;</span>字典访问数据</a></span></li><li><span><a href=\"#动态扩展-增加数据\" data-toc-modified-id=\"动态扩展-增加数据-1.2.1.4\"><span class=\"toc-item-num\">1.2.1.4&nbsp;&nbsp;</span>动态扩展-增加数据</a></span></li></ul></li><li><span><a href=\"#练习使用字典An-idle-session---dictionary-in-action\" data-toc-modified-id=\"练习使用字典An-idle-session---dictionary-in-action-1.2.2\"><span class=\"toc-item-num\">1.2.2&nbsp;&nbsp;</span>练习使用字典An idle session - dictionary in action</a></span></li><li><span><a href=\"#练习-把代码改写成字典Exercise---Dictionary---change-code-to-use-dictionary\" data-toc-modified-id=\"练习-把代码改写成字典Exercise---Dictionary---change-code-to-use-dictionary-1.2.3\"><span class=\"toc-item-num\">1.2.3&nbsp;&nbsp;</span>练习-把代码改写成字典Exercise - Dictionary - change code to use dictionary</a></span></li><li><span><a href=\"#代码审查-Head-First-Code-Review---Dictionary-use\" data-toc-modified-id=\"代码审查-Head-First-Code-Review---Dictionary-use-1.2.4\"><span class=\"toc-item-num\">1.2.4&nbsp;&nbsp;</span>代码审查 Head First Code Review - Dictionary use</a></span><ul class=\"toc-item\"><li><span><a href=\"#调用函数-打印输出结果\" data-toc-modified-id=\"调用函数-打印输出结果-1.2.4.1\"><span class=\"toc-item-num\">1.2.4.1&nbsp;&nbsp;</span>调用函数-打印输出结果</a></span></li></ul></li></ul></li><li><span><a href=\"#将代码以及数据打包到类中\" data-toc-modified-id=\"将代码以及数据打包到类中-1.3\"><span class=\"toc-item-num\">1.3&nbsp;&nbsp;</span>将代码以及数据打包到类中</a></span><ul class=\"toc-item\"><li><span><a href=\"#定义一个类\" data-toc-modified-id=\"定义一个类-1.3.1\"><span class=\"toc-item-num\">1.3.1&nbsp;&nbsp;</span>定义一个类</a></span><ul class=\"toc-item\"><li><span><a href=\"#使用Class定义类\" data-toc-modified-id=\"使用Class定义类-1.3.1.1\"><span class=\"toc-item-num\">1.3.1.1&nbsp;&nbsp;</span>使用Class定义类</a></span></li><li><span><a href=\"#创建对象实例\" data-toc-modified-id=\"创建对象实例-1.3.1.2\"><span class=\"toc-item-num\">1.3.1.2&nbsp;&nbsp;</span>创建对象实例</a></span></li></ul></li><li><span><a href=\"#练习使用类\" data-toc-modified-id=\"练习使用类-1.3.2\"><span class=\"toc-item-num\">1.3.2&nbsp;&nbsp;</span>练习使用类</a></span><ul class=\"toc-item\"><li><span><a href=\"#访问与各个对象关联的属性\" data-toc-modified-id=\"访问与各个对象关联的属性-1.3.2.1\"><span class=\"toc-item-num\">1.3.2.1&nbsp;&nbsp;</span>访问与各个对象关联的属性</a></span></li></ul></li><li><span><a href=\"#练习-把代码改写成类\" data-toc-modified-id=\"练习-把代码改写成类-1.3.3\"><span class=\"toc-item-num\">1.3.3&nbsp;&nbsp;</span>练习-把代码改写成类</a></span><ul class=\"toc-item\"><li><span><a href=\"#调用类-输出结果\" data-toc-modified-id=\"调用类-输出结果-1.3.3.1\"><span class=\"toc-item-num\">1.3.3.1&nbsp;&nbsp;</span>调用类-输出结果</a></span></li><li><span><a href=\"#增加两个类的方法\" data-toc-modified-id=\"增加两个类的方法-1.3.3.2\"><span class=\"toc-item-num\">1.3.3.2&nbsp;&nbsp;</span>增加两个类的方法</a></span></li></ul></li><li><span><a href=\"#继承内置的类\" data-toc-modified-id=\"继承内置的类-1.3.4\"><span class=\"toc-item-num\">1.3.4&nbsp;&nbsp;</span>继承内置的类</a></span><ul class=\"toc-item\"><li><span><a href=\"#继承内置的类基础写法\" data-toc-modified-id=\"继承内置的类基础写法-1.3.4.1\"><span class=\"toc-item-num\">1.3.4.1&nbsp;&nbsp;</span>继承内置的类基础写法</a></span></li><li><span><a href=\"#使用父类的方法补充数据\" data-toc-modified-id=\"使用父类的方法补充数据-1.3.4.2\"><span class=\"toc-item-num\">1.3.4.2&nbsp;&nbsp;</span>使用父类的方法补充数据</a></span></li></ul></li><li><span><a href=\"#练习使用继承的list类改写代码\" data-toc-modified-id=\"练习使用继承的list类改写代码-1.3.5\"><span class=\"toc-item-num\">1.3.5&nbsp;&nbsp;</span>练习使用继承的list类改写代码</a></span></li></ul></li><li><span><a href=\"#动手做一遍\" data-toc-modified-id=\"动手做一遍-1.4\"><span class=\"toc-item-num\">1.4&nbsp;&nbsp;</span>动手做一遍</a></span><ul class=\"toc-item\"><li><span><a href=\"#定义函数-类-方法\" data-toc-modified-id=\"定义函数-类-方法-1.4.1\"><span class=\"toc-item-num\">1.4.1&nbsp;&nbsp;</span>定义函数-类-方法</a></span></li><li><span><a href=\"#处理数据\" data-toc-modified-id=\"处理数据-1.4.2\"><span class=\"toc-item-num\">1.4.2&nbsp;&nbsp;</span>处理数据</a></span></li><li><span><a href=\"#打印输出\" data-toc-modified-id=\"打印输出-1.4.3\"><span class=\"toc-item-num\">1.4.3&nbsp;&nbsp;</span>打印输出</a></span></li></ul></li><li><span><a href=\"#关键知识点\" data-toc-modified-id=\"关键知识点-1.5\"><span class=\"toc-item-num\">1.5&nbsp;&nbsp;</span>关键知识点</a></span></li></ul></li></ul></div>"
   ]
  },
  {
   "cell_type": "markdown",
   "metadata": {},
   "source": [
    "# Chapter 6. Custom data Objects: Bundling code with data \n",
    "\n",
    "> Head First Python Chapter 06-Learning Notes\n",
    "\n",
    "定制数据对象"
   ]
  },
  {
   "cell_type": "markdown",
   "metadata": {},
   "source": [
    "## 代码磁铁练习 Code Magnets Exercise"
   ]
  },
  {
   "cell_type": "markdown",
   "metadata": {},
   "source": [
    "### 重复利用函数"
   ]
  },
  {
   "cell_type": "code",
   "execution_count": 187,
   "metadata": {},
   "outputs": [],
   "source": [
    "# sanitize function from chapter 5\n",
    "def sanitize(time_string):\n",
    "    if '-' in time_string:\n",
    "        splitter = '-'\n",
    "    elif ':' in time_string:\n",
    "        splitter = ':'\n",
    "    else:\n",
    "        return (time_string)\n",
    "\n",
    "    (mins, secs) = time_string.split(splitter)\n",
    "    return (mins + '.' + secs)\n",
    "\n",
    "# get_coach_data function from chapter 5\n",
    "def get_coach_data(filename):\n",
    "    try:\n",
    "        with open(filename) as f:\n",
    "            data = f.readline()\n",
    "        return (data.strip().split(','))\n",
    "    except IOError as ioerr:\n",
    "        print('File error: ' + str(ioerr))\n",
    "        return (None)"
   ]
  },
  {
   "cell_type": "markdown",
   "metadata": {},
   "source": [
    "### pop()方法从指定列表位置删除并返回一个数据项"
   ]
  },
  {
   "cell_type": "code",
   "execution_count": 11,
   "metadata": {},
   "outputs": [
    {
     "name": "stdout",
     "output_type": "stream",
     "text": [
      "Sarah Sweeney's fastest times are: ['2.18', '2.21', '2.22']\n"
     ]
    }
   ],
   "source": [
    "# 使用定义的方法，把文件读取入，并转为一个列表，赋值给sarah变量\n",
    "sarah = get_coach_data('sarah2.txt')\n",
    "\n",
    "# print(sarah)\n",
    "# ['Sarah Sweeney', '2002-6-17',\n",
    "# '2:58', '2.58', '2:39', '2-25', '2-55', '2:54', '2.18', '2:55', '2:55', '2:22', '2-21', '2.22']\n",
    "\n",
    "# pop()方法从指定列表位置删除并返回一个数据项\n",
    "\n",
    "# pop(0)调用，将删除并返回列表最前面的数据项。\n",
    "# print(sarah.pop(0))\n",
    "# Sarah Sweeney\n",
    "\n",
    "# 连续两个pop(0)调用，将删除前面两个数据项，并把它们赋值给指定的变量\n",
    "# print(sarah.pop(0),sarah.pop(0))\n",
    "# Sarah Sweeney 2002-6-17\n",
    "\n",
    "# 元组：tuple，用()，就相当于不可修改的list\n",
    "(sarah_name, sarah_dob) = sarah.pop(0), sarah.pop(0)\n",
    "# sarah_name\n",
    "# 'Sarah Sweeney'\n",
    "\n",
    "# sarah_dob\n",
    "# '2002-6-17'\n",
    "\n",
    "# print(sarah)\n",
    "# ['2:58', '2.58', '2:39', '2-25', '2-55', '2:54', '2.18', '2:55', '2:55', '2:22', '2-21', '2.22']\n",
    "\n",
    "print(sarah_name + \"'s fastest times are: \" + str(sorted(set([sanitize(t) for t in sarah]))[0:3]))\n",
    "# Sarah Sweeney's fastest times are: ['2.18', '2.21', '2.22']"
   ]
  },
  {
   "cell_type": "code",
   "execution_count": 12,
   "metadata": {},
   "outputs": [
    {
     "name": "stdout",
     "output_type": "stream",
     "text": [
      "Sarah Sweeney's fastest times are: ['2.18', '2.21', '2.22']\n"
     ]
    }
   ],
   "source": [
    "# Final Code as below:\n",
    "sarah = get_coach_data(\"sarah2.txt\")\n",
    "(sarah_name, sarah_dob) = sarah.pop(0), sarah.pop(0)\n",
    "print(sarah_name + \"'s fastest times are: \" + str(sorted(set([sanitize(t) for t in sarah]))[0:3]))\n",
    "# Sarah Sweeney's fastest times are: ['2.18', '2.21', '2.22']"
   ]
  },
  {
   "cell_type": "markdown",
   "metadata": {},
   "source": [
    "## 使用字典关联数据Use a dictionary to associate data"
   ]
  },
  {
   "cell_type": "markdown",
   "metadata": {},
   "source": [
    "### 创建字典-映射-散列-关联数组\n",
    "\n",
    "#### Python字典的具体使用"
   ]
  },
  {
   "cell_type": "code",
   "execution_count": 15,
   "metadata": {},
   "outputs": [
    {
     "name": "stdout",
     "output_type": "stream",
     "text": [
      "<class 'dict'>\n",
      "<class 'dict'>\n"
     ]
    }
   ],
   "source": [
    "# 创建空字典方法1\n",
    "cleese = {}\n",
    "print(type(cleese))\n",
    "# <class 'dict'>\n",
    "\n",
    "# 创建空字典方法2\n",
    "paline = dict()\n",
    "print(type(paline))\n",
    "# <class 'dict'>"
   ]
  },
  {
   "cell_type": "markdown",
   "metadata": {},
   "source": [
    "#### 字典赋值"
   ]
  },
  {
   "cell_type": "code",
   "execution_count": 20,
   "metadata": {},
   "outputs": [],
   "source": [
    "# 键值对关联，分部增加数据\n",
    "cleese['Name'] = 'John Cleese'\n",
    "cleese['Occupations'] = ['actor','comedian','writer','film producer']\n",
    "\n",
    "# 一次同时创建键值对\n",
    "palin = {'Name':'Michael Palin','Occupations':['comedian','actor','writer','tv']}"
   ]
  },
  {
   "cell_type": "markdown",
   "metadata": {},
   "source": [
    "#### 字典访问数据"
   ]
  },
  {
   "cell_type": "code",
   "execution_count": 21,
   "metadata": {},
   "outputs": [
    {
     "data": {
      "text/plain": [
       "'film producer'"
      ]
     },
     "execution_count": 21,
     "metadata": {},
     "output_type": "execute_result"
    }
   ],
   "source": [
    "# 访问数据，类似列表的访问\n",
    "palin['Name']\n",
    "# 'Michael Palin'\n",
    "\n",
    "cleese['Occupations'][-1]\n",
    "# 'film producer'"
   ]
  },
  {
   "cell_type": "markdown",
   "metadata": {},
   "source": [
    "#### 动态扩展-增加数据"
   ]
  },
  {
   "cell_type": "code",
   "execution_count": 28,
   "metadata": {},
   "outputs": [
    {
     "data": {
      "text/plain": [
       "{'Name': 'John Cleese',\n",
       " 'Occupations': ['actor', 'comedian', 'writer', 'film producer'],\n",
       " 'Birthplace': 'Mars village, Sanzi Town, Xinhua County, Loudi City, Hunan Province, China'}"
      ]
     },
     "execution_count": 28,
     "metadata": {},
     "output_type": "execute_result"
    }
   ],
   "source": [
    "# 访问数据，类似列表的访问\n",
    "palin['Birthplace'] = \"Mars village, Sanzi Town, Xinhua County, Loudi City, Hunan Province, China\"\n",
    "# '湖南省娄底市新化县桑梓镇火星村: Mars village, Sanzi Town, Xinhua County, Loudi City, Hunan Province'\n",
    "\n",
    "cleese['Birthplace'] = \"Mars village, Sanzi Town, Xinhua County, Loudi City, Hunan Province, China\"\n",
    "# 'film producer'\n",
    "\n",
    "palin\n",
    "# {'Name': 'Michael Palin',\n",
    "#  'Occupations': ['comedian', 'actor', 'writer', 'tv'],\n",
    "#  'Birthplace': 'Mars village, Sanzi Town, Xinhua County, Loudi City, Hunan Province, China'}\n",
    "\n",
    "cleese\n",
    "# {'Name': 'John Cleese',\n",
    "#  'Occupations': ['actor', 'comedian', 'writer', 'film producer'],\n",
    "#  'Birthplace': 'Mars village, Sanzi Town, Xinhua County, Loudi City, Hunan Province, China'}\n"
   ]
  },
  {
   "cell_type": "markdown",
   "metadata": {},
   "source": [
    "### 练习使用字典An idle session - dictionary in action"
   ]
  },
  {
   "cell_type": "code",
   "execution_count": 34,
   "metadata": {},
   "outputs": [
    {
     "name": "stdout",
     "output_type": "stream",
     "text": [
      "<class 'dict'>\n",
      "<class 'dict'>\n",
      "Micahel Palin\n",
      "film producer\n",
      "{'Name': 'Micahel Palin', 'Occupations': ['comedian', 'actor', 'writer', 'tv'], 'Birthplace': 'Broomhill, Sheffield, England'}\n",
      "{'Name': 'John Cleese', 'Occupations': ['actor', 'comedian', 'writer', 'film producer'], 'Birthplace': 'Weston-super-Mare, North Somerset, England'}\n"
     ]
    }
   ],
   "source": [
    "# 字典\n",
    "cleese = {}\n",
    "palin = dict()\n",
    "\n",
    "print(type(cleese))\n",
    "\n",
    "print(type(palin))\n",
    "\n",
    "cleese[\"Name\"] = \"John Cleese\"\n",
    "cleese[\"Occupations\"] = [\"actor\", \"comedian\", \"writer\",\"film producer\"]\n",
    "\n",
    "palin = {\"Name\" : \"Micahel Palin\", \"Occupations\": [\"comedian\", \"actor\", \"writer\", \"tv\"]}\n",
    "\n",
    "print(palin[\"Name\"])\n",
    "\n",
    "print(cleese[\"Occupations\"][-1])\n",
    "\n",
    "palin[\"Birthplace\"] = \"Broomhill, Sheffield, England\"\n",
    "cleese[\"Birthplace\"] = \"Weston-super-Mare, North Somerset, England\"\n",
    "\n",
    "print(palin)\n",
    "\n",
    "print(cleese)"
   ]
  },
  {
   "cell_type": "markdown",
   "metadata": {},
   "source": [
    "### 练习-把代码改写成字典Exercise - Dictionary - change code to use dictionary"
   ]
  },
  {
   "cell_type": "code",
   "execution_count": 46,
   "metadata": {},
   "outputs": [
    {
     "name": "stdout",
     "output_type": "stream",
     "text": [
      "Sarah Sweeney's fastest times are: ['2.18', '2.21', '2.22']\n"
     ]
    }
   ],
   "source": [
    "# import pprint for pprint\n",
    "from pprint import pprint\n",
    "\n",
    "# sanitize function from chapter 5\n",
    "def sanitize(time_string):\n",
    "    if '-' in time_string:\n",
    "        splitter = '-'\n",
    "    elif ':' in time_string:\n",
    "        splitter = ':'\n",
    "    else:\n",
    "        return (time_string)\n",
    "\n",
    "    (mins, secs) = time_string.split(splitter)\n",
    "    return (mins + '.' + secs)\n",
    "\n",
    "# get_coach_data function from chapter 5\n",
    "def get_coach_data(filename):\n",
    "    try:\n",
    "        with open(filename) as f:\n",
    "            data = f.readline()\n",
    "        return (data.strip().split(','))\n",
    "    except IOError as ioerr:\n",
    "        print('File error: ' + str(ioerr))\n",
    "        return (None)\n",
    "\n",
    "# 使用定义的方法，把文件读取入，并转为一个列表，赋值给sarah变量\n",
    "sarah = get_coach_data('sarah2.txt')\n",
    "\n",
    "# 原来的代码\n",
    "# (sarah_name, sarah_dob) = sarah.pop(0), sarah.pop(0)\n",
    "# print(sarah_name + \"'s fastest times are: \" + str(sorted(set([sanitize(t) for t in sarah]))[0:3]))\n",
    "\n",
    "# 改进成字典之后的代码\n",
    "# 创建一个空字典\n",
    "sarah_data = {}\n",
    "\n",
    "# 文件数据与字典键关联来填充字典sarah_data，DOB:  date of birth\n",
    "sarah_data['Name'] = sarah.pop(0)\n",
    "sarah_data['DOB'] = sarah.pop(0)\n",
    "sarah_data['Times'] = sarah\n",
    "\n",
    "# pprint(sarah_data)\n",
    "# {'DOB': '2002-6-17',\n",
    "#  'Name': 'Sarah Sweeney',\n",
    "#  'Times': ['2:58',\n",
    "#            '2.58',\n",
    "#            '2:39',\n",
    "#            '2-25',\n",
    "#            '2-55',\n",
    "#            '2:54',\n",
    "#            '2.18',\n",
    "#            '2:55',\n",
    "#            '2:55',\n",
    "#            '2:22',\n",
    "#            '2-21',\n",
    "#            '2.22']}\n",
    "\n",
    "# 处理数据时引用字典sarah_data\n",
    "print(sarah_data[\"Name\"] + \"'s fastest times are: \" + \n",
    "      str(sorted(set([sanitize(t) for t in sarah_data[\"Times\"]]))[0:3]))\n",
    "\n",
    "# 使用字典的代码可以生成与前面完全相同的结果\n",
    "# Sarah Sweeney's fastest times are: ['2.18', '2.21', '2.22']"
   ]
  },
  {
   "cell_type": "markdown",
   "metadata": {},
   "source": [
    "### 代码审查 Head First Code Review - Dictionary use"
   ]
  },
  {
   "cell_type": "markdown",
   "metadata": {},
   "source": [
    "1. 与其先读入数据再创建字典，不如一次完成字典的创建。get_coach_data \n",
    "2. 让get_coach_data函数返回一个已经填充好的字典，而不是列表, \n",
    "3. 把确定选手三个最快时间的代码转移到get_coach_data函数中"
   ]
  },
  {
   "cell_type": "code",
   "execution_count": 64,
   "metadata": {},
   "outputs": [],
   "source": [
    "# Code Review and sugggestion\n",
    "# 与其先读入数据再创建字典，不如一次完成字典的创建。get_coach_data\n",
    "# 让get_coach_data函数返回一个已经填充好的字典，而不是列表,\n",
    "# 把确定选手三个最快时间的代码转移到get_coach_data函数中\n",
    "\n",
    "# sanitize function from chapter 5\n",
    "def sanitize(time_string):\n",
    "    if '-' in time_string:\n",
    "        splitter = '-'\n",
    "    elif ':' in time_string:\n",
    "        splitter = ':'\n",
    "    else:\n",
    "        return(time_string)\n",
    "    \n",
    "    (mins, secs) = time_string.split(splitter)\n",
    "    return(mins + '.' + secs)\n",
    "\n",
    "# 使用一个适当的函数调用，从数据文件创建字典\n",
    "# get_coach_data function from chapter 5， need improve\n",
    "def get_coach_data(filename):\n",
    "    try:\n",
    "        with open(filename) as f:\n",
    "            line = f.readline().strip().split(',')\n",
    "            data = {'Name':line.pop(0), \n",
    "                    'DOB':line.pop(0), \n",
    "                    'Times':str(sorted(set([sanitize(t) for t in line]))[0:3])\n",
    "                    }\n",
    "            \n",
    "            # data = {}\n",
    "            # data['Name'] = line.pop(0)\n",
    "            # data['DOB'] = line.pop(0)\n",
    "            # data['Times'] =  sorted(set([sanitize(t) for t in line]))[0:3]\n",
    "        # 让函数返回一个已经填充好的字典，而不是列表\n",
    "        return(data)\n",
    "    except IOError as ioerr:\n",
    "        print('File error: ' + str(ioerr))\n",
    "        return(None)"
   ]
  },
  {
   "cell_type": "markdown",
   "metadata": {},
   "source": [
    "#### 调用函数-打印输出结果"
   ]
  },
  {
   "cell_type": "code",
   "execution_count": 80,
   "metadata": {},
   "outputs": [
    {
     "name": "stdout",
     "output_type": "stream",
     "text": [
      "Sarah Sweeney's fastes times are: ['2.18', '2.21', '2.22']\n",
      "James Lee's fastes times are: ['2.01', '2.16', '2.22']\n",
      "Mikey McManus's fastes times are: ['2.22', '2.31', '2.38']\n",
      "Julie Jones's fastes times are: ['2.11', '2.23', '2.59']\n"
     ]
    }
   ],
   "source": [
    "# import pprint for pprint function\n",
    "# from pprint import pprint\n",
    "\n",
    "# 开始调用函数\n",
    "sarah2 = get_coach_data('sarah2.txt')\n",
    "# pprint(sarah2)\n",
    "# {'DOB': '2002-6-17', 'Name': 'Sarah Sweeney', 'Times': ['2.18', '2.21', '2.22']}\n",
    "\n",
    "james2 = get_coach_data('james2.txt')\n",
    "# pprint(james2)\n",
    "# {'DOB': '2002-3-14', 'Name': 'James Lee', 'Times': ['2.01', '2.16', '2.22']}\n",
    "\n",
    "mikey2 = get_coach_data('mikey2.txt')\n",
    "# pprint(mikey2)\n",
    "# {'DOB': '2002-2-24', 'Name': 'Mikey McManus', 'Times': ['2.22', '2.31', '2.38']}\n",
    "\n",
    "julie2 = get_coach_data('julie2.txt')\n",
    "# pprint(julie2)\n",
    "# {'DOB': '2002-8-17', 'Name': 'Julie Jones', 'Times': ['2.11', '2.23', '2.59']}\n",
    "\n",
    "# 输出字典单项\n",
    "# print(sarah2['Name'])\n",
    "# Sarah Sweeney\n",
    "\n",
    "# print(sarah2['Times'])\n",
    "# ['2.18', '2.21', '2.22']\n",
    "\n",
    "# 打印输出结果，组合输出\n",
    "print(sarah2['Name'] + \"'s fastes times are: \" + sarah2['Times'])\n",
    "# Sarah Sweeney's fastes times are: ['2.18', '2.21', '2.22']\n",
    "\n",
    "print(james2['Name'] + \"'s fastes times are: \" + james2['Times'])\n",
    "# James Lee's fastes times are: ['2.01', '2.16', '2.22']\n",
    "\n",
    "print(mikey2['Name'] + \"'s fastes times are: \" + mikey2['Times'])\n",
    "# Mikey McManus's fastes times are: ['2.22', '2.31', '2.38']\n",
    "\n",
    "print(julie2['Name'] + \"'s fastes times are: \" + julie2['Times'])\n",
    "# Julie Jones's fastes times are: ['2.11', '2.23', '2.59']\n"
   ]
  },
  {
   "cell_type": "markdown",
   "metadata": {},
   "source": [
    "## 将代码以及数据打包到类中\n",
    "\n",
    "- 降低复杂性\n",
    "- 减少Bug\n",
    "- 增加代码的可维护性能"
   ]
  },
  {
   "cell_type": "markdown",
   "metadata": {},
   "source": [
    "###  定义一个类\n",
    "\n",
    "- 代码：类的方法method, 方法是共享的\n",
    "- 数据： 类的属性attribute，属性不共享\n",
    "- 实例化的数据对象： 实例instance\n",
    "- `__init__`方法\n",
    "- `self`参数：目标标识符(实例名称)赋值到self，帮助标识要处理哪个对象实例的数据"
   ]
  },
  {
   "cell_type": "markdown",
   "metadata": {},
   "source": [
    "#### 使用Class定义类"
   ]
  },
  {
   "cell_type": "code",
   "execution_count": 85,
   "metadata": {},
   "outputs": [],
   "source": [
    "# 类的定义关键字class，指定一个描述性名字\n",
    "# 定义一个类，实际是定义一个工厂函数\n",
    "class Athlete:\n",
    "    # 使用def来定义类的方法，初始化各个对象的代码放在__init__下面\n",
    "    def __init__(self, value=0):\n",
    "        # The code to initialize an \"Athelte\" object\n",
    "        self.thing = value\n",
    "    # 使用def来定义类的方法\n",
    "    def how_big(self):\n",
    "        return(len(self.thing))"
   ]
  },
  {
   "cell_type": "markdown",
   "metadata": {},
   "source": [
    "#### 创建对象实例"
   ]
  },
  {
   "cell_type": "code",
   "execution_count": 88,
   "metadata": {},
   "outputs": [
    {
     "data": {
      "text/plain": [
       "10"
      ]
     },
     "execution_count": 88,
     "metadata": {},
     "output_type": "execute_result"
    }
   ],
   "source": [
    "# 创建对象实例，\n",
    "\n",
    "# 调用类的工厂函数\n",
    "a = Athlete()\n",
    "# equals to Athlete().__init__(a)\n",
    "b = Athlete()\n",
    "c = Athlete()\n",
    "d = Athlete()\n",
    "\n",
    "d = Athlete(\"Holy Grail\")\n",
    "Athlete.__init__(d, \"Holy Grail\")\n",
    "# equals to Athlete().__init__(d,\"Holy Grail\")\n",
    "# class -> method -> instance\n",
    "\n",
    "d.how_big()\n",
    "# equals to Athlete.how_big(d)\n",
    "Athlete.how_big(d)\n",
    "\n",
    "# print(d.how_big())\n",
    "# 10"
   ]
  },
  {
   "cell_type": "markdown",
   "metadata": {},
   "source": [
    "### 练习使用类"
   ]
  },
  {
   "cell_type": "code",
   "execution_count": 100,
   "metadata": {},
   "outputs": [
    {
     "name": "stdout",
     "output_type": "stream",
     "text": [
      "<class '__main__.Athlete2'>\n",
      "<class '__main__.Athlete2'>\n",
      "<__main__.Athlete2 object at 0x000001A5A8FE7408>\n",
      "<__main__.Athlete2 object at 0x000001A5A9010FC8>\n"
     ]
    }
   ],
   "source": [
    "class Athlete2:\n",
    "    # 注意a_dob与a_times缺省值,date of birth\n",
    "    def __init__(self, a_name, a_dob=None, a_times=[]):\n",
    "        self.name = a_name\n",
    "        self.dob = a_dob\n",
    "        self.times = a_times\n",
    "\n",
    "sarah = Athlete2('Sarah Sweeney','2002-6-17',['2:38','2.58','1.56'])\n",
    "james = Athlete2('James Jones')\n",
    "\n",
    "print(type(sarah))\n",
    "# <class '__main__.Athlete2'>\n",
    "\n",
    "print(type(james))\n",
    "# <class '__main__.Athlete2'>\n",
    "\n",
    "# 存储在不同的内存地址上\n",
    "print(sarah)\n",
    "# <__main__.Athlete2 object at 0x000001A5A8E420C8>\n",
    "\n",
    "print(james)\n",
    "# <__main__.Athlete2 object at 0x000001A5A901FC08>"
   ]
  },
  {
   "cell_type": "markdown",
   "metadata": {
    "collapsed": true
   },
   "source": [
    "#### 访问与各个对象关联的属性"
   ]
  },
  {
   "cell_type": "code",
   "execution_count": 110,
   "metadata": {},
   "outputs": [
    {
     "name": "stdout",
     "output_type": "stream",
     "text": [
      "Sarah Sweeney\n",
      "2002-6-17\n",
      "['2:38', '2.58', '1.56']\n",
      "James Jones\n",
      "None\n",
      "[]\n"
     ]
    }
   ],
   "source": [
    "# 使用点记法来访问类的属性\n",
    "# sarah's name, dob, times\n",
    "print(sarah.name)\n",
    "# Sarah Sweeney\n",
    "\n",
    "print(sarah.dob)\n",
    "# 2002-6-17\n",
    "\n",
    "print(sarah.times)\n",
    "# ['2:38', '2.58', '1.56']\n",
    "\n",
    "# james's name, dob, times\n",
    "print(james.name)\n",
    "# James Jones\n",
    "\n",
    "print(james.dob)\n",
    "# None\n",
    "\n",
    "print(james.times)\n",
    "# []"
   ]
  },
  {
   "cell_type": "markdown",
   "metadata": {},
   "source": [
    "### 练习-把代码改写成类\n",
    "\n",
    "- 定义类\n",
    "- 定义top3()函数\n",
    "- 调整get_coach_data()函数，返回Athlete对象"
   ]
  },
  {
   "cell_type": "code",
   "execution_count": 113,
   "metadata": {},
   "outputs": [],
   "source": [
    "# sanitize function from chapter 5\n",
    "def sanitize(time_string):\n",
    "    if '-' in time_string:\n",
    "        splitter = '-'\n",
    "    elif ':' in time_string:\n",
    "        splitter = ':'\n",
    "    else:\n",
    "        return (time_string)\n",
    "\n",
    "    (mins, secs) = time_string.split(splitter)\n",
    "    return (mins + '.' + secs)\n",
    "\n",
    "# class definition Athlete3\n",
    "class Athlete3:\n",
    "    def __init__(self, a_name, a_dob=None, a_times=[]):\n",
    "        self.name = a_name\n",
    "        self.dob = a_dob\n",
    "        self.times = a_times\n",
    "    def top3(self):\n",
    "        return(sorted(set([sanitize(t) for t in self.times]))[0:3]) \n",
    "\n",
    "# get_coach_data function from chapter 5， modify to class\n",
    "def get_coach_data(filename):\n",
    "    try:\n",
    "        with open(filename) as f:\n",
    "            line = f.readline().strip().split(',')\n",
    "            \n",
    "        return(Athlete3(line.pop(0),line.pop(0),line))\n",
    "    except IOError as ioerr:\n",
    "        print('File error: ' + str(ioerr))\n",
    "        return(None)"
   ]
  },
  {
   "cell_type": "markdown",
   "metadata": {},
   "source": [
    "#### 调用类-输出结果"
   ]
  },
  {
   "cell_type": "code",
   "execution_count": 124,
   "metadata": {},
   "outputs": [
    {
     "name": "stdout",
     "output_type": "stream",
     "text": [
      "Sarah Sweeney's fastest times are: ['2.18', '2.21', '2.22']\n",
      "James Lee's fastest times are: ['2.01', '2.16', '2.22']\n",
      "Mikey McManus's fastest times are: ['2.22', '2.31', '2.38']\n",
      "Julie Jones's fastest times are: ['2.11', '2.23', '2.59']\n"
     ]
    }
   ],
   "source": [
    "# 开始调用函数\n",
    "sarah3 = get_coach_data('sarah2.txt')\n",
    "# pprint(sarah3)\n",
    "# <__main__.Athlete3 object at 0x000001A5A8E5DE48>\n",
    "\n",
    "james3 = get_coach_data('james2.txt')\n",
    "# pprint(james3)\n",
    "# <__main__.Athlete3 object at 0x000001A5A8F93888>\n",
    "\n",
    "mikey3 = get_coach_data('mikey2.txt')\n",
    "# pprint(mikey3)\n",
    "# <__main__.Athlete3 object at 0x000001A5A8F20D48>\n",
    "\n",
    "julie3 = get_coach_data('julie2.txt')\n",
    "# pprint(julie3)\n",
    "# <__main__.Athlete3 object at 0x000001A5A9027388>\n",
    "\n",
    "# 打印输出结果，组合输出\n",
    "print(sarah3.name + \"'s fastest times are: \" + str(sarah3.top3()))\n",
    "# Sarah Sweeney's fastest times are: ['2.18', '2.21', '2.22']\n",
    "\n",
    "print(james3.name + \"'s fastest times are: \" + str(james3.top3()))\n",
    "# James Lee's fastest times are: ['2.01', '2.16', '2.22']\n",
    "\n",
    "print(mikey3.name + \"'s fastest times are: \" + str(mikey3.top3()))\n",
    "# Mikey McManus's fastest times are: ['2.22', '2.31', '2.38']\n",
    "\n",
    "print(julie3.name + \"'s fastest times are: \" + str(julie3.top3()))\n",
    "# Julie Jones's fastest times are: ['2.11', '2.23', '2.59']"
   ]
  },
  {
   "cell_type": "markdown",
   "metadata": {},
   "source": [
    "#### 增加两个类的方法"
   ]
  },
  {
   "cell_type": "code",
   "execution_count": 130,
   "metadata": {},
   "outputs": [
    {
     "data": {
      "text/plain": [
       "['1.21', '1.31', '2.22']"
      ]
     },
     "execution_count": 130,
     "metadata": {},
     "output_type": "execute_result"
    }
   ],
   "source": [
    "# sanitize function from chapter 5\n",
    "def sanitize(time_string):\n",
    "    if '-' in time_string:\n",
    "        splitter = '-'\n",
    "    elif ':' in time_string:\n",
    "        splitter = ':'\n",
    "    else:\n",
    "        return (time_string)\n",
    "\n",
    "    (mins, secs) = time_string.split(splitter)\n",
    "    return (mins + '.' + secs)\n",
    "\n",
    "# class definition Athlete4 and add 2 class methods add_time and add_times\n",
    "class Athlete4:\n",
    "    def __init__(self, a_name, a_dob=None, a_times=[]):\n",
    "        self.name = a_name\n",
    "        self.dob = a_dob\n",
    "        self.times = a_times\n",
    "    \n",
    "    def top3(self):\n",
    "        return(sorted(set([sanitize(t) for t in self.times]))[0:3])\n",
    "    \n",
    "    # 不要忘记使用self参数，并提供新的参数追加到现有的计时值列表\n",
    "    def add_time(self, time_value):\n",
    "        self.times.append(time_value)\n",
    "    \n",
    "    # 不要忘记使用self参数，并提供新的参数列表扩展现有的计时值列表\n",
    "    def add_times(self, list_of_times):\n",
    "        self.times.extend(list_of_times)\n",
    "\n",
    "# get_coach_data function from chapter 5， modify to class\n",
    "def get_coach_data(filename):\n",
    "    try:\n",
    "        with open(filename) as f:\n",
    "            line = f.readline().strip().split(',')\n",
    "            \n",
    "        return(Athlete3(line.pop(0),line.pop(0),line))\n",
    "    except IOError as ioerr:\n",
    "        print('File error: ' + str(ioerr))\n",
    "        return(None)\n",
    "\n",
    "# test your code\n",
    "vera=Athlete4('Vera Vi')\n",
    "vera.add_time('1.31')\n",
    "vera.top3()\n",
    "# ['1.31']\n",
    "\n",
    "vera.add_times(['2.22','1-21','2:22'])\n",
    "vera.top3()\n",
    "# ['1.21', '1.31', '2.22']"
   ]
  },
  {
   "cell_type": "markdown",
   "metadata": {},
   "source": [
    "### 继承内置的类\n",
    "\n",
    "继承Python内置的List类"
   ]
  },
  {
   "cell_type": "markdown",
   "metadata": {},
   "source": [
    "#### 继承内置的类基础写法"
   ]
  },
  {
   "cell_type": "code",
   "execution_count": 160,
   "metadata": {},
   "outputs": [
    {
     "name": "stdout",
     "output_type": "stream",
     "text": [
      "<class '__main__.NamedList'>\n",
      "['__add__', '__class__', '__contains__', '__delattr__', '__delitem__', '__dict__', '__dir__', '__doc__', '__eq__', '__format__', '__ge__', '__getattribute__', '__getitem__', '__gt__', '__hash__', '__iadd__', '__imul__', '__init__', '__init_subclass__', '__iter__', '__le__', '__len__', '__lt__', '__module__', '__mul__', '__ne__', '__new__', '__reduce__', '__reduce_ex__', '__repr__', '__reversed__', '__rmul__', '__setattr__', '__setitem__', '__sizeof__', '__str__', '__subclasshook__', '__weakref__', 'append', 'clear', 'copy', 'count', 'extend', 'index', 'insert', 'name', 'pop', 'remove', 'reverse', 'sort']\n"
     ]
    }
   ],
   "source": [
    "# 继承Python内置的List类\n",
    "\n",
    "# 提供一个类名list，新类将派生这个list类\n",
    "class NamedList(list):\n",
    "    def __init__(self, a_name):\n",
    "        # 初始化所派生的类，然后把参数a_name赋值到属性\n",
    "        list.__init__([])\n",
    "        self.name = a_name\n",
    "\n",
    "        \n",
    "# 创建一个对象实例\n",
    "johnny = NamedList(\"John Paul Jones\")\n",
    "\n",
    "# 检查对象的类型，johnny是一个NamedList对象\n",
    "print(type(johnny))\n",
    "# <class '__main__.NamedList'>\n",
    "\n",
    "# 查看NamedList对象会提供什么内容，dir()\n",
    "print(dir(johnny))\n",
    "# ['__add__',\n",
    "#  '__class__',\n",
    "#  '__contains__',\n",
    "#  '__delattr__',\n",
    "#  '__delitem__',\n",
    "#  '__dict__',\n",
    "#  '__dir__',\n",
    "#  '__doc__',\n",
    "#  '__eq__',\n",
    "#  '__format__',\n",
    "#  '__ge__',\n",
    "#  '__getattribute__',\n",
    "#  '__getitem__',\n",
    "#  '__gt__',\n",
    "#  '__hash__',\n",
    "#  '__iadd__',\n",
    "#  '__imul__',\n",
    "#  '__init__',\n",
    "#  '__iter__',\n",
    "#  '__le__',\n",
    "#  '__len__',\n",
    "#  '__lt__',\n",
    "#  '__module__',\n",
    "#  '__mul__',\n",
    "#  '__ne__',\n",
    "#  '__new__',\n",
    "#  '__reduce__',\n",
    "#  '__reduce_ex__',\n",
    "#  '__repr__',\n",
    "#  '__reversed__',\n",
    "#  '__rmul__',\n",
    "#  '__setattr__',\n",
    "#  '__setitem__',\n",
    "#  '__sizeof__',\n",
    "#  '__str__',\n",
    "#  '__subclasshook__',\n",
    "#  '__weakref__',\n",
    "#  'append',\n",
    "#  'clear',\n",
    "#  'copy',\n",
    "#  'count',\n",
    "#  'extend',\n",
    "#  'index',\n",
    "#  'insert',\n",
    "#  'name',\n",
    "#  'pop',\n",
    "#  'remove',\n",
    "#  'reverse',\n",
    "#  'sort']"
   ]
  },
  {
   "cell_type": "markdown",
   "metadata": {},
   "source": [
    "#### 使用父类的方法补充数据"
   ]
  },
  {
   "cell_type": "code",
   "execution_count": 171,
   "metadata": {
    "scrolled": false
   },
   "outputs": [
    {
     "name": "stdout",
     "output_type": "stream",
     "text": [
      "John Paul Jones\n",
      "[]\n",
      "['Bass Player']\n",
      "['Bass Player', 'Composer', 'Arranger', 'Musician']\n",
      "John Paul Jones is a Bass Player.\n",
      "John Paul Jones is a Composer.\n",
      "John Paul Jones is a Arranger.\n",
      "John Paul Jones is a Musician.\n"
     ]
    }
   ],
   "source": [
    "# 继承Python内置的List类\n",
    "\n",
    "# 提供一个类名list，新类将派生这个list类\n",
    "class NamedList(list):\n",
    "    def __init__(self, a_name):\n",
    "        # 初始化所派生的类，然后把参数a_name赋值到属性\n",
    "        list.__init__([])\n",
    "        self.name = a_name\n",
    "\n",
    "        \n",
    "# 创建一个对象实例\n",
    "johnny = NamedList(\"John Paul Jones\")\n",
    "\n",
    "# 列表访问元素\n",
    "print(johnny.name)\n",
    "# 'John Paul Jones'\n",
    "\n",
    "print(johnny)\n",
    "# []\n",
    "\n",
    "# 追加一个\n",
    "johnny.append(\"Bass Player\")\n",
    "print(johnny)\n",
    "# ['Bass Player']\n",
    "\n",
    "# 增加多个\n",
    "johnny.extend(['Composer','Arranger','Musician'])\n",
    "print(johnny)\n",
    "# ['Bass Player', 'Composer', 'Arranger', 'Musician']\n",
    "\n",
    "# 列表处理\n",
    "for attr in johnny:\n",
    "    print(johnny.name + \" is a \" + attr + \".\")\n",
    "# John Paul Jones is a Bass Player.\n",
    "# John Paul Jones is a Composer.\n",
    "# John Paul Jones is a Arranger.\n",
    "# John Paul Jones is a Musician."
   ]
  },
  {
   "cell_type": "markdown",
   "metadata": {},
   "source": [
    "### 练习使用继承的list类改写代码"
   ]
  },
  {
   "cell_type": "code",
   "execution_count": 181,
   "metadata": {},
   "outputs": [
    {
     "name": "stdout",
     "output_type": "stream",
     "text": [
      "['1.31']\n",
      "['1.31', '2.22', '1-21', '2:22']\n",
      "['1.21', '1.31', '2.22']\n"
     ]
    }
   ],
   "source": [
    "# 练习使用继承的list类改写代码\n",
    "\"\"\"\n",
    "class Athlete4:\n",
    "    def __init__(self, a_name, a_dob=None, a_times=[]):\n",
    "        self.name = a_name\n",
    "        self.dob = a_dob\n",
    "        self.times = a_times\n",
    "    \n",
    "    def top3(self):\n",
    "        return(sorted(set([sanitize(t) for t in self.times]))[0:3])\n",
    "    \n",
    "    def add_time(self, time_value):\n",
    "        self.times.append(time_value)\n",
    "        \n",
    "    def add_times(self, list_of_times):\n",
    "        self.times.extend(list_of_times)\n",
    "\"\"\"\n",
    "\n",
    "# 重写Athlete4类，继承内置的list类\n",
    "class AthleteList(list):\n",
    "    def __init__(self, a_name, a_dob=None, a_times=[]):\n",
    "        # 初始化所派生的list类，然后把参数a_name,a_dob, a_times赋值到属性\n",
    "        list.__init__([])\n",
    "        self.name = a_name\n",
    "        self.dob = a_dob\n",
    "        self.extend(a_times)\n",
    "        \n",
    "    def top3(self):\n",
    "        return(sorted(set([sanitize(t) for t in self]))[0:3])\n",
    "\n",
    "# 演练改写的代码\n",
    "vera = AthleteList('Vera Vi')\n",
    "vera.append('1.31')\n",
    "print(vera)\n",
    "\n",
    "vera.extend(['2.22','1-21','2:22'])\n",
    "print(vera)\n",
    "# ['1.31', '2.22', '1-21', '2:22']\n",
    "\n",
    "print(vera.top3())\n",
    "# ['1.21', '1.31', '2.22']"
   ]
  },
  {
   "cell_type": "markdown",
   "metadata": {},
   "source": [
    "## 动手做一遍"
   ]
  },
  {
   "cell_type": "markdown",
   "metadata": {},
   "source": [
    "### 定义函数-类-方法"
   ]
  },
  {
   "cell_type": "code",
   "execution_count": 183,
   "metadata": {},
   "outputs": [],
   "source": [
    "def sanitize(time_string):\n",
    "    if '-' in time_string:\n",
    "        splitter = '-'\n",
    "    elif ':' in time_string:\n",
    "        splitter = ':'\n",
    "    else:\n",
    "        return(time_string)\n",
    "    \n",
    "    (mins, secs) = time_string.split(splitter)\n",
    "    return(mins + '.' + secs)\n",
    "\n",
    "class AthleteList(list):\n",
    "    def __init__(self, a_name, a_dob=None, a_times=[]):\n",
    "        list.__init__([])\n",
    "        self.name = a_name\n",
    "        self.dob = a_dob\n",
    "        self.extend(a_times)\n",
    "        \n",
    "    def top3(self):\n",
    "        return(sorted(set([sanitize(t) for t in self]))[0:3])\n",
    "    \n",
    "def get_coach_data(filename):\n",
    "    try:\n",
    "        with open(filename) as f:\n",
    "            line = f.readline().strip().split(',')           \n",
    "        return(AthleteList(line.pop(0),line.pop(0),line))\n",
    "    except IOError as ioerr:\n",
    "        print('File error: ' + str(ioerr))\n",
    "        return(None)"
   ]
  },
  {
   "cell_type": "markdown",
   "metadata": {},
   "source": [
    "### 处理数据"
   ]
  },
  {
   "cell_type": "code",
   "execution_count": 185,
   "metadata": {},
   "outputs": [],
   "source": [
    "james = get_coach_data('james2.txt')\n",
    "julie = get_coach_data('julie2.txt')\n",
    "mikey = get_coach_data('mikey2.txt')\n",
    "sarah = get_coach_data('sarah2.txt')"
   ]
  },
  {
   "cell_type": "markdown",
   "metadata": {},
   "source": [
    "### 打印输出"
   ]
  },
  {
   "cell_type": "code",
   "execution_count": 186,
   "metadata": {
    "scrolled": false
   },
   "outputs": [
    {
     "name": "stdout",
     "output_type": "stream",
     "text": [
      "James Lee's fastest times are: ['2.01', '2.16', '2.22']\n",
      "Julie Jones's fastest times are: ['2.11', '2.23', '2.59']\n",
      "Mikey McManus's fastest times are: ['2.22', '2.31', '2.38']\n",
      "Sarah Sweeney's fastest times are: ['2.18', '2.21', '2.22']\n"
     ]
    }
   ],
   "source": [
    "print(james.name + \"'s fastest times are: \" + str(james.top3()))\n",
    "print(julie.name + \"'s fastest times are: \" + str(julie.top3()))\n",
    "print(mikey.name + \"'s fastest times are: \" + str(mikey.top3()))\n",
    "print(sarah.name + \"'s fastest times are: \" + str(sarah.top3()))\n",
    "\n",
    "# James Lee's fastest times are: ['2.01', '2.16', '2.22']\n",
    "# Julie Jones's fastest times are: ['2.11', '2.23', '2.59']\n",
    "# Mikey McManus's fastest times are: ['2.22', '2.31', '2.38']\n",
    "# Sarah Sweeney's fastest times are: ['2.18', '2.21', '2.22']"
   ]
  },
  {
   "cell_type": "markdown",
   "metadata": {},
   "source": [
    "## 关键知识点"
   ]
  },
  {
   "cell_type": "markdown",
   "metadata": {},
   "source": [
    "1. 使用dict()工厂函数或使用{}来创建一个空的dictionary；\n",
    "2. 访问一个叫做person的dictionary中Name键所对应的值，可是使用熟悉的中括号记法：person['Name'];\n",
    "3. 同list和set类似，Python的dictionary数据结构也会随着新元素的加入动态的增长；\n",
    "4. 填充dictionary的方法有：new_d = {}或new_d = dict()，然后使用d['Name'] = 'Eric Idle'；或者直接用一句话new_d = {'Name': 'Eric Idle'};\n",
    "5. class关键字用来定义类；\n",
    "6. 类中方法的定义与函数非常相像，都使用def关键字；\n",
    "7. 类中属性就如同对象实例内部的变量；\n",
    "8. init()方法可以定义在类中用作实例化对象实例；\n",
    "9. 类中定义的每个方法都必须提供self作为第一个参数；\n",
    "10. 类中的每个属性都必须使用self为前缀，以使得数据能与实例关联在一起；\n",
    "11. 既可以从头开始创建类也可以从Python内置或自定义类中继承；\n",
    "12. 类可以被放入Python模块并上传到PyPI。"
   ]
  }
 ],
 "metadata": {
  "kernelspec": {
   "display_name": "Python 3",
   "language": "python",
   "name": "python3"
  },
  "language_info": {
   "codemirror_mode": {
    "name": "ipython",
    "version": 3
   },
   "file_extension": ".py",
   "mimetype": "text/x-python",
   "name": "python",
   "nbconvert_exporter": "python",
   "pygments_lexer": "ipython3",
   "version": "3.7.8"
  },
  "toc": {
   "base_numbering": 1,
   "nav_menu": {},
   "number_sections": true,
   "sideBar": true,
   "skip_h1_title": false,
   "title_cell": "Table of Contents",
   "title_sidebar": "Contents",
   "toc_cell": true,
   "toc_position": {
    "height": "calc(100% - 180px)",
    "left": "10px",
    "top": "150px",
    "width": "217.827px"
   },
   "toc_section_display": true,
   "toc_window_display": true
  }
 },
 "nbformat": 4,
 "nbformat_minor": 1
}
