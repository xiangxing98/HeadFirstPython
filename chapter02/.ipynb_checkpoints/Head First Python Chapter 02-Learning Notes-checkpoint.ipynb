{
 "cells": [
  {
   "cell_type": "markdown",
   "metadata": {
    "toc": true
   },
   "source": [
    "<h1>Table of Contents<span class=\"tocSkip\"></span></h1>\n",
    "<div class=\"toc\"><ul class=\"toc-item\"><li><span><a href=\"#Head-First-Python-Chapter-02-Learning-Notes\" data-toc-modified-id=\"Head-First-Python-Chapter-02-Learning-Notes-1\"><span class=\"toc-item-num\">1&nbsp;&nbsp;</span>Head First Python Chapter 02-Learning Notes</a></span><ul class=\"toc-item\"><li><span><a href=\"#函数转换为模块-nester.py\" data-toc-modified-id=\"函数转换为模块-nester.py-1.1\"><span class=\"toc-item-num\">1.1&nbsp;&nbsp;</span>函数转换为模块 nester.py</a></span></li><li><span><a href=\"#注释代码\" data-toc-modified-id=\"注释代码-1.2\"><span class=\"toc-item-num\">1.2&nbsp;&nbsp;</span>注释代码</a></span><ul class=\"toc-item\"><li><span><a href=\"#Python-模块\" data-toc-modified-id=\"Python-模块-1.2.1\"><span class=\"toc-item-num\">1.2.1&nbsp;&nbsp;</span>Python 模块</a></span></li></ul></li><li><span><a href=\"#准备发布模块\" data-toc-modified-id=\"准备发布模块-1.3\"><span class=\"toc-item-num\">1.3&nbsp;&nbsp;</span>准备发布模块</a></span></li><li><span><a href=\"#构建发布\" data-toc-modified-id=\"构建发布-1.4\"><span class=\"toc-item-num\">1.4&nbsp;&nbsp;</span>构建发布</a></span><ul class=\"toc-item\"><li><span><a href=\"#1.-Change-directory-to-module-directry\" data-toc-modified-id=\"1.-Change-directory-to-module-directry-1.4.1\"><span class=\"toc-item-num\">1.4.1&nbsp;&nbsp;</span>1. Change directory to module directry</a></span></li><li><span><a href=\"#2.-Create-distrabution-tool\" data-toc-modified-id=\"2.-Create-distrabution-tool-1.4.2\"><span class=\"toc-item-num\">1.4.2&nbsp;&nbsp;</span>2. Create distrabution tool</a></span></li><li><span><a href=\"#3.-install\" data-toc-modified-id=\"3.-install-1.4.3\"><span class=\"toc-item-num\">1.4.3&nbsp;&nbsp;</span>3. install</a></span></li><li><span><a href=\"#4.-Usage\" data-toc-modified-id=\"4.-Usage-1.4.4\"><span class=\"toc-item-num\">1.4.4&nbsp;&nbsp;</span>4. Usage</a></span></li><li><span><a href=\"#5.-http://pypi.python.org-registration-PyPI(Python-Package-Index)&amp;-Command-line-Confirn\" data-toc-modified-id=\"5.-http://pypi.python.org-registration-PyPI(Python-Package-Index)&amp;-Command-line-Confirn-1.4.5\"><span class=\"toc-item-num\">1.4.5&nbsp;&nbsp;</span>5. <a href=\"http://pypi.python.org\" target=\"_blank\">http://pypi.python.org</a> registration PyPI(Python Package Index)&amp; Command line Confirn</a></span></li></ul></li><li><span><a href=\"#发布速览-&amp;-导入模块并使用\" data-toc-modified-id=\"发布速览-&amp;-导入模块并使用-1.5\"><span class=\"toc-item-num\">1.5&nbsp;&nbsp;</span>发布速览 &amp; 导入模块并使用</a></span><ul class=\"toc-item\"><li><span><a href=\"#向PyPI上传代码\" data-toc-modified-id=\"向PyPI上传代码-1.5.1\"><span class=\"toc-item-num\">1.5.1&nbsp;&nbsp;</span>向PyPI上传代码</a></span></li></ul></li></ul></li></ul></div>"
   ]
  },
  {
   "cell_type": "markdown",
   "metadata": {},
   "source": [
    "# Head First Python Chapter 02-Learning Notes"
   ]
  },
  {
   "cell_type": "markdown",
   "metadata": {},
   "source": [
    "## 函数转换为模块 nester.py"
   ]
  },
  {
   "cell_type": "code",
   "execution_count": 7,
   "metadata": {},
   "outputs": [
    {
     "name": "stdout",
     "output_type": "stream",
     "text": [
      "The Holy Grail\n",
      "1975\n",
      "Terry Jones&Terry Gilliam\n",
      "91\n",
      "Graham Chapman\n",
      "Michael Palin\n",
      "John Cleese\n",
      "Terry Gilliam\n",
      "Eric Idle\n",
      "Terry Jones\n"
     ]
    }
   ],
   "source": [
    "# Page 35/37/38\n",
    "\"\"\"This is the \"nester.py\" module, and it provides one function called\n",
    "print_lol() which prints lists that may or may not include nested lists\"\"\"\n",
    "\n",
    "\n",
    "def print_lol(the_list):\n",
    "    \"\"\"This function takes a positional argument called \"the_list\", which is any\n",
    "    Python list (of, possibly, nested lists). Each data item in the provided listis \n",
    "    (recursively) printed to the screen on its own line\"\"\"\n",
    "    for each_item in the_list:\n",
    "        if isinstance(each_item, list):\n",
    "            print_lol(each_item)\n",
    "        else:\n",
    "            print(each_item)\n",
    "\n",
    "movies = [\n",
    "     'The Holy Grail', 1975, 'Terry Jones&Terry Gilliam', 91,\n",
    "     ['Graham Chapman',\n",
    "      ['Michael Palin', 'John Cleese','Terry Gilliam','Eric Idle','Terry Jones']]]\n",
    "\n",
    "# Page39，调用函数\n",
    "print_lol(movies)\n",
    "# The Holy Grail\n",
    "# 1975\n",
    "# Terry Jones&Terry Gilliam\n",
    "# 91\n",
    "# Graham Chapman\n",
    "# Michael Palin\n",
    "# John Cleese\n",
    "# Terry Gilliam\n",
    "# Eric Idle\n",
    "# Terry Jones"
   ]
  },
  {
   "cell_type": "markdown",
   "metadata": {},
   "source": [
    "PyPI: Python Package Index"
   ]
  },
  {
   "cell_type": "markdown",
   "metadata": {},
   "source": [
    "## 注释代码"
   ]
  },
  {
   "cell_type": "code",
   "execution_count": 2,
   "metadata": {},
   "outputs": [
    {
     "data": {
      "text/plain": [
       "'This is the  standard way to\\ninclude a multiple-line comment \\nin you code.'"
      ]
     },
     "execution_count": 2,
     "metadata": {},
     "output_type": "execute_result"
    }
   ],
   "source": [
    "\"\"\"This is the  standard way to\n",
    "include a multiple-line comment \n",
    "in you code.\"\"\""
   ]
  },
  {
   "cell_type": "markdown",
   "metadata": {},
   "source": [
    "### Python 模块"
   ]
  },
  {
   "cell_type": "code",
   "execution_count": 3,
   "metadata": {},
   "outputs": [
    {
     "data": {
      "text/plain": [
       "['F:\\\\Github\\\\Python\\\\HeadFirstPython\\\\HeadFirstPython\\\\chapter02',\n",
       " 'D:\\\\ProgramFiles\\\\Anaconda3\\\\python37.zip',\n",
       " 'D:\\\\ProgramFiles\\\\Anaconda3\\\\DLLs',\n",
       " 'D:\\\\ProgramFiles\\\\Anaconda3\\\\lib',\n",
       " 'D:\\\\ProgramFiles\\\\Anaconda3',\n",
       " '',\n",
       " 'C:\\\\Users\\\\xiang\\\\AppData\\\\Roaming\\\\Python\\\\Python37\\\\site-packages',\n",
       " 'C:\\\\Users\\\\xiang\\\\AppData\\\\Roaming\\\\Python\\\\Python37\\\\site-packages\\\\win32',\n",
       " 'C:\\\\Users\\\\xiang\\\\AppData\\\\Roaming\\\\Python\\\\Python37\\\\site-packages\\\\win32\\\\lib',\n",
       " 'C:\\\\Users\\\\xiang\\\\AppData\\\\Roaming\\\\Python\\\\Python37\\\\site-packages\\\\Pythonwin',\n",
       " 'D:\\\\ProgramFiles\\\\Anaconda3\\\\lib\\\\site-packages',\n",
       " 'D:\\\\ProgramFiles\\\\Anaconda3\\\\lib\\\\site-packages\\\\win32',\n",
       " 'D:\\\\ProgramFiles\\\\Anaconda3\\\\lib\\\\site-packages\\\\win32\\\\lib',\n",
       " 'D:\\\\ProgramFiles\\\\Anaconda3\\\\lib\\\\site-packages\\\\Pythonwin',\n",
       " 'C:\\\\Users\\\\xiang\\\\AppData\\\\Roaming\\\\Python\\\\Python37\\\\site-packages\\\\IPython\\\\extensions',\n",
       " 'C:\\\\Users\\\\xiang\\\\.ipython']"
      ]
     },
     "execution_count": 3,
     "metadata": {},
     "output_type": "execute_result"
    }
   ],
   "source": [
    "import sys\n",
    "sys.path\n",
    "\n",
    "# ['F:\\\\Github\\\\Python\\\\HeadFirstPython\\\\HeadFirstPython\\\\chapter02',\n",
    "#  'D:\\\\ProgramFiles\\\\Anaconda3\\\\python37.zip',\n",
    "#  'D:\\\\ProgramFiles\\\\Anaconda3\\\\DLLs',\n",
    "#  'D:\\\\ProgramFiles\\\\Anaconda3\\\\lib',\n",
    "#  'D:\\\\ProgramFiles\\\\Anaconda3',\n",
    "#  '',\n",
    "#  'C:\\\\Users\\\\xiang\\\\AppData\\\\Roaming\\\\Python\\\\Python37\\\\site-packages',\n",
    "#  'C:\\\\Users\\\\xiang\\\\AppData\\\\Roaming\\\\Python\\\\Python37\\\\site-packages\\\\win32',\n",
    "#  'C:\\\\Users\\\\xiang\\\\AppData\\\\Roaming\\\\Python\\\\Python37\\\\site-packages\\\\win32\\\\lib',\n",
    "#  'C:\\\\Users\\\\xiang\\\\AppData\\\\Roaming\\\\Python\\\\Python37\\\\site-packages\\\\Pythonwin',\n",
    "#  'D:\\\\ProgramFiles\\\\Anaconda3\\\\lib\\\\site-packages',\n",
    "#  'D:\\\\ProgramFiles\\\\Anaconda3\\\\lib\\\\site-packages\\\\win32',\n",
    "#  'D:\\\\ProgramFiles\\\\Anaconda3\\\\lib\\\\site-packages\\\\win32\\\\lib',\n",
    "#  'D:\\\\ProgramFiles\\\\Anaconda3\\\\lib\\\\site-packages\\\\Pythonwin',\n",
    "#  'C:\\\\Users\\\\xiang\\\\AppData\\\\Roaming\\\\Python\\\\Python37\\\\site-packages\\\\IPython\\\\extensions',\n",
    "#  'C:\\\\Users\\\\xiang\\\\.ipython']"
   ]
  },
  {
   "cell_type": "markdown",
   "metadata": {},
   "source": [
    "## 准备发布模块\n",
    "\n",
    "> https://packaging.python.org/tutorials/packaging-projects/"
   ]
  },
  {
   "cell_type": "code",
   "execution_count": null,
   "metadata": {},
   "outputs": [],
   "source": [
    "# setup.py\n",
    "from distutils.core import setup\n",
    "# 从Python发布工具导入setup函数\n",
    "\n",
    "setup(\n",
    "    name='nester',\n",
    "    version='1.5.2',\n",
    "    py_modules=['nester'],\n",
    "    author='Stone_hou',\n",
    "    author_email='stone_hou@smics.com',\n",
    "    url='https://github.com/xiangxing98',\n",
    "    description='a simple printer of nested lists',\n",
    ")"
   ]
  },
  {
   "cell_type": "markdown",
   "metadata": {},
   "source": [
    "## 构建发布\n",
    "\n",
    "This can print all the intem in the list or in the list of list\n",
    "\n",
    "### 1. Change directory to module directry\n",
    "\n",
    "Windows + R -> CMD\n",
    "\n",
    "cd /d F:\\Github\\Python\\HeadFirstPython\\HeadFirstPython\\chapter02\\nester\n",
    "\n",
    "### 2. Create distrabution tool\n",
    "\n",
    "python setup.py sdist\n",
    "\n",
    "writing manifest file 'MANIFEST'  \n",
    "creating nester-1.5.2  \n",
    "making hard links in nester-1.5.2...  \n",
    "hard linking nester.py -> nester-1.5.2  \n",
    "hard linking setup.py -> nester-1.5.2  \n",
    "Creating tar archive  \n",
    "removing 'nester-1.5.2' (and everything under it)  \n",
    "\n",
    "### 3. install\n",
    "\n",
    "python setup.py install\n",
    "\n",
    "running install  \n",
    "running build  \n",
    "running build_py  \n",
    "copying nester.py -> build\\lib  \n",
    "running install_lib  \n",
    "copying build\\lib\\nester.py -> D:\\ProgramFiles\\Anaconda3\\Lib\\site-packages  \n",
    "byte-compiling D:\\ProgramFiles\\Anaconda3\\Lib\\site-packages\\nester.py to nester.cpython-37.pyc  \n",
    "running install_egg_info  \n",
    "Writing D:\\ProgramFiles\\Anaconda3\\Lib\\site-packages\\nester-1.5.2-py3.7.egg-info  \n",
    "\n",
    "### 4. Usage\n",
    "\n",
    "import nester\n",
    "nester.print_lol(movies)\n",
    "\n",
    "### 5. http://pypi.python.org registration PyPI(Python Package Index)& Command line Confirn\n",
    "\n",
    "python setup.py register"
   ]
  },
  {
   "cell_type": "markdown",
   "metadata": {},
   "source": [
    "## 发布速览 & 导入模块并使用"
   ]
  },
  {
   "cell_type": "code",
   "execution_count": 19,
   "metadata": {},
   "outputs": [
    {
     "name": "stdout",
     "output_type": "stream",
     "text": [
      "Plain\n",
      "Cleese\n",
      "Idle\n",
      "Jones\n",
      "Hou\n",
      "Stone\n",
      "Plain\n",
      "Cleese\n",
      "Idle\n",
      "Jones\n",
      "Hou\n",
      "Stone\n"
     ]
    }
   ],
   "source": [
    "# Page43/44\n",
    "import nester\n",
    "\n",
    "cast = ['Plain','Cleese','Idle','Jones','Hou','Stone']\n",
    "print_lol(cast)\n",
    "# Plain\n",
    "# Cleese\n",
    "# Idle\n",
    "# Jones\n",
    "# Hou\n",
    "# Stone\n",
    "\n",
    "# 模块命名空间\n",
    "nester.print_lol(cast)\n",
    "# Plain\n",
    "# Cleese\n",
    "# Idle\n",
    "# Jones\n",
    "# Hou\n",
    "# Stone"
   ]
  },
  {
   "cell_type": "code",
   "execution_count": 20,
   "metadata": {},
   "outputs": [
    {
     "name": "stdout",
     "output_type": "stream",
     "text": [
      "Plain\n",
      "Cleese\n",
      "Idle\n",
      "Jones\n",
      "Hou\n",
      "Stone\n"
     ]
    }
   ],
   "source": [
    "# Page43/44\n",
    "# import nester as nt\n",
    "import nester as nt\n",
    "\n",
    "cast = ['Plain','Cleese','Idle','Jones','Hou','Stone']\n",
    "\n",
    "nt.print_lol(cast)\n",
    "# Plain\n",
    "# Cleese\n",
    "# Idle\n",
    "# Jones\n",
    "# Hou\n",
    "# Stone\n",
    "\n",
    "# print_lol(cast)\n",
    "# nt.print_lol(cast)"
   ]
  },
  {
   "cell_type": "markdown",
   "metadata": {},
   "source": [
    "### 向PyPI上传代码\n",
    "\n",
    "> https://pypi.org/"
   ]
  },
  {
   "cell_type": "code",
   "execution_count": 11,
   "metadata": {},
   "outputs": [
    {
     "name": "stdout",
     "output_type": "stream",
     "text": [
      "0\n",
      "1\n",
      "2\n",
      "3\n"
     ]
    }
   ],
   "source": [
    "for num in range(4):\n",
    "    print(num)"
   ]
  },
  {
   "cell_type": "code",
   "execution_count": 2,
   "metadata": {
    "collapsed": true
   },
   "outputs": [],
   "source": [
    "movies = [\"The Holy Grail\", 1975, \"Terry Jones & Terry Gilliam\", 91,\n",
    "         [\"Graham Chapman\", [\"Michael Palin\", \"John Cleese\", \"Terry Gilliam\", \"Eric Idle\", \"T\"]]]"
   ]
  },
  {
   "cell_type": "code",
   "execution_count": 3,
   "metadata": {},
   "outputs": [
    {
     "name": "stdout",
     "output_type": "stream",
     "text": [
      "The Holy Grail\n",
      "1975\n",
      "Terry Jones & Terry Gilliam\n",
      "91\n",
      "\tGraham Chapman\n",
      "\t\tMichael Palin\n",
      "\t\tJohn Cleese\n",
      "\t\tTerry Gilliam\n",
      "\t\tEric Idle\n",
      "\t\tT\n"
     ]
    }
   ],
   "source": [
    "nt.print_lol(movies)"
   ]
  },
  {
   "cell_type": "code",
   "execution_count": 4,
   "metadata": {},
   "outputs": [
    {
     "name": "stdout",
     "output_type": "stream",
     "text": [
      "\tThe Holy Grail\n",
      "\t1975\n",
      "\tTerry Jones & Terry Gilliam\n",
      "\t91\n",
      "\t\tGraham Chapman\n",
      "\t\t\tMichael Palin\n",
      "\t\t\tJohn Cleese\n",
      "\t\t\tTerry Gilliam\n",
      "\t\t\tEric Idle\n",
      "\t\t\tT\n"
     ]
    }
   ],
   "source": [
    "nt.print_lol(movies, 1)"
   ]
  },
  {
   "cell_type": "code",
   "execution_count": 5,
   "metadata": {},
   "outputs": [
    {
     "name": "stdout",
     "output_type": "stream",
     "text": [
      "\t\tThe Holy Grail\n",
      "\t\t1975\n",
      "\t\tTerry Jones & Terry Gilliam\n",
      "\t\t91\n",
      "\t\t\tGraham Chapman\n",
      "\t\t\t\tMichael Palin\n",
      "\t\t\t\tJohn Cleese\n",
      "\t\t\t\tTerry Gilliam\n",
      "\t\t\t\tEric Idle\n",
      "\t\t\t\tT\n"
     ]
    }
   ],
   "source": [
    "nt.print_lol(movies, 2)"
   ]
  },
  {
   "cell_type": "code",
   "execution_count": 14,
   "metadata": {
    "collapsed": true
   },
   "outputs": [],
   "source": [
    "def print_lol(the_list, isIndent=False, depth=0):\n",
    "    for item in the_list:\n",
    "        if isinstance(item,list):\n",
    "            print_lol(item, isIndent, depth+1)\n",
    "        else:\n",
    "            if isIndent:\n",
    "                for tabs in range(depth):\n",
    "                    print(\"\\t\", end='')\n",
    "            print(item)"
   ]
  },
  {
   "cell_type": "code",
   "execution_count": 21,
   "metadata": {},
   "outputs": [
    {
     "name": "stdout",
     "output_type": "stream",
     "text": [
      "The Holy Grail\n",
      "1975\n",
      "Terry Jones & Terry Gilliam\n",
      "91\n",
      "\tGraham Chapman\n",
      "\t\tMichael Palin\n",
      "\t\tJohn Cleese\n",
      "\t\tTerry Gilliam\n",
      "\t\tEric Idle\n",
      "\t\tT\n"
     ]
    }
   ],
   "source": [
    "print_lol(movies,True)"
   ]
  },
  {
   "cell_type": "code",
   "execution_count": 22,
   "metadata": {},
   "outputs": [
    {
     "name": "stdout",
     "output_type": "stream",
     "text": [
      "The Holy Grail\n",
      "1975\n",
      "Terry Jones & Terry Gilliam\n",
      "91\n",
      "Graham Chapman\n",
      "Michael Palin\n",
      "John Cleese\n",
      "Terry Gilliam\n",
      "Eric Idle\n",
      "T\n"
     ]
    }
   ],
   "source": [
    "print_lol(movies,False)"
   ]
  },
  {
   "cell_type": "code",
   "execution_count": null,
   "metadata": {
    "collapsed": true
   },
   "outputs": [],
   "source": []
  }
 ],
 "metadata": {
  "kernelspec": {
   "display_name": "Python 3",
   "language": "python",
   "name": "python3"
  },
  "language_info": {
   "codemirror_mode": {
    "name": "ipython",
    "version": 3
   },
   "file_extension": ".py",
   "mimetype": "text/x-python",
   "name": "python",
   "nbconvert_exporter": "python",
   "pygments_lexer": "ipython3",
   "version": "3.7.8"
  },
  "toc": {
   "base_numbering": 1,
   "nav_menu": {},
   "number_sections": true,
   "sideBar": true,
   "skip_h1_title": false,
   "title_cell": "Table of Contents",
   "title_sidebar": "Contents",
   "toc_cell": true,
   "toc_position": {},
   "toc_section_display": true,
   "toc_window_display": false
  }
 },
 "nbformat": 4,
 "nbformat_minor": 1
}
