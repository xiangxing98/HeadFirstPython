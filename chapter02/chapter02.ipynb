{
 "cells": [
  {
   "cell_type": "markdown",
   "metadata": {},
   "source": [
    "# Ch.2"
   ]
  },
  {
   "cell_type": "code",
   "execution_count": 7,
   "metadata": {
    "collapsed": false
   },
   "outputs": [
    {
     "data": {
      "text/plain": [
       "'주\\n석'"
      ]
     },
     "execution_count": 7,
     "metadata": {},
     "output_type": "execute_result"
    }
   ],
   "source": [
    "\"\"\"주\n",
    "석\"\"\""
   ]
  },
  {
   "cell_type": "code",
   "execution_count": 9,
   "metadata": {
    "collapsed": false
   },
   "outputs": [],
   "source": [
    "#주석"
   ]
  },
  {
   "cell_type": "code",
   "execution_count": 10,
   "metadata": {
    "collapsed": false
   },
   "outputs": [
    {
     "data": {
      "text/plain": [
       "'주\\n석'"
      ]
     },
     "execution_count": 10,
     "metadata": {},
     "output_type": "execute_result"
    }
   ],
   "source": [
    "'''주\n",
    "석'''"
   ]
  },
  {
   "cell_type": "code",
   "execution_count": 4,
   "metadata": {
    "collapsed": false
   },
   "outputs": [
    {
     "data": {
      "text/plain": [
       "['',\n",
       " 'C:\\\\Anaconda3\\\\python35.zip',\n",
       " 'C:\\\\Anaconda3\\\\DLLs',\n",
       " 'C:\\\\Anaconda3\\\\lib',\n",
       " 'C:\\\\Anaconda3',\n",
       " 'c:\\\\anaconda3\\\\lib\\\\site-packages\\\\setuptools-18.4-py3.5.egg',\n",
       " 'C:\\\\Anaconda3\\\\lib\\\\site-packages',\n",
       " 'C:\\\\Anaconda3\\\\lib\\\\site-packages\\\\Sphinx-1.3.1-py3.5.egg',\n",
       " 'C:\\\\Anaconda3\\\\lib\\\\site-packages\\\\cryptography-1.0.2-py3.5-win-amd64.egg',\n",
       " 'C:\\\\Anaconda3\\\\lib\\\\site-packages\\\\win32',\n",
       " 'C:\\\\Anaconda3\\\\lib\\\\site-packages\\\\win32\\\\lib',\n",
       " 'C:\\\\Anaconda3\\\\lib\\\\site-packages\\\\Pythonwin',\n",
       " 'C:\\\\Anaconda3\\\\lib\\\\site-packages\\\\IPython\\\\extensions',\n",
       " 'C:\\\\Users\\\\SDS\\\\.ipython']"
      ]
     },
     "execution_count": 4,
     "metadata": {},
     "output_type": "execute_result"
    }
   ],
   "source": [
    "import sys\n",
    "sys.path"
   ]
  },
  {
   "cell_type": "code",
   "execution_count": 1,
   "metadata": {
    "collapsed": false
   },
   "outputs": [],
   "source": [
    "import nester as nt"
   ]
  },
  {
   "cell_type": "code",
   "execution_count": 2,
   "metadata": {
    "collapsed": true
   },
   "outputs": [],
   "source": [
    "cast = ['Plain','Cleese','Idle']"
   ]
  },
  {
   "cell_type": "code",
   "execution_count": 3,
   "metadata": {
    "collapsed": false
   },
   "outputs": [
    {
     "name": "stdout",
     "output_type": "stream",
     "text": [
      "Plain\n",
      "Cleese\n",
      "Idle\n"
     ]
    }
   ],
   "source": [
    "nt.print_lol(cast)"
   ]
  },
  {
   "cell_type": "code",
   "execution_count": 11,
   "metadata": {
    "collapsed": false
   },
   "outputs": [
    {
     "name": "stdout",
     "output_type": "stream",
     "text": [
      "0\n",
      "1\n",
      "2\n",
      "3\n"
     ]
    }
   ],
   "source": [
    "for num in range(4):\n",
    "    print(num)"
   ]
  },
  {
   "cell_type": "code",
   "execution_count": 2,
   "metadata": {
    "collapsed": true
   },
   "outputs": [],
   "source": [
    "movies = [\"The Holy Grail\", 1975, \"Terry Jones & Terry Gilliam\", 91,\n",
    "         [\"Graham Chapman\", [\"Michael Palin\", \"John Cleese\", \"Terry Gilliam\", \"Eric Idle\", \"T\"]]]"
   ]
  },
  {
   "cell_type": "code",
   "execution_count": 3,
   "metadata": {
    "collapsed": false
   },
   "outputs": [
    {
     "name": "stdout",
     "output_type": "stream",
     "text": [
      "The Holy Grail\n",
      "1975\n",
      "Terry Jones & Terry Gilliam\n",
      "91\n",
      "\tGraham Chapman\n",
      "\t\tMichael Palin\n",
      "\t\tJohn Cleese\n",
      "\t\tTerry Gilliam\n",
      "\t\tEric Idle\n",
      "\t\tT\n"
     ]
    }
   ],
   "source": [
    "nt.print_lol(movies)"
   ]
  },
  {
   "cell_type": "code",
   "execution_count": 4,
   "metadata": {
    "collapsed": false
   },
   "outputs": [
    {
     "name": "stdout",
     "output_type": "stream",
     "text": [
      "\tThe Holy Grail\n",
      "\t1975\n",
      "\tTerry Jones & Terry Gilliam\n",
      "\t91\n",
      "\t\tGraham Chapman\n",
      "\t\t\tMichael Palin\n",
      "\t\t\tJohn Cleese\n",
      "\t\t\tTerry Gilliam\n",
      "\t\t\tEric Idle\n",
      "\t\t\tT\n"
     ]
    }
   ],
   "source": [
    "nt.print_lol(movies, 1)"
   ]
  },
  {
   "cell_type": "code",
   "execution_count": 5,
   "metadata": {
    "collapsed": false
   },
   "outputs": [
    {
     "name": "stdout",
     "output_type": "stream",
     "text": [
      "\t\tThe Holy Grail\n",
      "\t\t1975\n",
      "\t\tTerry Jones & Terry Gilliam\n",
      "\t\t91\n",
      "\t\t\tGraham Chapman\n",
      "\t\t\t\tMichael Palin\n",
      "\t\t\t\tJohn Cleese\n",
      "\t\t\t\tTerry Gilliam\n",
      "\t\t\t\tEric Idle\n",
      "\t\t\t\tT\n"
     ]
    }
   ],
   "source": [
    "nt.print_lol(movies, 2)"
   ]
  },
  {
   "cell_type": "code",
   "execution_count": 14,
   "metadata": {
    "collapsed": true
   },
   "outputs": [],
   "source": [
    "def print_lol(the_list, isIndent=False, depth=0):\n",
    "    for item in the_list:\n",
    "        if isinstance(item,list):\n",
    "            print_lol(item, isIndent, depth+1)\n",
    "        else:\n",
    "            if isIndent:\n",
    "                for tabs in range(depth):\n",
    "                    print(\"\\t\", end='')\n",
    "            print(item)"
   ]
  },
  {
   "cell_type": "code",
   "execution_count": 21,
   "metadata": {
    "collapsed": false
   },
   "outputs": [
    {
     "name": "stdout",
     "output_type": "stream",
     "text": [
      "The Holy Grail\n",
      "1975\n",
      "Terry Jones & Terry Gilliam\n",
      "91\n",
      "\tGraham Chapman\n",
      "\t\tMichael Palin\n",
      "\t\tJohn Cleese\n",
      "\t\tTerry Gilliam\n",
      "\t\tEric Idle\n",
      "\t\tT\n"
     ]
    }
   ],
   "source": [
    "print_lol(movies,True)"
   ]
  },
  {
   "cell_type": "code",
   "execution_count": 22,
   "metadata": {
    "collapsed": false
   },
   "outputs": [
    {
     "name": "stdout",
     "output_type": "stream",
     "text": [
      "The Holy Grail\n",
      "1975\n",
      "Terry Jones & Terry Gilliam\n",
      "91\n",
      "Graham Chapman\n",
      "Michael Palin\n",
      "John Cleese\n",
      "Terry Gilliam\n",
      "Eric Idle\n",
      "T\n"
     ]
    }
   ],
   "source": [
    "print_lol(movies,False)"
   ]
  },
  {
   "cell_type": "code",
   "execution_count": null,
   "metadata": {
    "collapsed": true
   },
   "outputs": [],
   "source": []
  }
 ],
 "metadata": {
  "kernelspec": {
   "display_name": "Python 3",
   "language": "python",
   "name": "python3"
  },
  "language_info": {
   "codemirror_mode": {
    "name": "ipython",
    "version": 3
   },
   "file_extension": ".py",
   "mimetype": "text/x-python",
   "name": "python",
   "nbconvert_exporter": "python",
   "pygments_lexer": "ipython3",
   "version": "3.5.0"
  }
 },
 "nbformat": 4,
 "nbformat_minor": 0
}
