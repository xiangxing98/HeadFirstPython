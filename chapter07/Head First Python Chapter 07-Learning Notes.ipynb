{
 "cells": [
  {
   "cell_type": "markdown",
   "metadata": {
    "toc": true
   },
   "source": [
    "<h1>Table of Contents<span class=\"tocSkip\"></span></h1>\n",
    "<div class=\"toc\"><ul class=\"toc-item\"><li><span><a href=\"#第七章-Web开发：信息汇总-Web-Development:-Information-summary\" data-toc-modified-id=\"第七章-Web开发：信息汇总-Web-Development:-Information-summary-1\"><span class=\"toc-item-num\">1&nbsp;&nbsp;</span>第七章 Web开发：信息汇总 Web Development: Information summary</a></span><ul class=\"toc-item\"><li><span><a href=\"#웹앱-데이터-모델링-하기\" data-toc-modified-id=\"웹앱-데이터-모델링-하기-1.1\"><span class=\"toc-item-num\">1.1&nbsp;&nbsp;</span>웹앱 데이터 모델링 하기</a></span></li><li><span><a href=\"#UI\" data-toc-modified-id=\"UI-1.2\"><span class=\"toc-item-num\">1.2&nbsp;&nbsp;</span>UI</a></span></li></ul></li></ul></div>"
   ]
  },
  {
   "cell_type": "markdown",
   "metadata": {},
   "source": [
    "## 第七章 Web开发：信息汇总 Web Development: Information summary"
   ]
  },
  {
   "cell_type": "markdown",
   "metadata": {},
   "source": [
    "### 웹앱 데이터 모델링 하기"
   ]
  },
  {
   "cell_type": "code",
   "execution_count": 3,
   "metadata": {},
   "outputs": [],
   "source": [
    "import pickle\n",
    "from athletelist import AthleteList"
   ]
  },
  {
   "cell_type": "code",
   "execution_count": 12,
   "metadata": {},
   "outputs": [],
   "source": [
    "def get_coach_data(filename):\n",
    "    try:\n",
    "        with open(filename) as f:\n",
    "            line = f.readline().strip().split(',')           \n",
    "        return(AthleteList(line.pop(0),line.pop(0),line))\n",
    "    except IOError as ioerr:\n",
    "        print('File error: ' + str(ioerr))\n",
    "        return(None)\n",
    "    \n",
    "\n",
    "def put_to_store(files_list):\n",
    "    all_athletes = {}\n",
    "    \n",
    "    for each_file in files_list:\n",
    "        ath = get_coach_data(each_file)\n",
    "        all_athletes[ath.name] = ath\n",
    "    \n",
    "    try:\n",
    "        with open('athletes.pickle','wb') as athf:\n",
    "            pickle.dump(all_athletes, athf)\n",
    "    except IOError as ioerr:\n",
    "        print('File error (put_and_store):' + str(ioerr))\n",
    "    \n",
    "    return(all_athletes)\n",
    "\n",
    "\n",
    "def get_from_store():\n",
    "    all_athletes = {}\n",
    "    \n",
    "    try:\n",
    "        with open('athletes.pickle','rb') as athf:\n",
    "            all_athletes = pickle.load(athf)\n",
    "    except IOError as ioerr:\n",
    "        print('File err (get_from_store):' + str(ioerr))\n",
    "    \n",
    "    return(all_athletes)"
   ]
  },
  {
   "cell_type": "code",
   "execution_count": 6,
   "metadata": {},
   "outputs": [
    {
     "data": {
      "text/plain": [
       "['AthleteList',\n",
       " 'In',\n",
       " 'Out',\n",
       " '_',\n",
       " '__',\n",
       " '___',\n",
       " '__builtin__',\n",
       " '__builtins__',\n",
       " '__doc__',\n",
       " '__loader__',\n",
       " '__name__',\n",
       " '__package__',\n",
       " '__spec__',\n",
       " '_dh',\n",
       " '_i',\n",
       " '_i1',\n",
       " '_i2',\n",
       " '_i3',\n",
       " '_i4',\n",
       " '_i5',\n",
       " '_i6',\n",
       " '_ih',\n",
       " '_ii',\n",
       " '_iii',\n",
       " '_oh',\n",
       " '_sh',\n",
       " 'exit',\n",
       " 'get_from_store',\n",
       " 'get_ipython',\n",
       " 'pickle',\n",
       " 'put_to_store',\n",
       " 'quit']"
      ]
     },
     "execution_count": 6,
     "metadata": {},
     "output_type": "execute_result"
    }
   ],
   "source": [
    "dir() # 모듈 임포트 확인"
   ]
  },
  {
   "cell_type": "code",
   "execution_count": 7,
   "metadata": {
    "collapsed": true
   },
   "outputs": [],
   "source": [
    "datadir = 'ch6data/'\n",
    "the_files = [datadir + 'sarah2.txt', datadir + 'james2.txt', datadir + 'mikey2.txt', datadir + 'julie2.txt']"
   ]
  },
  {
   "cell_type": "code",
   "execution_count": 8,
   "metadata": {},
   "outputs": [
    {
     "data": {
      "text/plain": [
       "['ch6data/sarah2.txt',\n",
       " 'ch6data/james2.txt',\n",
       " 'ch6data/mikey2.txt',\n",
       " 'ch6data/julie2.txt']"
      ]
     },
     "execution_count": 8,
     "metadata": {},
     "output_type": "execute_result"
    }
   ],
   "source": [
    "the_files"
   ]
  },
  {
   "cell_type": "code",
   "execution_count": 13,
   "metadata": {},
   "outputs": [],
   "source": [
    "data = put_to_store(the_files)"
   ]
  },
  {
   "cell_type": "code",
   "execution_count": 14,
   "metadata": {},
   "outputs": [
    {
     "data": {
      "text/plain": [
       "{'James Lee': ['2-34',\n",
       "  '3:21',\n",
       "  '2.34',\n",
       "  '2.45',\n",
       "  '3.01',\n",
       "  '2:01',\n",
       "  '2:01',\n",
       "  '3:10',\n",
       "  '2-22',\n",
       "  '2-01',\n",
       "  '2.01',\n",
       "  '2:16'],\n",
       " 'Julie Jones': ['2.59',\n",
       "  '2.11',\n",
       "  '2:11',\n",
       "  '2:23',\n",
       "  '3-10',\n",
       "  '2-23',\n",
       "  '3:10',\n",
       "  '3.21',\n",
       "  '3-21',\n",
       "  '3.01',\n",
       "  '3.02',\n",
       "  '2:59'],\n",
       " 'Mikey McManus': ['2:22',\n",
       "  '3.01',\n",
       "  '3:01',\n",
       "  '3.02',\n",
       "  '3:02',\n",
       "  '3.02',\n",
       "  '3:22',\n",
       "  '2.49',\n",
       "  '2:38',\n",
       "  '2:40',\n",
       "  '2.22',\n",
       "  '2-31'],\n",
       " 'Sarah Sweeney': ['2:58',\n",
       "  '2.58',\n",
       "  '2:39',\n",
       "  '2-25',\n",
       "  '2-55',\n",
       "  '2:54',\n",
       "  '2.18',\n",
       "  '2:55',\n",
       "  '2:55',\n",
       "  '2:22',\n",
       "  '2-21',\n",
       "  '2.22']}"
      ]
     },
     "execution_count": 14,
     "metadata": {},
     "output_type": "execute_result"
    }
   ],
   "source": [
    "data"
   ]
  },
  {
   "cell_type": "code",
   "execution_count": 16,
   "metadata": {},
   "outputs": [
    {
     "name": "stdout",
     "output_type": "stream",
     "text": [
      "Sarah Sweeney 2002-6-17\n",
      "James Lee 2002-3-14\n",
      "Mikey McManus 2002-2-24\n",
      "Julie Jones 2002-8-17\n"
     ]
    }
   ],
   "source": [
    "for each_athlete in data:\n",
    "    print(data[each_athlete].name + ' ' + data[each_athlete].dob)"
   ]
  },
  {
   "cell_type": "code",
   "execution_count": 17,
   "metadata": {},
   "outputs": [
    {
     "name": "stdout",
     "output_type": "stream",
     "text": [
      "Sarah Sweeney 2002-6-17\n",
      "James Lee 2002-3-14\n",
      "Mikey McManus 2002-2-24\n",
      "Julie Jones 2002-8-17\n"
     ]
    }
   ],
   "source": [
    "data_copy = get_from_store()\n",
    "for each_athlete in data_copy:\n",
    "    print(data[each_athlete].name + ' ' + data[each_athlete].dob)"
   ]
  },
  {
   "cell_type": "markdown",
   "metadata": {},
   "source": [
    "--------------------------------\n",
    "### UI\n",
    "- webapps 에서 확인"
   ]
  },
  {
   "cell_type": "code",
   "execution_count": 18,
   "metadata": {
    "collapsed": true
   },
   "outputs": [],
   "source": [
    "the_links = {'a':1, 'b':2}"
   ]
  },
  {
   "cell_type": "code",
   "execution_count": 25,
   "metadata": {},
   "outputs": [
    {
     "name": "stdout",
     "output_type": "stream",
     "text": [
      "<class 'str'>\n",
      "<class 'str'>\n"
     ]
    }
   ],
   "source": [
    "for key2 in the_links:\n",
    "    print( type(key2))"
   ]
  },
  {
   "cell_type": "code",
   "execution_count": null,
   "metadata": {
    "collapsed": true
   },
   "outputs": [],
   "source": []
  }
 ],
 "metadata": {
  "kernelspec": {
   "display_name": "Python 3",
   "language": "python",
   "name": "python3"
  },
  "language_info": {
   "codemirror_mode": {
    "name": "ipython",
    "version": 3
   },
   "file_extension": ".py",
   "mimetype": "text/x-python",
   "name": "python",
   "nbconvert_exporter": "python",
   "pygments_lexer": "ipython3",
   "version": "3.7.8"
  },
  "toc": {
   "base_numbering": 1,
   "nav_menu": {},
   "number_sections": true,
   "sideBar": true,
   "skip_h1_title": false,
   "title_cell": "Table of Contents",
   "title_sidebar": "Contents",
   "toc_cell": true,
   "toc_position": {},
   "toc_section_display": true,
   "toc_window_display": false
  }
 },
 "nbformat": 4,
 "nbformat_minor": 1
}
