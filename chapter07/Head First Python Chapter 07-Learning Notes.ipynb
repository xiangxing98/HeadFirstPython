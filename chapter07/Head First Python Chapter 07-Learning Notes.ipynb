{
 "cells": [
  {
   "cell_type": "markdown",
   "metadata": {
    "toc": true
   },
   "source": [
    "<h1>Table of Contents<span class=\"tocSkip\"></span></h1>\n",
    "<div class=\"toc\"><ul class=\"toc-item\"><li><span><a href=\"#第七章-Web开发：信息汇总-Web-Development:-Information-summary\" data-toc-modified-id=\"第七章-Web开发：信息汇总-Web-Development:-Information-summary-1\"><span class=\"toc-item-num\">1&nbsp;&nbsp;</span>第七章 Web开发：信息汇总 Web Development: Information summary</a></span><ul class=\"toc-item\"><li><span><a href=\"#前言-WEB开发---MVC-model-view-control\" data-toc-modified-id=\"前言-WEB开发---MVC-model-view-control-1.1\"><span class=\"toc-item-num\">1.1&nbsp;&nbsp;</span>前言-WEB开发 - MVC-model-view-control</a></span></li><li><span><a href=\"#Exercise-Athletemodel.py\" data-toc-modified-id=\"Exercise-Athletemodel.py-1.2\"><span class=\"toc-item-num\">1.2&nbsp;&nbsp;</span>Exercise Athletemodel.py</a></span></li><li><span><a href=\"#测试代码\" data-toc-modified-id=\"测试代码-1.3\"><span class=\"toc-item-num\">1.3&nbsp;&nbsp;</span>测试代码</a></span><ul class=\"toc-item\"><li><span><a href=\"#获取字典数据的两种方式\" data-toc-modified-id=\"获取字典数据的两种方式-1.3.1\"><span class=\"toc-item-num\">1.3.1&nbsp;&nbsp;</span>获取字典数据的两种方式</a></span></li></ul></li><li><span><a href=\"#查看界面-User-Interface-模板引擎-YATE模块\" data-toc-modified-id=\"查看界面-User-Interface-模板引擎-YATE模块-1.4\"><span class=\"toc-item-num\">1.4&nbsp;&nbsp;</span>查看界面 User Interface-模板引擎-YATE模块</a></span><ul class=\"toc-item\"><li><span><a href=\"#YATE.py--模板引擎-YATE-Module\" data-toc-modified-id=\"YATE.py--模板引擎-YATE-Module-1.4.1\"><span class=\"toc-item-num\">1.4.1&nbsp;&nbsp;</span>YATE.py--模板引擎 YATE Module</a></span></li><li><span><a href=\"#进一步了解YATE模板引擎\" data-toc-modified-id=\"进一步了解YATE模板引擎-1.4.2\"><span class=\"toc-item-num\">1.4.2&nbsp;&nbsp;</span>进一步了解YATE模板引擎</a></span></li></ul></li><li><span><a href=\"#控制代码\" data-toc-modified-id=\"控制代码-1.5\"><span class=\"toc-item-num\">1.5&nbsp;&nbsp;</span>控制代码</a></span><ul class=\"toc-item\"><li><span><a href=\"#simplehttp.py--通用网关接口-CGI-Common-Gateway-Interface\" data-toc-modified-id=\"simplehttp.py--通用网关接口-CGI-Common-Gateway-Interface-1.5.1\"><span class=\"toc-item-num\">1.5.1&nbsp;&nbsp;</span>simplehttp.py--通用网关接口 CGI-Common Gateway Interface</a></span></li></ul></li><li><span><a href=\"#gnerate_timing_data.py\" data-toc-modified-id=\"gnerate_timing_data.py-1.6\"><span class=\"toc-item-num\">1.6&nbsp;&nbsp;</span>gnerate_timing_data.py</a></span></li><li><span><a href=\"#generate_list.py\" data-toc-modified-id=\"generate_list.py-1.7\"><span class=\"toc-item-num\">1.7&nbsp;&nbsp;</span>generate_list.py</a></span></li><li><span><a href=\"#athletemodel.py\" data-toc-modified-id=\"athletemodel.py-1.8\"><span class=\"toc-item-num\">1.8&nbsp;&nbsp;</span>athletemodel.py</a></span></li><li><span><a href=\"#athletelist.py\" data-toc-modified-id=\"athletelist.py-1.9\"><span class=\"toc-item-num\">1.9&nbsp;&nbsp;</span>athletelist.py</a></span></li></ul></li><li><span><a href=\"#关键知识点\" data-toc-modified-id=\"关键知识点-2\"><span class=\"toc-item-num\">2&nbsp;&nbsp;</span>关键知识点</a></span></li></ul></div>"
   ]
  },
  {
   "cell_type": "markdown",
   "metadata": {},
   "source": [
    "## 第七章 Web开发：信息汇总 Web Development: Information summary"
   ]
  },
  {
   "cell_type": "markdown",
   "metadata": {},
   "source": [
    "### 前言-WEB开发 - MVC-model-view-control\n",
    "\n",
    "不论你在 web 上做什么, 都离不开请求和响应, web请求作为某个用户交互的结果由web浏览器发送到web服务器, 在web服务器上, 会生成web响应(或应答)并发回到 web 浏览器. \n",
    "\n",
    "如果web请求的是静态内容, 比如一个Html文件, 图像或者是存储在web服务器硬盘上的其他内容, web服务器会找到资源, 并把它作为一个web响应返回给web浏览器.\n",
    "\n",
    "如果请求的是动态内容, 也就是说, 内容必须动态生成, 那么web服务器会运行一个程序来生成web响应.\n",
    "\n",
    "MVC\n",
    "\n",
    "model: 存储(以及有时处理) web 应用数据的代码\n",
    "\n",
    "view: 格式化和显示web应用用户界面的代码\n",
    "\n",
    "control: 将 web应用\"粘合\"在一起并提供业务逻辑的代码"
   ]
  },
  {
   "cell_type": "markdown",
   "metadata": {},
   "source": [
    "------\n",
    "###  Exercise Athletemodel.py"
   ]
  },
  {
   "cell_type": "code",
   "execution_count": 2,
   "metadata": {},
   "outputs": [],
   "source": [
    "# import pickle and AthleteList\n",
    "import pickle\n",
    "# from athletelist import AthleteList\n",
    "\n",
    "\n",
    "# class AthleteList\n",
    "class AthleteList(list):\n",
    "    def __init__(self, a_name, a_dob=None, a_times=[]):\n",
    "        list.__init__([])\n",
    "        self.name = a_name\n",
    "        self.dob  = a_dob\n",
    "        self.extend(a_times)\n",
    "    \n",
    "    def top3(self):\n",
    "        return(sorted(set([sanitize(t) for ti in self]))[0:3])\n",
    "    \n",
    "\n",
    "# get_coach_data function\n",
    "def get_coach_data(filename):\n",
    "    try:\n",
    "        with open(filename) as f:\n",
    "            line = f.readline().strip().split(',')\n",
    "            # data = f.readline()\n",
    "        # line = data.strip().split(',')\n",
    "        return(AthleteList(line.pop(0),line.pop(0),line))\n",
    "    except IOError as ioerr:\n",
    "        print('File error: ' + str(ioerr))\n",
    "        return(None)\n",
    "    \n",
    "    \n",
    "# put_to_store function\n",
    "def put_to_store(files_list):\n",
    "    all_athletes = {}\n",
    "    \n",
    "    for each_file in files_list:\n",
    "        # 将各个文件转换为一个AthleteList对象实例，并把选手的数据增加到字典\n",
    "        ath = get_coach_data(each_file)\n",
    "        # 每个选手的名字作为字典的键，值是AthleteList对象实例\n",
    "        all_athletes[ath.name] = ath\n",
    "    \n",
    "    # 将整个AthleteList增加到一个pickle中，使用try/except保护你的文件I/O代码\n",
    "    try:\n",
    "        with open('athletes.pickle','wb') as athf:\n",
    "            # 将整个AthleteList增加到一个pickle中\n",
    "            pickle.dump(all_athletes, athf)\n",
    "    except IOError as ioerr:\n",
    "        print('File error (put_and_store):' + str(ioerr))\n",
    "    \n",
    "    return(all_athletes)\n",
    "\n",
    "\n",
    "# get_from_store function\n",
    "def get_from_store():\n",
    "    all_athletes = {}\n",
    "    \n",
    "    # 将整个pickle读入字典，使用try/except保护你的文件I/O代码\n",
    "    try:\n",
    "        with open('athletes.pickle','rb') as athf:\n",
    "            all_athletes = pickle.load(athf)\n",
    "    except IOError as ioerr:\n",
    "        print('File err (get_from_store):' + str(ioerr))\n",
    "    \n",
    "    return(all_athletes)\n"
   ]
  },
  {
   "cell_type": "markdown",
   "metadata": {},
   "source": [
    "------\n",
    "### 测试代码"
   ]
  },
  {
   "cell_type": "code",
   "execution_count": 22,
   "metadata": {},
   "outputs": [
    {
     "data": {
      "text/plain": [
       "['AthleteList',\n",
       " 'In',\n",
       " 'Out',\n",
       " '_',\n",
       " '_11',\n",
       " '_12',\n",
       " '_15',\n",
       " '_3',\n",
       " '_6',\n",
       " '__',\n",
       " '___',\n",
       " '__builtin__',\n",
       " '__builtins__',\n",
       " '__doc__',\n",
       " '__loader__',\n",
       " '__name__',\n",
       " '__package__',\n",
       " '__spec__',\n",
       " '_dh',\n",
       " '_i',\n",
       " '_i1',\n",
       " '_i10',\n",
       " '_i11',\n",
       " '_i12',\n",
       " '_i13',\n",
       " '_i14',\n",
       " '_i15',\n",
       " '_i16',\n",
       " '_i17',\n",
       " '_i18',\n",
       " '_i19',\n",
       " '_i2',\n",
       " '_i20',\n",
       " '_i21',\n",
       " '_i22',\n",
       " '_i3',\n",
       " '_i4',\n",
       " '_i5',\n",
       " '_i6',\n",
       " '_i7',\n",
       " '_i8',\n",
       " '_i9',\n",
       " '_ih',\n",
       " '_ii',\n",
       " '_iii',\n",
       " '_oh',\n",
       " 'autopep8',\n",
       " 'data',\n",
       " 'datadir',\n",
       " 'exit',\n",
       " 'get_coach_data',\n",
       " 'get_from_store',\n",
       " 'get_ipython',\n",
       " 'json',\n",
       " 'pickle',\n",
       " 'pprint',\n",
       " 'put_to_store',\n",
       " 'quit',\n",
       " 'the_files',\n",
       " 'yapf_reformat']"
      ]
     },
     "execution_count": 22,
     "metadata": {},
     "output_type": "execute_result"
    }
   ],
   "source": [
    "dir() # 验证模块导入\n",
    "\n",
    "# ['AthleteList',\n",
    "#  'In',\n",
    "#  'Out',\n",
    "#  '_',\n",
    "#  '__',\n",
    "#  '___',\n",
    "#  '__builtin__',\n",
    "#  '__builtins__',\n",
    "#  '__doc__',\n",
    "#  '__loader__',\n",
    "#  '__name__',\n",
    "#  '__package__',\n",
    "#  '__spec__',\n",
    "#  '_dh',\n",
    "#  '_i',\n",
    "#  '_i1',\n",
    "#  '_i2',\n",
    "#  '_i3',\n",
    "#  '_ih',\n",
    "#  '_ii',\n",
    "#  '_iii',\n",
    "#  '_oh',\n",
    "#  'autopep8',\n",
    "#  'exit',\n",
    "#  'get_coach_data',\n",
    "#  'get_from_store',\n",
    "#  'get_ipython',\n",
    "#  'json',\n",
    "#  'pickle',\n",
    "#  'put_to_store',\n",
    "#  'quit',\n",
    "#  'yapf_reformat']"
   ]
  },
  {
   "cell_type": "code",
   "execution_count": 21,
   "metadata": {},
   "outputs": [],
   "source": [
    "# from pprint import pprint\n",
    "# 创建要处理的文件列表，然后调用put_to_store()函数将文件列表中的数据转换为一个字典\n",
    "\n",
    "# the_files = [\"sarah2.txt\", \"james2.txt\", \"mikey2.txt\", \"julie2.txt\"]\n",
    "# data = put_to_store(the_files)\n",
    "# data\n",
    "\n",
    "datadir = 'hfpy_ch7_data/'\n",
    "the_files = [datadir + 'sarah2.txt', datadir + 'james2.txt', datadir + 'mikey2.txt', datadir + 'julie2.txt']\n",
    "# the_files\n",
    "# ['hfpy_ch7_data/sarah2.txt',\n",
    "#  'hfpy_ch7_data/james2.txt',\n",
    "#  'hfpy_ch7_data/mikey2.txt',\n",
    "#  'hfpy_ch7_data/julie2.txt']\n",
    "\n",
    "# 调用put_to_store()函数将文件列表中的数据转换为一个字典\n",
    "data = put_to_store(the_files)\n",
    "\n",
    "# 查看字典数据\n",
    "# pprint(data)\n",
    "# {'James Lee': ['2-34',\n",
    "#                '3:21',\n",
    "#                '2.34',\n",
    "#                '2.45',\n",
    "#                '3.01',\n",
    "#                '2:01',\n",
    "#                '2:01',\n",
    "#                '3:10',\n",
    "#                '2-22',\n",
    "#                '2-01',\n",
    "#                '2.01',\n",
    "#                '2:16'],\n",
    "#  'Julie Jones': ['2.59',\n",
    "#                  '2.11',\n",
    "#                  '2:11',\n",
    "#                  '2:23',\n",
    "#                  '3-10',\n",
    "#                  '2-23',\n",
    "#                  '3:10',\n",
    "#                  '3.21',\n",
    "#                  '3-21',\n",
    "#                  '3.01',\n",
    "#                  '3.02',\n",
    "#                  '2:59'],\n",
    "#  'Mikey McManus': ['2:22',\n",
    "#                    '3.01',\n",
    "#                    '3:01',\n",
    "#                    '3.02',\n",
    "#                    '3:02',\n",
    "#                    '3.02',\n",
    "#                    '3:22',\n",
    "#                    '2.49',\n",
    "#                    '2:38',\n",
    "#                    '2:40',\n",
    "#                    '2.22',\n",
    "#                    '2-31'],\n",
    "#  'Sarah Sweeney': ['2:58',\n",
    "#                    '2.58',\n",
    "#                    '2:39',\n",
    "#                    '2-25',\n",
    "#                    '2-55',\n",
    "#                    '2:54',\n",
    "#                    '2.18',\n",
    "#                    '2:55',\n",
    "#                    '2:55',\n",
    "#                    '2:22',\n",
    "#                    '2-21',\n",
    "#                    '2.22']}\n",
    "\n",
    "# 现在目录下有一个athletes.pickle文件，二进制，需要用get_from_store返回字典"
   ]
  },
  {
   "cell_type": "markdown",
   "metadata": {},
   "source": [
    "#### 获取字典数据的两种方式"
   ]
  },
  {
   "cell_type": "code",
   "execution_count": 24,
   "metadata": {},
   "outputs": [
    {
     "name": "stdout",
     "output_type": "stream",
     "text": [
      "Sarah Sweeney 2002-6-17\n",
      "James Lee 2002-3-14\n",
      "Mikey McManus 2002-2-24\n",
      "Julie Jones 2002-8-17\n"
     ]
    }
   ],
   "source": [
    "# 获取字典数据方式1，现有的字典数据\n",
    "for each_athlete in data:\n",
    "    print(data[each_athlete].name + ' ' + data[each_athlete].dob)\n",
    "\n",
    "# Sarah Sweeney 2002-6-17\n",
    "# James Lee 2002-3-14\n",
    "# Mikey McManus 2002-2-24\n",
    "# Julie Jones 2002-8-17"
   ]
  },
  {
   "cell_type": "code",
   "execution_count": 27,
   "metadata": {},
   "outputs": [
    {
     "name": "stdout",
     "output_type": "stream",
     "text": [
      "Sarah Sweeney 2002-6-17\n",
      "James Lee 2002-3-14\n",
      "Mikey McManus 2002-2-24\n",
      "Julie Jones 2002-8-17\n"
     ]
    }
   ],
   "source": [
    "# 获取字典数据方式2，从athletes.pickle文件读取\n",
    "data_copy = get_from_store()\n",
    "for each_athlete in data_copy:\n",
    "    print(data[each_athlete].name + ' ' + data[each_athlete].dob)\n",
    "\n",
    "# Sarah Sweeney 2002-6-17\n",
    "# James Lee 2002-3-14\n",
    "# Mikey McManus 2002-2-24\n",
    "# Julie Jones 2002-8-17"
   ]
  },
  {
   "cell_type": "markdown",
   "metadata": {},
   "source": [
    "--------------------------------\n",
    "### 查看界面 User Interface-模板引擎-YATE模块\n",
    "- webapps"
   ]
  },
  {
   "cell_type": "markdown",
   "metadata": {},
   "source": [
    "#### YATE.py--模板引擎 YATE Module"
   ]
  },
  {
   "cell_type": "code",
   "execution_count": 79,
   "metadata": {},
   "outputs": [],
   "source": [
    "# YATE.py\n",
    "from string import Template\n",
    "#Template 模块的相关内容,简单的字符串替换模板\n",
    "\n",
    "def start_response(resp='text/html'):\n",
    "     return ('Content-type: '+ resp +'\\n\\n')\n",
    "#一个可选的字符串作为参数,用它来创建cgi 的 content-type: 行,缺省为 text/html\n",
    "\n",
    "def include_header(the_title):\n",
    "     with open('templates/header.html') as headf:\n",
    "          head_text = headf.read()\n",
    "     header = Template(head_text)\n",
    "     return (header.substitute(title=the_title))\n",
    "#将从header.html中读入的文件,替换所提供的标题\n",
    "\n",
    "def include_footer(the_links):\n",
    "     with open('templates/footer.html') as footf:\n",
    "          foot_text = footf.read()\n",
    "     link_string = ''\n",
    "     for key in the_links:\n",
    "          # 替换链接\n",
    "          link_string += '<a href=\"'+the_links[key]+'\">'+ key + '</a>&nbsp;&nbsp;&nbsp;&nbsp;'\n",
    "          # &nbsp为HTML在字符串尾部加入空格，强制转换\n",
    "     footer = Template(foot_text)\n",
    "     return(footer.substitute(links=link_string))\n",
    "#使用一个字符串作为参数,来创建一个 html 页面的尾部,页面本身存于 footer.html 中,\n",
    "#参数用于动态创建一组动态 html 链接标记,从使用来看,参数应该是一个字典\n",
    "\n",
    "def start_form(the_url,form_type='POST'):\n",
    "     return('<form action=\"'+the_url+'\" method=\"'+form_type+'\">')\n",
    "#返回表单最前面的HTML, 允许调用者制定URL,(表单数据将发送到这个URL)\n",
    "#还可以指定所要使用的方法\n",
    "\n",
    "\n",
    "def end_form(submit_msg=\"Submit\"):\n",
    "     return('<p></p><input type=submit value=\"'+submit_msg+'\"></form>')\n",
    "#返回表单末尾的html标记,同事允许定制submit按钮的文本\n",
    "\n",
    "def radio_button(rb_name,rb_value):\n",
    "     return('<input type=\"radio\" name=\"'+rb_name+\n",
    "            '\" value=\"'+rb_value+'\">'+ rb_value+'<br/>')\n",
    "#给定一个单选按钮的名和值,创建一个html 单选按钮,两个参数都是必须的\n",
    "\n",
    "def u_list(items):\n",
    "    # global u_string\n",
    "    u_string = '<ul>'\n",
    "    for item in items:\n",
    "      u_string += '<li>' + item + '</li>'\n",
    "    u_string += '</ul>'\n",
    "    return(u_string)\n",
    "# 给定一个项列表,将其转化为一个html 列表,每次迭代会像ul增加一个li元素\n",
    "\n",
    "def header(header_text,header_level=2):\n",
    "     return ('<h'+str(header_level)+'>'+header_text+\n",
    "             '</h'+str(header_level)+'>')\n",
    "#返回一个 html 标题标记,默认为2级标题\n",
    "\n",
    "def para(para_text):\n",
    "     return('<p>'+para_text+'</p>')\n",
    "#段落标记一个文本段\n"
   ]
  },
  {
   "cell_type": "markdown",
   "metadata": {},
   "source": [
    "#### 进一步了解YATE模板引擎"
   ]
  },
  {
   "cell_type": "code",
   "execution_count": 32,
   "metadata": {},
   "outputs": [
    {
     "data": {
      "text/plain": [
       "'Content-type: text/html\\n\\n'"
      ]
     },
     "execution_count": 32,
     "metadata": {},
     "output_type": "execute_result"
    }
   ],
   "source": [
    "start_response()\n",
    "# 'Content-type: text/html\\n\\n'"
   ]
  },
  {
   "cell_type": "code",
   "execution_count": 34,
   "metadata": {},
   "outputs": [
    {
     "data": {
      "text/plain": [
       "'Content-type: text/plain\\n\\n'"
      ]
     },
     "execution_count": 34,
     "metadata": {},
     "output_type": "execute_result"
    }
   ],
   "source": [
    "start_response(\"text/plain\")\n",
    "# 'Content-type: text/plain\\n\\n'"
   ]
  },
  {
   "cell_type": "code",
   "execution_count": 36,
   "metadata": {},
   "outputs": [
    {
     "data": {
      "text/plain": [
       "'Content-type: application/json\\n\\n'"
      ]
     },
     "execution_count": 36,
     "metadata": {},
     "output_type": "execute_result"
    }
   ],
   "source": [
    "start_response(\"application/json\")\n",
    "# 'Content-type: application/json\\n\\n'"
   ]
  },
  {
   "cell_type": "code",
   "execution_count": 39,
   "metadata": {},
   "outputs": [
    {
     "data": {
      "text/plain": [
       "'<html>\\n<head>\\n<title>Welcome to my home on the web</title>\\n<link type=\"text/css\" rel=\"stylesheet\" href=\"/coach.css\" />\\n</head>\\n<body>\\n<h1>Welcome to my home on the web</h1>\\n'"
      ]
     },
     "execution_count": 39,
     "metadata": {},
     "output_type": "execute_result"
    }
   ],
   "source": [
    "include_header(\"Welcome to my home on the web\")\n",
    "# '<html>\\n<head>\\n<title>Welcome to my home on the web</title>\\n\n",
    "# <link type=\"text/css\" rel=\"stylesheet\" href=\"/coach.css\" />\\n</head>\\n\n",
    "# <body>\\n<h1>Welcome to my home on the web</h1>\\n'"
   ]
  },
  {
   "cell_type": "code",
   "execution_count": 52,
   "metadata": {},
   "outputs": [
    {
     "data": {
      "text/plain": [
       "'<p>\\n<a href=\"index.html\">Home</a>&nbsp;&nbsp;&nbsp;&nbsp;<a href=\"/cgi-bin/select.py\">select</a>&nbsp;&nbsp;&nbsp;&nbsp;\\n</p>\\n</body>\\n</html>\\n'"
      ]
     },
     "execution_count": 52,
     "metadata": {},
     "output_type": "execute_result"
    }
   ],
   "source": [
    "include_footer({\"Home\":\"index.html\",'select':'/cgi-bin/select.py'})\n",
    "# '<p>\\n\n",
    "# <a href=\"index.html\">Home</a>&nbsp;&nbsp;&nbsp;&nbsp;\n",
    "# <a href=\"/cgi-bin/select.py\">select</a>&nbsp;&nbsp;&nbsp;&nbsp;\n",
    "# \\n</p>\\n</body>\\n</html>\\n'"
   ]
  },
  {
   "cell_type": "code",
   "execution_count": 42,
   "metadata": {},
   "outputs": [
    {
     "data": {
      "text/plain": [
       "'<p>\\n\\n</p>\\n</body>\\n</html>\\n'"
      ]
     },
     "execution_count": 42,
     "metadata": {},
     "output_type": "execute_result"
    }
   ],
   "source": [
    "include_footer({})\n",
    "# '<p>\\n\\n</p>\\n</body>\\n</html>\\n'"
   ]
  },
  {
   "cell_type": "code",
   "execution_count": 56,
   "metadata": {},
   "outputs": [
    {
     "data": {
      "text/plain": [
       "'<form action=\"\" method=\"POST\">'"
      ]
     },
     "execution_count": 56,
     "metadata": {},
     "output_type": "execute_result"
    }
   ],
   "source": [
    "# form\n",
    "start_form(\"/cgi-bin/process-athlete.py\")\n",
    "# '<form action=\"/cgi-bin/process-athlete.py\" method=\"POST\">'\n",
    "\n",
    "start_form(\"\")\n",
    "# '<form action=\"\" method=\"POST\">'"
   ]
  },
  {
   "cell_type": "code",
   "execution_count": 59,
   "metadata": {},
   "outputs": [
    {
     "data": {
      "text/plain": [
       "'<p></p><input type=submit value=\"Click to Confirm Your Order\"></form>'"
      ]
     },
     "execution_count": 59,
     "metadata": {},
     "output_type": "execute_result"
    }
   ],
   "source": [
    "end_form(\"\")\n",
    "# '<p></p><input type=submit value=\"\"></form>'\n",
    "\n",
    "end_form()\n",
    "# '<p></p><input type=submit value=\"Submit\"></form>'\n",
    "\n",
    "end_form(\"Click to Confirm Your Order\")\n",
    "# '<p></p><input type=submit value=\"Click to Confirm Your Order\"></form>'"
   ]
  },
  {
   "cell_type": "code",
   "execution_count": 63,
   "metadata": {},
   "outputs": [],
   "source": [
    "# 单选按钮\n",
    "for fab in ['John', 'Paul','George','Ringo']:\n",
    "    radio_button(fab, fab)\n",
    "    # print(radio_button(fab, fab))\n",
    "\n",
    "# <input type=\"radio\" name=\"John\" value=\"John\">John<br/>\n",
    "# <input type=\"radio\" name=\"Paul\" value=\"Paul\">Paul<br/>\n",
    "# <input type=\"radio\" name=\"George\" value=\"George\">George<br/>\n",
    "# <input type=\"radio\" name=\"Ringo\" value=\"Ringo\">Ringo<br/>    "
   ]
  },
  {
   "cell_type": "code",
   "execution_count": 80,
   "metadata": {
    "scrolled": false
   },
   "outputs": [
    {
     "data": {
      "text/plain": [
       "'<ul><li>Life if Brain</li></ul>'"
      ]
     },
     "execution_count": 80,
     "metadata": {},
     "output_type": "execute_result"
    }
   ],
   "source": [
    "# 无序列表\n",
    "u_list(['Life if Brain'])\n",
    "# '<ul><li>Life if Brain</li></ul>'"
   ]
  },
  {
   "cell_type": "code",
   "execution_count": 82,
   "metadata": {},
   "outputs": [
    {
     "data": {
      "text/plain": [
       "'<h5>Welcome to my home on the web</h5>'"
      ]
     },
     "execution_count": 82,
     "metadata": {},
     "output_type": "execute_result"
    }
   ],
   "source": [
    "# header\n",
    "header(\"Welcome to my home on the web\")\n",
    "# '<h2>Welcome to my home on the web</h2>'\n",
    "\n",
    "header(\"Welcome to my home on the web\",5)\n",
    "# '<h5>Welcome to my home on the web</h5>'"
   ]
  },
  {
   "cell_type": "code",
   "execution_count": 83,
   "metadata": {},
   "outputs": [
    {
     "data": {
      "text/plain": [
       "'<p>This is a single paragraph</p>'"
      ]
     },
     "execution_count": 83,
     "metadata": {},
     "output_type": "execute_result"
    }
   ],
   "source": [
    "para(\"This is a single paragraph\")\n",
    "# '<p>This is a single paragraph</p>'"
   ]
  },
  {
   "cell_type": "markdown",
   "metadata": {},
   "source": [
    "### 控制代码"
   ]
  },
  {
   "cell_type": "markdown",
   "metadata": {},
   "source": [
    "#### simplehttp.py--通用网关接口 CGI-Common Gateway Interface\n",
    "\n",
    "http.server"
   ]
  },
  {
   "cell_type": "code",
   "execution_count": null,
   "metadata": {},
   "outputs": [],
   "source": [
    "# http.server, simplehttp.py\n",
    "\n",
    "# 导入HTTsimplehttp.pyP服务器和CGI模块\n",
    "from http.server import HTTPServer,CGIHTTPRequestHandler\n",
    "\n",
    "# 配置一个简单的httpserver\n",
    "\n",
    "# 指定一个端口\n",
    "port = 8082\n",
    "\n",
    "# 创建一个HTTP服务器\n",
    "httpd = HTTPServer(('',port),CGIHTTPRequestHandler)\n",
    "\n",
    "# 显示一个友好的消息\n",
    "print('Starting simple_httpd on port:' + str(httpd.server_port))\n",
    "\n",
    "# 并启动服务器\n",
    "httpd.serve_forever()"
   ]
  },
  {
   "cell_type": "markdown",
   "metadata": {},
   "source": [
    "### gnerate_timing_data.py\n"
   ]
  },
  {
   "cell_type": "code",
   "execution_count": null,
   "metadata": {},
   "outputs": [],
   "source": [
    "# -*- encoding: utf-8 -*-\n",
    "# !/usr/bin/env python\n",
    "'''\n",
    "@File    :   generate_timing_data.py\n",
    "@Time    :   2020/09/15 22:21:09\n",
    "@Author  :   Stone_Hou\n",
    "@Version :   1.0\n",
    "@Contact :   xiangxing985529@163.com\n",
    "@License :   (C)Copyright 2010-2020, Stone_Hou\n",
    "@Desc    :   None\n",
    "@Refer   :   https://github.com/xiangxing98\n",
    "'''\n",
    "\n",
    "import cgi\n",
    "import cgitb #开启浏览器追踪 cig 信息\n",
    "\n",
    "import athletemodel\n",
    "import YATE\n",
    "\n",
    "cgitb.enable()#cgitb #开启浏览器追踪 cig 信息\n",
    "athletes = athletemodel.get_from_store()#从pickle获取信息\n",
    "form_data = cgi.FieldStorage()#获取请求的form的内容\n",
    "athlete_name = form_data['which_athlete'].value#从内容中得到请求控件name 为:which_athlete的值\n",
    "                         \n",
    "print(YATE.start_response())\n",
    "print(YATE.include_header('Timing Data'))\n",
    "print(YATE.header('Athlete:'+athlete_name+' ,DOB: '\n",
    "                  +athletes[athlete_name].dob+'.'))\n",
    "print(YATE.para('The top times for this athlete are:'))\n",
    "print(YATE.u_list(athletes[athlete_name].top3))#这里需要在top3方法那加入@property将类方法表现得像个类属性\n",
    "print(YATE.include_footer({'Home':'/index.html',\n",
    "                           'Select another athlete':'generate_list.py'}))\n"
   ]
  },
  {
   "cell_type": "markdown",
   "metadata": {},
   "source": [
    "### generate_list.py"
   ]
  },
  {
   "cell_type": "code",
   "execution_count": null,
   "metadata": {},
   "outputs": [],
   "source": [
    "# -*- encoding: utf-8 -*-\n",
    "# !/usr/bin/env python\n",
    "'''\n",
    "@File    :   generate_list.py\n",
    "@Time    :   2020/09/15 22:58:34\n",
    "@Author  :   Stone_Hou\n",
    "@Version :   1.0\n",
    "@Contact :   xiangxing985529@163.com\n",
    "@License :   (C)Copyright 2010-2020, Stone_Hou\n",
    "@Desc    :   None\n",
    "@Refer   :   https://github.com/xiangxing98\n",
    "'''\n",
    "\n",
    "# here put the import lib\n",
    "# 创建ath_list页面,这里有运动员的列表\n",
    "import athletemodel\n",
    "import YATE\n",
    "import glob #可以获取文件列表\n",
    "\n",
    "data_files = glob.glob(\"data/*.txt\")#获取data 目录下的所有txt\n",
    "athletes = athletemodel.put_to_store(data_files)#将txt的内容存入 pickle,并返回字典\n",
    "\n",
    "print(YATE.start_response())\n",
    "print(YATE.include_header('List of Athletes')) #web的头\n",
    "print(YATE.start_form('generate_timing_data.py'))#需要进一步处理表单的表单,即submit后处理请求的页面\n",
    "print(YATE.para('Select an Athlete!'))\n",
    "\n",
    "for each_ath in athletes:\n",
    "     print(YATE.radio_button('which_athlete',athletes[each_ath].name))#which_athlete是radiobutton的name属性,\n",
    "print(YATE.end_form('Select'))\n",
    "print(YATE.include_footer({'Home':'/index.html'}))\n",
    "      \n",
    "      \n"
   ]
  },
  {
   "cell_type": "markdown",
   "metadata": {},
   "source": [
    "### athletemodel.py"
   ]
  },
  {
   "cell_type": "code",
   "execution_count": null,
   "metadata": {},
   "outputs": [],
   "source": [
    "# -*- encoding: utf-8 -*-\n",
    "# !/usr/bin/env python\n",
    "'''\n",
    "@File    :   athletemodel.py\n",
    "@Time    :   2020/09/15 22:59:54\n",
    "@Author  :   Stone_Hou\n",
    "@Version :   1.0\n",
    "@Contact :   xiangxing985529@163.com\n",
    "@License :   (C)Copyright 2010-2020, Stone_Hou\n",
    "@Desc    :   None\n",
    "@Refer   :   https://github.com/xiangxing98\n",
    "'''\n",
    "\n",
    "# here put the import lib\n",
    "import pickle\n",
    "from athletelist import AthleteList\n",
    "\n",
    "\n",
    "def get_coach_data(filename): #从文件中获取数据\n",
    "\n",
    "     try:\n",
    "          with open (filename) as f:\n",
    "               data = f.readline()\n",
    "               templ = data.strip().split(',')\n",
    "               return (AthleteList(templ.pop(0),templ.pop(0),templ))\n",
    "     except IOError as ioerr:\n",
    "          print ('File Error: ' + str(ioerr))\n",
    "          return (None)\n",
    "\n",
    "def put_to_store(file_list):\n",
    "\n",
    "     all_athletes = {}\n",
    "     for each_f in file_list:\n",
    "          ath = get_coach_data(each_f) #这里ath 返回的 athletelist 的对象(athletelist 是一个list)\n",
    "          #all_athletes['Name'] = ath.name\n",
    "          #all_athletes['DOB'] = ath.dob\n",
    "          #all_athletes['Times']= ath\n",
    "          all_athletes[ath.name] = ath #将ath name 作为键,将ath作为值\n",
    "          \n",
    "     try:\n",
    "          with open ('athletes.pickle','wb') as ath_f:\n",
    "               pickle.dump (all_athletes,ath_f)\n",
    "     except IOError as ioerr:\n",
    "          print('File Error(put_to_store): '+str(ioerr))\n",
    "     return (all_athletes)\n",
    "\n",
    "def get_from_store():\n",
    "\n",
    "     all_athletes = {}\n",
    "     try:\n",
    "          with open ('athletes.pickle','rb') as ath_f:\n",
    "               all_athletes = pickle.load(ath_f)\n",
    "     except IOError as ioerr:\n",
    "          print('File Error(get_from_store): '+str(ioerr))\n",
    "          \n",
    "     return (all_athletes)\n",
    "\n",
    "\"\"\"\n",
    "测试代码\n",
    "files = ['sarah2.txt','james2.txt','mikey2.txt','julie2.txt']\n",
    "data = put_to_store(files)#data 是一个字典\n",
    "print(data)\n",
    "for each_ath in data:\n",
    "     #print(data[each_ath].name + ' ' +data[each_ath].dob )\n",
    "     print(data[each_ath].name)\n",
    "\"\"\"\n"
   ]
  },
  {
   "cell_type": "markdown",
   "metadata": {},
   "source": [
    "### athletelist.py"
   ]
  },
  {
   "cell_type": "code",
   "execution_count": null,
   "metadata": {},
   "outputs": [],
   "source": [
    "# -*- encoding: utf-8 -*-\n",
    "# !/usr/bin/env python\n",
    "'''\n",
    "@File    :   athletelist.py\n",
    "@Time    :   2020/09/15 23:00:38\n",
    "@Author  :   Stone_Hou\n",
    "@Version :   1.0\n",
    "@Contact :   xiangxing985529@163.com\n",
    "@License :   (C)Copyright 2010-2020, Stone_Hou\n",
    "@Desc    :   None\n",
    "@Refer   :   https://github.com/xiangxing98\n",
    "'''\n",
    "\n",
    "class AthleteList(list): #新的AthleteList 类,继承了原有的list类,包含了原list的所有方法 append,extend\n",
    "     def __init__(self,a_name,a_dob=None,a_times=[]):\n",
    "          list.__init__([])\n",
    "          self.name = a_name\n",
    "          self.dob = a_dob\n",
    "          self.extend(a_times)\n",
    "     @property\n",
    "     def top3(self):\n",
    "          return(sorted(set([sanitize(t) for t in self]))[0:3])\n",
    "          \n",
    "def sanitize(time_string): #序列化得到的无规则数据,将其格式化为 mins.secs 的格式\n",
    "     if '-' in time_string:\n",
    "          splitter = '-'\n",
    "     elif ':' in time_string:\n",
    "          splitter = ':'\n",
    "     else:\n",
    "          return(time_string)\n",
    "     (mins,secs)=time_string.split(splitter)\n",
    "     return(mins+'.'+secs)\n",
    "\n",
    "def load_from_file(filename): #读取文件的一行(这个文件只有一行,多行咋办)\n",
    "     try:\n",
    "          with open (filename) as f:\n",
    "               data = f.readline()\n",
    "               templ = data.strip().split(',')\n",
    "               return (Athlete(templ.pop(0),templ.pop(0),templ))#返回一个Athlete对象,这里已经pop了两次,所以返回值里只有times了\n",
    "     except IOError as err:\n",
    "          print('File Error: '+str(err))\n",
    "          return (None)\n",
    "\n"
   ]
  },
  {
   "cell_type": "markdown",
   "metadata": {},
   "source": [
    "## 关键知识点"
   ]
  },
  {
   "cell_type": "markdown",
   "metadata": {},
   "source": [
    "1. MVC模式(Model-View-Controller)用一种可维护的方式帮助设计和构建一个Web应用；\n",
    "2. model存储Web应用中的数据；\n",
    "3. view显示Web应用的用户界面；\n",
    "4. controller使用编程逻辑将所有部分连接在一起；\n",
    "5. 标准库string模块中有一个类叫做Template，它支持简单的字符串替换；\n",
    "6. 标准库http.server模块可以用来在Python中创建一个简单的Web服务器；\n",
    "7. 标准库cgi模块提供编写CGI脚本的支持；\n",
    "8. 标准库glob模块处理文件列表非常好用；\n",
    "9. 在Linux和Mac OS X上为可执行文件执行chmod+x命令；\n",
    "10. 标准库cgitb模块在激活时可以在浏览器中看到CGI的编码错误；\n",
    "11. 使用cgitb.enable()可以在CGI代码中打开CGI跟踪；\n",
    "12. 使用cgi.FieldStorage()可以访问发送到Web服务器请求部分的数据。\n"
   ]
  },
  {
   "cell_type": "code",
   "execution_count": 18,
   "metadata": {
    "collapsed": true
   },
   "outputs": [],
   "source": [
    "the_links = {'a':1, 'b':2}"
   ]
  },
  {
   "cell_type": "code",
   "execution_count": 25,
   "metadata": {},
   "outputs": [
    {
     "name": "stdout",
     "output_type": "stream",
     "text": [
      "<class 'str'>\n",
      "<class 'str'>\n"
     ]
    }
   ],
   "source": [
    "for key2 in the_links:\n",
    "    print( type(key2))"
   ]
  }
 ],
 "metadata": {
  "kernelspec": {
   "display_name": "Python 3",
   "language": "python",
   "name": "python3"
  },
  "language_info": {
   "codemirror_mode": {
    "name": "ipython",
    "version": 3
   },
   "file_extension": ".py",
   "mimetype": "text/x-python",
   "name": "python",
   "nbconvert_exporter": "python",
   "pygments_lexer": "ipython3",
   "version": "3.7.8"
  },
  "toc": {
   "base_numbering": 1,
   "nav_menu": {},
   "number_sections": true,
   "sideBar": true,
   "skip_h1_title": false,
   "title_cell": "Table of Contents",
   "title_sidebar": "Contents",
   "toc_cell": true,
   "toc_position": {
    "height": "calc(100% - 180px)",
    "left": "10px",
    "top": "150px",
    "width": "258.722px"
   },
   "toc_section_display": true,
   "toc_window_display": true
  }
 },
 "nbformat": 4,
 "nbformat_minor": 1
}
