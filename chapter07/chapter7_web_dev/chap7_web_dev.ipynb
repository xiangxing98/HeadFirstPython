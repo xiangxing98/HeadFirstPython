{
 "cells": [
  {
   "cell_type": "markdown",
   "metadata": {},
   "source": [
    "## Exercise Athletemodel.py"
   ]
  },
  {
   "cell_type": "code",
   "execution_count": 14,
   "metadata": {
    "collapsed": true
   },
   "outputs": [],
   "source": [
    "class AthleteList(list):\n",
    "    def __init__(self, a_name, a_dob=None, a_times=[]):\n",
    "        list.__init__([])\n",
    "        self.name = a_name\n",
    "        self.dob  = a_dob\n",
    "        self.extend(a_times)\n",
    "    \n",
    "    def top3(self):\n",
    "        return(sorted(set([sanitize(t) for ti in self]))[0:3])\n",
    "    "
   ]
  },
  {
   "cell_type": "code",
   "execution_count": 35,
   "metadata": {
    "collapsed": false
   },
   "outputs": [],
   "source": [
    "import pickle\n",
    "#from atheletelist import AthleteList\n",
    "\n",
    "def get_coach_data(filename):\n",
    "    try:\n",
    "        with open(filename) as f:\n",
    "            data = f.readline()\n",
    "        temp1 = data.strip().split(',')\n",
    "        return(AthleteList(temp1.pop(0), temp1.pop(0), temp1))\n",
    "    except IOError as ioerr:\n",
    "        print('File error: ' + str(ioerr))\n",
    "        return(None)\n",
    "        \n",
    "\n",
    "def put_to_store(files_list):\n",
    "    all_athletes = {}\n",
    "    for each_file in files_list:\n",
    "        print(each_file)\n",
    "        ath = get_coach_data(each_file)\n",
    "        all_athletes[ath.name] = ath\n",
    "        \n",
    "    try:\n",
    "        with open(\"athletes.pickle\", \"wb\") as athf:\n",
    "            pickle.dump(all_athletes, athf)\n",
    "    except IOError as ioerr:\n",
    "        print(\"File error (put_to_stor)\" + str(ioerr))            \n",
    "    return(all_athletes)\n",
    "\n",
    "def get_from_store():\n",
    "    all_athletes = {}\n",
    "    try:\n",
    "        with open(\"athletes.pickle\", \"rb\") as athf:\n",
    "            all_athletes = pickle.load(athf)\n",
    "    except IOError as ioerr:\n",
    "        print(\"File error (get_from_store)\" + str(ioerr))\n",
    "    return(all_athletes)\n"
   ]
  },
  {
   "cell_type": "code",
   "execution_count": 36,
   "metadata": {
    "collapsed": false
   },
   "outputs": [
    {
     "name": "stdout",
     "output_type": "stream",
     "text": [
      "sarah2.txt\n",
      "james2.txt\n",
      "mikey2.txt\n",
      "julie2.txt\n"
     ]
    },
    {
     "data": {
      "text/plain": [
       "{'James Lee': ['2-34',\n",
       "  '3:21',\n",
       "  '2.34',\n",
       "  '2.45',\n",
       "  '3.01',\n",
       "  '2:01',\n",
       "  '2:01',\n",
       "  '3:10',\n",
       "  '2-22',\n",
       "  '2-01',\n",
       "  '2.01',\n",
       "  '2:16'],\n",
       " 'Julie Jones': ['2.59',\n",
       "  '2.11',\n",
       "  '2:11',\n",
       "  '2:23',\n",
       "  '3-10',\n",
       "  '2-23',\n",
       "  '3:10',\n",
       "  '3.21',\n",
       "  '3-21',\n",
       "  '3.01',\n",
       "  '3.02',\n",
       "  '2:59'],\n",
       " 'Mikey McManus': ['2:22',\n",
       "  '3.01',\n",
       "  '3:01',\n",
       "  '3.02',\n",
       "  '3:02',\n",
       "  '3.02',\n",
       "  '3:22',\n",
       "  '2.49',\n",
       "  '2:38',\n",
       "  '2:40',\n",
       "  '2.22',\n",
       "  '2-31'],\n",
       " 'Sarah Sweeney': ['2:58',\n",
       "  '2.58',\n",
       "  '2:39',\n",
       "  '2-25',\n",
       "  '2-55',\n",
       "  '2:54',\n",
       "  '2.18',\n",
       "  '2:55',\n",
       "  '2:55',\n",
       "  '2:22',\n",
       "  '2-21',\n",
       "  '2.22']}"
      ]
     },
     "execution_count": 36,
     "metadata": {},
     "output_type": "execute_result"
    }
   ],
   "source": [
    "the_files = [\"sarah2.txt\", \"james2.txt\", \"mikey2.txt\", \"julie2.txt\"]\n",
    "data = put_to_store(the_files)\n",
    "\n",
    "data"
   ]
  },
  {
   "cell_type": "code",
   "execution_count": 37,
   "metadata": {
    "collapsed": false
   },
   "outputs": [
    {
     "name": "stdout",
     "output_type": "stream",
     "text": [
      "Mikey McManus 2002-2-24\n",
      "James Lee 2002-3-14\n",
      "Sarah Sweeney 2002-6-17\n",
      "Julie Jones 2002-8-17\n"
     ]
    }
   ],
   "source": [
    "for each_athlete in data:\n",
    "    print(data[each_athlete].name + \" \" + data[each_athlete].dob)"
   ]
  },
  {
   "cell_type": "code",
   "execution_count": 38,
   "metadata": {
    "collapsed": false
   },
   "outputs": [
    {
     "name": "stdout",
     "output_type": "stream",
     "text": [
      "Mikey McManus 2002-2-24\n",
      "James Lee 2002-3-14\n",
      "Sarah Sweeney 2002-6-17\n",
      "Julie Jones 2002-8-17\n"
     ]
    }
   ],
   "source": [
    "data_copy = get_from_store()\n",
    "for each_athlete in data_copy:\n",
    "    print(data_copy[each_athlete].name + \" \" + data_copy[each_athlete].dob)\n",
    "    \n",
    "\n"
   ]
  },
  {
   "cell_type": "code",
   "execution_count": null,
   "metadata": {
    "collapsed": true
   },
   "outputs": [],
   "source": []
  }
 ],
 "metadata": {
  "kernelspec": {
   "display_name": "Python 3",
   "language": "python",
   "name": "python3"
  },
  "language_info": {
   "codemirror_mode": {
    "name": "ipython",
    "version": 3
   },
   "file_extension": ".py",
   "mimetype": "text/x-python",
   "name": "python",
   "nbconvert_exporter": "python",
   "pygments_lexer": "ipython3",
   "version": "3.5.1"
  }
 },
 "nbformat": 4,
 "nbformat_minor": 0
}
