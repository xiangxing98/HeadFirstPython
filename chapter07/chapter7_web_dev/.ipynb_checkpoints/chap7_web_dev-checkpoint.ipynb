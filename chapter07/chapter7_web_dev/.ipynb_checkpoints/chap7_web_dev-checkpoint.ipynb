{
 "cells": [
  {
   "cell_type": "markdown",
   "metadata": {},
   "source": [
    "## Exercise Athletemodel.py"
   ]
  },
  {
   "cell_type": "code",
   "execution_count": 6,
   "metadata": {
    "collapsed": true
   },
   "outputs": [],
   "source": [
    "class AthleteList(list):\n",
    "    def __init__(self, a_name, a_dob=None, a_times=[]):\n",
    "        list.__init([])\n",
    "        self.name = a_name\n",
    "        self.dob  = a_dob\n",
    "        self.extend(a_times)\n",
    "    \n",
    "    def top3(self):\n",
    "        return(sorted(set([sanitize(t) for ti in self]))[0:3])\n",
    "    "
   ]
  },
  {
   "cell_type": "code",
   "execution_count": 7,
   "metadata": {
    "collapsed": false
   },
   "outputs": [],
   "source": [
    "import pickle\n",
    "#from atheletelist import AthleteList\n",
    "\n",
    "def get_coach_data(filename):\n",
    "    try:\n",
    "        with open(filename) as f:\n",
    "            data = f.readline()\n",
    "        temp1 = data.strip().split(',')\n",
    "        return(AthleteList(temp1.pop(0), temp1.pop(0), temp1))\n",
    "    except IOError as ioerr:\n",
    "        print('File error: ' + str(ioerr))\n",
    "        return(None)\n",
    "        \n",
    "\n",
    "def put_to_store(files_list):\n",
    "    all_athletes = {}\n",
    "    ## add code to populate the dictionary with the data from the files\n",
    "    ## save the dictionary to a pickle and check for i/o errors\n",
    "    return(all_athletes)\n",
    "\n",
    "def get_from_store():\n",
    "    all_athletes = {}\n",
    "    # get dictionary from file, so as to return to  the caller\n",
    "    return(all_athletes)\n"
   ]
  },
  {
   "cell_type": "code",
   "execution_count": null,
   "metadata": {
    "collapsed": true
   },
   "outputs": [],
   "source": []
  }
 ],
 "metadata": {
  "kernelspec": {
   "display_name": "Python 3",
   "language": "python",
   "name": "python3"
  },
  "language_info": {
   "codemirror_mode": {
    "name": "ipython",
    "version": 3
   },
   "file_extension": ".py",
   "mimetype": "text/x-python",
   "name": "python",
   "nbconvert_exporter": "python",
   "pygments_lexer": "ipython3",
   "version": "3.5.1"
  }
 },
 "nbformat": 4,
 "nbformat_minor": 0
}
