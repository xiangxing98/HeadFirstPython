{
 "cells": [
  {
   "cell_type": "markdown",
   "metadata": {},
   "source": [
    "# Ch.4"
   ]
  },
  {
   "cell_type": "markdown",
   "metadata": {
    "collapsed": true
   },
   "source": [
    "1. man이라는 빈 리스트를 만듭니다.\n",
    "2. other 라는 빈 리스트를 만듭니다.\n",
    "3. line_spoken 변수에서 불필요한 공백 문자를 제거합니다.\n",
    "4. role 값에 따라 line_spoken을 올바른 리스트에 추가합니다.\n",
    "5. man과 other 리스트를 각기 화면에 출력합니다."
   ]
  },
  {
   "cell_type": "code",
   "execution_count": 1,
   "metadata": {
    "collapsed": true
   },
   "outputs": [],
   "source": [
    "man = []\n",
    "other = []"
   ]
  },
  {
   "cell_type": "code",
   "execution_count": 2,
   "metadata": {
    "collapsed": false
   },
   "outputs": [],
   "source": [
    "try:\n",
    "    data = open('sketch.txt')\n",
    "    for each_line in data:\n",
    "        try:\n",
    "            (role, line_spoken) = each_line.split(\":\", 1)\n",
    "            line_spoken = line_spoken.strip()\n",
    "            if role == 'Man':\n",
    "                man.append(line_spoken)\n",
    "            elif role == 'Other Man':\n",
    "                other.append(line_spoken)\n",
    "        except ValueError:\n",
    "            pass        \n",
    "    data.close()\n",
    "except IOError:\n",
    "    print('The data file is mising!')"
   ]
  },
  {
   "cell_type": "code",
   "execution_count": 3,
   "metadata": {
    "collapsed": false
   },
   "outputs": [
    {
     "name": "stdout",
     "output_type": "stream",
     "text": [
      "['Is this the right room for an argument?', \"No you haven't!\", 'When?', \"No you didn't!\", \"You didn't!\", 'You did not!', 'Ah! (taking out his wallet and paying) Just the five minutes.', 'You most certainly did not!', \"Oh no you didn't!\", \"Oh no you didn't!\", \"Oh look, this isn't an argument!\", \"No it isn't!\", \"It's just contradiction!\", 'It IS!', 'You just contradicted me!', 'You DID!', 'You did just then!', '(exasperated) Oh, this is futile!!', 'Yes it is!']\n"
     ]
    }
   ],
   "source": [
    "print(man)"
   ]
  },
  {
   "cell_type": "code",
   "execution_count": 4,
   "metadata": {
    "collapsed": false
   },
   "outputs": [
    {
     "name": "stdout",
     "output_type": "stream",
     "text": [
      "[\"I've told you once.\", 'Yes I have.', 'Just now.', 'Yes I did!', \"I'm telling you, I did!\", \"Oh I'm sorry, is this a five minute argument, or the full half hour?\", 'Just the five minutes. Thank you.', 'Anyway, I did.', \"Now let's get one thing quite clear: I most definitely told you!\", 'Oh yes I did!', 'Oh yes I did!', 'Yes it is!', \"No it isn't!\", 'It is NOT!', \"No I didn't!\", 'No no no!', 'Nonsense!', \"No it isn't!\"]\n"
     ]
    }
   ],
   "source": [
    "print(other)"
   ]
  },
  {
   "cell_type": "code",
   "execution_count": null,
   "metadata": {
    "collapsed": true
   },
   "outputs": [],
   "source": [
    "try:\n",
    "    man_file = open('man_data.txt','w')\n",
    "    other_file = open('other_data.txt','w')\n",
    "    \n",
    "    print(man, file=man_file)\n",
    "    print(man, file=other_file)\n",
    "    \n",
    "    man_file.close()\n",
    "    other_file.close()\n",
    "    \n",
    "except IOError:\n",
    "    print(\"File error\")\n",
    "   "
   ]
  },
  {
   "cell_type": "code",
   "execution_count": null,
   "metadata": {
    "collapsed": true
   },
   "outputs": [],
   "source": [
    "try:\n",
    "    man_file = open('man_data.txt','w')\n",
    "    other_file = open('other_data.txt','w')\n",
    "    \n",
    "    print(man, file=man_file)\n",
    "    print(man, file=other_file)\n",
    "    \n",
    "except IOError:\n",
    "    print(\"File error\")\n",
    "    \n",
    "finally:        \n",
    "    man_file.close()\n",
    "    other_file.close()"
   ]
  },
  {
   "cell_type": "code",
   "execution_count": null,
   "metadata": {
    "collapsed": false
   },
   "outputs": [],
   "source": [
    "try:\n",
    "    data = open('missing.txt')\n",
    "    print(data.readline(), end='')\n",
    "except IOError:\n",
    "    print('File error')\n",
    "finally:\n",
    "    data.close()"
   ]
  },
  {
   "cell_type": "code",
   "execution_count": null,
   "metadata": {
    "collapsed": false
   },
   "outputs": [],
   "source": [
    "locals()"
   ]
  },
  {
   "cell_type": "code",
   "execution_count": null,
   "metadata": {
    "collapsed": false
   },
   "outputs": [],
   "source": [
    "try:\n",
    "    data = open('missing.txt')\n",
    "    print(data.readline(), end='')\n",
    "except IOError:\n",
    "    print('File error')\n",
    "finally:\n",
    "    if 'data' in locals(): # locals() 내장 함수는 현재 범위에서 사용할 수 있는 이름들을 밥ㄴ환\n",
    "        data.close()"
   ]
  },
  {
   "cell_type": "code",
   "execution_count": null,
   "metadata": {
    "collapsed": false
   },
   "outputs": [],
   "source": [
    "try:\n",
    "    data = open('missing.txt')\n",
    "    print(data.readline(), end='')\n",
    "except IOError as err:\n",
    "    print('File error: ' + err)\n",
    "finally:\n",
    "    if 'data' in locals(): # locals() 내장 함수는 현재 범위에서 사용할 수 있는 이름들을 반환\n",
    "        data.close()"
   ]
  },
  {
   "cell_type": "code",
   "execution_count": null,
   "metadata": {
    "collapsed": false
   },
   "outputs": [],
   "source": [
    "try:\n",
    "    data = open('missing.txt')\n",
    "    print(data.readline(), end='')\n",
    "except IOError as err:\n",
    "    print('File error: ' + str(err))  # err를 str 타입으로 변환해야 함\n",
    "finally:\n",
    "    if 'data' in locals(): # locals() 내장 함수는 현재 범위에서 사용할 수 있는 이름들을 반환\n",
    "        data.close()"
   ]
  },
  {
   "cell_type": "markdown",
   "metadata": {},
   "source": [
    "#### with를 사용하면 열려있는 파일을 닫아야 하는 걱정할 필요 없음"
   ]
  },
  {
   "cell_type": "code",
   "execution_count": null,
   "metadata": {
    "collapsed": false
   },
   "outputs": [],
   "source": [
    "try:\n",
    "    with open('its.txt','w') as data:\n",
    "        print(\"It's....\", file=data)\n",
    "except IOError as err:\n",
    "    print('File error: ' + str(err)) "
   ]
  },
  {
   "cell_type": "markdown",
   "metadata": {},
   "source": [
    "#### 아래의 try/except/finnaly 코드를 with 문을 사용해서 수정하시오."
   ]
  },
  {
   "cell_type": "code",
   "execution_count": 18,
   "metadata": {
    "collapsed": false
   },
   "outputs": [],
   "source": [
    "try:\n",
    "    man_file = open('man_data.txt','w')\n",
    "    other_file = open('other_data.txt','w')\n",
    "    print(man, file=man_file)\n",
    "    print(man, file=other_file)\n",
    "\n",
    "except IOError as err:\n",
    "    print(\"File error: \" + str(err))\n",
    "finally:\n",
    "    if 'man_file' in locals():\n",
    "        man_file.close()\n",
    "    if 'other_file' in locals():\n",
    "        other_file.close()"
   ]
  },
  {
   "cell_type": "code",
   "execution_count": 79,
   "metadata": {
    "collapsed": true
   },
   "outputs": [],
   "source": [
    "try:\n",
    "    with open('man_data.txt','w') as man_file:\n",
    "        print(man, file=man_file)\n",
    "    with open('other_data.txt','w') as other_file:\n",
    "        print(man, file=other_file)\n",
    "\n",
    "except IOError as err:\n",
    "    print(\"File error: \" + str(err))"
   ]
  },
  {
   "cell_type": "code",
   "execution_count": 80,
   "metadata": {
    "collapsed": false
   },
   "outputs": [],
   "source": [
    "try:\n",
    "    with open('man_data.txt','w') as man_file, open('other_data.txt','w') as other_file:\n",
    "        print(man, file=man_file)\n",
    "        print(man, file=other_file)\n",
    "\n",
    "except IOError as err:\n",
    "    print(\"File error: \" + str(err))"
   ]
  },
  {
   "cell_type": "code",
   "execution_count": 102,
   "metadata": {
    "collapsed": false
   },
   "outputs": [],
   "source": [
    "import nester2\n",
    "try:\n",
    "    with open('man_data.txt','w') as man_file, open('other_data.txt','w') as other_file:\n",
    "        nester2.print_lol(man, fileTo=man_file)\n",
    "        nester2.print_lol(other, fileTo=other_file)\n",
    "except IOError as err:\n",
    "    print('File error: ' + str(err))"
   ]
  },
  {
   "cell_type": "markdown",
   "metadata": {},
   "source": [
    "## pickle"
   ]
  },
  {
   "cell_type": "code",
   "execution_count": 101,
   "metadata": {
    "collapsed": false
   },
   "outputs": [
    {
     "name": "stdout",
     "output_type": "stream",
     "text": [
      "[1, 2, 'three']\n"
     ]
    }
   ],
   "source": [
    "import pickle\n",
    "with open('mydata.pickle','wb') as mysavedata:\n",
    "    pickle.dump([1,2,'three'], mysavedata)\n",
    "    \n",
    "with open('mydata.pickle','rb') as myrestoredata:\n",
    "    a_list = pickle.load(myrestoredata)\n",
    "    \n",
    "print(a_list)"
   ]
  },
  {
   "cell_type": "code",
   "execution_count": 5,
   "metadata": {
    "collapsed": false
   },
   "outputs": [],
   "source": [
    "import pickle\n",
    "try:\n",
    "    with open('man_data.pickle','wb') as man_file, open('other_data.pickle','wb') as other_file:\n",
    "        pickle.dump(man, man_file)\n",
    "        pickle.dump(other, other_file)\n",
    "except IOError as err:\n",
    "    print('File error: ' + str(err))\n",
    "except pickle.PickleError as perr:\n",
    "    print('Pickling error: ' + str(perr))"
   ]
  },
  {
   "cell_type": "code",
   "execution_count": 115,
   "metadata": {
    "collapsed": false
   },
   "outputs": [
    {
     "ename": "SyntaxError",
     "evalue": "non-default argument follows default argument (<ipython-input-115-98387bf82460>, line 1)",
     "output_type": "error",
     "traceback": [
      "\u001b[1;36m  File \u001b[1;32m\"<ipython-input-115-98387bf82460>\"\u001b[1;36m, line \u001b[1;32m1\u001b[0m\n\u001b[1;33m    def attprint(a='a',b,c='c'):\u001b[0m\n\u001b[1;37m                ^\u001b[0m\n\u001b[1;31mSyntaxError\u001b[0m\u001b[1;31m:\u001b[0m non-default argument follows default argument\n"
     ]
    }
   ],
   "source": [
    "def attprint(a='a',b,c='c'):\n",
    "    print(a)\n",
    "    print(b)\n",
    "    print(c)"
   ]
  },
  {
   "cell_type": "code",
   "execution_count": 10,
   "metadata": {
    "collapsed": false
   },
   "outputs": [],
   "source": [
    "import nester2\n",
    "new_man = []\n",
    "try:\n",
    "    with open('man_data.pickle','rb') as man_file:\n",
    "        new_man = pickle.load(man_file)\n",
    "except IOError as err:\n",
    "    print('File error: ' + str(err))\n",
    "except pickle.PickleError as perr:\n",
    "    print('Pickling error: ' + str(perr))"
   ]
  },
  {
   "cell_type": "code",
   "execution_count": 12,
   "metadata": {
    "collapsed": false
   },
   "outputs": [
    {
     "name": "stdout",
     "output_type": "stream",
     "text": [
      "Is this the right room for an argument?\n",
      "No you haven't!\n",
      "When?\n",
      "No you didn't!\n",
      "You didn't!\n",
      "You did not!\n",
      "Ah! (taking out his wallet and paying) Just the five minutes.\n",
      "You most certainly did not!\n",
      "Oh no you didn't!\n",
      "Oh no you didn't!\n",
      "Oh look, this isn't an argument!\n",
      "No it isn't!\n",
      "It's just contradiction!\n",
      "It IS!\n",
      "You just contradicted me!\n",
      "You DID!\n",
      "You did just then!\n",
      "(exasperated) Oh, this is futile!!\n",
      "Yes it is!\n"
     ]
    }
   ],
   "source": [
    "nester2.print_lol(new_man)"
   ]
  },
  {
   "cell_type": "code",
   "execution_count": 13,
   "metadata": {
    "collapsed": false
   },
   "outputs": [
    {
     "name": "stdout",
     "output_type": "stream",
     "text": [
      "Is this the right room for an argument?\n"
     ]
    }
   ],
   "source": [
    "print(new_man[0])"
   ]
  },
  {
   "cell_type": "code",
   "execution_count": 14,
   "metadata": {
    "collapsed": false
   },
   "outputs": [
    {
     "name": "stdout",
     "output_type": "stream",
     "text": [
      "Yes it is!\n"
     ]
    }
   ],
   "source": [
    "print(new_man[-1])"
   ]
  },
  {
   "cell_type": "code",
   "execution_count": null,
   "metadata": {
    "collapsed": true
   },
   "outputs": [],
   "source": []
  }
 ],
 "metadata": {
  "kernelspec": {
   "display_name": "Python 3",
   "language": "python",
   "name": "python3"
  },
  "language_info": {
   "codemirror_mode": {
    "name": "ipython",
    "version": 3
   },
   "file_extension": ".py",
   "mimetype": "text/x-python",
   "name": "python",
   "nbconvert_exporter": "python",
   "pygments_lexer": "ipython3",
   "version": "3.5.0"
  }
 },
 "nbformat": 4,
 "nbformat_minor": 0
}
