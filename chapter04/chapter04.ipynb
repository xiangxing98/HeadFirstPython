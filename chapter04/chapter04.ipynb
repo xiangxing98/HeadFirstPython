{
 "cells": [
  {
   "cell_type": "markdown",
   "metadata": {
    "toc": true
   },
   "source": [
    "<h1>Table of Contents<span class=\"tocSkip\"></span></h1>\n",
    "<div class=\"toc\"><ul class=\"toc-item\"><li><span><a href=\"#Ch.4\" data-toc-modified-id=\"Ch.4-1\"><span class=\"toc-item-num\">1&nbsp;&nbsp;</span>Ch.4</a></span><ul class=\"toc-item\"><li><ul class=\"toc-item\"><li><ul class=\"toc-item\"><li><span><a href=\"#with를-사용하면-열려있는-파일을-닫아야-하는-걱정할-필요-없음\" data-toc-modified-id=\"with를-사용하면-열려있는-파일을-닫아야-하는-걱정할-필요-없음-1.0.0.1\"><span class=\"toc-item-num\">1.0.0.1&nbsp;&nbsp;</span>with를 사용하면 열려있는 파일을 닫아야 하는 걱정할 필요 없음</a></span></li><li><span><a href=\"#아래의-try/except/finnaly-코드를-with-문을-사용해서-수정하시오.\" data-toc-modified-id=\"아래의-try/except/finnaly-코드를-with-문을-사용해서-수정하시오.-1.0.0.2\"><span class=\"toc-item-num\">1.0.0.2&nbsp;&nbsp;</span>아래의 try/except/finnaly 코드를 with 문을 사용해서 수정하시오.</a></span></li></ul></li></ul></li><li><span><a href=\"#pickle\" data-toc-modified-id=\"pickle-1.1\"><span class=\"toc-item-num\">1.1&nbsp;&nbsp;</span>pickle</a></span><ul class=\"toc-item\"><li><span><a href=\"#处理pickle异常-PickError\" data-toc-modified-id=\"处理pickle异常-PickError-1.1.1\"><span class=\"toc-item-num\">1.1.1&nbsp;&nbsp;</span>处理pickle异常-PickError</a></span></li></ul></li></ul></li></ul></div>"
   ]
  },
  {
   "cell_type": "markdown",
   "metadata": {},
   "source": [
    "# Ch.4"
   ]
  },
  {
   "cell_type": "markdown",
   "metadata": {},
   "source": [
    "#### with를 사용하면 열려있는 파일을 닫아야 하는 걱정할 필요 없음"
   ]
  },
  {
   "cell_type": "markdown",
   "metadata": {},
   "source": [
    "#### 아래의 try/except/finnaly 코드를 with 문을 사용해서 수정하시오."
   ]
  },
  {
   "cell_type": "code",
   "execution_count": 1,
   "metadata": {},
   "outputs": [
    {
     "name": "stdout",
     "output_type": "stream",
     "text": [
      "获取当前文件路径——F:\\Github\\Python\\HeadFirstPython\\HeadFirstPython\\chapter04\n",
      "获取其父目录——F:\\Github\\Python\\HeadFirstPython\\HeadFirstPython\n",
      "获取父目录的父目录——F:\\Github\\Python\\HeadFirstPython\n",
      "获取文件名chapter04\n",
      "当前运行文件路径F:\\Github\\Python\\HeadFirstPython\\HeadFirstPython\\chapter04\n",
      "运行文件父路径F:\\Github\\Python\\HeadFirstPython\\HeadFirstPython\n",
      "运行文件父路径的父路径F:\\Github\\Python\\HeadFirstPython\n",
      "F:\\Github\\Python\\HeadFirstPython\\HeadFirstPython\\chapter04\n",
      "..\n",
      "..\n",
      "F:\\Github\\Python\\HeadFirstPython\\HeadFirstPython\n",
      "F:\\Github\\Python\\HeadFirstPython\n",
      "F:\\Github\\Python\\HeadFirstPython\n",
      "F:\\Github\\Python\\HeadFirstPython\\common\\token.yaml\n",
      "当前文件绝对路径: F:\\Github\\Python\\HeadFirstPython\\HeadFirstPython\\chapter04\n",
      "F:\\Github\\Python\\HeadFirstPython\\HeadFirstPython\n",
      "F:\\Github\\Python\\HeadFirstPython\\HeadFirstPython\\cases\n",
      "F:\\Github\\Python\\HeadFirstPython\\HeadFirstPython\\report\\result.html\n"
     ]
    }
   ],
   "source": [
    "import os\n",
    "__file__= os.getcwd()\n",
    "\n",
    "print(\"获取当前文件路径——\" + os.path.realpath(__file__))  # 获取当前文件路径\n",
    "\n",
    "parent = os.path.dirname(os.path.realpath(__file__))\n",
    "print(\"获取其父目录——\" + parent)  # 从当前文件路径中获取目录\n",
    "\n",
    "garder = os.path.dirname(parent)\n",
    "print(\"获取父目录的父目录——\" + garder)\n",
    "print(\"获取文件名\" + os.path.basename(os.path.realpath(__file__)))  # 获取文件名\n",
    "\n",
    "# 当前文件的路径\n",
    "pwd = os.getcwd()               \n",
    "print(\"当前运行文件路径\" + pwd)\n",
    "\n",
    "# 当前文件的父路径\n",
    "father_path = os.path.abspath(os.path.dirname(pwd) + os.path.sep + \".\")\n",
    "print(\"运行文件父路径\" + father_path)\n",
    "\n",
    "# 当前文件的前两级目录\n",
    "grader_father = os.path.abspath(os.path.dirname(pwd) + os.path.sep + \"..\")\n",
    "print(\"运行文件父路径的父路径\" + grader_father)\n",
    "\n",
    "print(os.path.dirname(os.path.abspath(\"__file__\")))\n",
    "print(os.path.pardir)\n",
    "print(os.path.join(os.path.dirname(\"__file__\"), os.path.pardir))\n",
    "print(os.path.abspath(os.path.join(os.path.dirname(\"__file__\"),os.path.pardir)))\n",
    "print(os.path.abspath(os.path.join(os.path.dirname(\"__file__\"),os.path.pardir,os.path.pardir)))\n",
    "\n",
    "curPath = os.path.abspath(os.path.join(os.path.dirname(\"__file__\"), os.path.pardir, os.path.pardir))\n",
    "print(curPath)\n",
    "yamlPath = os.path.join(curPath, \"common\", \"token.yaml\")\n",
    "print(yamlPath)\n",
    "\n",
    "# f = open(yamlPath, 'r', encoding='utf-8')\n",
    "# cfg = f.read()\n",
    "# print(type(cfg))  # 读出来是字符串\n",
    "# print(cfg)\n",
    "# d = yaml.load(cfg)  # 用load方法转字典\n",
    "# print(d)\n",
    "\n",
    "import os\n",
    "\n",
    "curpath = os.path.realpath(__file__)        # 获取当前文件绝对路径\n",
    "print(\"当前文件绝对路径:\",curpath)\n",
    "\n",
    "dirpath = os.path.dirname(curpath)          # 获取当前文件的文件夹路径\n",
    "print(dirpath)\n",
    "\n",
    "casespath = os.path.join(dirpath, \"cases\")      # 拼接文件路径\n",
    "print(casespath)\n",
    "\n",
    "report = os.path.join(dirpath, \"report\", \"result.html\")         # 拼接文件夹路径\n",
    "print(report)"
   ]
  },
  {
   "cell_type": "code",
   "execution_count": 14,
   "metadata": {
    "scrolled": true
   },
   "outputs": [
    {
     "data": {
      "application/javascript": [
       "var kernel = IPython.notebook.kernel;\n",
       "var body = document.body,  \n",
       "    attribs = body.attributes;\n",
       "var command = \"theNotebook = \" + \"'\"+attribs['data-notebook-name'].value+\"'\";\n",
       "kernel.execute(command);\n"
      ],
      "text/plain": [
       "<IPython.core.display.Javascript object>"
      ]
     },
     "metadata": {},
     "output_type": "display_data"
    }
   ],
   "source": [
    "%%javascript\n",
    "var kernel = IPython.notebook.kernel;\n",
    "var body = document.body,  \n",
    "    attribs = body.attributes;\n",
    "var command = \"theNotebook = \" + \"'\"+attribs['data-notebook-name'].value+\"'\";\n",
    "kernel.execute(command);"
   ]
  },
  {
   "cell_type": "code",
   "execution_count": 15,
   "metadata": {},
   "outputs": [
    {
     "name": "stdout",
     "output_type": "stream",
     "text": [
      "chapter04.ipynb\n"
     ]
    }
   ],
   "source": [
    "print(theNotebook)\n",
    "# chapter04.ipynb"
   ]
  },
  {
   "cell_type": "code",
   "execution_count": 12,
   "metadata": {},
   "outputs": [
    {
     "data": {
      "application/javascript": [
       "var kernel = IPython.notebook.kernel;\n",
       "var thename = window.document.getElementById(\"notebook_name\").innerHTML;\n",
       "var command = \"theNotebook = \" + \"'\"+thename+\"'\";\n",
       "kernel.execute(command);\n"
      ],
      "text/plain": [
       "<IPython.core.display.Javascript object>"
      ]
     },
     "metadata": {},
     "output_type": "display_data"
    }
   ],
   "source": [
    "%%javascript\n",
    "var kernel = IPython.notebook.kernel;\n",
    "var thename = window.document.getElementById(\"notebook_name\").innerHTML;\n",
    "var command = \"theNotebook = \" + \"'\"+thename+\"'\";\n",
    "kernel.execute(command);"
   ]
  },
  {
   "cell_type": "code",
   "execution_count": 13,
   "metadata": {},
   "outputs": [
    {
     "name": "stdout",
     "output_type": "stream",
     "text": [
      "chapter04\n"
     ]
    }
   ],
   "source": [
    "print(theNotebook)\n",
    "# chapter04"
   ]
  },
  {
   "cell_type": "code",
   "execution_count": 79,
   "metadata": {
    "collapsed": true
   },
   "outputs": [],
   "source": [
    "# -*- encoding: utf-8 -*-\n",
    "# !/usr/bin/env python\n",
    "\n",
    "try:\n",
    "    with open('man_data.txt','w') as man_file:\n",
    "        print(man, file=man_file)\n",
    "    with open('other_data.txt','w') as other_file:\n",
    "        print(man, file=other_file)\n",
    "\n",
    "except IOError as err:\n",
    "    print(\"File error: \" + str(err))"
   ]
  },
  {
   "cell_type": "code",
   "execution_count": 80,
   "metadata": {},
   "outputs": [],
   "source": [
    "# -*- encoding: utf-8 -*-\n",
    "# !/usr/bin/env python\n",
    "\n",
    "try:\n",
    "    with open('man_data.txt','w') as man_file, open('other_data.txt','w') as other_file:\n",
    "        print(man, file=man_file)\n",
    "        print(man, file=other_file)\n",
    "\n",
    "except IOError as err:\n",
    "    print(\"File error: \" + str(err))"
   ]
  },
  {
   "cell_type": "code",
   "execution_count": 102,
   "metadata": {},
   "outputs": [],
   "source": [
    "# -*- encoding: utf-8 -*-\n",
    "# !/usr/bin/env python\n",
    "\n",
    "import nester2\n",
    "try:\n",
    "    with open('man_data.txt','w') as man_file, open('other_data.txt','w') as other_file:\n",
    "        nester2.print_lol(man, fileTo=man_file)\n",
    "        nester2.print_lol(other, fileTo=other_file)\n",
    "except IOError as err:\n",
    "    print('File error: ' + str(err))"
   ]
  },
  {
   "cell_type": "markdown",
   "metadata": {},
   "source": [
    "## pickle"
   ]
  },
  {
   "cell_type": "code",
   "execution_count": 2,
   "metadata": {},
   "outputs": [
    {
     "name": "stdout",
     "output_type": "stream",
     "text": [
      "[1, 2, 'three', 'stone_hou']\n"
     ]
    }
   ],
   "source": [
    "# -*- encoding: utf-8 -*-\n",
    "# !/usr/bin/env python\n",
    "\n",
    "import pickle\n",
    "with open('mydata.pickle','wb') as mysavedata:\n",
    "    pickle.dump([1,2,'three',\"stone_hou\"], mysavedata)\n",
    "    \n",
    "with open('mydata.pickle','rb') as myrestoredata:\n",
    "    a_list = pickle.load(myrestoredata)\n",
    "    \n",
    "print(a_list)"
   ]
  },
  {
   "cell_type": "markdown",
   "metadata": {},
   "source": [
    "### 处理pickle异常-PickError"
   ]
  },
  {
   "cell_type": "code",
   "execution_count": 13,
   "metadata": {},
   "outputs": [
    {
     "ename": "NameError",
     "evalue": "name 'man' is not defined",
     "output_type": "error",
     "traceback": [
      "\u001b[1;31m---------------------------------------------------------------------------\u001b[0m",
      "\u001b[1;31mNameError\u001b[0m                                 Traceback (most recent call last)",
      "\u001b[1;32m<ipython-input-13-07d107ee614d>\u001b[0m in \u001b[0;36m<module>\u001b[1;34m\u001b[0m\n\u001b[0;32m      6\u001b[0m \u001b[1;32mtry\u001b[0m\u001b[1;33m:\u001b[0m\u001b[1;33m\u001b[0m\u001b[1;33m\u001b[0m\u001b[0m\n\u001b[0;32m      7\u001b[0m     \u001b[1;32mwith\u001b[0m \u001b[0mopen\u001b[0m\u001b[1;33m(\u001b[0m\u001b[1;34m'man_data1.pickle'\u001b[0m\u001b[1;33m,\u001b[0m\u001b[1;34m'w'\u001b[0m\u001b[1;33m)\u001b[0m \u001b[1;32mas\u001b[0m \u001b[0mman_file\u001b[0m\u001b[1;33m,\u001b[0m \u001b[0mopen\u001b[0m\u001b[1;33m(\u001b[0m\u001b[1;34m'other_data1.pickle'\u001b[0m\u001b[1;33m,\u001b[0m\u001b[1;34m'w'\u001b[0m\u001b[1;33m)\u001b[0m \u001b[1;32mas\u001b[0m \u001b[0mother_file\u001b[0m\u001b[1;33m:\u001b[0m\u001b[1;33m\u001b[0m\u001b[1;33m\u001b[0m\u001b[0m\n\u001b[1;32m----> 8\u001b[1;33m         \u001b[0mpickle\u001b[0m\u001b[1;33m.\u001b[0m\u001b[0mdump\u001b[0m\u001b[1;33m(\u001b[0m\u001b[0mman\u001b[0m\u001b[1;33m,\u001b[0m \u001b[0mman_file\u001b[0m\u001b[1;33m)\u001b[0m\u001b[1;33m\u001b[0m\u001b[1;33m\u001b[0m\u001b[0m\n\u001b[0m\u001b[0;32m      9\u001b[0m         \u001b[0mpickle\u001b[0m\u001b[1;33m.\u001b[0m\u001b[0mdump\u001b[0m\u001b[1;33m(\u001b[0m\u001b[0mother\u001b[0m\u001b[1;33m,\u001b[0m \u001b[0mother_file\u001b[0m\u001b[1;33m)\u001b[0m\u001b[1;33m\u001b[0m\u001b[1;33m\u001b[0m\u001b[0m\n\u001b[0;32m     10\u001b[0m \u001b[1;32mexcept\u001b[0m \u001b[0mIOError\u001b[0m \u001b[1;32mas\u001b[0m \u001b[0merr\u001b[0m\u001b[1;33m:\u001b[0m\u001b[1;33m\u001b[0m\u001b[1;33m\u001b[0m\u001b[0m\n",
      "\u001b[1;31mNameError\u001b[0m: name 'man' is not defined"
     ]
    }
   ],
   "source": [
    "# -*- encoding: utf-8 -*-\n",
    "# !/usr/bin/env python\n",
    "\n",
    "# 未处理异常\n",
    "#import pickle\n",
    "try:\n",
    "    with open('man_data1.pickle','w') as man_file, open('other_data1.pickle','w') as other_file:\n",
    "        pickle.dump(man, man_file)\n",
    "        pickle.dump(other, other_file)\n",
    "except IOError as err:\n",
    "    print('File error: ' + str(err))\n",
    "except pickle.PickleError as perr:\n",
    "    print('Pickling error: ' + str(perr))\n",
    "\n",
    "#NameError: name 'man' is not defined\n"
   ]
  },
  {
   "cell_type": "code",
   "execution_count": 5,
   "metadata": {},
   "outputs": [
    {
     "name": "stdout",
     "output_type": "stream",
     "text": [
      "hello, world!\n"
     ]
    },
    {
     "ename": "NameError",
     "evalue": "name 'man' is not defined",
     "output_type": "error",
     "traceback": [
      "\u001b[1;31m---------------------------------------------------------------------------\u001b[0m",
      "\u001b[1;31mNameError\u001b[0m                                 Traceback (most recent call last)",
      "\u001b[1;32m<ipython-input-5-a499ae1e12aa>\u001b[0m in \u001b[0;36m<module>\u001b[1;34m\u001b[0m\n\u001b[0;32m      5\u001b[0m \u001b[1;32mtry\u001b[0m\u001b[1;33m:\u001b[0m\u001b[1;33m\u001b[0m\u001b[1;33m\u001b[0m\u001b[0m\n\u001b[0;32m      6\u001b[0m     \u001b[1;32mwith\u001b[0m \u001b[0mopen\u001b[0m\u001b[1;33m(\u001b[0m\u001b[1;34m'man_data1.pickle'\u001b[0m\u001b[1;33m,\u001b[0m\u001b[1;34m'wb'\u001b[0m\u001b[1;33m)\u001b[0m \u001b[1;32mas\u001b[0m \u001b[0mman_file\u001b[0m\u001b[1;33m,\u001b[0m \u001b[0mopen\u001b[0m\u001b[1;33m(\u001b[0m\u001b[1;34m'other_data1.pickle'\u001b[0m\u001b[1;33m,\u001b[0m\u001b[1;34m'wb'\u001b[0m\u001b[1;33m)\u001b[0m \u001b[1;32mas\u001b[0m \u001b[0mother_file\u001b[0m\u001b[1;33m:\u001b[0m\u001b[1;33m\u001b[0m\u001b[1;33m\u001b[0m\u001b[0m\n\u001b[1;32m----> 7\u001b[1;33m         \u001b[0mpickle\u001b[0m\u001b[1;33m.\u001b[0m\u001b[0mdump\u001b[0m\u001b[1;33m(\u001b[0m\u001b[0mman\u001b[0m\u001b[1;33m,\u001b[0m \u001b[0mman_file\u001b[0m\u001b[1;33m)\u001b[0m\u001b[1;33m\u001b[0m\u001b[1;33m\u001b[0m\u001b[0m\n\u001b[0m\u001b[0;32m      8\u001b[0m         \u001b[0mpickle\u001b[0m\u001b[1;33m.\u001b[0m\u001b[0mdump\u001b[0m\u001b[1;33m(\u001b[0m\u001b[0mother\u001b[0m\u001b[1;33m,\u001b[0m \u001b[0mother_file\u001b[0m\u001b[1;33m)\u001b[0m\u001b[1;33m\u001b[0m\u001b[1;33m\u001b[0m\u001b[0m\n\u001b[0;32m      9\u001b[0m \u001b[1;32mexcept\u001b[0m \u001b[0mIOError\u001b[0m \u001b[1;32mas\u001b[0m \u001b[0merr\u001b[0m\u001b[1;33m:\u001b[0m\u001b[1;33m\u001b[0m\u001b[1;33m\u001b[0m\u001b[0m\n",
      "\u001b[1;31mNameError\u001b[0m: name 'man' is not defined"
     ]
    }
   ],
   "source": [
    "# -*- encoding: utf-8 -*-\n",
    "# !/usr/bin/env python\n",
    "\n",
    "import pickle\n",
    "try:\n",
    "    with open('man_data.pickle','wb') as man_file, open('other_data.pickle','wb') as other_file:\n",
    "        pickle.dump(man, man_file)\n",
    "        pickle.dump(other, other_file)\n",
    "except IOError as err:\n",
    "    print('File error: ' + str(err))\n",
    "except pickle.PickleError as perr:\n",
    "    print('Pickling error: ' + str(perr))\n",
    "\n",
    "#NameError: name 'man' is not defined\n"
   ]
  },
  {
   "cell_type": "code",
   "execution_count": 115,
   "metadata": {},
   "outputs": [
    {
     "ename": "SyntaxError",
     "evalue": "non-default argument follows default argument (<ipython-input-115-98387bf82460>, line 1)",
     "output_type": "error",
     "traceback": [
      "\u001b[1;36m  File \u001b[1;32m\"<ipython-input-115-98387bf82460>\"\u001b[1;36m, line \u001b[1;32m1\u001b[0m\n\u001b[1;33m    def attprint(a='a',b,c='c'):\u001b[0m\n\u001b[1;37m                ^\u001b[0m\n\u001b[1;31mSyntaxError\u001b[0m\u001b[1;31m:\u001b[0m non-default argument follows default argument\n"
     ]
    }
   ],
   "source": [
    "# -*- encoding: utf-8 -*-\n",
    "# !/usr/bin/env python\n",
    "\n",
    "def attprint(a='a',b,c='c'):\n",
    "    print(a)\n",
    "    print(b)\n",
    "    print(c)"
   ]
  },
  {
   "cell_type": "code",
   "execution_count": 10,
   "metadata": {},
   "outputs": [],
   "source": [
    "# -*- encoding: utf-8 -*-\n",
    "# !/usr/bin/env python\n",
    "\n",
    "import nester2\n",
    "new_man = []\n",
    "try:\n",
    "    with open('man_data.pickle','rb') as man_file:\n",
    "        new_man = pickle.load(man_file)\n",
    "except IOError as err:\n",
    "    print('File error: ' + str(err))\n",
    "except pickle.PickleError as perr:\n",
    "    print('Pickling error: ' + str(perr))"
   ]
  },
  {
   "cell_type": "code",
   "execution_count": 12,
   "metadata": {},
   "outputs": [
    {
     "name": "stdout",
     "output_type": "stream",
     "text": [
      "Is this the right room for an argument?\n",
      "No you haven't!\n",
      "When?\n",
      "No you didn't!\n",
      "You didn't!\n",
      "You did not!\n",
      "Ah! (taking out his wallet and paying) Just the five minutes.\n",
      "You most certainly did not!\n",
      "Oh no you didn't!\n",
      "Oh no you didn't!\n",
      "Oh look, this isn't an argument!\n",
      "No it isn't!\n",
      "It's just contradiction!\n",
      "It IS!\n",
      "You just contradicted me!\n",
      "You DID!\n",
      "You did just then!\n",
      "(exasperated) Oh, this is futile!!\n",
      "Yes it is!\n"
     ]
    }
   ],
   "source": [
    "nester2.print_lol(new_man)"
   ]
  },
  {
   "cell_type": "code",
   "execution_count": 13,
   "metadata": {},
   "outputs": [
    {
     "name": "stdout",
     "output_type": "stream",
     "text": [
      "Is this the right room for an argument?\n"
     ]
    }
   ],
   "source": [
    "print(new_man[0])"
   ]
  },
  {
   "cell_type": "code",
   "execution_count": 14,
   "metadata": {},
   "outputs": [
    {
     "name": "stdout",
     "output_type": "stream",
     "text": [
      "Yes it is!\n"
     ]
    }
   ],
   "source": [
    "print(new_man[-1])"
   ]
  },
  {
   "cell_type": "code",
   "execution_count": null,
   "metadata": {
    "collapsed": true
   },
   "outputs": [],
   "source": []
  }
 ],
 "metadata": {
  "kernelspec": {
   "display_name": "Python 3",
   "language": "python",
   "name": "python3"
  },
  "language_info": {
   "codemirror_mode": {
    "name": "ipython",
    "version": 3
   },
   "file_extension": ".py",
   "mimetype": "text/x-python",
   "name": "python",
   "nbconvert_exporter": "python",
   "pygments_lexer": "ipython3",
   "version": "3.7.8"
  },
  "toc": {
   "base_numbering": 1,
   "nav_menu": {},
   "number_sections": true,
   "sideBar": true,
   "skip_h1_title": false,
   "title_cell": "Table of Contents",
   "title_sidebar": "Contents",
   "toc_cell": true,
   "toc_position": {},
   "toc_section_display": true,
   "toc_window_display": false
  }
 },
 "nbformat": 4,
 "nbformat_minor": 1
}
