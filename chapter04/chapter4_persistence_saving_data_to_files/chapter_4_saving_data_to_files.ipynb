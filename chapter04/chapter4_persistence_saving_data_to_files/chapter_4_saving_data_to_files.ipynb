{
 "cells": [
  {
   "cell_type": "markdown",
   "metadata": {},
   "source": [
    "## Your Pyhon Toolbox\n",
    "### Python Lingo\n",
    "- immutable types\n",
    "- pickling\n",
    "- unpickling\n",
    "\n",
    "### Bullet Points\n",
    "- The strip() \n",
    "- the file arguments to print()\n",
    "- finally() suite\n",
    "- except\n",
    "- str()\n",
    "- locals()\n",
    "- in operator\n",
    "- + operator\n",
    "- with statement  , closes all opened files even when exceptions occur, ***as*** keyword\n",
    "- sys.stdout \n",
    "- pickle module\n",
    "    - pickle.dump() save data\n",
    "    - pickle.load() restore data\n"
   ]
  },
  {
   "cell_type": "code",
   "execution_count": 7,
   "metadata": {
    "collapsed": false,
    "scrolled": true
   },
   "outputs": [
    {
     "name": "stdout",
     "output_type": "stream",
     "text": [
      "['Is this the right room for an argument?', \"No you haven't!\", 'When?', \"No you didn't!\", \"You didn't!\", 'You did not!', 'Ah! (taking out his wallet and paying) Just the five minutes.', 'You most certainly did not!', \"Oh no you didn't!\", \"Oh no you didn't!\", \"Oh look, this isn't an argument!\", \"No it isn't!\", \"It's just contradiction!\", 'It IS!', 'You just contradicted me!', 'You DID!', 'You did just then!', '(exasperated) Oh, this is futile!!', 'Yes it is!']\n",
      "[\"I've told you once.\", 'Yes I have.', 'Just now.', 'Yes I did!', \"I'm telling you, I did!\", \"Oh I'm sorry, is this a five minute argument, or the full half hour?\", 'Just the five minutes. Thank you.', 'Anyway, I did.', \"Now let's get one thing quite clear: I most definitely told you!\", 'Oh yes I did!', 'Oh yes I did!', 'Yes it is!', \"No it isn't!\", 'It is NOT!', \"No I didn't!\", 'No no no!', 'Nonsense!', \"No it isn't!\"]\n"
     ]
    }
   ],
   "source": [
    "man = []\n",
    "other = []\n",
    "\n",
    "try:\n",
    "    data = open('sketch.txt')\n",
    "    for each_line in data:\n",
    "        try:\n",
    "            (role, line_spoken) = each_line.split(':', 1)\n",
    "            line_spoken = line_spoken.strip()\n",
    "            if role == 'Man':\n",
    "                man.append(line_spoken)\n",
    "            elif role == 'Other Man':\n",
    "                other.append(line_spoken)\n",
    "\n",
    "        except ValueError:\n",
    "            pass\n",
    "    data.close()\n",
    "except IOError:\n",
    "    print('The datafile is missing')\n",
    "\n",
    "\n",
    "print(man)\n",
    "print(other)\n",
    "\n"
   ]
  },
  {
   "cell_type": "code",
   "execution_count": null,
   "metadata": {
    "collapsed": true
   },
   "outputs": [],
   "source": [
    "print(\"Norwegian Blues stun easily.\", file=out)\n",
    "out.close()\n"
   ]
  },
  {
   "cell_type": "code",
   "execution_count": null,
   "metadata": {
    "collapsed": true
   },
   "outputs": [],
   "source": [
    "out.open(\"data.out\")\n",
    "print(out)"
   ]
  },
  {
   "cell_type": "code",
   "execution_count": 4,
   "metadata": {
    "collapsed": false
   },
   "outputs": [],
   "source": [
    "man = []\n",
    "other = []\n",
    "\n",
    "try:\n",
    "    data = open('sketch.txt')\n",
    "    for each_line in data:\n",
    "        try:\n",
    "            (role, line_spoken) = each_line.split(':', 1)\n",
    "            line_spoken = line_spoken.strip()\n",
    "            if role == 'Man':\n",
    "                man.append(line_spoken)\n",
    "            elif role == 'Other Man':\n",
    "                other.append(line_spoken)\n",
    "\n",
    "        except ValueError:\n",
    "            pass\n",
    "    data.close()\n",
    "except IOError:\n",
    "    print('The datafile is missing')\n",
    "\n",
    "\n",
    "try:\n",
    "    man_file = open('man_data.txt', 'w')\n",
    "    other_file = open('other_data.txt', 'w')\n",
    "    \n",
    "    print(man, file=man_file)\n",
    "    print(other, file=other_file)\n",
    "    \n",
    "    man_file.close()\n",
    "    other_file.close()\n",
    "    \n",
    "except IOError:\n",
    "    print('File error')\n"
   ]
  },
  {
   "cell_type": "markdown",
   "metadata": {},
   "source": [
    "### Extend try with finally"
   ]
  },
  {
   "cell_type": "code",
   "execution_count": 7,
   "metadata": {
    "collapsed": false
   },
   "outputs": [],
   "source": [
    "man = []\n",
    "other = []\n",
    "\n",
    "try:\n",
    "    data = open('sketch.txt')\n",
    "    for each_line in data:\n",
    "        try:\n",
    "            (role, line_spoken) = each_line.split(':', 1)\n",
    "            line_spoken = line_spoken.strip()\n",
    "            if role == 'Man':\n",
    "                man.append(line_spoken)\n",
    "            elif role == 'Other Man':\n",
    "                other.append(line_spoken)\n",
    "\n",
    "        except ValueError:\n",
    "            pass\n",
    "    data.close()\n",
    "except IOError:\n",
    "    print('The datafile is missing')\n",
    "\n",
    "\n",
    "try:\n",
    "    man_file = open('man_data.txt', 'w')\n",
    "    other_file = open('other_data.txt', 'w')\n",
    "    \n",
    "    print(man, file=man_file)\n",
    "    print(other, file=other_file)\n",
    "    \n",
    "except IOError:\n",
    "    print('File error')\n",
    "\n",
    "finally:\n",
    "    man_file.close()\n",
    "    other_file.close()\n",
    "    "
   ]
  },
  {
   "cell_type": "raw",
   "metadata": {
    "collapsed": true
   },
   "source": [
    "### Knowing the type of error is not enough"
   ]
  },
  {
   "cell_type": "code",
   "execution_count": 19,
   "metadata": {
    "collapsed": false
   },
   "outputs": [
    {
     "name": "stdout",
     "output_type": "stream",
     "text": [
      "File error: [Errno 2] No such file or directory: 'missing.txt'\n"
     ]
    }
   ],
   "source": [
    "try:\n",
    "    data = open('missing.txt')\n",
    "    print(data.readline(), end='')\n",
    "\n",
    "except IOError as err:\n",
    "    print('File error: ' + str(err))\n",
    "\n",
    "finally:\n",
    "    if 'data' in locals():\n",
    "        data.close()\n",
    "\n",
    "    "
   ]
  },
  {
   "cell_type": "markdown",
   "metadata": {},
   "source": [
    "### Use *\"with\"* to work with files"
   ]
  },
  {
   "cell_type": "code",
   "execution_count": 28,
   "metadata": {
    "collapsed": true
   },
   "outputs": [],
   "source": [
    "try:\n",
    "    with open('its.txt', \"w\") as data:\n",
    "        print(\"It's...\", file=data)\n",
    "\n",
    "except IOError as err:\n",
    "    print('File error: ' + str(err))"
   ]
  },
  {
   "cell_type": "code",
   "execution_count": 37,
   "metadata": {
    "collapsed": false
   },
   "outputs": [],
   "source": [
    "try:\n",
    "    with open('its.txt', \"w\") as data:\n",
    "        print(\"It's...\", file=data)\n",
    "\n",
    "except IOError as err:\n",
    "    print('File error: ' + str(err))\n",
    "\n",
    "finally:\n",
    "    if 'data' in locals():\n",
    "        data.close()\n",
    "\n",
    "\n"
   ]
  },
  {
   "cell_type": "code",
   "execution_count": 39,
   "metadata": {
    "collapsed": false
   },
   "outputs": [
    {
     "data": {
      "text/plain": [
       "99.2"
      ]
     },
     "execution_count": 39,
     "metadata": {},
     "output_type": "execute_result"
    }
   ],
   "source": [
    "1.6 * 2 * 31"
   ]
  },
  {
   "cell_type": "markdown",
   "metadata": {},
   "source": [
    "### Rewrite try/except/finally code to use \"with\" instead"
   ]
  },
  {
   "cell_type": "code",
   "execution_count": 41,
   "metadata": {
    "collapsed": true
   },
   "outputs": [],
   "source": [
    "man = []\n",
    "other = []\n",
    "\n",
    "try:\n",
    "    data = open('sketch.txt')\n",
    "    for each_line in data:\n",
    "        try:\n",
    "            (role, line_spoken) = each_line.split(':', 1)\n",
    "            line_spoken = line_spoken.strip()\n",
    "            if role == 'Man':\n",
    "                man.append(line_spoken)\n",
    "            elif role == 'Other Man':\n",
    "                other.append(line_spoken)\n",
    "\n",
    "        except ValueError:\n",
    "            pass\n",
    "    data.close()\n",
    "except IOError:\n",
    "    print('The datafile is missing')\n",
    "\n",
    "\n",
    "try:\n",
    "    man_file = open('man_data.txt', 'w')\n",
    "    other_file = open('other_data.txt', 'w')\n",
    "    \n",
    "    print(man, file=man_file)\n",
    "    print(other, file=other_file)\n",
    "    \n",
    "except IOError:\n",
    "    print('File error')\n",
    "\n",
    "finally:\n",
    "    if 'man_file' in locals():\n",
    "        man_file.close()\n",
    "    if 'other_file' in locals():\n",
    "        other_file.close()\n",
    "\n",
    "\n",
    "    "
   ]
  },
  {
   "cell_type": "code",
   "execution_count": 44,
   "metadata": {
    "collapsed": false
   },
   "outputs": [],
   "source": [
    "man = []\n",
    "other = []\n",
    "\n",
    "try:\n",
    "    data = open('sketch.txt')\n",
    "    for each_line in data:\n",
    "        try:\n",
    "            (role, line_spoken) = each_line.split(':', 1)\n",
    "            line_spoken = line_spoken.strip()\n",
    "            if role == 'Man':\n",
    "                man.append(line_spoken)\n",
    "            elif role == 'Other Man':\n",
    "                other.append(line_spoken)\n",
    "\n",
    "        except ValueError:\n",
    "            pass\n",
    "    data.close()\n",
    "except IOError:\n",
    "    print('The datafile is missing')\n",
    "\n",
    "\n",
    "\n",
    "    ################################## using WITH ################\n",
    "try:\n",
    "    with open('man_data.txt', 'w') as man_file:\n",
    "            print(man, file=man_file)\n",
    "\n",
    "    with open('other_data.txt', 'w') as other_file:\n",
    "        print(other, file=other_file)\n",
    "    \n",
    "except IOError:\n",
    "    print('File error')\n",
    "\n",
    "    ############################## NO FINALLY #############\n",
    "    \n",
    "\n",
    "with open('man_data.txt') as mdf:\n",
    "    print(mdf.readline())\n",
    "    "
   ]
  },
  {
   "cell_type": "markdown",
   "metadata": {},
   "source": [
    "### Why not modify print_lol()"
   ]
  },
  {
   "cell_type": "code",
   "execution_count": 1,
   "metadata": {
    "collapsed": true
   },
   "outputs": [],
   "source": [
    "def print_lol(the_list, indent = False, level=0):\n",
    "    \"\"\"Prints a list of possibly nested lists\"\"\"\n",
    "    \n",
    "    for each_item in the_list:\n",
    "        if isinstance(each_item, list):\n",
    "            print_lol(each_item, indent, level+1)\n",
    "        else:\n",
    "            if indent:\n",
    "                for tab_stop in range(level):\n",
    "                    print(\"\\t\", end=\"\")\n",
    "                print(each_item)"
   ]
  },
  {
   "cell_type": "markdown",
   "metadata": {},
   "source": [
    "### Exercise\n",
    "1. Add 4th argument to print_lol(), default value of sys.stdout\n",
    "- fill blanks with argument details"
   ]
  },
  {
   "cell_type": "code",
   "execution_count": 10,
   "metadata": {
    "collapsed": false
   },
   "outputs": [],
   "source": [
    "import sys\n",
    "\n",
    "def print_lol(the_list, indent = False, level=0, fh = sys.stdout):\n",
    "    \"\"\"Prints a list of possibly nested lists\"\"\"\n",
    "    \n",
    "    for each_item in the_list:\n",
    "        if isinstance(each_item, list):\n",
    "            print_lol(each_item, indent, level+1, fh)\n",
    "        else:\n",
    "            if indent:\n",
    "                for tab_stop in range(level):\n",
    "                    print(\"\\t\", end='', file=fh)\n",
    "                print(each_item, file=fh)"
   ]
  },
  {
   "cell_type": "markdown",
   "metadata": {},
   "source": [
    "### Test Drive"
   ]
  },
  {
   "cell_type": "code",
   "execution_count": 28,
   "metadata": {
    "collapsed": false
   },
   "outputs": [],
   "source": [
    "from sys import stdout\n",
    "\n",
    "import sys\n",
    "\n",
    "def print_lol(the_list, indent = False, level=0, fh = sys.stdout):\n",
    "    \"\"\"Prints a list of possibly nested lists\"\"\"\n",
    "    \n",
    "    for each_item in the_list:\n",
    "        if isinstance(each_item, list):\n",
    "            print_lol(each_item, indent, level+1, fh)\n",
    "        else:\n",
    "            if indent:\n",
    "                for tab_stop in range(level):\n",
    "                    print(\"\\t\", end='', file=fh)\n",
    "            print(each_item, file=fh)\n",
    "\n",
    "\n",
    "\n",
    "man = []\n",
    "other = []\n",
    "\n",
    "try:\n",
    "    data = open('sketch.txt')\n",
    "    for each_line in data:\n",
    "        try:\n",
    "            (role, line_spoken) = each_line.split(':', 1)\n",
    "            line_spoken = line_spoken.strip()\n",
    "            if role == 'Man':\n",
    "                man.append(line_spoken)\n",
    "            elif role == 'Other Man':\n",
    "                other.append(line_spoken)\n",
    "\n",
    "        except ValueError:\n",
    "            pass\n",
    "    data.close()\n",
    "except IOError:\n",
    "    print('The datafile is missing')\n",
    "\n",
    "\n",
    "\n",
    "    ################################## using WITH ################\n",
    "try:\n",
    "\n",
    "    with open('man_data.txt', 'w') as man_file:\n",
    "        print_lol(man, fh=man_file)\n",
    "            \n",
    "    with open('other_data.txt', 'w') as other_file:\n",
    "        print_lol(other, fh=other_file)\n",
    "    \n",
    "except IOError:\n",
    "    print('File error')\n",
    "\n",
    "    ############################## NO FINALLY #############\n",
    "\n",
    "#with open('man_data.txt') as mdf:\n",
    " #   print_lol(mdf.readline())\n",
    "    "
   ]
  },
  {
   "cell_type": "markdown",
   "metadata": {},
   "source": [
    "## Save with **dump** and restor with **load**"
   ]
  },
  {
   "cell_type": "code",
   "execution_count": 2,
   "metadata": {
    "collapsed": false
   },
   "outputs": [
    {
     "name": "stdout",
     "output_type": "stream",
     "text": [
      "[1, 2, 'three']\n"
     ]
    }
   ],
   "source": [
    "import pickle\n",
    "\n",
    "with open('mydata.pickle', 'wb') as mysavedata:\n",
    "    pickle.dump([1,2,'three'], mysavedata)\n",
    "\n",
    "with open('mydata.pickle', 'rb') as myrestoredata:\n",
    "    a_list = pickle.load(myrestoredata)\n",
    "\n",
    "\n",
    "print(a_list)"
   ]
  },
  {
   "cell_type": "markdown",
   "metadata": {},
   "source": [
    "### Sharpen Your Pencil\n",
    "- strike the code that you dont need and replace with pickle"
   ]
  },
  {
   "cell_type": "code",
   "execution_count": 14,
   "metadata": {
    "collapsed": false
   },
   "outputs": [],
   "source": [
    "from sys import stdout\n",
    "import pickle\n",
    "import sys\n",
    "\n",
    "def print_lol(the_list, indent = False, level=0, fh = sys.stdout):\n",
    "    \"\"\"Prints a list of possibly nested lists\"\"\"\n",
    "    \n",
    "    for each_item in the_list:\n",
    "        if isinstance(each_item, list):\n",
    "            print_lol(each_item, indent, level+1, fh)\n",
    "        else:\n",
    "            if indent:\n",
    "                for tab_stop in range(level):\n",
    "                    print(\"\\t\", end='', file=fh)\n",
    "            print(each_item, file=fh)\n",
    "\n",
    "\n",
    "\n",
    "man = []\n",
    "other = []\n",
    "\n",
    "try:\n",
    "    data = open('sketch.txt')\n",
    "    for each_line in data:\n",
    "        try:\n",
    "            (role, line_spoken) = each_line.split(':', 1)\n",
    "            line_spoken = line_spoken.strip()\n",
    "            if role == 'Man':\n",
    "                man.append(line_spoken)\n",
    "            elif role == 'Other Man':\n",
    "                other.append(line_spoken)\n",
    "\n",
    "        except ValueError:\n",
    "            pass\n",
    "    data.close()\n",
    "except IOError:\n",
    "    print('The datafile is missing')\n",
    "\n",
    "\n",
    "\n",
    "    ################################## using WITH ################\n",
    "\n",
    "try:\n",
    "    with open('man_data.pickle', 'wb') as man_file:\n",
    "        pickle.dump(man, man_file)\n",
    "        \n",
    "    with open('other_data.pickle', 'wb') as other_file:\n",
    "        pickle.dump(other, other_file)\n",
    "        \n",
    "        \n",
    "        \n",
    "except IOError as err:\n",
    "    print('File error: ' + str(err))\n",
    "\n",
    "except pickle.PickleError as perr:\n",
    "    print(\"Pickling error: \" + str(perr))\n",
    "\n",
    "    \n",
    "\n",
    "\n"
   ]
  },
  {
   "cell_type": "markdown",
   "metadata": {},
   "source": [
    "## An idle session\n",
    "- load som prev pickled data"
   ]
  },
  {
   "cell_type": "markdown",
   "metadata": {},
   "source": [
    "## Generic file I/O with pickle is the way to go!\n"
   ]
  },
  {
   "cell_type": "code",
   "execution_count": null,
   "metadata": {
    "collapsed": true
   },
   "outputs": [],
   "source": []
  }
 ],
 "metadata": {
  "kernelspec": {
   "display_name": "Python 3",
   "language": "python",
   "name": "python3"
  },
  "language_info": {
   "codemirror_mode": {
    "name": "ipython",
    "version": 3
   },
   "file_extension": ".py",
   "mimetype": "text/x-python",
   "name": "python",
   "nbconvert_exporter": "python",
   "pygments_lexer": "ipython3",
   "version": "3.5.1"
  }
 },
 "nbformat": 4,
 "nbformat_minor": 0
}
