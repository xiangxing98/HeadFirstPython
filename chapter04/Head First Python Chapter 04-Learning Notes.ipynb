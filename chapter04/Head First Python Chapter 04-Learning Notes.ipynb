{
 "cells": [
  {
   "cell_type": "markdown",
   "metadata": {
    "toc": true
   },
   "source": [
    "<h1>Table of Contents<span class=\"tocSkip\"></span></h1>\n",
    "<div class=\"toc\"><ul class=\"toc-item\"><li><span><a href=\"#第四章-持久化：将数据存成文件\" data-toc-modified-id=\"第四章-持久化：将数据存成文件-1\"><span class=\"toc-item-num\">1&nbsp;&nbsp;</span>第四章 持久化：将数据存成文件</a></span><ul class=\"toc-item\"><li><span><a href=\"#知识要点\" data-toc-modified-id=\"知识要点-1.1\"><span class=\"toc-item-num\">1.1&nbsp;&nbsp;</span>知识要点</a></span><ul class=\"toc-item\"><li><span><a href=\"#以写模式打开文件\" data-toc-modified-id=\"以写模式打开文件-1.1.1\"><span class=\"toc-item-num\">1.1.1&nbsp;&nbsp;</span>以写模式打开文件</a></span><ul class=\"toc-item\"><li><span><a href=\"#获取工作目录与切换到指定目录\" data-toc-modified-id=\"获取工作目录与切换到指定目录-1.1.1.1\"><span class=\"toc-item-num\">1.1.1.1&nbsp;&nbsp;</span>获取工作目录与切换到指定目录</a></span></li><li><span><a href=\"#Write-to-File\" data-toc-modified-id=\"Write-to-File-1.1.1.2\"><span class=\"toc-item-num\">1.1.1.2&nbsp;&nbsp;</span>Write to File</a></span></li></ul></li><li><span><a href=\"#Finally-扩展try--try/except/finnally\" data-toc-modified-id=\"Finally-扩展try--try/except/finnally-1.1.2\"><span class=\"toc-item-num\">1.1.2&nbsp;&nbsp;</span>Finally 扩展try--try/except/finnally</a></span></li><li><span><a href=\"#打开根本不存在的文件\" data-toc-modified-id=\"打开根本不存在的文件-1.1.3\"><span class=\"toc-item-num\">1.1.3&nbsp;&nbsp;</span>打开根本不存在的文件</a></span></li><li><span><a href=\"#locals()-返回当前作用域中定义的所有命名的集合\" data-toc-modified-id=\"locals()-返回当前作用域中定义的所有命名的集合-1.1.4\"><span class=\"toc-item-num\">1.1.4&nbsp;&nbsp;</span>locals() 返回当前作用域中定义的所有命名的集合</a></span></li><li><span><a href=\"#获取异常对象\" data-toc-modified-id=\"获取异常对象-1.1.5\"><span class=\"toc-item-num\">1.1.5&nbsp;&nbsp;</span>获取异常对象</a></span><ul class=\"toc-item\"><li><span><a href=\"#异常对象与字符串类型不兼容\" data-toc-modified-id=\"异常对象与字符串类型不兼容-1.1.5.1\"><span class=\"toc-item-num\">1.1.5.1&nbsp;&nbsp;</span>异常对象与字符串类型不兼容</a></span></li><li><span><a href=\"#异常对象强制转换为字符串\" data-toc-modified-id=\"异常对象强制转换为字符串-1.1.5.2\"><span class=\"toc-item-num\">1.1.5.2&nbsp;&nbsp;</span>异常对象强制转换为字符串</a></span></li></ul></li><li><span><a href=\"#用With处理文件\" data-toc-modified-id=\"用With处理文件-1.1.6\"><span class=\"toc-item-num\">1.1.6&nbsp;&nbsp;</span>用With处理文件</a></span><ul class=\"toc-item\"><li><span><a href=\"#try/except/finally案例\" data-toc-modified-id=\"try/except/finally案例-1.1.6.1\"><span class=\"toc-item-num\">1.1.6.1&nbsp;&nbsp;</span>try/except/finally案例</a></span></li></ul></li><li><span><a href=\"#With改写案例1\" data-toc-modified-id=\"With改写案例1-1.1.7\"><span class=\"toc-item-num\">1.1.7&nbsp;&nbsp;</span>With改写案例1</a></span></li><li><span><a href=\"#With改写案例2\" data-toc-modified-id=\"With改写案例2-1.1.8\"><span class=\"toc-item-num\">1.1.8&nbsp;&nbsp;</span>With改写案例2</a></span></li><li><span><a href=\"#with打开文件\" data-toc-modified-id=\"with打开文件-1.1.9\"><span class=\"toc-item-num\">1.1.9&nbsp;&nbsp;</span>with打开文件</a></span></li><li><span><a href=\"#修改print_lol()\" data-toc-modified-id=\"修改print_lol()-1.1.10\"><span class=\"toc-item-num\">1.1.10&nbsp;&nbsp;</span>修改print_lol()</a></span></li></ul></li><li><span><a href=\"#加餐-学习是用pickle\" data-toc-modified-id=\"加餐-学习是用pickle-1.2\"><span class=\"toc-item-num\">1.2&nbsp;&nbsp;</span>加餐-学习是用pickle</a></span><ul class=\"toc-item\"><li><span><a href=\"#An-Idle-Session\" data-toc-modified-id=\"An-Idle-Session-1.2.1\"><span class=\"toc-item-num\">1.2.1&nbsp;&nbsp;</span>An Idle Session</a></span></li></ul></li><li><span><a href=\"#知识点回顾\" data-toc-modified-id=\"知识点回顾-1.3\"><span class=\"toc-item-num\">1.3&nbsp;&nbsp;</span>知识点回顾</a></span></li></ul></li></ul></div>"
   ]
  },
  {
   "cell_type": "markdown",
   "metadata": {},
   "source": [
    "# 第四章 持久化：将数据存成文件\n",
    "\n",
    "Head First Python Chapter 04-Learning Notes\n",
    "\n",
    "## 知识要点\n",
    "\n",
    "1. strip()方法移除字符串首尾空白字符；\n",
    "2. print()内置函数中的file参数可以控制data是读入或是写出；\n",
    "3. 不管try/except语句中是否有异常发生，finally的代码段总是会被执行；\n",
    "4. 异常对象会传入到except代码段，并且可以使用as关键字将其赋值给一个标识符；\n",
    "5. str()内置函数可以用来访问任何数据对象的字符串表示，前提是该数据对象支持该转换；\n",
    "6. locals()内置函数返回当前作用范围内的变量集合；\n",
    "7. in操作符可用于测试成员包含关系；\n",
    "8. \"+\"操作符应用于两个字符串时会得到它们的串联结果，而应用于数字时会得到它们的相加和；\n",
    "9. with语句即使在异常发生的情况下，也会自动去关闭所有打开的文件。with语句同样可以使用as关键字；\n",
    "10. sys.stdout是Python中的标准输出，它位于标准库中的sys模块；\n",
    "11. 标准库pickle模块可以让轻松高效地保存Python数据对象到磁盘和从磁盘恢复Python数据对象；\n",
    "12. pickle.dump()函数将数据存盘；\n",
    "13. pickle.load()函数从磁盘恢复数据。\n",
    "\n"
   ]
  },
  {
   "cell_type": "code",
   "execution_count": 7,
   "metadata": {},
   "outputs": [
    {
     "name": "stdout",
     "output_type": "stream",
     "text": [
      "['Is this the right room for an argument?', \"No you haven't!\", 'When?', \"No you didn't!\", \"You didn't!\", 'You did not!', 'Ah! (taking out his wallet and paying) Just the five minutes.', 'You most certainly did not!', \"Oh no you didn't!\", \"Oh no you didn't!\", \"Oh look, this isn't an argument!\", \"No it isn't!\", \"It's just contradiction!\", 'It IS!', 'You just contradicted me!', 'You DID!', 'You did just then!', '(exasperated) Oh, this is futile!!', 'Yes it is!'] \n",
      "\n",
      "\n",
      "[\"I've told you once.\", 'Yes I have.', 'Just now.', 'Yes I did!', \"I'm telling you, I did!\", \"Oh I'm sorry, is this a five minute argument, or the full half hour?\", 'Just the five minutes. Thank you.', 'Anyway, I did.', \"Now let's get one thing quite clear: I most definitely told you!\", 'Oh yes I did!', 'Oh yes I did!', 'Yes it is!', \"No it isn't!\", 'It is NOT!', \"No I didn't!\", 'No no no!', 'Nonsense!', \"No it isn't!\"]\n"
     ]
    }
   ],
   "source": [
    "# -*- encoding: utf-8 -*-\n",
    "# !/usr/bin/env python\n",
    "\n",
    "# 1.创建一个空列表，名为man。\n",
    "# 2.创建一个名为other的空列表。\n",
    "# 3.从line_spoken变量中删除不必要的空格字符。\n",
    "# 4.根据角色值，将line_spoken添加到正确的列表中。\n",
    "# 5.将man和other列表分别输出到屏幕上。\n",
    "man = []\n",
    "other = []\n",
    "\n",
    "try:\n",
    "    data = open('sketch.txt')\n",
    "    for each_line in data:\n",
    "        try:\n",
    "            (role, line_spoken) = each_line.split(\":\", 1)\n",
    "            line_spoken = line_spoken.strip() # 删除不必要的空格字符。\n",
    "            # 这里的解读是：这里不是直接处理line_spoken字符串,python 不会改变字符串，\n",
    "            # 他会创建一个新的字符串出来然后执行类似如strip（）的方法，然后将返回值赋值到原来的字符串\n",
    "            if role == 'Man':\n",
    "                man.append(line_spoken)\n",
    "            elif role == 'Other Man':\n",
    "                other.append(line_spoken)\n",
    "        except ValueError:\n",
    "            pass        \n",
    "    data.close()\n",
    "except IOError:\n",
    "    print('The data file is mising!')\n",
    "    \n",
    "print(man,\"\\n\\n\")\n",
    "# ['Is this the right room for an argument?', \"No you haven't!\", 'When?', \"No you didn't!\", \"You didn't!\", \n",
    "# 'You did not!', 'Ah! (taking out his wallet and paying) Just the five minutes.', \n",
    "# 'You most certainly did not!', \"Oh no you didn't!\", \"Oh no you didn't!\", \n",
    "# \"Oh look, this isn't an argument!\", \"No it isn't!\", \"It's just contradiction!\", 'It IS!',\n",
    "# 'You just contradicted me!', 'You DID!', 'You did just then!', '(exasperated) Oh, this is futile!!',\n",
    "# 'Yes it is!']\n",
    "\n",
    "print(other)\n",
    "# [\"I've told you once.\", 'Yes I have.', 'Just now.', 'Yes I did!', \"I'm telling you, I did!\", \n",
    "#  \"Oh I'm sorry, is this a five minute argument, or the full half hour?\", \n",
    "#  'Just the five minutes. Thank you.', 'Anyway, I did.', \n",
    "#  \"Now let's get one thing quite clear: I most definitely told you!\", \n",
    "#  'Oh yes I did!', 'Oh yes I did!', 'Yes it is!', \"No it isn't!\", 'It is NOT!', \n",
    "#  \"No I didn't!\", 'No no no!', 'Nonsense!', \"No it isn't!\"]"
   ]
  },
  {
   "cell_type": "markdown",
   "metadata": {},
   "source": [
    "### 以写模式打开文件\n",
    "\n",
    "#### 获取工作目录与切换到指定目录"
   ]
  },
  {
   "cell_type": "code",
   "execution_count": 14,
   "metadata": {},
   "outputs": [
    {
     "name": "stdout",
     "output_type": "stream",
     "text": [
      "F:\\Github\\Python\\HeadFirstPython\\HeadFirstPython\\chapter04\n"
     ]
    }
   ],
   "source": [
    "# -*- encoding: utf-8 -*-\n",
    "# !/usr/bin/env python\n",
    "\n",
    "import os\n",
    "# the_file = open('sketch.txt')\n",
    "# the_file.close()\n",
    "# __file__= os.getcwd()\n",
    "\n",
    "# print(os.getcwd())\n",
    "# 'F:\\\\Github\\\\Python\\\\HeadFirstPython\\\\HeadFirstPython\\\\chapter03'\n",
    "\n",
    "# 切换到包含数据的文件夹\n",
    "os.chdir(\"F:\\\\Github\\\\Python\\\\HeadFirstPython\\\\HeadFirstPython\\\\chapter04\")\n",
    "\n",
    "print(os.getcwd())\n",
    "\n",
    "# 写模式，打开数据文件\n",
    "# data_out = open('data.out', \"w\")\n",
    "\n",
    "# print(\"Hillo, stone\", file=data_out)\n",
    "\n",
    "# 处理完毕，关闭文件\n",
    "# data_out.close()\n",
    "\n",
    "try:\n",
    "    with open('man_data.txt','w') as man_file:   #注意形式\n",
    "        print_lol(man,fh=man_file)\n",
    "    with open('other_data.txt','w') as other_file:\n",
    "        print_lol(other,fh=other_file) \n",
    "except IOError as err:\n",
    "    print('File error:'+str(err))"
   ]
  },
  {
   "cell_type": "markdown",
   "metadata": {},
   "source": [
    "#### Write to File \n",
    "\n",
    "print('',file = file_name) # 将数据写入文件"
   ]
  },
  {
   "cell_type": "code",
   "execution_count": 12,
   "metadata": {},
   "outputs": [],
   "source": [
    "# -*- encoding: utf-8 -*-\n",
    "# !/usr/bin/env python\n",
    "\n",
    "# 1.创建一个空列表，名为man。\n",
    "# 2.创建一个名为other的空列表。\n",
    "# 3.从line_spoken变量中删除不必要的空格字符。\n",
    "# 4.根据角色值，将line_spoken添加到正确的列表中。\n",
    "# 5.将man和other列表分别输出到屏幕上。\n",
    "man = []\n",
    "other = []\n",
    "\n",
    "try:\n",
    "    data = open('sketch.txt')\n",
    "    for each_line in data:\n",
    "        try:\n",
    "            (role, line_spoken) = each_line.split(\":\", 1)\n",
    "            line_spoken = line_spoken.strip() # 删除不必要的空格字符。\n",
    "            if role == 'Man':\n",
    "                man.append(line_spoken)\n",
    "            elif role == 'Other Man':\n",
    "                other.append(line_spoken)\n",
    "        except ValueError:\n",
    "            pass        \n",
    "    data.close()\n",
    "except IOError:\n",
    "    print('The data file is mising!')\n",
    "    \n",
    "# print(man,\"\\n\\n\")\n",
    "# ['Is this the right room for an argument?', \"No you haven't!\", 'When?', \"No you didn't!\", \"You didn't!\", \n",
    "# 'You did not!', 'Ah! (taking out his wallet and paying) Just the five minutes.', \n",
    "# 'You most certainly did not!', \"Oh no you didn't!\", \"Oh no you didn't!\", \n",
    "# \"Oh look, this isn't an argument!\", \"No it isn't!\", \"It's just contradiction!\", 'It IS!',\n",
    "# 'You just contradicted me!', 'You DID!', 'You did just then!', '(exasperated) Oh, this is futile!!',\n",
    "# 'Yes it is!']\n",
    "\n",
    "# print(other)\n",
    "# [\"I've told you once.\", 'Yes I have.', 'Just now.', 'Yes I did!', \"I'm telling you, I did!\", \n",
    "#  \"Oh I'm sorry, is this a five minute argument, or the full half hour?\", \n",
    "#  'Just the five minutes. Thank you.', 'Anyway, I did.', \n",
    "#  \"Now let's get one thing quite clear: I most definitely told you!\", \n",
    "#  'Oh yes I did!', 'Oh yes I did!', 'Yes it is!', \"No it isn't!\", 'It is NOT!', \n",
    "#  \"No I didn't!\", 'No no no!', 'Nonsense!', \"No it isn't!\"]\n",
    "\n",
    "\n",
    "try:\n",
    "    man_file = open('man_data2.txt','w')\n",
    "    other_file = open('other_data2.txt','w')\n",
    "    \n",
    "    print(man, file=man_file)\n",
    "    print(man, file=other_file)\n",
    "    \n",
    "    man_file.close()\n",
    "    other_file.close()\n",
    "    \n",
    "except IOError:\n",
    "    print(\"File error\")"
   ]
  },
  {
   "cell_type": "markdown",
   "metadata": {},
   "source": [
    "### Finally 扩展try--try/except/finnally"
   ]
  },
  {
   "cell_type": "code",
   "execution_count": 13,
   "metadata": {},
   "outputs": [],
   "source": [
    "# -*- encoding: utf-8 -*-\n",
    "# !/usr/bin/env python\n",
    "\n",
    "# 1.创建一个空列表，名为man。\n",
    "# 2.创建一个名为other的空列表。\n",
    "# 3.从line_spoken变量中删除不必要的空格字符。\n",
    "# 4.根据角色值，将line_spoken添加到正确的列表中。\n",
    "# 5.将man和other列表分别输出到屏幕上。\n",
    "man = []\n",
    "other = []\n",
    "\n",
    "try:\n",
    "    data = open('sketch.txt')\n",
    "    for each_line in data:\n",
    "        try:\n",
    "            (role, line_spoken) = each_line.split(\":\", 1)\n",
    "            line_spoken = line_spoken.strip() # 删除不必要的空格字符。\n",
    "            if role == 'Man':\n",
    "                man.append(line_spoken)\n",
    "            elif role == 'Other Man':\n",
    "                other.append(line_spoken)\n",
    "        except ValueError:\n",
    "            pass        \n",
    "    data.close()\n",
    "except IOError:\n",
    "    print('The data file is mising!')\n",
    "    \n",
    "# print(man,\"\\n\\n\")\n",
    "# ['Is this the right room for an argument?', \"No you haven't!\", 'When?', \"No you didn't!\", \"You didn't!\", \n",
    "# 'You did not!', 'Ah! (taking out his wallet and paying) Just the five minutes.', \n",
    "# 'You most certainly did not!', \"Oh no you didn't!\", \"Oh no you didn't!\", \n",
    "# \"Oh look, this isn't an argument!\", \"No it isn't!\", \"It's just contradiction!\", 'It IS!',\n",
    "# 'You just contradicted me!', 'You DID!', 'You did just then!', '(exasperated) Oh, this is futile!!',\n",
    "# 'Yes it is!']\n",
    "\n",
    "# print(other)\n",
    "# [\"I've told you once.\", 'Yes I have.', 'Just now.', 'Yes I did!', \"I'm telling you, I did!\", \n",
    "#  \"Oh I'm sorry, is this a five minute argument, or the full half hour?\", \n",
    "#  'Just the five minutes. Thank you.', 'Anyway, I did.', \n",
    "#  \"Now let's get one thing quite clear: I most definitely told you!\", \n",
    "#  'Oh yes I did!', 'Oh yes I did!', 'Yes it is!', \"No it isn't!\", 'It is NOT!', \n",
    "#  \"No I didn't!\", 'No no no!', 'Nonsense!', \"No it isn't!\"]\n",
    "\n",
    "try:\n",
    "    man_file = open('man_data.txt','w')\n",
    "    other_file = open('other_data.txt','w')\n",
    "    \n",
    "    print(man, file=man_file)\n",
    "    print(man, file=other_file)\n",
    "    \n",
    "except IOError:\n",
    "    print(\"File error\")\n",
    "\n",
    "# 对于try：except无法处理的情况时候，使用finally\n",
    "# 无论是否发生错误，最终要执行的代码\n",
    "finally:        \n",
    "    man_file.close()\n",
    "    other_file.close()"
   ]
  },
  {
   "cell_type": "markdown",
   "metadata": {},
   "source": [
    "### 打开根本不存在的文件"
   ]
  },
  {
   "cell_type": "code",
   "execution_count": 5,
   "metadata": {},
   "outputs": [
    {
     "name": "stdout",
     "output_type": "stream",
     "text": [
      "File error\n"
     ]
    }
   ],
   "source": [
    "# -*- encoding: utf-8 -*-\n",
    "# !/usr/bin/env python\n",
    "\n",
    "# data = open('missing.txt')\n",
    "# print(data.readline(), end='')\n",
    "# FileNotFoundError: [Errno 2] No such file or directory: 'missing.txt'\n",
    "        \n",
    "try:\n",
    "    data = open('missing.txt')\n",
    "    print(data.readline(), end='')\n",
    "except IOError:\n",
    "    print('File error')\n",
    "finally:\n",
    "    data.close()\n",
    "\n",
    "# File error"
   ]
  },
  {
   "cell_type": "markdown",
   "metadata": {},
   "source": [
    "### locals() 返回当前作用域中定义的所有命名的集合"
   ]
  },
  {
   "cell_type": "code",
   "execution_count": 6,
   "metadata": {},
   "outputs": [
    {
     "name": "stdout",
     "output_type": "stream",
     "text": [
      "File error\n"
     ]
    }
   ],
   "source": [
    "# -*- encoding: utf-8 -*-\n",
    "# !/usr/bin/env python\n",
    "\n",
    "# print(locals())\n",
    "\n",
    "try:\n",
    "    data = open('missing.txt')\n",
    "    print(data.readline(), end='')\n",
    "except IOError:\n",
    "    print('File error')\n",
    "finally:\n",
    "    if 'data' in locals(): # locals() 返回当前作用域中定义的所有命名的集合\n",
    "        data.close()\n",
    "# File error"
   ]
  },
  {
   "cell_type": "markdown",
   "metadata": {},
   "source": [
    "### 获取异常对象"
   ]
  },
  {
   "cell_type": "markdown",
   "metadata": {},
   "source": [
    "#### 异常对象与字符串类型不兼容"
   ]
  },
  {
   "cell_type": "code",
   "execution_count": 8,
   "metadata": {},
   "outputs": [
    {
     "ename": "TypeError",
     "evalue": "can only concatenate str (not \"FileNotFoundError\") to str",
     "output_type": "error",
     "traceback": [
      "\u001b[1;31m---------------------------------------------------------------------------\u001b[0m",
      "\u001b[1;31mFileNotFoundError\u001b[0m                         Traceback (most recent call last)",
      "\u001b[1;32m<ipython-input-8-c1fcbc3391e3>\u001b[0m in \u001b[0;36m<module>\u001b[1;34m\u001b[0m\n\u001b[0;32m      4\u001b[0m \u001b[1;32mtry\u001b[0m\u001b[1;33m:\u001b[0m\u001b[1;33m\u001b[0m\u001b[1;33m\u001b[0m\u001b[0m\n\u001b[1;32m----> 5\u001b[1;33m     \u001b[0mdata\u001b[0m \u001b[1;33m=\u001b[0m \u001b[0mopen\u001b[0m\u001b[1;33m(\u001b[0m\u001b[1;34m'missing.txt'\u001b[0m\u001b[1;33m)\u001b[0m\u001b[1;33m\u001b[0m\u001b[1;33m\u001b[0m\u001b[0m\n\u001b[0m\u001b[0;32m      6\u001b[0m     \u001b[0mprint\u001b[0m\u001b[1;33m(\u001b[0m\u001b[0mdata\u001b[0m\u001b[1;33m.\u001b[0m\u001b[0mreadline\u001b[0m\u001b[1;33m(\u001b[0m\u001b[1;33m)\u001b[0m\u001b[1;33m,\u001b[0m \u001b[0mend\u001b[0m\u001b[1;33m=\u001b[0m\u001b[1;34m''\u001b[0m\u001b[1;33m)\u001b[0m\u001b[1;33m\u001b[0m\u001b[1;33m\u001b[0m\u001b[0m\n",
      "\u001b[1;31mFileNotFoundError\u001b[0m: [Errno 2] No such file or directory: 'missing.txt'",
      "\nDuring handling of the above exception, another exception occurred:\n",
      "\u001b[1;31mTypeError\u001b[0m                                 Traceback (most recent call last)",
      "\u001b[1;32m<ipython-input-8-c1fcbc3391e3>\u001b[0m in \u001b[0;36m<module>\u001b[1;34m\u001b[0m\n\u001b[0;32m      7\u001b[0m \u001b[1;31m# 为异常对象定义一个名字，以便于获取\u001b[0m\u001b[1;33m\u001b[0m\u001b[1;33m\u001b[0m\u001b[1;33m\u001b[0m\u001b[0m\n\u001b[0;32m      8\u001b[0m \u001b[1;32mexcept\u001b[0m \u001b[0mIOError\u001b[0m \u001b[1;32mas\u001b[0m \u001b[0merr\u001b[0m\u001b[1;33m:\u001b[0m\u001b[1;33m\u001b[0m\u001b[1;33m\u001b[0m\u001b[0m\n\u001b[1;32m----> 9\u001b[1;33m     \u001b[0mprint\u001b[0m\u001b[1;33m(\u001b[0m\u001b[1;34m'File error: '\u001b[0m \u001b[1;33m+\u001b[0m \u001b[0merr\u001b[0m\u001b[1;33m)\u001b[0m\u001b[1;33m\u001b[0m\u001b[1;33m\u001b[0m\u001b[0m\n\u001b[0m\u001b[0;32m     10\u001b[0m \u001b[1;32mfinally\u001b[0m\u001b[1;33m:\u001b[0m\u001b[1;33m\u001b[0m\u001b[1;33m\u001b[0m\u001b[0m\n\u001b[0;32m     11\u001b[0m     \u001b[1;32mif\u001b[0m \u001b[1;34m'data'\u001b[0m \u001b[1;32min\u001b[0m \u001b[0mlocals\u001b[0m\u001b[1;33m(\u001b[0m\u001b[1;33m)\u001b[0m\u001b[1;33m:\u001b[0m \u001b[1;31m# locals() 返回当前作用域中定义的所有命名的集合\u001b[0m\u001b[1;33m\u001b[0m\u001b[1;33m\u001b[0m\u001b[0m\n",
      "\u001b[1;31mTypeError\u001b[0m: can only concatenate str (not \"FileNotFoundError\") to str"
     ]
    }
   ],
   "source": [
    "# -*- encoding: utf-8 -*-\n",
    "# !/usr/bin/env python\n",
    "\n",
    "try:\n",
    "    data = open('missing.txt')\n",
    "    print(data.readline(), end='')\n",
    "# 为异常对象定义一个名字，以便于获取\n",
    "except IOError as err:\n",
    "    print('File error: ' + err)\n",
    "finally:\n",
    "    if 'data' in locals(): # locals() 返回当前作用域中定义的所有命名的集合\n",
    "        data.close()\n",
    "\n",
    "# ---------------------------------------------------------------------------\n",
    "# FileNotFoundError                         Traceback (most recent call last)\n",
    "# <ipython-input-57-31fae1132594> in <module>\n",
    "#       4 try:\n",
    "# ----> 5     data = open('missing.txt')\n",
    "#       6     print(data.readline(), end='')\n",
    "\n",
    "# FileNotFoundError: [Errno 2] No such file or directory: 'missing.txt'\n",
    "\n",
    "# During handling of the above exception, another exception occurred:\n",
    "\n",
    "# TypeError                                 Traceback (most recent call last)\n",
    "# <ipython-input-57-31fae1132594> in <module>\n",
    "#       6     print(data.readline(), end='')\n",
    "#       7 except IOError as err:\n",
    "# ----> 8     print('File error: ' + err)\n",
    "#       9 finally:\n",
    "#      10     if 'data' in locals(): # locals() 返回当前作用域中定义的所有命名的集合\n",
    "\n",
    "# TypeError: can only concatenate str (not \"FileNotFoundError\") to str"
   ]
  },
  {
   "cell_type": "markdown",
   "metadata": {},
   "source": [
    "#### 异常对象强制转换为字符串"
   ]
  },
  {
   "cell_type": "code",
   "execution_count": 7,
   "metadata": {},
   "outputs": [
    {
     "name": "stdout",
     "output_type": "stream",
     "text": [
      "File error: [Errno 2] No such file or directory: 'missing.txt'\n"
     ]
    }
   ],
   "source": [
    "# -*- encoding: utf-8 -*-\n",
    "# !/usr/bin/env python\n",
    "\n",
    "try:\n",
    "    data = open('missing.txt')\n",
    "    print(data.readline(), end='')\n",
    "except IOError as err:\n",
    "    #捕获详细的错误信息，异常对象str格式化强制转换为字符串\n",
    "    print('File error: ' + str(err))  \n",
    "finally:\n",
    "    # locals() 返回当前作用域中定义的所有命名的集合\n",
    "    if 'data' in locals():  \n",
    "        data.close()\n",
    "\n",
    "# File error: [Errno 2] No such file or directory: 'missing.txt'"
   ]
  },
  {
   "cell_type": "markdown",
   "metadata": {},
   "source": [
    "### 用With处理文件\n",
    "\n",
    "因为with 会自动关闭文件，而不用像open那样要在结尾是用close关闭"
   ]
  },
  {
   "cell_type": "code",
   "execution_count": 64,
   "metadata": {},
   "outputs": [],
   "source": [
    "# -*- encoding: utf-8 -*-\n",
    "# !/usr/bin/env python\n",
    "\n",
    "try:\n",
    "    with open('its2.txt','w') as data:\n",
    "        print(\"It's....\", file=data)\n",
    "except IOError as err:\n",
    "    print('File error: ' + str(err)) "
   ]
  },
  {
   "cell_type": "markdown",
   "metadata": {},
   "source": [
    "#### try/except/finally案例 "
   ]
  },
  {
   "cell_type": "code",
   "execution_count": 5,
   "metadata": {},
   "outputs": [],
   "source": [
    "# -*- encoding: utf-8 -*-\n",
    "# !/usr/bin/env python\n",
    "\n",
    "try:\n",
    "    man_file = open('man_data.txt','w')\n",
    "    other_file = open('other_data.txt','w')\n",
    "    print(man, file=man_file)\n",
    "    print(other, file=other_file)\n",
    "\n",
    "except IOError as err:\n",
    "    print(\"File error: \" + str(err))\n",
    "finally:\n",
    "    if 'man_file' in locals():\n",
    "        man_file.close()\n",
    "    if 'other_file' in locals():\n",
    "        other_file.close()"
   ]
  },
  {
   "cell_type": "markdown",
   "metadata": {},
   "source": [
    "### With改写案例1"
   ]
  },
  {
   "cell_type": "code",
   "execution_count": 12,
   "metadata": {},
   "outputs": [],
   "source": [
    "# -*- encoding: utf-8 -*-\n",
    "# !/usr/bin/env python\n",
    "\n",
    "try:\n",
    "    with open('man_data.txt',mode='w') as man_file:\n",
    "        print(man, file = man_file)\n",
    "    with open('other_data.txt',mode='w') as other_file:\n",
    "        print(other, file = other_file)\n",
    "except IOError as err:\n",
    "    print('File error: ' + str(err))"
   ]
  },
  {
   "cell_type": "markdown",
   "metadata": {},
   "source": [
    "### With改写案例2"
   ]
  },
  {
   "cell_type": "code",
   "execution_count": 3,
   "metadata": {},
   "outputs": [],
   "source": [
    "# -*- encoding: utf-8 -*-\n",
    "# !/usr/bin/env python\n",
    "\n",
    "try:\n",
    "    with open('man_data.txt',mode='w') as man_file,open('other_data.txt',mode='w') as other_file:\n",
    "        print(man, file = man_file)\n",
    "        print(other, file = other_file)\n",
    "except IOError as err:\n",
    "    print('File error: ' + str(err))"
   ]
  },
  {
   "cell_type": "markdown",
   "metadata": {},
   "source": [
    "### with打开文件 "
   ]
  },
  {
   "cell_type": "code",
   "execution_count": 4,
   "metadata": {},
   "outputs": [
    {
     "name": "stdout",
     "output_type": "stream",
     "text": [
      "[]\n",
      "\n"
     ]
    }
   ],
   "source": [
    "with open('man_data.txt') as mdf:\n",
    "    print(mdf.readline())"
   ]
  },
  {
   "cell_type": "markdown",
   "metadata": {},
   "source": [
    "### 修改print_lol()"
   ]
  },
  {
   "cell_type": "code",
   "execution_count": 6,
   "metadata": {
    "code_folding": []
   },
   "outputs": [],
   "source": [
    "# 修改print_lol()\n",
    "import sys\n",
    "\n",
    "\"\"\"This is the \"nester.py\" module and it provides one function called print_lol() \n",
    "   which prints lists that may or may not include nested lists.\"\"\"\n",
    "\n",
    "def print_lol(the_list, indent=False, level=0, fh=sys.stdout):\n",
    "    \"\"\" Prints a list of (possibly) nested lists.\n",
    "\n",
    "        This function takes a positional argument called \"the_list\", which \n",
    "        is any Python list (of - possibly - nested lists). Each data item in the \n",
    "        provided list is (recursively) printed to the screen on it’s own line.\n",
    "\n",
    "        A second argument called \"indent\" controls whether or not indentation is\n",
    "        shown on the display. This defaults to False: set it to True to switch on.\n",
    "\n",
    "        A third argument called \"level\" (which defaults to 0) is used to insert \n",
    "        tab-stops when a nested list is encountered.\n",
    "\n",
    "        A fourth argument called \"fh\" identifies the file to write to (which is \n",
    "        assumed to be opened and writeable to). This defaults to \"sys.stdout\", \n",
    "        i.e., standard output.\"\"\"\n",
    "\n",
    "    for each_item in the_list:\n",
    "        if isinstance(each_item, list):\n",
    "            print_lol(each_item, indent, level+1, fh)\n",
    "        else:\n",
    "            if indent:\n",
    "                for tab_stop in range(level):\n",
    "                    print(\"\\t\", end='', file=fh)\n",
    "            print(each_item, file=fh)\n",
    "\n",
    "# -*- encoding: utf-8 -*-\n",
    "# !/usr/bin/env python\n",
    "\n",
    "# 1.创建一个空列表，名为man。\n",
    "# 2.创建一个名为other的空列表。\n",
    "\n",
    "man = []\n",
    "other = []\n",
    "\n",
    "try:\n",
    "    data = open('sketch.txt')\n",
    "    for each_line in data:\n",
    "        try:\n",
    "            (role, line_spoken) = each_line.split(\":\", 1)\n",
    "            line_spoken = line_spoken.strip() # 删除不必要的空格字符。\n",
    "            if role == 'Man':\n",
    "                man.append(line_spoken)\n",
    "            elif role == 'Other Man':\n",
    "                other.append(line_spoken)\n",
    "        except ValueError:\n",
    "            pass        \n",
    "    data.close()\n",
    "except IOError:\n",
    "    print('The data file is mising!')\n",
    "\n",
    "\n",
    "\n",
    "try:\n",
    "    with open('man_data.txt',mode='w') as man_file,open('other_data.txt',mode='w') as other_file:\n",
    "        print_lol(man, fh = man_file)\n",
    "        print_lol(other, fh = other_file)\n",
    "except IOError as err:\n",
    "    print('File error: ' + str(err))\n",
    "# print_lol(man, fh = man_file)"
   ]
  },
  {
   "cell_type": "markdown",
   "metadata": {},
   "source": [
    "## 加餐-学习是用pickle\n",
    "\n",
    "pickle的使用原因是它是python的专用持久存储方式，可以不用理会格式问题，直接保存，直接使用，这就是他的闪光之处。\n",
    "\n",
    "使用pickle.dump(数据，文件名)可以将数据压缩保存, 使用pickle.load(数据名)可以将数据提取出来\n",
    "\n",
    "注意写，读打开方式是wb和rb 。\n",
    "\n",
    "注意是二进制文件"
   ]
  },
  {
   "cell_type": "code",
   "execution_count": 7,
   "metadata": {},
   "outputs": [
    {
     "name": "stdout",
     "output_type": "stream",
     "text": [
      "Is this the right room for an argument?\n",
      "No you haven't!\n",
      "When?\n",
      "No you didn't!\n",
      "You didn't!\n",
      "You did not!\n",
      "Ah! (taking out his wallet and paying) Just the five minutes.\n",
      "You most certainly did not!\n",
      "Oh no you didn't!\n",
      "Oh no you didn't!\n",
      "Oh look, this isn't an argument!\n",
      "No it isn't!\n",
      "It's just contradiction!\n",
      "It IS!\n",
      "You just contradicted me!\n",
      "You DID!\n",
      "You did just then!\n",
      "(exasperated) Oh, this is futile!!\n",
      "Yes it is!\n"
     ]
    }
   ],
   "source": [
    "#!/usr/bin/python\n",
    "# -*- coding: utf-8 -*-\n",
    "\n",
    "import pickle\n",
    "\n",
    "# man = []\n",
    "# other = []\n",
    "\n",
    "try:\n",
    "    with open('man_data.txt','wb') as man_file,open('other_data.txt','wb') as other_file:\n",
    "    #注意创建储存的文件是xxxx.pickle或xxx.txt格式都可以\n",
    "        pickle.dump(man,man_file)\n",
    "        pickle.dump(other,other_file)\n",
    "except IOError as err:\n",
    "    print('file error:'+str(err))\n",
    "except pickle.PickleError as perr:\n",
    "    print('Pickleing error:'+ste(perr))\n",
    "\n",
    "new_man=[]\n",
    "\n",
    "with open('man_data.txt','rb') as man_file:\n",
    "    new_man=pickle.load(man_file,encoding='utf-8')\n",
    "print_lol(new_man)"
   ]
  },
  {
   "cell_type": "markdown",
   "metadata": {},
   "source": [
    "### An Idle Session"
   ]
  },
  {
   "cell_type": "code",
   "execution_count": 23,
   "metadata": {},
   "outputs": [
    {
     "name": "stdout",
     "output_type": "stream",
     "text": [
      "['F:\\\\Github\\\\Python\\\\HeadFirstPython\\\\HeadFirstPython\\\\chapter04', 'D:\\\\ProgramFiles\\\\Anaconda3\\\\python37.zip', 'D:\\\\ProgramFiles\\\\Anaconda3\\\\DLLs', 'D:\\\\ProgramFiles\\\\Anaconda3\\\\lib', 'D:\\\\ProgramFiles\\\\Anaconda3', '', 'C:\\\\Users\\\\xiang\\\\AppData\\\\Roaming\\\\Python\\\\Python37\\\\site-packages', 'C:\\\\Users\\\\xiang\\\\AppData\\\\Roaming\\\\Python\\\\Python37\\\\site-packages\\\\win32', 'C:\\\\Users\\\\xiang\\\\AppData\\\\Roaming\\\\Python\\\\Python37\\\\site-packages\\\\win32\\\\lib', 'C:\\\\Users\\\\xiang\\\\AppData\\\\Roaming\\\\Python\\\\Python37\\\\site-packages\\\\Pythonwin', 'D:\\\\ProgramFiles\\\\Anaconda3\\\\lib\\\\site-packages', 'D:\\\\ProgramFiles\\\\Anaconda3\\\\lib\\\\site-packages\\\\win32', 'D:\\\\ProgramFiles\\\\Anaconda3\\\\lib\\\\site-packages\\\\win32\\\\lib', 'D:\\\\ProgramFiles\\\\Anaconda3\\\\lib\\\\site-packages\\\\Pythonwin', 'C:\\\\Users\\\\xiang\\\\AppData\\\\Roaming\\\\Python\\\\Python37\\\\site-packages\\\\IPython\\\\extensions', 'C:\\\\Users\\\\xiang\\\\.ipython', 'F:\\\\Github\\\\Python\\\\HeadFirstPython\\\\HeadFirstPython', 'F:\\\\Github\\\\Python\\\\HeadFirstPython\\\\HeadFirstPython']\n"
     ]
    }
   ],
   "source": [
    "import sys\n",
    "print(sys.path)"
   ]
  },
  {
   "cell_type": "code",
   "execution_count": 24,
   "metadata": {},
   "outputs": [
    {
     "name": "stdout",
     "output_type": "stream",
     "text": [
      "Package                            Version\n",
      "---------------------------------- -------------------\n",
      "aiohttp                            3.6.2\n",
      "aiomysql                           0.0.20\n",
      "alabaster                          0.7.12\n",
      "altair                             4.0.1\n",
      "anaconda-client                    1.7.2\n",
      "anaconda-navigator                 1.9.12\n",
      "anaconda-project                   0.8.3\n",
      "argh                               0.26.2\n",
      "argon2-cffi                        20.1.0\n",
      "asn1crypto                         1.4.0\n",
      "astroid                            2.4.1\n",
      "astropy                            4.0.1.post1\n",
      "async-timeout                      3.0.1\n",
      "atomicwrites                       1.4.0\n",
      "attrs                              19.3.0\n",
      "autopep8                           1.5.4\n",
      "Babel                              2.8.0\n",
      "backcall                           0.1.0\n",
      "backports.functools-lru-cache      1.6.1\n",
      "backports.shutil-get-terminal-size 1.0.0\n",
      "bcrypt                             3.2.0\n",
      "beautifulsoup4                     4.9.1\n",
      "bitarray                           1.5.2\n",
      "bkcharts                           0.2\n",
      "bleach                             3.1.5\n",
      "bokeh                              2.1.1\n",
      "boto                               2.49.0\n",
      "Bottleneck                         1.3.2\n",
      "brotlipy                           0.7.0\n",
      "certifi                            2020.6.20\n",
      "cffi                               1.14.2\n",
      "chardet                            3.0.4\n",
      "click                              7.1.2\n",
      "cloudpickle                        1.5.0\n",
      "clyent                             1.2.2\n",
      "colorama                           0.4.3\n",
      "comtypes                           1.1.7\n",
      "conda                              4.8.4\n",
      "conda-build                        3.18.12\n",
      "conda-package-handling             1.6.1\n",
      "contextlib2                        0.6.0.post1\n",
      "cryptography                       3.0\n",
      "cycler                             0.10.0\n",
      "Cython                             0.29.21\n",
      "cytoolz                            0.10.1\n",
      "dask                               2.23.0\n",
      "decorator                          4.4.2\n",
      "defusedxml                         0.6.0\n",
      "diff-match-patch                   20200713\n",
      "distributed                        2.24.0\n",
      "docutils                           0.16\n",
      "entrypoints                        0.3\n",
      "et-xmlfile                         1.0.1\n",
      "fastcache                          1.1.0\n",
      "filelock                           3.0.12\n",
      "flake8                             3.8.3\n",
      "Flask                              1.1.2\n",
      "fsspec                             0.8.0\n",
      "future                             0.18.2\n",
      "gevent                             20.6.2\n",
      "glob2                              0.7\n",
      "gmpy2                              2.1.0b1\n",
      "greenlet                           0.4.16\n",
      "h5py                               2.10.0\n",
      "HeapDict                           1.0.1\n",
      "html5lib                           1.1\n",
      "idna                               2.10\n",
      "imagecodecs                        2020.5.30\n",
      "imageio                            2.9.0\n",
      "imagesize                          1.2.0\n",
      "importlib-metadata                 1.5.0\n",
      "iniconfig                          1.0.1\n",
      "intervaltree                       3.0.2\n",
      "ipykernel                          5.2.0\n",
      "ipython                            7.13.0\n",
      "ipython-genutils                   0.2.0\n",
      "ipywidgets                         7.5.1\n",
      "isort                              4.3.21\n",
      "itsdangerous                       1.1.0\n",
      "jdcal                              1.4.1\n",
      "jedi                               0.16.0\n",
      "Jinja2                             2.11.1\n",
      "joblib                             0.16.0\n",
      "json5                              0.9.4\n",
      "jsonschema                         3.2.0\n",
      "jupyter-client                     6.1.2\n",
      "jupyter-console                    6.1.0\n",
      "jupyter-contrib-core               0.3.3\n",
      "jupyter-contrib-nbextensions       0.5.1\n",
      "jupyter-core                       4.6.3\n",
      "jupyter-highlight-selected-word    0.2.0\n",
      "jupyter-latex-envs                 1.4.6\n",
      "jupyter-nbextensions-configurator  0.4.1\n",
      "jupyterlab                         2.2.5\n",
      "jupyterlab-server                  1.2.0\n",
      "jupyterthemes                      0.20.0\n",
      "keyring                            21.3.0\n",
      "kiwisolver                         1.2.0\n",
      "lazy-object-proxy                  1.4.3\n",
      "lesscpy                            0.13.0\n",
      "libarchive-c                       2.9\n",
      "llvmlite                           0.34.0\n",
      "locket                             0.2.0\n",
      "lxml                               4.5.2\n",
      "MarkupSafe                         1.1.1\n",
      "matplotlib                         3.3.1\n",
      "mccabe                             0.6.1\n",
      "menuinst                           1.4.16\n",
      "mistune                            0.8.4\n",
      "mkl-fft                            1.1.0\n",
      "mkl-random                         1.1.0\n",
      "mkl-service                        2.3.0\n",
      "mock                               4.0.2\n",
      "more-itertools                     8.4.0\n",
      "mpmath                             1.1.0\n",
      "msgpack                            1.0.0\n",
      "multidict                          4.7.6\n",
      "multipledispatch                   0.6.0\n",
      "navigator-updater                  0.2.1\n",
      "nbconvert                          5.6.1\n",
      "nbformat                           5.0.7\n",
      "nester                             1.5.2\n",
      "nester-hou                         1.5.7\n",
      "nester-hou-siqin                   1.5.2\n",
      "networkx                           2.4\n",
      "nltk                               3.4.4\n",
      "nose                               1.3.7\n",
      "notebook                           6.1.3\n",
      "numba                              0.51.0\n",
      "numexpr                            2.7.1\n",
      "numpy                              1.18.1\n",
      "numpydoc                           1.1.0\n",
      "olefile                            0.46\n",
      "opencv-python                      4.0.0.21\n",
      "openpyxl                           3.0.5\n",
      "packaging                          20.4\n",
      "pandas                             1.0.1\n",
      "pandocfilters                      1.4.2\n",
      "paramiko                           2.7.1\n",
      "parso                              0.6.2\n",
      "partd                              1.1.0\n",
      "path                               15.0.0\n",
      "pathlib2                           2.3.5\n",
      "pathtools                          0.1.2\n",
      "patsy                              0.5.1\n",
      "pep8                               1.7.1\n",
      "pexpect                            4.8.0\n",
      "pickleshare                        0.7.5\n",
      "Pillow                             7.2.0\n",
      "pip                                20.2.2\n",
      "pkginfo                            1.5.0.1\n",
      "pluggy                             0.13.1\n",
      "ply                                3.11\n",
      "prettytable                        0.7.2\n",
      "prometheus-client                  0.8.0\n",
      "prompt-toolkit                     3.0.5\n",
      "psutil                             5.7.2\n",
      "py                                 1.9.0\n",
      "pycodestyle                        2.6.0\n",
      "pycosat                            0.6.3\n",
      "pycparser                          2.20\n",
      "pycrypto                           2.6.1\n",
      "pycurl                             7.43.0.5\n",
      "pydocstyle                         5.0.2\n",
      "pyecharts                          1.7.1\n",
      "pyflakes                           2.2.0\n",
      "Pygments                           2.6.1\n",
      "pylint                             2.5.2\n",
      "PyMySQL                            0.9.2\n",
      "PyNaCl                             1.3.0\n",
      "pyodbc                             4.0.30\n",
      "pyOpenSSL                          19.1.0\n",
      "pyparsing                          2.4.7\n",
      "PyQt5                              5.12.3\n",
      "PyQt5-sip                          4.19.18\n",
      "PyQtWebEngine                      5.12.1\n",
      "pyreadline                         2.1\n",
      "pyrsistent                         0.15.7\n",
      "PySocks                            1.7.1\n",
      "pytest                             6.0.1\n",
      "python-dateutil                    2.8.1\n",
      "python-jsonrpc-server              0.3.4\n",
      "python-language-server             0.34.1\n",
      "pytz                               2019.3\n",
      "PyWavelets                         1.1.1\n",
      "pywin32                            227\n",
      "pywin32-ctypes                     0.2.0\n",
      "pywinpty                           0.5.7\n",
      "PyYAML                             5.3.1\n",
      "pyzmq                              19.0.0\n",
      "QDarkStyle                         2.8.1\n",
      "QtAwesome                          0.7.2\n",
      "qtconsole                          4.7.6\n",
      "QtPy                               1.9.0\n",
      "readme-renderer                    26.0\n",
      "regex                              2020.7.14\n",
      "requests                           2.24.0\n",
      "requests-toolbelt                  0.9.1\n",
      "rfc3986                            1.4.0\n",
      "rope                               0.17.0\n",
      "Rtree                              0.9.4\n",
      "ruamel-yaml                        0.15.80\n",
      "scikit-image                       0.17.2\n",
      "scikit-learn                       0.23.2\n",
      "scipy                              1.5.2\n",
      "seaborn                            0.10.1\n",
      "Send2Trash                         1.5.0\n",
      "setuptools                         49.6.0.post20200814\n",
      "simplegeneric                      0.8.1\n",
      "simplejson                         3.17.0\n",
      "singledispatch                     3.4.0.3\n",
      "sip                                4.19.20\n",
      "six                                1.14.0\n",
      "snowballstemmer                    2.0.0\n",
      "sortedcollections                  1.2.1\n",
      "sortedcontainers                   2.2.2\n",
      "soupsieve                          2.0.1\n",
      "Sphinx                             3.2.1\n",
      "sphinxcontrib-applehelp            1.0.2\n",
      "sphinxcontrib-devhelp              1.0.2\n",
      "sphinxcontrib-htmlhelp             1.0.3\n",
      "sphinxcontrib-jsmath               1.0.1\n",
      "sphinxcontrib-qthelp               1.0.3\n",
      "sphinxcontrib-serializinghtml      1.1.4\n",
      "sphinxcontrib-websupport           1.2.4\n",
      "spyder                             4.1.4\n",
      "spyder-kernels                     1.9.3\n",
      "SQLAlchemy                         1.3.19\n",
      "statsmodels                        0.11.1\n",
      "sympy                              1.6.2\n",
      "tables                             3.6.1\n",
      "tblib                              1.6.0\n",
      "terminado                          0.8.3\n",
      "testpath                           0.4.4\n",
      "threadpoolctl                      2.1.0\n",
      "tifffile                           2020.8.13\n",
      "toml                               0.10.1\n",
      "toolz                              0.10.0\n",
      "tornado                            6.0.4\n",
      "tqdm                               4.48.2\n",
      "traitlets                          4.3.3\n",
      "twine                              3.2.0\n",
      "typed-ast                          1.4.1\n",
      "typing-extensions                  3.7.4.2\n",
      "ujson                              1.35\n",
      "unicodecsv                         0.14.1\n",
      "urllib3                            1.25.10\n",
      "watchdog                           0.10.3\n",
      "wcwidth                            0.1.9\n",
      "webencodings                       0.5.1\n",
      "Werkzeug                           1.0.1\n",
      "wheel                              0.35.1\n",
      "widgetsnbextension                 3.5.1\n",
      "win-inet-pton                      1.1.0\n",
      "win-unicode-console                0.5\n",
      "wincertstore                       0.2\n",
      "wrapt                              1.12.1\n",
      "xlrd                               1.2.0\n",
      "XlsxWriter                         1.3.3\n",
      "xlwings                            0.20.4\n",
      "xlwt                               1.3.0\n",
      "xmltodict                          0.12.0\n",
      "yapf                               0.30.0\n",
      "yarl                               1.5.1\n",
      "zict                               2.0.0\n",
      "zipp                               2.2.0\n",
      "zope.event                         4.4\n",
      "zope.interface                     5.1.0\n"
     ]
    }
   ],
   "source": [
    "!pip list"
   ]
  },
  {
   "cell_type": "code",
   "execution_count": null,
   "metadata": {},
   "outputs": [],
   "source": [
    "# !pip uninstall nester\n",
    "!pip uninstall nester_hou\n",
    "!pip uninstall nester-hou-siqin\n",
    "# !pip install nester_hou\n",
    "\n",
    "\n",
    "# nester                             1.5.2\n",
    "# nester-hou                         1.5.7\n",
    "# nester-hou-siqin                   1.5.2"
   ]
  },
  {
   "cell_type": "code",
   "execution_count": 1,
   "metadata": {},
   "outputs": [
    {
     "ename": "ModuleNotFoundError",
     "evalue": "No module named 'nester'",
     "output_type": "error",
     "traceback": [
      "\u001b[1;31m---------------------------------------------------------------------------\u001b[0m",
      "\u001b[1;31mModuleNotFoundError\u001b[0m                       Traceback (most recent call last)",
      "\u001b[1;32m<ipython-input-1-0800fb103f11>\u001b[0m in \u001b[0;36m<module>\u001b[1;34m\u001b[0m\n\u001b[0;32m     11\u001b[0m \u001b[1;31m# !pip install nester_hou\u001b[0m\u001b[1;33m\u001b[0m\u001b[1;33m\u001b[0m\u001b[1;33m\u001b[0m\u001b[0m\n\u001b[0;32m     12\u001b[0m \u001b[1;32mimport\u001b[0m \u001b[0mpickle\u001b[0m\u001b[1;33m\u001b[0m\u001b[1;33m\u001b[0m\u001b[0m\n\u001b[1;32m---> 13\u001b[1;33m \u001b[1;32mimport\u001b[0m \u001b[0mnester\u001b[0m\u001b[1;33m\u001b[0m\u001b[1;33m\u001b[0m\u001b[0m\n\u001b[0m\u001b[0;32m     14\u001b[0m \u001b[1;33m\u001b[0m\u001b[0m\n\u001b[0;32m     15\u001b[0m \u001b[0mnew_man\u001b[0m \u001b[1;33m=\u001b[0m \u001b[1;33m[\u001b[0m\u001b[1;33m]\u001b[0m\u001b[1;33m\u001b[0m\u001b[1;33m\u001b[0m\u001b[0m\n",
      "\u001b[1;31mModuleNotFoundError\u001b[0m: No module named 'nester'"
     ]
    }
   ],
   "source": [
    "#!/usr/bin/python\n",
    "# -*- coding: utf-8 -*-\n",
    "\n",
    "# import sys\n",
    "# sys.path\n",
    "\n",
    "# import os\n",
    "# if __name__ == '__main__':\n",
    "#     sys.path.append(os.path.dirname(sys.path[0]))\n",
    "\n",
    "# !pip install nester_hou\n",
    "import pickle\n",
    "import nester\n",
    "\n",
    "new_man = []\n",
    "# other = []\n",
    "\n",
    "try:\n",
    "    with open('man_data.txt','rb') as man_file:\n",
    "    #注意创建储存的文件是xxxx.pickle或xxx.txt格式都可以\n",
    "        new_man = pickle.load(man_file)\n",
    "except IOError as   err:\n",
    "    print('file error:'+str(err))\n",
    "except pickle.PickleError as perr:\n",
    "    print('Pickleing error:'+ste(perr))\n",
    "\n",
    "nester_hou.print_lol(new_man)\n",
    "\n",
    "print(new_man[0])\n",
    "\n",
    "print(new_man[-1])"
   ]
  },
  {
   "cell_type": "markdown",
   "metadata": {},
   "source": [
    "## 知识点回顾 \n",
    "\n",
    "1. strip()方法移除字符串首尾空白字符；\n",
    "2. print()内置函数中的file参数可以控制data是读入或是写出；\n",
    "3. 不管try/except语句中是否有异常发生，finally的代码段总是会被执行；\n",
    "4. 异常对象会传入到except代码段，并且可以使用as关键字将其赋值给一个标识符；\n",
    "5. str()内置函数可以用来访问任何数据对象的字符串表示，前提是该数据对象支持该转换；\n",
    "6. locals()内置函数返回当前作用范围内的变量集合；\n",
    "7. in操作符可用于测试成员包含关系；\n",
    "8. \"+\"操作符应用于两个字符串时会得到它们的串联结果，而应用于数字时会得到它们的相加和；\n",
    "9. with语句即使在异常发生的情况下，也会自动去关闭所有打开的文件。with语句同样可以使用as关键字；\n",
    "10. sys.stdout是Python中的标准输出，它位于标准库中的sys模块；\n",
    "11. 标准库pickle模块可以让轻松高效地保存Python数据对象到磁盘和从磁盘恢复Python数据对象；\n",
    "12. pickle.dump()函数将数据存盘；\n",
    "13. pickle.load()函数从磁盘恢复数据。\n",
    "\n"
   ]
  },
  {
   "cell_type": "code",
   "execution_count": 3,
   "metadata": {},
   "outputs": [
    {
     "name": "stdout",
     "output_type": "stream",
     "text": [
      "平均成绩是：95.125\n",
      "低于平均成绩的有：[91, 95, 92, 93]\n"
     ]
    }
   ],
   "source": [
    "import numpy as np\n",
    "scores1 = [91, 95, 97, 99, 92, 93, 96, 98]\n",
    "scores2 = []\n",
    "average = np.mean(scores1)\n",
    "print('平均成绩是：{}'.format(average))\n",
    "for score in scores1:\n",
    "    if score < average:\n",
    "        scores2.append(score)\n",
    " \n",
    " \n",
    "print('低于平均成绩的有：{}'.format(scores2))"
   ]
  }
 ],
 "metadata": {
  "kernelspec": {
   "display_name": "Python 3",
   "language": "python",
   "name": "python3"
  },
  "language_info": {
   "codemirror_mode": {
    "name": "ipython",
    "version": 3
   },
   "file_extension": ".py",
   "mimetype": "text/x-python",
   "name": "python",
   "nbconvert_exporter": "python",
   "pygments_lexer": "ipython3",
   "version": "3.7.8"
  },
  "toc": {
   "base_numbering": 1,
   "nav_menu": {},
   "number_sections": true,
   "sideBar": true,
   "skip_h1_title": false,
   "title_cell": "Table of Contents",
   "title_sidebar": "Contents",
   "toc_cell": true,
   "toc_position": {
    "height": "calc(100% - 180px)",
    "left": "10px",
    "top": "150px",
    "width": "288px"
   },
   "toc_section_display": true,
   "toc_window_display": true
  }
 },
 "nbformat": 4,
 "nbformat_minor": 4
}
