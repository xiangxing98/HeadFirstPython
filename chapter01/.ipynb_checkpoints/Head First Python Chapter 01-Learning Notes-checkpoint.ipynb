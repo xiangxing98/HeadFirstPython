{
 "cells": [
  {
   "cell_type": "markdown",
   "metadata": {
    "toc": true
   },
   "source": [
    "<h1>Table of Contents<span class=\"tocSkip\"></span></h1>\n",
    "<div class=\"toc\"><ul class=\"toc-item\"><li><span><a href=\"#第一章-初始Python：人人都爱列表(Lists)\" data-toc-modified-id=\"第一章-初始Python：人人都爱列表(Lists)-1\"><span class=\"toc-item-num\">1&nbsp;&nbsp;</span>第一章 初始Python：人人都爱列表(Lists)</a></span><ul class=\"toc-item\"><li><span><a href=\"#本章知识点\" data-toc-modified-id=\"本章知识点-1.1\"><span class=\"toc-item-num\">1.1&nbsp;&nbsp;</span>本章知识点</a></span><ul class=\"toc-item\"><li><span><a href=\"#Python-列表\" data-toc-modified-id=\"Python-列表-1.1.1\"><span class=\"toc-item-num\">1.1.1&nbsp;&nbsp;</span>Python 列表</a></span></li></ul></li><li><span><a href=\"#安装python\" data-toc-modified-id=\"安装python-1.2\"><span class=\"toc-item-num\">1.2&nbsp;&nbsp;</span>安装python</a></span><ul class=\"toc-item\"><li><span><a href=\"#查看Python版本\" data-toc-modified-id=\"查看Python版本-1.2.1\"><span class=\"toc-item-num\">1.2.1&nbsp;&nbsp;</span>查看Python版本</a></span></li></ul></li><li><span><a href=\"#人人都爱List\" data-toc-modified-id=\"人人都爱List-1.3\"><span class=\"toc-item-num\">1.3&nbsp;&nbsp;</span>人人都爱List</a></span><ul class=\"toc-item\"><li><span><a href=\"#列表就像数组\" data-toc-modified-id=\"列表就像数组-1.3.1\"><span class=\"toc-item-num\">1.3.1&nbsp;&nbsp;</span>列表就像数组</a></span></li><li><span><a href=\"#列表操作-列表长度，增加，删除\" data-toc-modified-id=\"列表操作-列表长度，增加，删除-1.3.2\"><span class=\"toc-item-num\">1.3.2&nbsp;&nbsp;</span>列表操作-列表长度，增加，删除</a></span></li><li><span><a href=\"#迭代处理列表数据\" data-toc-modified-id=\"迭代处理列表数据-1.3.3\"><span class=\"toc-item-num\">1.3.3&nbsp;&nbsp;</span>迭代处理列表数据</a></span></li><li><span><a href=\"#nest-list-嵌套列表\" data-toc-modified-id=\"nest-list-嵌套列表-1.3.4\"><span class=\"toc-item-num\">1.3.4&nbsp;&nbsp;</span>nest list-嵌套列表</a></span></li><li><span><a href=\"#在列表中查找列表\" data-toc-modified-id=\"在列表中查找列表-1.3.5\"><span class=\"toc-item-num\">1.3.5&nbsp;&nbsp;</span>在列表中查找列表</a></span></li><li><span><a href=\"#判断语句：\" data-toc-modified-id=\"判断语句：-1.3.6\"><span class=\"toc-item-num\">1.3.6&nbsp;&nbsp;</span>判断语句：</a></span></li></ul></li><li><span><a href=\"#重复的代码用函数代替\" data-toc-modified-id=\"重复的代码用函数代替-1.4\"><span class=\"toc-item-num\">1.4&nbsp;&nbsp;</span>重复的代码用函数代替</a></span></li><li><span><a href=\"#加餐-资源\" data-toc-modified-id=\"加餐-资源-1.5\"><span class=\"toc-item-num\">1.5&nbsp;&nbsp;</span>加餐-资源</a></span><ul class=\"toc-item\"><li><span><a href=\"#编程是做什么-?\" data-toc-modified-id=\"编程是做什么-?-1.5.1\"><span class=\"toc-item-num\">1.5.1&nbsp;&nbsp;</span>编程是做什么 ?</a></span></li><li><span><a href=\"#输入-是-一个-字符串,--输出是-倒序的-字符串.\" data-toc-modified-id=\"输入-是-一个-字符串,--输出是-倒序的-字符串.-1.5.2\"><span class=\"toc-item-num\">1.5.2&nbsp;&nbsp;</span>输入 是 一个 字符串,  输出是 倒序的 字符串.</a></span></li><li><span><a href=\"#编程的思想\" data-toc-modified-id=\"编程的思想-1.5.3\"><span class=\"toc-item-num\">1.5.3&nbsp;&nbsp;</span>编程的思想</a></span><ul class=\"toc-item\"><li><span><a href=\"#抽象\" data-toc-modified-id=\"抽象-1.5.3.1\"><span class=\"toc-item-num\">1.5.3.1&nbsp;&nbsp;</span>抽象</a></span></li><li><span><a href=\"#Exercise-1:-function\" data-toc-modified-id=\"Exercise-1:-function-1.5.3.2\"><span class=\"toc-item-num\">1.5.3.2&nbsp;&nbsp;</span>Exercise 1: function</a></span></li></ul></li><li><span><a href=\"#How-and-Why-it-works-?\" data-toc-modified-id=\"How-and-Why-it-works-?-1.5.4\"><span class=\"toc-item-num\">1.5.4&nbsp;&nbsp;</span>How and Why it works ?</a></span><ul class=\"toc-item\"><li><span><a href=\"#代码如何运行-?\" data-toc-modified-id=\"代码如何运行-?-1.5.4.1\"><span class=\"toc-item-num\">1.5.4.1&nbsp;&nbsp;</span>代码如何运行 ?</a></span></li></ul></li><li><span><a href=\"#思考:--Lisp-解释器是如何运行的?\" data-toc-modified-id=\"思考:--Lisp-解释器是如何运行的?-1.5.5\"><span class=\"toc-item-num\">1.5.5&nbsp;&nbsp;</span>思考:  Lisp 解释器是如何运行的?</a></span></li><li><span><a href=\"#参考\" data-toc-modified-id=\"参考-1.5.6\"><span class=\"toc-item-num\">1.5.6&nbsp;&nbsp;</span>参考</a></span></li></ul></li></ul></li></ul></div>"
   ]
  },
  {
   "cell_type": "markdown",
   "metadata": {},
   "source": [
    "# 第一章 初始Python：人人都爱列表(Lists)\n",
    "\n",
    "> 2020-08-25 22:09:33 Stone_Hou\n",
    "\n",
    "## 本章知识点\n",
    "\n",
    "1. 从命令行或者IDLE里都可以运行Python 3；\n",
    "2. 标识符是指代数据对象的名称，它本身并没有“类型”，但是它所指代的数据对象拥有类型；\n",
    "3. 内置函数print()可以在屏幕上显示消息；\n",
    "4. Python中的列表list是用中括号包住的以逗号分隔的数据集合；\n",
    "5. list和数组非常相似；\n",
    "6. list既可以使用内置函数，也可以使用针对列表本身的函数；\n",
    "7. list的大小按需自动伸缩。数据使用的所有内存都由Python管理；\n",
    "8. len()内置函数用来计算数据对象的长度或是某个集合（如list）内条目的数量；\n",
    "9. for循环可以帮助遍历list，它用起来通常比等价的while循环更方便；\n",
    "10. if...else...语句帮助在代码中做出不同的选择；\n",
    "11. isinstance()内置函数可用来检测标识符指代的数据对象是否为指定类型；\n",
    "12. 使用def定义自定义函数。\n"
   ]
  },
  {
   "cell_type": "markdown",
   "metadata": {},
   "source": [
    "### Python 列表"
   ]
  },
  {
   "cell_type": "code",
   "execution_count": null,
   "metadata": {},
   "outputs": [],
   "source": [
    "# python中的列表可以实现对各种数据的组织:\n",
    "movies=['The Holy Grail','The life of brain','The meaning of life',2017，['dog','cat','duck']]\n",
    "\n",
    "# 包括数字,字符串和列表，但数字和字符的组合只能包含在字符串之中。\n",
    "\n",
    "# 列表中数据项的调用：\n",
    "print(movies[1]) \n",
    "# 显示\"The life of brain\"\n",
    "\n",
    "# 下面列出一些关于list类列表的BIF：\n",
    "\n",
    "len(movies)\n",
    "# 输出列表中的数据项个数。\n",
    "\n",
    "movies.append('')\n",
    "# 在列表末尾添加单个数据项。\n",
    "\n",
    "movies.extend(['',''])\n",
    "# 在列表末尾增加一个数据项集合。\n",
    "\n",
    "movies.pop(n)\n",
    "# 在指定位置删除并返回这个数据项，注意这里是有返回项的。\n",
    "\n",
    "movies.remove('')\n",
    "# 移除某一个特定数据项。\n",
    "\n",
    "insert('')\n",
    "# 在特定位置增加一个数据项。\n",
    "\n",
    "isinstance(name,list)\n",
    "# 检查某个标识符（name）是否属于某种类型（例如list）。\n",
    "\n",
    "list()\n",
    "# 产生一个空列表的工厂函数。\n",
    "\n",
    "range()\n",
    "# 根据需要生成一个范围的数字，常用于循环次数\n",
    "\n",
    "int()\n",
    "# 将一个字符串或一个数字转换为整数"
   ]
  },
  {
   "cell_type": "markdown",
   "metadata": {},
   "source": [
    "## 安装python\n",
    "\n",
    "### 查看Python版本\n"
   ]
  },
  {
   "cell_type": "code",
   "execution_count": null,
   "metadata": {},
   "outputs": [],
   "source": [
    "! python - V\n",
    "# Python 3.7.8\n",
    "\n",
    "! where python\n",
    "# D: \\ProgramFiles\\Anaconda3\\python.exe\n",
    "# C: \\Users\\xiang\\AppData\\Local\\Microsoft\\WindowsApps\\python.exe\n",
    "\n",
    "# dir(__builtins__)\n",
    "# ['ArithmeticError',\n",
    "#  'AssertionError',\n",
    "#  'AttributeError',\n",
    "#  'BaseException',\n",
    "#  'BlockingIOError',\n",
    "#  'BrokenPipeError',\n",
    "#  'BufferError',\n",
    "#  'BytesWarning',\n",
    "#  'ChildProcessError',\n",
    "#  'ConnectionAbortedError',\n",
    "#  'ConnectionError',\n",
    "#  'ConnectionRefusedError',\n",
    "#  'ConnectionResetError',\n",
    "#  'DeprecationWarning',\n",
    "#  'EOFError',\n",
    "#  'Ellipsis',\n",
    "#  'EnvironmentError',\n",
    "#  'Exception',\n",
    "#  'False',\n",
    "#  'FileExistsError',\n",
    "#  'FileNotFoundError',\n",
    "#  'FloatingPointError',\n",
    "#  'FutureWarning',\n",
    "#  'GeneratorExit',\n",
    "#  'IOError',\n",
    "#  'ImportError',\n",
    "#  'ImportWarning',\n",
    "#  'IndentationError',\n",
    "#  'IndexError',\n",
    "#  'InterruptedError',\n",
    "#  'IsADirectoryError',\n",
    "#  'KeyError',\n",
    "#  'KeyboardInterrupt',\n",
    "#  'LookupError',\n",
    "#  'MemoryError',\n",
    "#  'ModuleNotFoundError',\n",
    "#  'NameError',\n",
    "#  'None',\n",
    "#  'NotADirectoryError',\n",
    "#  'NotImplemented',\n",
    "#  'NotImplementedError',\n",
    "#  'OSError',\n",
    "#  'OverflowError',\n",
    "#  'PendingDeprecationWarning',\n",
    "#  'PermissionError',\n",
    "#  'ProcessLookupError',\n",
    "#  'RecursionError',\n",
    "#  'ReferenceError',\n",
    "#  'ResourceWarning',\n",
    "#  'RuntimeError',\n",
    "#  'RuntimeWarning',\n",
    "#  'StopAsyncIteration',\n",
    "#  'StopIteration',\n",
    "#  'SyntaxError',\n",
    "#  'SyntaxWarning',\n",
    "#  'SystemError',\n",
    "#  'SystemExit',\n",
    "#  'TabError',\n",
    "#  'TimeoutError',\n",
    "#  'True',\n",
    "#  'TypeError',\n",
    "#  'UnboundLocalError',\n",
    "#  'UnicodeDecodeError',\n",
    "#  'UnicodeEncodeError',\n",
    "#  'UnicodeError',\n",
    "#  'UnicodeTranslateError',\n",
    "#  'UnicodeWarning',\n",
    "#  'UserWarning',\n",
    "#  'ValueError',\n",
    "#  'Warning',\n",
    "#  'WindowsError',\n",
    "#  'ZeroDivisionError',\n",
    "#  '__IPYTHON__',\n",
    "#  '__build_class__',\n",
    "#  '__debug__',\n",
    "#  '__doc__',\n",
    "#  '__import__',\n",
    "#  '__loader__',\n",
    "#  '__name__',\n",
    "#  '__package__',\n",
    "#  '__spec__',\n",
    "#  'abs',\n",
    "#  'all',\n",
    "#  'any',\n",
    "#  'ascii',\n",
    "#  'bin',\n",
    "#  'bool',\n",
    "#  'breakpoint',\n",
    "#  'bytearray',\n",
    "#  'bytes',\n",
    "#  'callable',\n",
    "#  'chr',\n",
    "#  'classmethod',\n",
    "#  'compile',\n",
    "#  'complex',\n",
    "#  'copyright',\n",
    "#  'credits',\n",
    "#  'delattr',\n",
    "#  'dict',\n",
    "#  'dir',\n",
    "#  'display',\n",
    "#  'divmod',\n",
    "#  'enumerate',\n",
    "#  'eval',\n",
    "#  'exec',\n",
    "#  'filter',\n",
    "#  'float',\n",
    "#  'format',\n",
    "#  'frozenset',\n",
    "#  'get_ipython',\n",
    "#  'getattr',\n",
    "#  'globals',\n",
    "#  'hasattr',\n",
    "#  'hash',\n",
    "#  'help',\n",
    "#  'hex',\n",
    "#  'id',\n",
    "#  'input',\n",
    "#  'int',\n",
    "#  'isinstance',\n",
    "#  'issubclass',\n",
    "#  'iter',\n",
    "#  'len',\n",
    "#  'license',\n",
    "#  'list',\n",
    "#  'locals',\n",
    "#  'map',\n",
    "#  'max',\n",
    "#  'memoryview',\n",
    "#  'min',\n",
    "#  'next',\n",
    "#  'object',\n",
    "#  'oct',\n",
    "#  'open',\n",
    "#  'ord',\n",
    "#  'pow',\n",
    "#  'print',\n",
    "#  'property',\n",
    "#  'range',\n",
    "#  'repr',\n",
    "#  'reversed',\n",
    "#  'round',\n",
    "#  'set',\n",
    "#  'setattr',\n",
    "#  'slice',\n",
    "#  'sorted',\n",
    "#  'staticmethod',\n",
    "#  'str',\n",
    "#  'sum',\n",
    "#  'super',\n",
    "#  'tuple',\n",
    "#  'type',\n",
    "#  'vars',\n",
    "#  'zip']"
   ]
  },
  {
   "cell_type": "markdown",
   "metadata": {},
   "source": [
    "## 人人都爱List"
   ]
  },
  {
   "cell_type": "markdown",
   "metadata": {},
   "source": []
  },
  {
   "cell_type": "code",
   "execution_count": 2,
   "metadata": {},
   "outputs": [],
   "source": [
    "# Create Simple List\n",
    "movies = [\"The Holy Grail\",\n",
    "          \"The Life of Brian\",\n",
    "          \"The Meaning of Life\"]"
   ]
  },
  {
   "cell_type": "code",
   "execution_count": 3,
   "metadata": {
    "scrolled": true
   },
   "outputs": [
    {
     "name": "stdout",
     "output_type": "stream",
     "text": [
      "The Life of Brian\n"
     ]
    }
   ],
   "source": [
    "print(movies[1])\n",
    "# The Life of Brian"
   ]
  },
  {
   "cell_type": "markdown",
   "metadata": {},
   "source": [
    "### 列表就像数组"
   ]
  },
  {
   "cell_type": "code",
   "execution_count": 8,
   "metadata": {},
   "outputs": [
    {
     "name": "stdout",
     "output_type": "stream",
     "text": [
      "['The Holy Grail', 'The Life of Brian', 'The Meaning of Life']\n",
      "3\n"
     ]
    }
   ],
   "source": [
    "print(movies)\n",
    "# ['The Holy Grail', 'The Life of Brian', 'The Meaning of Life']\n",
    "\n",
    "print(len(movies))\n",
    "# 3"
   ]
  },
  {
   "cell_type": "markdown",
   "metadata": {},
   "source": [
    "### 列表操作-列表长度，增加，删除"
   ]
  },
  {
   "cell_type": "code",
   "execution_count": 29,
   "metadata": {},
   "outputs": [
    {
     "name": "stdout",
     "output_type": "stream",
     "text": [
      "['The Holy Grail', 'The Life of Brian', 'The Meaning of Life', '4th movie']\n",
      "['The Holy Grail', 'The Life of Brian', 'The Meaning of Life']\n"
     ]
    },
    {
     "data": {
      "text/plain": [
       "['4th again', '5th movie']"
      ]
     },
     "execution_count": 29,
     "metadata": {},
     "output_type": "execute_result"
    }
   ],
   "source": [
    "# Create Simple List\n",
    "movies = [\"The Holy Grail\",\n",
    "          \"The Life of Brian\",\n",
    "          \"The Meaning of Life\"]\n",
    "\n",
    "movies.append(\"4th movie\")\n",
    "\n",
    "print(movies)\n",
    "# ['The Holy Grail', 'The Life of Brian', 'The Meaning of Life', '4th movie']\n",
    "\n",
    "movies.pop()\n",
    "# '4th movie'\n",
    "\n",
    "print(movies)\n",
    "# ['The Holy Grail', 'The Life of Brian', 'The Meaning of Life']\n",
    "\n",
    "movies.append([\"4th again\", \"5th movie\"])\n",
    "movies\n",
    "# ['The Holy Grail',\n",
    "#  'The Life of Brian',\n",
    "#  'The Meaning of Life',\n",
    "#  ['4th again', '5th movie']]\n",
    "\n",
    "movies.pop()\n",
    "# ['4th again', '5th movie']"
   ]
  },
  {
   "cell_type": "code",
   "execution_count": 30,
   "metadata": {},
   "outputs": [
    {
     "data": {
      "text/plain": [
       "'The Meaning of Life'"
      ]
     },
     "execution_count": 30,
     "metadata": {},
     "output_type": "execute_result"
    }
   ],
   "source": [
    "movies.pop()"
   ]
  },
  {
   "cell_type": "code",
   "execution_count": 39,
   "metadata": {},
   "outputs": [
    {
     "data": {
      "text/plain": [
       "['The Holy Grail', 'The Life of Brian', 'The Meaning of Life']"
      ]
     },
     "execution_count": 39,
     "metadata": {},
     "output_type": "execute_result"
    }
   ],
   "source": [
    "movies"
   ]
  },
  {
   "cell_type": "code",
   "execution_count": 40,
   "metadata": {},
   "outputs": [
    {
     "data": {
      "text/plain": [
       "['The Holy Grail',\n",
       " 'The Life of Brian',\n",
       " 'The Meaning of Life',\n",
       " '4th again',\n",
       " '5th movie']"
      ]
     },
     "execution_count": 40,
     "metadata": {},
     "output_type": "execute_result"
    }
   ],
   "source": [
    "movies.extend([\"4th again\", \"5th movie\"])\n",
    "movies"
   ]
  },
  {
   "cell_type": "code",
   "execution_count": 41,
   "metadata": {},
   "outputs": [
    {
     "data": {
      "text/plain": [
       "['The Life of Brian', 'The Meaning of Life', '4th again', '5th movie']"
      ]
     },
     "execution_count": 41,
     "metadata": {},
     "output_type": "execute_result"
    }
   ],
   "source": [
    "movies.remove(\"The Holy Grail\")\n",
    "movies"
   ]
  },
  {
   "cell_type": "code",
   "execution_count": 43,
   "metadata": {},
   "outputs": [
    {
     "data": {
      "text/plain": [
       "['The Life of Brian',\n",
       " 'insertMovie',\n",
       " 'insertMovie',\n",
       " 'The Meaning of Life',\n",
       " '4th again',\n",
       " '5th movie']"
      ]
     },
     "execution_count": 43,
     "metadata": {},
     "output_type": "execute_result"
    }
   ],
   "source": [
    "movies.insert(1, \"insertMovie\")\n",
    "movies"
   ]
  },
  {
   "cell_type": "markdown",
   "metadata": {},
   "source": [
    "### 迭代处理列表数据"
   ]
  },
  {
   "cell_type": "code",
   "execution_count": 11,
   "metadata": {},
   "outputs": [
    {
     "name": "stdout",
     "output_type": "stream",
     "text": [
      "The Holy Grail\n",
      "1975\n",
      "Terry Jones&Terry Gilliam\n",
      "91\n",
      "['Graham Chapman', ['Michael Palin', 'John Cleese', 'Terry Gilliam', 'Eric Idle', 'Terry Jones']]\n"
     ]
    }
   ],
   "source": [
    "# for loop\n",
    "for item in movies:\n",
    "    print(item)\n",
    "    \n",
    "# 迭代语句：：\n",
    "for each_file in movies:\n",
    "    print(each_file)         \n",
    "# 其中 each_file 是我们自己为列表中的数据项定义的名字。\n",
    "\n",
    "count = 0\n",
    "while count < len(movies）：\n",
    "    print(movies[1])\n",
    "    count = count + 1\n",
    "# 这里建议只要是能用for语句尽量用for语句。"
   ]
  },
  {
   "cell_type": "code",
   "execution_count": 46,
   "metadata": {},
   "outputs": [
    {
     "name": "stdout",
     "output_type": "stream",
     "text": [
      "The Life of Brian\n",
      "insertMovie\n",
      "insertMovie\n",
      "The Meaning of Life\n",
      "4th again\n",
      "5th movie\n"
     ]
    }
   ],
   "source": [
    "# while loop\n",
    "count = 0\n",
    "while count < len(movies):\n",
    "    print(movies[count])\n",
    "    count += 1\n",
    "\n",
    "# The Life of Brian\n",
    "# insertMovie\n",
    "# insertMovie\n",
    "# The Meaning of Life\n",
    "# 4th again\n",
    "# 5th movie"
   ]
  },
  {
   "cell_type": "markdown",
   "metadata": {},
   "source": [
    "### nest list-嵌套列表"
   ]
  },
  {
   "cell_type": "code",
   "execution_count": 10,
   "metadata": {},
   "outputs": [
    {
     "name": "stdout",
     "output_type": "stream",
     "text": [
      "Eric Idle\n",
      "-----------------new line-----------------\n",
      "Eric Idle\n",
      "['The Holy Grail', 1975, 'Terry Jones&Terry Gilliam', 91, ['Graham Chapman', ['Michael Palin', 'John Cleese', 'Terry Gilliam', 'Eric Idle', 'Terry Jones']]]\n",
      "The Holy Grail\n",
      "1975\n",
      "Terry Jones&Terry Gilliam\n",
      "91\n",
      "['Graham Chapman', ['Michael Palin', 'John Cleese', 'Terry Gilliam', 'Eric Idle', 'Terry Jones']]\n"
     ]
    }
   ],
   "source": [
    "movies = [\"The Holy Grail\", 1975, \"Terry Jones & Terry Gilliam\", 91,\n",
    "          [\"Graham Chapman\", [\"Michael Palin\", \"John Cleese\", \"Terry Gilliam\", \"Eric Idle\", \"T\"]]]\n",
    "print(movies[4][1][3])\n",
    "# 'Eric Idle'\n",
    "\n",
    "# List in List\n",
    "print(\"-----------------new line-----------------\")\n",
    "movies = [\n",
    "    'The Holy Grail', 1975, 'Terry Jones&Terry Gilliam', 91,\n",
    "    [\n",
    "        'Graham Chapman',\n",
    "        [\n",
    "            'Michael Palin', 'John Cleese', 'Terry Gilliam', 'Eric Idle',\n",
    "            'Terry Jones'\n",
    "        ]\n",
    "    ]\n",
    "]\n",
    "\n",
    "print(movies[4][1][3])  # shows Eric Idle\n",
    "# Eric Idle\n",
    "\n",
    "# Page 19\n",
    "print(movies)\n",
    "# ['The Holy Grail', 1975, 'Terry Jones&Terry Gilliam', 91,\n",
    "# ['Graham Chapman',\n",
    "# ['Michael Palin', 'John Cleese', 'Terry Gilliam', 'Eric Idle', 'Terry Jones']]]\n",
    "\n",
    "# 这里只能打印第一层的列表\n",
    "for each_item in movies:\n",
    "    print(each_item)\n",
    "\n",
    "# The Holy Grail\n",
    "# 1975\n",
    "# Terry Jones & Terry Gilliam\n",
    "# 91\n",
    "# ['Graham Chapman', ['Michael Palin', 'John Cleese', 'Terry Gilliam', 'Eric Idle', 'T']]"
   ]
  },
  {
   "cell_type": "markdown",
   "metadata": {},
   "source": [
    "### 在列表中查找列表"
   ]
  },
  {
   "cell_type": "code",
   "execution_count": 9,
   "metadata": {},
   "outputs": [
    {
     "name": "stdout",
     "output_type": "stream",
     "text": [
      "-----------------isinstance()-----------------\n",
      "['The Holy Grail', 1975, 'Terry Jones&Terry Gilliam', 91, ['Graham Chapman', ['Michael Palin', 'John Cleese', 'Terry Gilliam', 'Eric Idle', 'Terry Jones']]]\n",
      "True\n",
      "True\n"
     ]
    }
   ],
   "source": [
    "# if element is list, handle and do something\n",
    "# else print out directly\n",
    "# print list in list\n",
    "print(\"-----------------isinstance()-----------------\")\n",
    "movies = [\n",
    "    'The Holy Grail', 1975, 'Terry Jones&Terry Gilliam', 91,\n",
    "    [\n",
    "        'Graham Chapman',\n",
    "        [\n",
    "            'Michael Palin', 'John Cleese', 'Terry Gilliam', 'Eric Idle',\n",
    "            'Terry Jones'\n",
    "        ]\n",
    "    ]\n",
    "]\n",
    "\n",
    "print(movies)\n",
    "# ['The Holy Grail', 1975, 'Terry Jones & Terry Gilliam', 91, ['Graham Chapman', ['Michael Palin', 'John Cleese', 'Terry Gilliam', 'Eric Idle', 'T']]]\n",
    "isinstance(movies, list)\n",
    "\n",
    "# Build In Function isinstance\n",
    "print(isinstance(movies, list))\n",
    "# True\n",
    "\n",
    "print(isinstance(movies[4], list))\n",
    "# True"
   ]
  },
  {
   "cell_type": "code",
   "execution_count": 8,
   "metadata": {},
   "outputs": [
    {
     "name": "stdout",
     "output_type": "stream",
     "text": [
      "-----------------isinstance()-----------------\n",
      "The Holy Grail\n",
      "1975\n",
      "Terry Jones&Terry Gilliam\n",
      "91\n",
      "Graham Chapman\n",
      "['Michael Palin', 'John Cleese', 'Terry Gilliam', 'Eric Idle', 'Terry Jones']\n",
      "-----------------new line-----------------\n"
     ]
    }
   ],
   "source": [
    "# Page 23\n",
    "# print 2nd level instance\n",
    "movies = [\n",
    "    'The Holy Grail', 1975, 'Terry Jones&Terry Gilliam', 91,\n",
    "    [\n",
    "        'Graham Chapman',\n",
    "        [\n",
    "            'Michael Palin', 'John Cleese', 'Terry Gilliam', 'Eric Idle',\n",
    "            'Terry Jones'\n",
    "        ]\n",
    "    ]\n",
    "]\n",
    "print(\"-----------------isinstance()-----------------\")\n",
    "for each_item in movies:\n",
    "    if isinstance(each_item, list):\n",
    "        for each_subitem in each_item:  # 添加语句后可以打印到第二层\n",
    "            print(each_subitem)\n",
    "    else:\n",
    "        print(each_item)\n",
    "print(\"-----------------new line-----------------\")\n",
    "# -----------------isinstance()-----------------\n",
    "# The Holy Grail\n",
    "# 1975\n",
    "# Terry Jones&Terry Gilliam\n",
    "# 91\n",
    "# Graham Chapman\n",
    "# ['Michael Palin', 'John Cleese', 'Terry Gilliam', 'Eric Idle', 'Terry Jones']\n",
    "# -----------------new line-----------------"
   ]
  },
  {
   "cell_type": "code",
   "execution_count": 6,
   "metadata": {
    "scrolled": false
   },
   "outputs": [
    {
     "name": "stdout",
     "output_type": "stream",
     "text": [
      "-----------------new line-----------------\n",
      "The Holy Grail\n",
      "1975\n",
      "Terry Jones&Terry Gilliam\n",
      "91\n",
      "Graham Chapman\n",
      "Michael Palin\n",
      "John Cleese\n",
      "Terry Gilliam\n",
      "Eric Idle\n",
      "Terry Jones\n",
      "-----------------new line-----------------\n",
      "-----------------new line-----------------\n",
      "The Holy Grail\n",
      "1975\n",
      "Terry Jones&Terry Gilliam\n",
      "91\n",
      "Graham Chapman\n",
      "Michael Palin\n",
      "John Cleese\n",
      "Terry Gilliam\n",
      "Eric Idle\n",
      "Terry Jones\n",
      "-----------------new line-----------------\n"
     ]
    }
   ],
   "source": [
    "# print 3rd level instance\n",
    "movies = [\n",
    "    'The Holy Grail', 1975, 'Terry Jones&Terry Gilliam', 91,\n",
    "    [\n",
    "        'Graham Chapman',\n",
    "        [\n",
    "            'Michael Palin', 'John Cleese', 'Terry Gilliam', 'Eric Idle',\n",
    "            'Terry Jones'\n",
    "        ]\n",
    "    ]\n",
    "]\n",
    "\n",
    "# Page 25\n",
    "print(\"-----------------new line-----------------\")\n",
    "for each_item in movies:\n",
    "    if isinstance(each_item, list):\n",
    "        for nested_item in each_item:\n",
    "            if isinstance(nested_item, list):\n",
    "                for deeper_item in nested_item:\n",
    "                    print(deeper_item)\n",
    "            else:\n",
    "                print(nested_item)\n",
    "    else:\n",
    "        print(each_item)\n",
    "print(\"-----------------new line-----------------\")\n",
    "\n",
    "\n",
    "print(\"-----------------new line-----------------\")\n",
    "for each_item in movies:\n",
    "    if isinstance(each_item, list):\n",
    "        for each_subitem in each_item:\n",
    "            if isinstance(each_subitem, list):  # 继续添加语句可以打印到第三层\n",
    "                for each_ssubitem in each_subitem:\n",
    "                    print(each_ssubitem)\n",
    "            else:\n",
    "                print(each_subitem)\n",
    "    else:\n",
    "        print(each_item)\n",
    "print(\"-----------------new line-----------------\")\n",
    "\n",
    "\n",
    "# -----------------new line-----------------\n",
    "# The Holy Grail\n",
    "# 1975\n",
    "# Terry Jones&Terry Gilliam\n",
    "# 91\n",
    "# Graham Chapman\n",
    "# Michael Palin\n",
    "# John Cleese\n",
    "# Terry Gilliam\n",
    "# Eric Idle\n",
    "# Terry Jones\n",
    "# -----------------new line-----------------"
   ]
  },
  {
   "cell_type": "markdown",
   "metadata": {},
   "source": [
    "### 判断语句："
   ]
  },
  {
   "cell_type": "code",
   "execution_count": 5,
   "metadata": {},
   "outputs": [
    {
     "name": "stdout",
     "output_type": "stream",
     "text": [
      "The Holy Grail\n",
      "1975\n",
      "Terry Jones&Terry Gilliam\n",
      "91\n",
      "Graham Chapman\n",
      "Michael Palin\n",
      "John Cleese\n",
      "Terry Gilliam\n",
      "Eric Idle\n",
      "Terry Jones\n"
     ]
    }
   ],
   "source": [
    "if isinstance(each_item,list):\n",
    "    print(each_item)\n",
    "else:\n",
    "   print('none')   \n",
    "# 这里与c语言并无明显区别，多重判断加入elif。\n",
    "\n",
    "# page28\n",
    "for each_item in movies:\n",
    "    if isinstance(each_item, list):\n",
    "        for nested_item in each_item:\n",
    "            if isinstance(nested_item, list):\n",
    "                for deeper_item in nested_item:\n",
    "                    if isinstance(deeper_item, list):\n",
    "                        for deepest_item in deeper_item:\n",
    "                            print(deepest_item)\n",
    "                    else:\n",
    "                        print(deeper_item)\n",
    "            else:\n",
    "                print(nested_item)\n",
    "    else:\n",
    "        print(each_item)\n",
    "\n",
    "# The Holy Grail\n",
    "# 1975\n",
    "# Terry Jones&Terry Gilliam\n",
    "# 91\n",
    "# Graham Chapman\n",
    "# Michael Palin\n",
    "# John Cleese\n",
    "# Terry Gilliam\n",
    "# Eric Idle\n",
    "# Terry Jones"
   ]
  },
  {
   "cell_type": "markdown",
   "metadata": {},
   "source": [
    "## 重复的代码用函数代替"
   ]
  },
  {
   "cell_type": "code",
   "execution_count": 1,
   "metadata": {},
   "outputs": [
    {
     "name": "stdout",
     "output_type": "stream",
     "text": [
      "The Holy Grail\n",
      "1975\n",
      "Terry Jones & Terry Gilliam\n",
      "91\n",
      "Graham Chapman\n",
      "Michael Palin\n",
      "John Cleese\n",
      "Terry Gilliam\n",
      "Eric Idle\n",
      "Terry Jones\n",
      "-----------------Function Start-----------------\n",
      "The Holy Grail\n",
      "1975\n",
      "Terry Jones&Terry Gilliam\n",
      "91\n",
      "-----------------Function Start-----------------\n",
      "Graham Chapman\n",
      "-----------------Function Start-----------------\n",
      "Michael Palin\n",
      "John Cleese\n",
      "Terry Gilliam\n",
      "Eric Idle\n",
      "Terry Jones\n",
      "-----------------new line End-----------------\n"
     ]
    }
   ],
   "source": [
    "movies = [\"The Holy Grail\", 1975, \"Terry Jones & Terry Gilliam\", 91,\n",
    "          [\"Graham Chapman\", [\"Michael Palin\", \"John Cleese\",\n",
    "                              \"Terry Gilliam\", \"Eric Idle\", \"Terry Jones\"]]]\n",
    "\n",
    "\n",
    "def print_lol(a_list):\n",
    "    for each_item in a_list:\n",
    "        if isinstance(each_item, list):\n",
    "            print_lol(each_item)\n",
    "        else:\n",
    "            print(each_item)\n",
    "\n",
    "\n",
    "print_lol(movies)\n",
    "\n",
    "\n",
    "# 重复的代码用函数代替,Page30\n",
    "def print_lol(the_list):\n",
    "    print(\"-----------------Function Start-----------------\")\n",
    "    for each_item in the_list:\n",
    "        if (isinstance(each_item, list)):\n",
    "            print_lol(each_item)  # 这个递归函数真不赖\n",
    "        else:\n",
    "            print(each_item)\n",
    "\n",
    "\n",
    "movies = [\n",
    "    'The Holy Grail', 1975, 'Terry Jones&Terry Gilliam', 91,\n",
    "    [\n",
    "        'Graham Chapman',\n",
    "        [\n",
    "            'Michael Palin', 'John Cleese', 'Terry Gilliam', 'Eric Idle',\n",
    "            'Terry Jones'\n",
    "        ]\n",
    "    ]\n",
    "]\n",
    "\n",
    "print_lol(movies)\n",
    "print(\"-----------------new line End-----------------\")\n",
    "# -----------------Function Start-----------------\n",
    "# The Holy Grail\n",
    "# 1975\n",
    "# Terry Jones&Terry Gilliam\n",
    "# 91\n",
    "# -----------------Function Start-----------------\n",
    "# Graham Chapman\n",
    "# -----------------Function Start-----------------\n",
    "# Michael Palin\n",
    "# John Cleese\n",
    "# Terry Gilliam\n",
    "# Eric Idle\n",
    "# Terry Jones\n",
    "# -----------------new line End-----------------"
   ]
  },
  {
   "cell_type": "markdown",
   "metadata": {},
   "source": [
    "## 加餐-资源\n",
    "\n",
    "[Things all about data](https://drive.google.com/file/d/1pshagy7b3KxYSfqa8WfiOn0iQ_wLovLV/view?usp=sharing)\n",
    "\n",
    "### 编程是做什么 ? \n",
    "\n",
    "编程，也就是一种创造的过程. 正如牛吃的是草，拉出来的是屎一样这么一个过程。\n",
    "\n",
    "在这里输入的是草，产出的是屎。\n",
    "\n",
    "所以， 一个过程，或者说是一个函数，会接受一个东西，然后吐出一个什么东西。\n",
    "\n",
    "那么，编程就是制造一个盒子，这个盒子有输入，有输出。\n",
    "\n",
    "制造一个iPhone，输入是手指的触摸，输出的是各种界面或声音。\n",
    "\n",
    "So，当我们定义一个函数时，\n",
    " \n",
    "```\n",
    "function (input ){\n",
    "do something;\n",
    "return output;\n",
    "}\n",
    "```\n",
    "\n",
    "每个函数都屏蔽了一些怎么做到的细节，这就是抽象。\n",
    "\n",
    "如果不出错，那么抽象永远不会泄漏。\n",
    "\n",
    "但如果出错，那么抽象泄漏，我们不得不与险恶的细节作斗争。\n",
    "\n",
    "互联网的应用，产生了多少这样必须用程序员的血汗喂养的机器，就是为了修复无穷无尽的bug出现时导致的抽象泄漏。\n",
    "\n",
    "\n",
    "\n",
    "```\n",
    "# Reference:\n",
    "https://www.cnblogs.com/xingchuxin/p/10433444.html\n",
    "\n",
    "# Running Code:\n",
    "cd /f/Github/xiangxing98.github.io/Python_Learning\n",
    "python 01-list-movie.py\n",
    "\n",
    "# Output:\n",
    "\n",
    "```\n"
   ]
  },
  {
   "cell_type": "markdown",
   "metadata": {},
   "source": [
    "### 输入 是 一个 字符串,  输出是 倒序的 字符串."
   ]
  },
  {
   "cell_type": "code",
   "execution_count": 1,
   "metadata": {
    "scrolled": true
   },
   "outputs": [
    {
     "name": "stdout",
     "output_type": "stream",
     "text": [
      " EGOAT M'I\n"
     ]
    }
   ],
   "source": [
    "#  输入 是 一个 字符串,  输出是 倒序的 字符串.\n",
    "def simpleIO(input):\n",
    "    return str(input)[::-1]\n",
    "\n",
    "\n",
    "print(simpleIO(\"I'M TAOGE \"))"
   ]
  },
  {
   "cell_type": "markdown",
   "metadata": {},
   "source": [
    "### 编程的思想 \n",
    "\n",
    "Huh, 你把编程说得这么简单. 似乎有点不合常理啊 :-) \n",
    "\n",
    "要是这么简单的话, 那应该人人都能学得会编程. 但就我听说的话, 编程似乎是件很难的事(我读书少, 你可别骗我. )...\n",
    "\n",
    "So... 对大部分新手而言, 编程最难的地方在于一开始搭建开发环境, 安装各种编译软件 以及枯燥的作业 :-) \n",
    "\n",
    "事实上, 编程是一种强有力的工具, 在于连接万物.  Think about it, 人的各种感觉, 各种思想, 不都是接受一个个的输入, 然后产生的吗. \n",
    "大脑的神经, 就是一个个的神经突触, 信号在之间传递, 从而我们能看到, 能听到, 能吃到, 能感觉到这世界, 是真正的存在着的. \n",
    "你可以怀疑万物, 但你不能怀疑你自己的存在 :-)\n",
    "\n",
    "Um... 复杂产生于简单, 一个东西的基本要素如果不够简单, 那么,它便缺乏灵活性, 构造复杂系统的灵活性. \n",
    "\n",
    ":-)  , 我就是这样的喜欢说个没完....\n",
    "\n",
    "Ooook, 切入正题..\n",
    "\n",
    "如何从简单的输入输出(IO) 的函数, 构建出庞大的软件呢? \n",
    "\n",
    "Of Course, 这就是抽象了.\n",
    "\n",
    "#### 抽象 \n",
    "\n",
    "抽象是什么, 事实上, 我不能抽象的跟你说抽象是什么 :-)  \n",
    "\n",
    "俺还是举个例子..\n",
    "\n",
    "举个例子:\n",
    "\n",
    "对一个列表如 L = [1,2,3,4,5] , 现在要对其求和.\n",
    "\n",
    "\n",
    "Maybe 你 会这么写:\n",
    "\n",
    "\n",
    "\n",
    "```{python}\n",
    "def sum(L):\n",
    "  sum = 0\n",
    "  for item in L:\n",
    "    sum = sum + item\n",
    "  return sum\n",
    "  \n",
    "```\n",
    "\n",
    "It works and it's fine :-)  \n",
    "\n",
    "现在要求出 对 这个列表的数的平方进行求和.\n",
    "\n",
    "So, You may write this way:\n",
    "\n",
    "```\n",
    "def sum_of_squares(L):\n",
    "  sum = 0\n",
    "  for item in L:\n",
    "    sum = sum + item*item\n",
    "  return sum\n",
    "\n",
    "```\n",
    "\n",
    "Congratulations, It still works :-) \n",
    "\n",
    "然而...如果有人说需要每个数除以 10 或者开平方根 或者求对数后再求和呢..\n",
    "\n",
    "等等.. 我好像明白了什么..\n",
    "\n",
    "编程本质上就是对数据进行操作, 对不同类型的数据进行操作, 然后在不同的层面进行定义函数, 然后一层一层的往上构建, 我看见金字塔如春笋般冒出.\n",
    "\n",
    "我既看到石头又看到金字塔.. \n",
    "\n",
    "Yeah..灵光一闪 ..\n",
    "\n",
    "```\n",
    "\n",
    "def square(x):\n",
    "  return x*x\n",
    "  \n",
    " \n",
    "def sum(a_list):\n",
    "  s = 0\n",
    "  for item in a_list:\n",
    "    s = s + item\n",
    "   \n",
    "  return s\n",
    "    \n",
    "\n",
    "def sum_of_sqare(a_list):\n",
    "  new_list = map(square, a_list)  \n",
    "  return sum(new_list)\n",
    "  \n",
    "```\n",
    "\n",
    "如果能想到, 对列表的数的平方求和, 进行分层抽象的话, 可以发现, `求和` 这个函数是对 `一个列表` 输入的. `平方` 是以一个 `数` 为输入的. \n",
    "想清楚这个很重要. 如果能对问题进行合理的分层. 那么, 则可以掌握构建大型软件的方法. \n",
    "\n",
    "现在举个例子..你应该知道如何写出对一个列表的平方根求和了吧 :-) "
   ]
  },
  {
   "cell_type": "markdown",
   "metadata": {},
   "source": [
    "#### Exercise 1: function \n",
    "\n",
    "1.  定义一个函数, 输入是一个列表. 求出这个列表所有数的和.\n",
    "\n",
    "2.  定义一个函数, 输入是一个列表. 求出这个列表所有数的平方的和.\n",
    "\n",
    "3.  定义一个函数, 输入是一个列表. 求出这个列表所有数的根的积"
   ]
  },
  {
   "cell_type": "code",
   "execution_count": 3,
   "metadata": {},
   "outputs": [
    {
     "name": "stdout",
     "output_type": "stream",
     "text": [
      "Sum of list: 15\n",
      "Sum of square list: 55\n",
      "Sum of sqrt list: 8.382332347441762\n"
     ]
    }
   ],
   "source": [
    "# Your Code Here.\n",
    "import math\n",
    "\n",
    "\n",
    "def sum_list(L):\n",
    "    # for item in a_list ...\n",
    "    S = 0\n",
    "    for y in L:\n",
    "        S = S+y\n",
    "    return S\n",
    "\n",
    "\n",
    "def sum_square(L):\n",
    "    S = 0\n",
    "    for y in L:\n",
    "        S = S+y*y\n",
    "    return S\n",
    "\n",
    "\n",
    "def sum_sqrt(L):\n",
    "    S = 0\n",
    "    for y in L:\n",
    "        Z = math.sqrt(y)\n",
    "        S = S+Z\n",
    "    return S\n",
    "\n",
    "\n",
    "L = [1, 2, 3, 4, 5]\n",
    "\n",
    "print(\"Sum of list: %s\" % sum_list(L))\n",
    "\n",
    "print(\"Sum of square list: %s\" % sum_square(L))\n",
    "\n",
    "print(\"Sum of sqrt list: %s\" % sum_sqrt(L))\n",
    "\n",
    "# Sum of list: 15\n",
    "# Sum of square list: 55\n",
    "# Sum of sqrt list: 8.382332347441762"
   ]
  },
  {
   "cell_type": "markdown",
   "metadata": {},
   "source": [
    "### How and Why it works ? \n",
    "\n",
    "我们出生的时候, 是带着对世界的好奇心的. \n",
    "\n",
    "如果, 我们在吃饭的时候, 有个人突然飞起来了. \n",
    "小孩子看到的时候 Maybe 会感觉很开心, 而我们则可能感到惊吓.\n",
    "\n",
    "So, 当你写完代码的时候, 你肯定在想, How it works and why it works...\n",
    "\n",
    "很棒, 如果不这么想的话, 那么你只能站在房间里, 透过窗户看这个世界. \n",
    "\n",
    "\n",
    "事实上, 这不是很容易解释的清楚的 :-)  就像问一个人如何把自己举起来一样. \n",
    "\n",
    "In fact, 的确如此...\n",
    "\n",
    "#### 代码如何运行 ? \n",
    "\n",
    "Ooook, 很抱歉, 俺得引入一个专有名词 `图灵机`. \n",
    "\n",
    "什么是图灵机呢?\n",
    "\n",
    "想象一根无穷长的纸带, 上面是一串指令, 有一个针头, 像读磁带的针头一样, 不断从前往后移. 最后得出一个运算结果.\n",
    "类似于这样的机器, 就是图灵机了 :-)\n",
    "\n",
    "\n",
    "举个例子, 对于一个 ` 1+2+3+4+5 ` 这样的算数, 程序是如何运行的呢?\n",
    "\n",
    "首先, 我们给它加上括号: \n",
    "\n",
    "```\n",
    "1+2+3+4+5  ->  ((((1+2)+3)+4)+5)\n",
    "\n",
    "```\n",
    "Maybe 你会先算里面的:\n",
    "\n",
    "\n",
    "```\n",
    "\n",
    "((((1+2)+3)+4)+5) \n",
    "\n",
    "(((3)+3)+4)+5) \n",
    "\n",
    "(((6)+4)+5) \n",
    "\n",
    "((10 +5) \n",
    "\n",
    "15\n",
    "\n",
    "```\n",
    "\n",
    "或者, 你会先算外面的:\n",
    "\n",
    "```\n",
    "\n",
    "((((1+2)+3)+4)+5) -> (X + 5)\n",
    "\n",
    "X -> (((1+2)+3)+4)  \n",
    "\n",
    "对于 X, 你会又拆解成:\n",
    "\n",
    "( Y + 4) \n",
    "\n",
    "然后以此递推, \n",
    "最终也会得到 答案: 15 \n",
    "\n",
    "```\n",
    "\n",
    "这样的计算方式, 一个叫 `正则序`, 另一个叫 `应用序`. 不过先不用记这些, 只是感受一下 :-) \n",
    "\n",
    "上文我们说到, 图灵机就是一个无穷纸带:\n",
    "\n",
    "```\n",
    "\n",
    " [X] -> f1 -> [X1] -> f2 -> [X2] -> f3 -> [X3]\n",
    " \n",
    " 给定一个数据(X), 对其进行操作(f 此处代表函数.), 得到一个结果, 在不断的输入和输出之后, 最终得到最终结果. \n",
    "\n",
    "```\n",
    "回头来看看我们是如何求 ` 1+2+3+4+5 ` 的:\n",
    "\n",
    "\n",
    "```\n",
    "                      x3\n",
    "                      +\n",
    "                    x2   5\n",
    "                    +\n",
    "                 x1   4\n",
    "                 +\n",
    "               x   3  \n",
    "               +  \n",
    "             1   2\n",
    "\n",
    "```\n",
    "\n",
    "这里有两个元素, `数据` 和 `操作`\n",
    "现在, 我们这里的 操作,也就是函数, 只有 `+`\n",
    "为了求出最终结果 X3, 计算机会算 X2+5, 然后 为了求 X2, 计算机会求 X1+4, \n",
    "\n",
    "如此, 形成一个语法树(AST), 当然这也常用作为设计模式的一种(Visit 模式) \n",
    "\n",
    "Ooook, 这就是代码如何运行的基本原理了. :-) \n"
   ]
  },
  {
   "cell_type": "markdown",
   "metadata": {},
   "source": [
    "### 思考:  Lisp 解释器是如何运行的?\n",
    "\n",
    "例:\n",
    "\n",
    "```\n",
    "输入: (+ 1 2)  \n",
    "输出: 3\n",
    "\n",
    "\n",
    "输入:  (+ (+ 1 2) 3) \n",
    "输出: 6 \n",
    "\n",
    "```"
   ]
  },
  {
   "cell_type": "markdown",
   "metadata": {},
   "source": [
    "### 参考\n",
    "\n",
    "* 《计算机程序的构造与解释》\n",
    "* 《Understanding Computation》\n",
    "* 做一个 简单的编译器 https://ruslanspivak.com/lsbasi-part1/\n",
    "* Lambda 表达式有何用处？如何使用？ https://www.zhihu.com/question/20125256/answer/39124908"
   ]
  }
 ],
 "metadata": {
  "kernelspec": {
   "display_name": "Python 3",
   "language": "python",
   "name": "python3"
  },
  "language_info": {
   "codemirror_mode": {
    "name": "ipython",
    "version": 3
   },
   "file_extension": ".py",
   "mimetype": "text/x-python",
   "name": "python",
   "nbconvert_exporter": "python",
   "pygments_lexer": "ipython3",
   "version": "3.7.8"
  },
  "toc": {
   "base_numbering": 1,
   "nav_menu": {},
   "number_sections": true,
   "sideBar": true,
   "skip_h1_title": false,
   "title_cell": "Table of Contents",
   "title_sidebar": "Contents",
   "toc_cell": true,
   "toc_position": {
    "height": "calc(100% - 180px)",
    "left": "10px",
    "top": "150px",
    "width": "288px"
   },
   "toc_section_display": true,
   "toc_window_display": true
  }
 },
 "nbformat": 4,
 "nbformat_minor": 1
}
